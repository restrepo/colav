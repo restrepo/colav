{
 "cells": [
  {
   "cell_type": "code",
   "execution_count": 1,
   "id": "8b832e69-0a05-4695-af1d-19bbbe3feca9",
   "metadata": {},
   "outputs": [],
   "source": [
    "from pymongo import MongoClient\n",
    "from bson.json_util import dumps\n",
    "import json\n",
    "from IPython.display import display, HTML, JSON"
   ]
  },
  {
   "cell_type": "code",
   "execution_count": 2,
   "id": "780fce89-f9e8-45fa-aa9c-be8b894466fc",
   "metadata": {},
   "outputs": [],
   "source": [
    "db = MongoClient()[\"kahi_sample\"]\n",
    "cols = [\"affiliations\", \"person\", \"sources\", \"subjects\", \"works\"]"
   ]
  },
  {
   "cell_type": "code",
   "execution_count": null,
   "id": "902ed439-c9ff-4fbf-b3f7-3533ebf70fc4",
   "metadata": {},
   "outputs": [],
   "source": [
    "#cargamos los datos\n",
    "for col in cols:\n",
    "    data = list(db[col].find())\n",
    "    #quitamos los ObjectIds y los pasamos a str\n",
    "    data = dumps(data)\n",
    "    #guardamos\n",
    "    with  open(f\"kahi_samples/{col}.json\",\"w\") as f:\n",
    "        f.write(data)\n",
    "        f.close()"
   ]
  },
  {
   "cell_type": "code",
   "execution_count": 4,
   "id": "405edb22-86fe-496e-ab18-f127f7f6627c",
   "metadata": {},
   "outputs": [],
   "source": [
    "#ejemplo visualizar artículos\n",
    "data = list(db[\"person\"].find())\n",
    "data = dumps(data)\n",
    "data = json.loads(data)"
   ]
  },
  {
   "cell_type": "markdown",
   "id": "1e90a851-d159-4d29-9a71-dd020bd3a389",
   "metadata": {},
   "source": [
    "# Expected behaviour\n",
    "* If the DOI is in Scienti the author \"Diego Restrepo\" must be taken for the author in Scienti 'Diego Alejandro Restrepo Quintero' with id '65a56f448c84930893971610'\n",
    "* Facultad is missing there for '65a56f448c84930893971610'. This information must be taken from the talento humano database by using the cédula: 'external_ids': `[{'source': 'Cédula de Ciudadanía', 'id': '98554575'},...`"
   ]
  },
  {
   "cell_type": "code",
   "execution_count": 12,
   "id": "95ce41ba-be34-4815-9155-871ee1a01943",
   "metadata": {},
   "outputs": [
    {
     "data": {
      "text/plain": [
       "[{'_id': {'$oid': '65a5767e8c8493089399de6c'},\n",
       "  'updated': [{'source': 'openalex', 'time': 1705342590}],\n",
       "  'full_name': 'Diego Restrepo',\n",
       "  'first_names': [],\n",
       "  'last_names': [],\n",
       "  'initials': '',\n",
       "  'aliases': [],\n",
       "  'affiliations': [{'id': {'$oid': '65a56bc10f45bf4323901eaf'},\n",
       "    'name': 'Universidad Estatal de Campinas',\n",
       "    'types': [{'source': 'ror', 'type': 'Education'},\n",
       "     {'source': 'openalex', 'type': 'education'}],\n",
       "    'start_date': -1,\n",
       "    'end_date': -1}],\n",
       "  'keywords': [],\n",
       "  'external_ids': [{'source': 'openalex',\n",
       "    'id': 'https://openalex.org/A2306595523'},\n",
       "   {'source': 'orcid', 'id': '0000-0001-6455-5564'},\n",
       "   {'source': 'scopus',\n",
       "    'id': 'http://www.scopus.com/inward/authorDetails.url?authorID=7005721136&partnerID=MN8TOARS'},\n",
       "   {'source': 'mag', 'id': 2306595523}],\n",
       "  'sex': '',\n",
       "  'marital_status': None,\n",
       "  'ranking': [],\n",
       "  'birthplace': {},\n",
       "  'birthdate': -1,\n",
       "  'degrees': [],\n",
       "  'subjects': []}]"
      ]
     },
     "execution_count": 12,
     "metadata": {},
     "output_type": "execute_result"
    }
   ],
   "source": [
    "[d for d in data if d.get('_id').get('$oid')=='65a5767e8c8493089399de6c']"
   ]
  },
  {
   "cell_type": "code",
   "execution_count": 15,
   "id": "73de6219-ddf6-4370-9893-723c896756df",
   "metadata": {},
   "outputs": [
    {
     "data": {
      "text/plain": [
       "[{'_id': {'$oid': '65a56f448c84930893971610'},\n",
       "  'updated': [{'time': 1705340740, 'source': 'staff'}],\n",
       "  'full_name': 'Diego Alejandro Restrepo Quintero',\n",
       "  'first_names': ['Diego', 'Alejandro'],\n",
       "  'last_names': ['Restrepo', 'Quintero'],\n",
       "  'initials': 'DA',\n",
       "  'aliases': ['restrepo quintero diego alejandro'],\n",
       "  'affiliations': [{'id': {'$oid': '65a56bc40f45bf4323902776'},\n",
       "    'name': 'Universidad de Antioquia',\n",
       "    'types': [{'source': 'ror', 'type': 'Education'},\n",
       "     {'source': 'openalex', 'type': 'education'}],\n",
       "    'start_date': 1027573200,\n",
       "    'end_date': -1},\n",
       "   {'id': {'$oid': '65a56f158c8493089396f9d6'},\n",
       "    'name': 'Instituto de Física',\n",
       "    'types': [{'source': 'staff', 'type': 'department'}],\n",
       "    'start_date': 1027573200,\n",
       "    'end_date': -1}],\n",
       "  'keywords': [],\n",
       "  'external_ids': [{'source': 'Cédula de Ciudadanía', 'id': '98554575'},\n",
       "   {'source': 'scienti', 'id': '0000177733'},\n",
       "   {'source': 'orcid', 'id': '0000-0001-6455-5564'}],\n",
       "  'sex': 'm',\n",
       "  'marital_status': 'Married',\n",
       "  'ranking': [{'date': '', 'rank': 'TITULAR', 'source': 'staff'},\n",
       "   {'date': '', 'rank': 'IS', 'source': 'scienti'}],\n",
       "  'birthplace': {'city': 'Fredonia',\n",
       "   'state': 'Antioquia',\n",
       "   'country': 'Colombia'},\n",
       "  'birthdate': 37429200,\n",
       "  'degrees': [{'date': '',\n",
       "    'degree': 'DOCTORADO',\n",
       "    'id': '',\n",
       "    'institutions': [],\n",
       "    'source': 'staff'}],\n",
       "  'subjects': []},\n",
       " {'_id': {'$oid': '65a57b748c84930893a6d3d3'},\n",
       "  'updated': [{'source': 'openalex', 'time': 1705343860}],\n",
       "  'full_name': 'Diego Alejandro Restrepo Quintero',\n",
       "  'first_names': [],\n",
       "  'last_names': [],\n",
       "  'initials': '',\n",
       "  'aliases': [],\n",
       "  'affiliations': [{'id': {'$oid': '65a56bc40f45bf4323902776'},\n",
       "    'name': 'Universidad de Antioquia',\n",
       "    'types': [{'source': 'ror', 'type': 'Education'},\n",
       "     {'source': 'openalex', 'type': 'education'}],\n",
       "    'start_date': -1,\n",
       "    'end_date': -1}],\n",
       "  'keywords': [],\n",
       "  'external_ids': [{'source': 'openalex',\n",
       "    'id': 'https://openalex.org/A3004370623'},\n",
       "   {'source': 'mag', 'id': 3004370623}],\n",
       "  'sex': '',\n",
       "  'marital_status': None,\n",
       "  'ranking': [],\n",
       "  'birthplace': {},\n",
       "  'birthdate': -1,\n",
       "  'degrees': [],\n",
       "  'subjects': []}]"
      ]
     },
     "execution_count": 15,
     "metadata": {},
     "output_type": "execute_result"
    }
   ],
   "source": [
    "[d for d in data if d.get('full_name')=='Diego Alejandro Restrepo Quintero']"
   ]
  },
  {
   "cell_type": "code",
   "execution_count": 20,
   "id": "d194906d-288d-4c67-8ae8-40e8fab50e26",
   "metadata": {},
   "outputs": [],
   "source": [
    "#ejemplo visualizar artículos\n",
    "data = list(db[\"works\"].find())\n",
    "data = dumps(data)\n",
    "data = json.loads(data)"
   ]
  },
  {
   "cell_type": "code",
   "execution_count": 21,
   "id": "2e481992-68ad-4551-8712-f7ea6a6759dc",
   "metadata": {},
   "outputs": [
    {
     "data": {
      "application/json": [
       {
        "_id": {
         "$oid": "65a57d8a8c84930893ac23e8"
        },
        "abstract": "",
        "author_count": 3,
        "authors": [
         {
          "affiliations": [
           {
            "id": {
             "$oid": "65a56bc40f45bf4323902776"
            },
            "name": "University of Antioquia",
            "types": [
             {
              "source": "ror",
              "type": "Education"
             },
             {
              "source": "openalex",
              "type": "education"
             }
            ]
           }
          ],
          "full_name": "Diego Restrepo",
          "id": {
           "$oid": "65a5767e8c8493089399de6c"
          }
         },
         {
          "affiliations": [
           {
            "id": {
             "$oid": "65a56bc40f45bf4323902776"
            },
            "name": "University of Antioquia",
            "types": [
             {
              "source": "ror",
              "type": "Education"
             },
             {
              "source": "openalex",
              "type": "education"
             }
            ]
           }
          ],
          "full_name": "Andrés Rivera",
          "id": {
           "$oid": "65a575968c8493089397525b"
          }
         },
         {
          "affiliations": [
           {
            "id": {
             "$oid": "65a56bbd0f45bf4323900f6a"
            },
            "name": "Loyola University Chicago",
            "types": [
             {
              "source": "ror",
              "type": "Education"
             },
             {
              "source": "openalex",
              "type": "education"
             }
            ]
           }
          ],
          "full_name": "Walter Tangarife",
          "id": {
           "$oid": "65a578938c849308939f6d31"
          }
         }
        ],
        "bibliographic_info": {
         "is_open_access": true,
         "issue": "3",
         "open_access_status": "hybrid",
         "start_page": "035029",
         "volume": "100"
        },
        "citations": [],
        "citations_by_year": [
         {
          "cited_by_count": 5,
          "year": 2021
         },
         {
          "cited_by_count": 9,
          "year": 2020
         },
         {
          "cited_by_count": 3,
          "year": 2019
         }
        ],
        "citations_count": [
         {
          "count": 17,
          "source": "openalex"
         },
         {
          "count": 1,
          "source": "wos"
         },
         {
          "count": 17,
          "source": "scholar"
         }
        ],
        "date_published": 1566795600,
        "external_ids": [
         {
          "id": "https://openalex.org/W2951068726",
          "source": "openalex"
         },
         {
          "id": "10.1103/physrevd.100.035029",
          "source": "doi"
         },
         {
          "id": "2951068726",
          "source": "mag"
         },
         {
          "id": "0000177733",
          "source": "COD_RH"
         },
         {
          "id": "139",
          "source": "COD_PRODUCTO"
         },
         {
          "id": "000482583400008",
          "source": "wos"
         },
         {
          "id": "R7BJTFZ0Bd8J",
          "source": "scholar"
         }
        ],
        "external_urls": [
         {
          "source": "oa",
          "url": "http://link.aps.org/pdf/10.1103/PhysRevD.100.035029"
         },
         {
          "source": "scienti",
          "url": "https://doi.org/10.1103/PhysRevD.100.035029"
         },
         {
          "source": "scholar citations",
          "url": "/scholar?cites=16070378759337390151&as_sdt=2005&sciodt=0,5&hl=en"
         },
         {
          "source": "pdf",
          "url": "https://link.aps.org/pdf/10.1103/PhysRevD.100.035029"
         }
        ],
        "keywords": [],
        "ranking": [],
        "references": [],
        "references_count": null,
        "source": {
         "id": {
          "$oid": "65a568fe0f45bf43238d6124"
         },
         "name": "Physical Review D"
        },
        "subjects": [
         {
          "source": "openalex",
          "subjects": [
           {
            "id": {
             "$oid": "65a5695b0f45bf43238e1617"
            },
            "level": 0,
            "name": "Physics"
           },
           {
            "id": {
             "$oid": "65a5695a0f45bf43238e0eac"
            },
            "level": 1,
            "name": "Particle physics"
           },
           {
            "id": {
             "$oid": "65a569620f45bf43238e3d70"
            },
            "level": 2,
            "name": "Neutrino"
           },
           {
            "id": {
             "$oid": "65a5695f0f45bf43238e2cf7"
            },
            "level": 2,
            "name": "Dark matter"
           },
           {
            "id": {
             "$oid": "65a569a50f45bf43238eef94"
            },
            "level": 3,
            "name": "Dirac (video compression format)"
           },
           {
            "id": {
             "$oid": "65a569610f45bf43238e3949"
            },
            "level": 3,
            "name": "Lepton"
           },
           {
            "id": {
             "$oid": "65a5695a0f45bf43238e0dde"
            },
            "level": 3,
            "name": "Neutrino oscillation"
           },
           {
            "id": {
             "$oid": "65a569a10f45bf43238ee82e"
            },
            "level": 2,
            "name": "Fermion"
           }
          ]
         }
        ],
        "subtitle": "",
        "titles": [
         {
          "lang": "en",
          "source": "openalex",
          "title": "Singlet-doublet Dirac dark matter and neutrino masses"
         },
         {
          "lang": "en",
          "source": "wos",
          "title": "Singlet-doublet Dirac dark matter and neutrino masses"
         },
         {
          "lang": "en",
          "source": "scholar",
          "title": "Singlet-doublet Dirac dark matter and neutrino masses"
         }
        ],
        "types": [
         {
          "source": "openalex",
          "type": "journal-article"
         },
         {
          "source": "scienti",
          "type": "Publicado en revista especializada"
         },
         {
          "source": "scienti",
          "type": "Artículo"
         },
         {
          "source": "wos",
          "type": "article"
         },
         {
          "source": "scholar",
          "type": "article"
         }
        ],
        "updated": [
         {
          "source": "openalex",
          "time": 1705344378
         },
         {
          "source": "scienti",
          "time": 1705344396
         },
         {
          "source": "wos",
          "time": 1705345268
         },
         {
          "source": "scholar",
          "time": 1705345273
         }
        ],
        "year_published": 2019
       },
       {
        "_id": {
         "$oid": "65a57d8a8c84930893ac23e9"
        },
        "abstract": "",
        "author_count": 4,
        "authors": [
         {
          "affiliations": [
           {
            "id": {
             "$oid": "65a56bba0f45bf4323900679"
            },
            "name": "University of Valencia",
            "types": [
             {
              "source": "ror",
              "type": "Education"
             },
             {
              "source": "openalex",
              "type": "education"
             }
            ]
           }
          ],
          "full_name": "Mario Reig",
          "id": {
           "$oid": "65a578e38c84930893a03acb"
          }
         },
         {
          "affiliations": [
           {
            "id": {
             "$oid": "65a56bc40f45bf4323902776"
            },
            "name": "University of Antioquia",
            "types": [
             {
              "source": "ror",
              "type": "Education"
             },
             {
              "source": "openalex",
              "type": "education"
             }
            ]
           }
          ],
          "full_name": "Diego Restrepo",
          "id": {
           "$oid": "65a5767e8c8493089399de6c"
          }
         },
         {
          "affiliations": [
           {
            "id": {
             "$oid": "65a56bba0f45bf4323900679"
            },
            "name": "University of Valencia",
            "types": [
             {
              "source": "ror",
              "type": "Education"
             },
             {
              "source": "openalex",
              "type": "education"
             }
            ]
           }
          ],
          "full_name": "José W. F. Valle",
          "id": {
           "$oid": "65a577398c849308939bc121"
          }
         },
         {
          "affiliations": [
           {
            "id": {
             "$oid": "65a56bc40f45bf4323902776"
            },
            "name": "University of Antioquia",
            "types": [
             {
              "source": "ror",
              "type": "Education"
             },
             {
              "source": "openalex",
              "type": "education"
             }
            ]
           }
          ],
          "full_name": "Óscar Zapata",
          "id": {
           "$oid": "65a575b78c8493089397b2bf"
          }
         }
        ],
        "bibliographic_info": {
         "is_open_access": true,
         "issue": "11",
         "open_access_status": "hybrid",
         "start_page": "115032",
         "volume": "97"
        },
        "citations": [],
        "citations_by_year": [
         {
          "cited_by_count": 3,
          "year": 2022
         },
         {
          "cited_by_count": 6,
          "year": 2021
         },
         {
          "cited_by_count": 9,
          "year": 2020
         },
         {
          "cited_by_count": 11,
          "year": 2019
         },
         {
          "cited_by_count": 4,
          "year": 2018
         }
        ],
        "citations_count": [
         {
          "count": 33,
          "source": "openalex"
         },
         {
          "count": 12,
          "source": "wos"
         },
         {
          "count": 41,
          "source": "scholar"
         }
        ],
        "date_published": 1529384400,
        "external_ids": [
         {
          "id": "https://openalex.org/W2795094497",
          "source": "openalex"
         },
         {
          "id": "10.1103/physrevd.97.115032",
          "source": "doi"
         },
         {
          "id": "2795094497",
          "source": "mag"
         },
         {
          "id": "000435548100003",
          "source": "wos"
         },
         {
          "id": "-SDZ0tP-mbwJ",
          "source": "scholar"
         }
        ],
        "external_urls": [
         {
          "source": "oa",
          "url": "http://link.aps.org/pdf/10.1103/PhysRevD.97.115032"
         },
         {
          "source": "scholar citations",
          "url": "/scholar?cites=13590173536296182009&as_sdt=2005&sciodt=0,5&hl=en"
         },
         {
          "source": "pdf",
          "url": "https://link.aps.org/pdf/10.1103/PhysRevD.97.115032"
         }
        ],
        "keywords": [],
        "ranking": [],
        "references": [],
        "references_count": null,
        "source": {
         "id": {
          "$oid": "65a568fe0f45bf43238d6124"
         },
         "name": "Physical Review D"
        },
        "subjects": [
         {
          "source": "openalex",
          "subjects": [
           {
            "id": {
             "$oid": "65a5695b0f45bf43238e1617"
            },
            "level": 0,
            "name": "Physics"
           },
           {
            "id": {
             "$oid": "65a5695a0f45bf43238e0eac"
            },
            "level": 1,
            "name": "Particle physics"
           },
           {
            "id": {
             "$oid": "65a569620f45bf43238e3d70"
            },
            "level": 2,
            "name": "Neutrino"
           },
           {
            "id": {
             "$oid": "65a5695f0f45bf43238e2cf7"
            },
            "level": 2,
            "name": "Dark matter"
           },
           {
            "id": {
             "$oid": "65a5695a0f45bf43238e0aeb"
            },
            "level": 4,
            "name": "Sterile neutrino"
           },
           {
            "id": {
             "$oid": "65a5695b0f45bf43238e119b"
            },
            "level": 5,
            "name": "Warm dark matter"
           },
           {
            "id": {
             "$oid": "65a569a50f45bf43238eef94"
            },
            "level": 3,
            "name": "Dirac (video compression format)"
           },
           {
            "id": {
             "$oid": "65a569620f45bf43238e3cdc"
            },
            "level": 1,
            "name": "Nuclear physics"
           }
          ]
         }
        ],
        "subtitle": "",
        "titles": [
         {
          "lang": "en",
          "source": "openalex",
          "title": "Bound-state dark matter and Dirac neutrino masses"
         },
         {
          "lang": "en",
          "source": "wos",
          "title": "Bound-state dark matter and Dirac neutrino masses"
         },
         {
          "lang": "en",
          "source": "scholar",
          "title": "Bound-state dark matter and Dirac neutrino masses"
         },
         {
          "lang": "en",
          "source": "ranking_udea",
          "title": "BOUND-STATE DARK MATTER AND DIRAC NEUTRINO MASSES"
         }
        ],
        "types": [
         {
          "source": "openalex",
          "type": "journal-article"
         },
         {
          "source": "wos",
          "type": "article"
         },
         {
          "source": "scholar",
          "type": "article"
         }
        ],
        "updated": [
         {
          "source": "openalex",
          "time": 1705344378
         },
         {
          "source": "wos",
          "time": 1705345268
         },
         {
          "source": "scholar",
          "time": 1705345273
         },
         {
          "source": "ranking_udea",
          "time": 1705345559
         }
        ],
        "year_published": 2018
       },
       {
        "_id": {
         "$oid": "65a57d8a8c84930893ac23ea"
        },
        "abstract": "",
        "author_count": 4,
        "authors": [
         {
          "affiliations": [
           {
            "id": {
             "$oid": "65a56bbf0f45bf432390158b"
            },
            "name": "Texas A&M University",
            "types": [
             {
              "source": "ror",
              "type": "Education"
             },
             {
              "source": "openalex",
              "type": "education"
             }
            ]
           }
          ],
          "full_name": "Bhaskar Dutta",
          "id": {
           "$oid": "65a576cc8c849308939aa670"
          }
         },
         {
          "affiliations": [
           {
            "id": {
             "$oid": "65a56bc40f45bf4323902776"
            },
            "name": "University of Antioquia",
            "types": [
             {
              "source": "ror",
              "type": "Education"
             },
             {
              "source": "openalex",
              "type": "education"
             }
            ]
           }
          ],
          "full_name": "Guillermo Palacio",
          "id": {
           "$oid": "65a577808c849308939c8089"
          }
         },
         {
          "affiliations": [
           {
            "id": {
             "$oid": "65a56bc40f45bf4323902776"
            },
            "name": "University of Antioquia",
            "types": [
             {
              "source": "ror",
              "type": "Education"
             },
             {
              "source": "openalex",
              "type": "education"
             }
            ]
           }
          ],
          "full_name": "Diego Restrepo",
          "id": {
           "$oid": "65a5767e8c8493089399de6c"
          }
         },
         {
          "affiliations": [
           {
            "id": {
             "$oid": "65a56ca10f45bf432392e7bf"
            },
            "name": "Universidad de Los Andes",
            "types": [
             {
              "source": "ror",
              "type": "Education"
             },
             {
              "source": "openalex",
              "type": "education"
             }
            ]
           }
          ],
          "full_name": "José D. Ruiz-Álvarez",
          "id": {
           "$oid": "65a579578c84930893a16483"
          }
         }
        ],
        "bibliographic_info": {
         "is_open_access": true,
         "issue": "5",
         "open_access_status": "hybrid",
         "start_page": "055045",
         "volume": "97"
        },
        "citations": [],
        "citations_by_year": [
         {
          "cited_by_count": 10,
          "year": 2021
         },
         {
          "cited_by_count": 8,
          "year": 2020
         },
         {
          "cited_by_count": 3,
          "year": 2019
         },
         {
          "cited_by_count": 4,
          "year": 2018
         },
         {
          "cited_by_count": 1,
          "year": 2017
         }
        ],
        "citations_count": [
         {
          "count": 25,
          "source": "openalex"
         },
         {
          "count": 5,
          "source": "wos"
         },
         {
          "count": 24,
          "source": "scholar"
         }
        ],
        "date_published": 1522299600,
        "external_ids": [
         {
          "id": "https://openalex.org/W2758844066",
          "source": "openalex"
         },
         {
          "id": "10.1103/physrevd.97.055045",
          "source": "doi"
         },
         {
          "id": "2758844066",
          "source": "mag"
         },
         {
          "id": "0000177733",
          "source": "COD_RH"
         },
         {
          "id": "132",
          "source": "COD_PRODUCTO"
         },
         {
          "id": "000428650300005",
          "source": "wos"
         },
         {
          "id": "wLolZnsKpgsJ",
          "source": "scholar"
         }
        ],
        "external_urls": [
         {
          "source": "oa",
          "url": "http://link.aps.org/pdf/10.1103/PhysRevD.97.055045"
         },
         {
          "source": "scienti",
          "url": "http://doi.org/10.1103/PhysRevD.97.055045"
         },
         {
          "source": "scholar citations",
          "url": "/scholar?cites=839369905662180032&as_sdt=2005&sciodt=0,5&hl=en"
         },
         {
          "source": "pdf",
          "url": "https://link.aps.org/pdf/10.1103/PhysRevD.97.055045"
         }
        ],
        "keywords": [],
        "ranking": [],
        "references": [],
        "references_count": null,
        "source": {
         "id": {
          "$oid": "65a568fe0f45bf43238d6124"
         },
         "name": "Physical Review D"
        },
        "subjects": [
         {
          "source": "openalex",
          "subjects": [
           {
            "id": {
             "$oid": "65a569ac0f45bf43238efa9e"
            },
            "level": 2,
            "name": "Boson"
           },
           {
            "id": {
             "$oid": "65a569640f45bf43238e470e"
            },
            "level": 2,
            "name": "Annihilation"
           },
           {
            "id": {
             "$oid": "65a569620f45bf43238e3cdc"
            },
            "level": 1,
            "name": "Nuclear physics"
           }
          ]
         }
        ],
        "subtitle": "",
        "titles": [
         {
          "lang": "en",
          "source": "openalex",
          "title": "Vector boson fusion in the inert doublet model"
         },
         {
          "lang": "en",
          "source": "wos",
          "title": "Vector boson fusion in the inert doublet model"
         },
         {
          "lang": "en",
          "source": "scholar",
          "title": "Vector boson fusion in the inert doublet model"
         },
         {
          "lang": "en",
          "source": "ranking_udea",
          "title": "VECTOR BOSON FUSION IN THE INERT DOUBLET MODEL."
         }
        ],
        "types": [
         {
          "source": "openalex",
          "type": "journal-article"
         },
         {
          "source": "scienti",
          "type": "Publicado en revista especializada"
         },
         {
          "source": "scienti",
          "type": "Artículo"
         },
         {
          "source": "wos",
          "type": "article"
         },
         {
          "source": "scholar",
          "type": "article"
         }
        ],
        "updated": [
         {
          "source": "openalex",
          "time": 1705344378
         },
         {
          "source": "scienti",
          "time": 1705344396
         },
         {
          "source": "wos",
          "time": 1705345269
         },
         {
          "source": "scholar",
          "time": 1705345273
         },
         {
          "source": "ranking_udea",
          "time": 1705345558
         }
        ],
        "year_published": 2018
       },
       {
        "_id": {
         "$oid": "65a57d8a8c84930893ac23eb"
        },
        "abstract": "",
        "author_count": 3,
        "authors": [
         {
          "affiliations": [
           {
            "id": {
             "$oid": "65a56bc40f45bf4323902776"
            },
            "name": "University of Antioquia",
            "types": [
             {
              "source": "ror",
              "type": "Education"
             },
             {
              "source": "openalex",
              "type": "education"
             }
            ]
           }
          ],
          "full_name": "Julián Calle",
          "id": {
           "$oid": "65a576fc8c849308939b229b"
          }
         },
         {
          "affiliations": [
           {
            "id": {
             "$oid": "65a56bc40f45bf4323902776"
            },
            "name": "University of Antioquia",
            "types": [
             {
              "source": "ror",
              "type": "Education"
             },
             {
              "source": "openalex",
              "type": "education"
             }
            ]
           },
           {
            "id": {
             "$oid": "65a56bc10f45bf4323901f7a"
            },
            "name": "Federal University of Rio Grande do Norte",
            "types": [
             {
              "source": "ror",
              "type": "Education"
             },
             {
              "source": "openalex",
              "type": "education"
             }
            ]
           }
          ],
          "full_name": "Diego Restrepo",
          "id": {
           "$oid": "65a5767e8c8493089399de6c"
          }
         },
         {
          "affiliations": [
           {
            "id": {
             "$oid": "65a56c9f0f45bf432392df41"
            },
            "name": "International Centre for Theoretical Physics",
            "types": [
             {
              "source": "ror",
              "type": "Facility"
             },
             {
              "source": "openalex",
              "type": "facility"
             }
            ]
           },
           {
            "id": {
             "$oid": "65a56bc40f45bf4323902776"
            },
            "name": "University of Antioquia",
            "types": [
             {
              "source": "ror",
              "type": "Education"
             },
             {
              "source": "openalex",
              "type": "education"
             }
            ]
           }
          ],
          "full_name": "Óscar Zapata",
          "id": {
           "$oid": "65a575b78c8493089397b2bf"
          }
         }
        ],
        "bibliographic_info": {
         "is_open_access": true,
         "issue": "3",
         "open_access_status": "hybrid",
         "start_page": "035004",
         "volume": "101"
        },
        "citations": [],
        "citations_by_year": [
         {
          "cited_by_count": 2,
          "year": 2022
         },
         {
          "cited_by_count": 6,
          "year": 2021
         },
         {
          "cited_by_count": 6,
          "year": 2020
         },
         {
          "cited_by_count": 1,
          "year": 2019
         }
        ],
        "citations_count": [
         {
          "count": 14,
          "source": "openalex"
         },
         {
          "count": 0,
          "source": "wos"
         },
         {
          "count": 13,
          "source": "scholar"
         }
        ],
        "date_published": 1580965200,
        "external_ids": [
         {
          "id": "https://openalex.org/W2974772295",
          "source": "openalex"
         },
         {
          "id": "10.1103/physrevd.101.035004",
          "source": "doi"
         },
         {
          "id": "2974772295",
          "source": "mag"
         },
         {
          "id": "0000707619",
          "source": "COD_RH"
         },
         {
          "id": "52",
          "source": "COD_PRODUCTO"
         },
         {
          "id": "000511446300002",
          "source": "wos"
         },
         {
          "id": "0UBo6ZcLtU4J",
          "source": "scholar"
         }
        ],
        "external_urls": [
         {
          "source": "oa",
          "url": "https://journals.aps.org/prd/pdf/10.1103/PhysRevD.101.035004"
         },
         {
          "source": "scienti",
          "url": "https://inspirehep.net/files/5418d90c632fd004307d586f307a226e"
         },
         {
          "source": "scholar citations",
          "url": "/scholar?cites=5671452052826898641&as_sdt=2005&sciodt=0,5&hl=en"
         },
         {
          "source": "pdf",
          "url": "https://link.aps.org/pdf/10.1103/PhysRevD.101.035004"
         }
        ],
        "keywords": [],
        "ranking": [],
        "references": [],
        "references_count": null,
        "source": {
         "id": {
          "$oid": "65a5638d0f45bf4323873f2a"
         },
         "name": "Physical review"
        },
        "subjects": [
         {
          "source": "openalex",
          "subjects": [
           {
            "id": {
             "$oid": "65a5695b0f45bf43238e1617"
            },
            "level": 0,
            "name": "Physics"
           },
           {
            "id": {
             "$oid": "65a569730f45bf43238e8402"
            },
            "level": 3,
            "name": "MAJORANA"
           },
           {
            "id": {
             "$oid": "65a569620f45bf43238e3d70"
            },
            "level": 2,
            "name": "Neutrino"
           },
           {
            "id": {
             "$oid": "65a5695a0f45bf43238e0eac"
            },
            "level": 1,
            "name": "Particle physics"
           },
           {
            "id": {
             "$oid": "65a569a50f45bf43238eef94"
            },
            "level": 3,
            "name": "Dirac (video compression format)"
           },
           {
            "id": {
             "$oid": "65a5699e0f45bf43238ee2b7"
            },
            "level": 5,
            "name": "Majorana equation"
           }
          ]
         }
        ],
        "subtitle": "",
        "titles": [
         {
          "lang": null,
          "source": "openalex",
          "title": "Dirac neutrino mass generation from a Majorana messenger"
         },
         {
          "lang": "en",
          "source": "wos",
          "title": "Dirac neutrino mass generation from a Majorana messenger"
         },
         {
          "lang": null,
          "source": "scholar",
          "title": "Dirac neutrino mass generation from a Majorana messenger"
         }
        ],
        "types": [
         {
          "source": "openalex",
          "type": "journal-article"
         },
         {
          "source": "scienti",
          "type": "Publicado en revista especializada"
         },
         {
          "source": "scienti",
          "type": "Artículo"
         },
         {
          "source": "wos",
          "type": "article"
         },
         {
          "source": "scholar",
          "type": "article"
         }
        ],
        "updated": [
         {
          "source": "openalex",
          "time": 1705344378
         },
         {
          "source": "scienti",
          "time": 1705344396
         },
         {
          "source": "wos",
          "time": 1705345270
         },
         {
          "source": "scholar",
          "time": 1705345273
         }
        ],
        "year_published": 2020
       },
       {
        "_id": {
         "$oid": "65a57d8a8c84930893ac23ec"
        },
        "abstract": "",
        "author_count": 4,
        "authors": [
         {
          "affiliations": [
           {
            "id": {
             "$oid": "65a56bba0f45bf4323900679"
            },
            "name": "University of Valencia",
            "types": [
             {
              "source": "ror",
              "type": "Education"
             },
             {
              "source": "openalex",
              "type": "education"
             }
            ]
           }
          ],
          "full_name": "Mario Reig",
          "id": {
           "$oid": "65a578e38c84930893a03acb"
          }
         },
         {
          "affiliations": [
           {
            "id": {
             "$oid": "65a56c9f0f45bf432392df41"
            },
            "name": "International Centre for Theoretical Physics",
            "types": [
             {
              "source": "ror",
              "type": "Facility"
             },
             {
              "source": "openalex",
              "type": "facility"
             }
            ]
           },
           {
            "id": {
             "$oid": "65a56bc40f45bf4323902776"
            },
            "name": "University of Antioquia",
            "types": [
             {
              "source": "ror",
              "type": "Education"
             },
             {
              "source": "openalex",
              "type": "education"
             }
            ]
           }
          ],
          "full_name": "Diego Restrepo",
          "id": {
           "$oid": "65a5767e8c8493089399de6c"
          }
         },
         {
          "affiliations": [
           {
            "id": {
             "$oid": "65a56bba0f45bf4323900679"
            },
            "name": "University of Valencia",
            "types": [
             {
              "source": "ror",
              "type": "Education"
             },
             {
              "source": "openalex",
              "type": "education"
             }
            ]
           }
          ],
          "full_name": "José W. F. Valle",
          "id": {
           "$oid": "65a577398c849308939bc121"
          }
         },
         {
          "affiliations": [
           {
            "id": {
             "$oid": "65a56bc40f45bf4323902776"
            },
            "name": "University of Antioquia",
            "types": [
             {
              "source": "ror",
              "type": "Education"
             },
             {
              "source": "openalex",
              "type": "education"
             }
            ]
           }
          ],
          "full_name": "Óscar Zapata",
          "id": {
           "$oid": "65a575b78c8493089397b2bf"
          }
         }
        ],
        "bibliographic_info": {
         "end_page": "307",
         "is_open_access": true,
         "open_access_status": "gold",
         "start_page": "303",
         "volume": "790"
        },
        "citations": [],
        "citations_by_year": [
         {
          "cited_by_count": 6,
          "year": 2021
         },
         {
          "cited_by_count": 11,
          "year": 2020
         },
         {
          "cited_by_count": 4,
          "year": 2019
         },
         {
          "cited_by_count": 1,
          "year": 2018
         }
        ],
        "citations_count": [
         {
          "count": 22,
          "source": "openalex"
         },
         {
          "count": 3,
          "source": "wos"
         },
         {
          "count": 24,
          "source": "scholar"
         }
        ],
        "date_published": 1548219600,
        "external_ids": [
         {
          "id": "https://openalex.org/W2963957043",
          "source": "openalex"
         },
         {
          "id": "10.1016/j.physletb.2019.01.023",
          "source": "doi"
         },
         {
          "id": "2963957043",
          "source": "mag"
         },
         {
          "id": "0000707619",
          "source": "COD_RH"
         },
         {
          "id": "129",
          "source": "COD_PRODUCTO"
         },
         {
          "id": "000460118200034",
          "source": "wos"
         },
         {
          "id": "DjBfF4Xdq0kJ",
          "source": "scholar"
         }
        ],
        "external_urls": [
         {
          "source": "oa",
          "url": "https://doi.org/10.1016/j.physletb.2019.01.023"
         },
         {
          "source": "scienti",
          "url": "http://doi.org/10.1016/j.physletb.2019.01.023"
         },
         {
          "source": "scholar citations",
          "url": "/scholar?cites=5308580149478764558&as_sdt=2005&sciodt=0,5&hl=en"
         },
         {
          "source": "pdf",
          "url": "https://www.sciencedirect.com/science/article/pii/S0370269319300395"
         }
        ],
        "keywords": [],
        "ranking": [],
        "references": [],
        "references_count": null,
        "source": {
         "id": {
          "$oid": "65a5638a0f45bf4323873882"
         },
         "name": "Physics Letters B"
        },
        "subjects": [
         {
          "source": "openalex",
          "subjects": [
           {
            "id": {
             "$oid": "65a5695b0f45bf43238e1617"
            },
            "level": 0,
            "name": "Physics"
           },
           {
            "id": {
             "$oid": "65a569730f45bf43238e8402"
            },
            "level": 3,
            "name": "MAJORANA"
           },
           {
            "id": {
             "$oid": "65a569620f45bf43238e3d70"
            },
            "level": 2,
            "name": "Neutrino"
           },
           {
            "id": {
             "$oid": "65a5695a0f45bf43238e0eac"
            },
            "level": 1,
            "name": "Particle physics"
           },
           {
            "id": {
             "$oid": "65a5695a0f45bf43238e0aeb"
            },
            "level": 4,
            "name": "Sterile neutrino"
           },
           {
            "id": {
             "$oid": "65a5699e0f45bf43238ee2b7"
            },
            "level": 5,
            "name": "Majorana equation"
           },
           {
            "id": {
             "$oid": "65a5695f0f45bf43238e2cf7"
            },
            "level": 2,
            "name": "Dark matter"
           },
           {
            "id": {
             "$oid": "65a569a10f45bf43238ee82e"
            },
            "level": 2,
            "name": "Fermion"
           },
           {
            "id": {
             "$oid": "65a5695a0f45bf43238e0dde"
            },
            "level": 3,
            "name": "Neutrino oscillation"
           },
           {
            "id": {
             "$oid": "65a569610f45bf43238e3612"
            },
            "level": 2,
            "name": "Bound state"
           },
           {
            "id": {
             "$oid": "65a569610f45bf43238e3949"
            },
            "level": 3,
            "name": "Lepton"
           }
          ]
         }
        ],
        "subtitle": "",
        "titles": [
         {
          "lang": "en",
          "source": "openalex",
          "title": "Bound-state dark matter with Majorana neutrinos"
         },
         {
          "lang": "en",
          "source": "wos",
          "title": "Bound-state dark matter with Majorana neutrinos"
         },
         {
          "lang": "en",
          "source": "scholar",
          "title": "Bound-state dark matter with Majorana neutrinos"
         },
         {
          "lang": "en",
          "source": "ranking_udea",
          "title": "BOUND-STATE DARK MATTER WITH MAJORANA NEUTRINOS."
         }
        ],
        "types": [
         {
          "source": "openalex",
          "type": "journal-article"
         },
         {
          "source": "scienti",
          "type": "Publicado en revista especializada"
         },
         {
          "source": "scienti",
          "type": "Artículo"
         },
         {
          "source": "wos",
          "type": "article"
         },
         {
          "source": "scholar",
          "type": "article"
         }
        ],
        "updated": [
         {
          "source": "openalex",
          "time": 1705344378
         },
         {
          "source": "scienti",
          "time": 1705344396
         },
         {
          "source": "wos",
          "time": 1705345269
         },
         {
          "source": "scholar",
          "time": 1705345273
         },
         {
          "source": "ranking_udea",
          "time": 1705345558
         }
        ],
        "year_published": 2019
       },
       {
        "_id": {
         "$oid": "65a57d8a8c84930893ac23ed"
        },
        "abstract": "",
        "author_count": 5,
        "authors": [
         {
          "affiliations": [
           {
            "id": {
             "$oid": "65a56ca10f45bf432392e7bf"
            },
            "name": "Universidad de Los Andes",
            "types": [
             {
              "source": "ror",
              "type": "Education"
             },
             {
              "source": "openalex",
              "type": "education"
             }
            ]
           }
          ],
          "full_name": "Carlos Florez",
          "id": {
           "$oid": "65a5768e8c849308939a05e3"
          }
         },
         {
          "affiliations": [
           {
            "id": {
             "$oid": "65a56bbc0f45bf4323900f31"
            },
            "name": "Vanderbilt University",
            "types": [
             {
              "source": "ror",
              "type": "Education"
             },
             {
              "source": "openalex",
              "type": "education"
             }
            ]
           }
          ],
          "full_name": "Kaiwen Gui",
          "id": {
           "$oid": "65a579608c84930893a17f09"
          }
         },
         {
          "affiliations": [
           {
            "id": {
             "$oid": "65a56bbc0f45bf4323900f31"
            },
            "name": "Vanderbilt University",
            "types": [
             {
              "source": "ror",
              "type": "Education"
             },
             {
              "source": "openalex",
              "type": "education"
             }
            ]
           }
          ],
          "full_name": "Alfredo Gurrola",
          "id": {
           "$oid": "65a576968c849308939a1596"
          }
         },
         {
          "affiliations": [
           {
            "id": {
             "$oid": "65a56ca10f45bf432392e7bf"
            },
            "name": "Universidad de Los Andes",
            "types": [
             {
              "source": "ror",
              "type": "Education"
             },
             {
              "source": "openalex",
              "type": "education"
             }
            ]
           }
          ],
          "full_name": "Carlos Patiño",
          "id": {
           "$oid": "65a579608c84930893a17f0b"
          }
         },
         {
          "affiliations": [
           {
            "id": {
             "$oid": "65a56bc40f45bf4323902776"
            },
            "name": "University of Antioquia",
            "types": [
             {
              "source": "ror",
              "type": "Education"
             },
             {
              "source": "openalex",
              "type": "education"
             }
            ]
           }
          ],
          "full_name": "Diego Restrepo",
          "id": {
           "$oid": "65a5767e8c8493089399de6c"
          }
         }
        ],
        "bibliographic_info": {
         "end_page": "100",
         "is_open_access": true,
         "open_access_status": "gold",
         "start_page": "94",
         "volume": "778"
        },
        "citations": [],
        "citations_by_year": [
         {
          "cited_by_count": 1,
          "year": 2022
         },
         {
          "cited_by_count": 3,
          "year": 2021
         },
         {
          "cited_by_count": 4,
          "year": 2020
         },
         {
          "cited_by_count": 4,
          "year": 2019
         },
         {
          "cited_by_count": 2,
          "year": 2018
         }
        ],
        "citations_count": [
         {
          "count": 14,
          "source": "openalex"
         },
         {
          "count": 7,
          "source": "wos"
         },
         {
          "count": 23,
          "source": "scholar"
         }
        ],
        "date_published": 1520658000,
        "external_ids": [
         {
          "id": "https://openalex.org/W2742667923",
          "source": "openalex"
         },
         {
          "id": "10.1016/j.physletb.2018.01.009",
          "source": "doi"
         },
         {
          "id": "2742667923",
          "source": "mag"
         },
         {
          "id": "0000177733",
          "source": "COD_RH"
         },
         {
          "id": "133",
          "source": "COD_PRODUCTO"
         },
         {
          "id": "000426436700015",
          "source": "wos"
         },
         {
          "id": "HueyvYdrP1UJ",
          "source": "scholar"
         }
        ],
        "external_urls": [
         {
          "source": "oa",
          "url": "https://doi.org/10.1016/j.physletb.2018.01.009"
         },
         {
          "source": "scienti",
          "url": "http://doi.org/10.1016/j.physletb.2018.01.009"
         },
         {
          "source": "scholar citations",
          "url": "/scholar?cites=6142746647504021278&as_sdt=2005&sciodt=0,5&hl=en"
         },
         {
          "source": "pdf",
          "url": "https://www.sciencedirect.com/science/article/pii/S0370269318300169"
         }
        ],
        "keywords": [],
        "ranking": [],
        "references": [],
        "references_count": null,
        "source": {
         "id": {
          "$oid": "65a5638a0f45bf4323873882"
         },
         "name": "Physics Letters B"
        },
        "subjects": [
         {
          "source": "openalex",
          "subjects": [
           {
            "id": {
             "$oid": "65a5695b0f45bf43238e1617"
            },
            "level": 0,
            "name": "Physics"
           },
           {
            "id": {
             "$oid": "65a5695a0f45bf43238e0eac"
            },
            "level": 1,
            "name": "Particle physics"
           },
           {
            "id": {
             "$oid": "65a569620f45bf43238e3d70"
            },
            "level": 2,
            "name": "Neutrino"
           },
           {
            "id": {
             "$oid": "65a569730f45bf43238e8402"
            },
            "level": 3,
            "name": "MAJORANA"
           },
           {
            "id": {
             "$oid": "65a569610f45bf43238e3949"
            },
            "level": 3,
            "name": "Lepton"
           },
           {
            "id": {
             "$oid": "65a569620f45bf43238e3c7c"
            },
            "level": 2,
            "name": "Physics beyond the Standard Model"
           },
           {
            "id": {
             "$oid": "65a569af0f45bf43238effb4"
            },
            "level": 2,
            "name": "Large Hadron Collider"
           },
           {
            "id": {
             "$oid": "65a569620f45bf43238e3cdc"
            },
            "level": 1,
            "name": "Nuclear physics"
           },
           {
            "id": {
             "$oid": "65a569760f45bf43238e8ea3"
            },
            "level": 2,
            "name": "Context (archaeology)"
           },
           {
            "id": {
             "$oid": "65a5695a0f45bf43238e09e3"
            },
            "level": 3,
            "name": "Standard Model (mathematical formulation)"
           },
           {
            "id": {
             "$oid": "65a5697d0f45bf43238ea36f"
            },
            "level": 3,
            "name": "Compact Muon Solenoid"
           },
           {
            "id": {
             "$oid": "65a5695a0f45bf43238e0aeb"
            },
            "level": 4,
            "name": "Sterile neutrino"
           },
           {
            "id": {
             "$oid": "65a569640f45bf43238e492a"
            },
            "level": 2,
            "name": "Muon"
           }
          ]
         }
        ],
        "subtitle": "",
        "titles": [
         {
          "lang": "en",
          "source": "openalex",
          "title": "Expanding the Reach of Heavy Neutrino Searches at the LHC"
         },
         {
          "lang": "en",
          "source": "wos",
          "title": "Expanding the reach of heavy neutrino searches at the LHC"
         },
         {
          "lang": "en",
          "source": "scholar",
          "title": "Expanding the reach of heavy neutrino searches at the LHC"
         }
        ],
        "types": [
         {
          "source": "openalex",
          "type": "journal-article"
         },
         {
          "source": "scienti",
          "type": "Publicado en revista especializada"
         },
         {
          "source": "scienti",
          "type": "Artículo"
         },
         {
          "source": "wos",
          "type": "article"
         },
         {
          "source": "scholar",
          "type": "article"
         }
        ],
        "updated": [
         {
          "source": "openalex",
          "time": 1705344378
         },
         {
          "source": "scienti",
          "time": 1705344396
         },
         {
          "source": "wos",
          "time": 1705345270
         },
         {
          "source": "scholar",
          "time": 1705345273
         }
        ],
        "year_published": 2018
       },
       {
        "_id": {
         "$oid": "65a57d8a8c84930893ac23ee"
        },
        "abstract": "",
        "author_count": 4,
        "authors": [
         {
          "affiliations": [
           {
            "id": {
             "$oid": "65a56bfe0f45bf432390e32d"
            },
            "name": "Universidad Antonio Nariño",
            "types": [
             {
              "source": "ror",
              "type": "Education"
             },
             {
              "source": "openalex",
              "type": "education"
             }
            ]
           }
          ],
          "full_name": "Nicolás Bernal",
          "id": {
           "$oid": "65a575998c84930893975c06"
          }
         },
         {
          "affiliations": [
           {
            "id": {
             "$oid": "65a56bc40f45bf4323902776"
            },
            "name": "University of Antioquia",
            "types": [
             {
              "source": "ror",
              "type": "Education"
             },
             {
              "source": "openalex",
              "type": "education"
             }
            ]
           },
           {
            "id": {
             "$oid": "65a56c9f0f45bf432392df41"
            },
            "name": "International Centre for Theoretical Physics",
            "types": [
             {
              "source": "ror",
              "type": "Facility"
             },
             {
              "source": "openalex",
              "type": "facility"
             }
            ]
           }
          ],
          "full_name": "Diego Restrepo",
          "id": {
           "$oid": "65a5767e8c8493089399de6c"
          }
         },
         {
          "affiliations": [
           {
            "id": {
             "$oid": "65a56cac0f45bf4323930bdb"
            },
            "name": "Pedagogical and Technological University of Colombia",
            "types": [
             {
              "source": "ror",
              "type": "Education"
             },
             {
              "source": "openalex",
              "type": "education"
             }
            ]
           }
          ],
          "full_name": "Carlos E. Yaguna",
          "id": {
           "$oid": "65a577de8c849308939d82d3"
          }
         },
         {
          "affiliations": [
           {
            "id": {
             "$oid": "65a56bc40f45bf4323902776"
            },
            "name": "University of Antioquia",
            "types": [
             {
              "source": "ror",
              "type": "Education"
             },
             {
              "source": "openalex",
              "type": "education"
             }
            ]
           }
          ],
          "full_name": "Óscar Zapata",
          "id": {
           "$oid": "65a575b78c8493089397b2bf"
          }
         }
        ],
        "bibliographic_info": {
         "is_open_access": true,
         "issue": "1",
         "open_access_status": "hybrid",
         "start_page": "015038",
         "volume": "99"
        },
        "citations": [],
        "citations_by_year": [
         {
          "cited_by_count": 6,
          "year": 2022
         },
         {
          "cited_by_count": 10,
          "year": 2021
         },
         {
          "cited_by_count": 5,
          "year": 2020
         },
         {
          "cited_by_count": 6,
          "year": 2019
         }
        ],
        "citations_count": [
         {
          "count": 27,
          "source": "openalex"
         },
         {
          "count": 6,
          "source": "wos"
         },
         {
          "count": 34,
          "source": "scholar"
         }
        ],
        "date_published": 1548824400,
        "external_ids": [
         {
          "id": "https://openalex.org/W2886932741",
          "source": "openalex"
         },
         {
          "id": "10.1103/physrevd.99.015038",
          "source": "doi"
         },
         {
          "id": "2886932741",
          "source": "mag"
         },
         {
          "id": "000457136800007",
          "source": "wos"
         },
         {
          "id": "LgYqjQIeCnYJ",
          "source": "scholar"
         }
        ],
        "external_urls": [
         {
          "source": "oa",
          "url": "http://link.aps.org/pdf/10.1103/PhysRevD.99.015038"
         },
         {
          "source": "scholar citations",
          "url": "/scholar?cites=8505643842549712430&as_sdt=2005&sciodt=0,5&hl=en"
         },
         {
          "source": "pdf",
          "url": "https://link.aps.org/pdf/10.1103/PhysRevD.99.015038"
         }
        ],
        "keywords": [],
        "ranking": [],
        "references": [],
        "references_count": null,
        "source": {
         "id": {
          "$oid": "65a5638d0f45bf4323873f2a"
         },
         "name": "Physical review"
        },
        "subjects": [
         {
          "source": "openalex",
          "subjects": [
           {
            "id": {
             "$oid": "65a5695b0f45bf43238e1617"
            },
            "level": 0,
            "name": "Physics"
           },
           {
            "id": {
             "$oid": "65a569a30f45bf43238eeb55"
            },
            "level": 2,
            "name": "Massless particle"
           },
           {
            "id": {
             "$oid": "65a569620f45bf43238e3d70"
            },
            "level": 2,
            "name": "Neutrino"
           },
           {
            "id": {
             "$oid": "65a5695a0f45bf43238e0eac"
            },
            "level": 1,
            "name": "Particle physics"
           },
           {
            "id": {
             "$oid": "65a5695f0f45bf43238e2cf7"
            },
            "level": 2,
            "name": "Dark matter"
           },
           {
            "id": {
             "$oid": "65a569600f45bf43238e327e"
            },
            "level": 2,
            "name": "Component (thermodynamics)"
           },
           {
            "id": {
             "$oid": "65a5695b0f45bf43238e119b"
            },
            "level": 5,
            "name": "Warm dark matter"
           },
           {
            "id": {
             "$oid": "65a569620f45bf43238e3cdc"
            },
            "level": 1,
            "name": "Nuclear physics"
           }
          ]
         }
        ],
        "subtitle": "",
        "titles": [
         {
          "lang": null,
          "source": "openalex",
          "title": "www.w3.org/1998/Math/MathML\" display=\"inline\"><mml:mi>B</mml:mi><mml:mo>−</mml:mo><mml:mi>L</mml:mi></mml:math> model"
         },
         {
          "lang": "en",
          "source": "wos",
          "title": "Two-component dark matter and a massless neutrino in a new B - L model"
         },
         {
          "lang": "en",
          "source": "scholar",
          "title": "Two-component dark matter and a massless neutrino in a new B- L model"
         }
        ],
        "types": [
         {
          "source": "openalex",
          "type": "journal-article"
         },
         {
          "source": "wos",
          "type": "article"
         },
         {
          "source": "scholar",
          "type": "article"
         }
        ],
        "updated": [
         {
          "source": "openalex",
          "time": 1705344378
         },
         {
          "source": "wos",
          "time": 1705345270
         },
         {
          "source": "scholar",
          "time": 1705345273
         }
        ],
        "year_published": 2019
       },
       {
        "_id": {
         "$oid": "65a57d8a8c84930893ac23ef"
        },
        "abstract": "",
        "author_count": 2,
        "authors": [
         {
          "affiliations": [
           {
            "id": {
             "$oid": "65a56bc40f45bf4323902776"
            },
            "name": "University of Antioquia",
            "types": [
             {
              "source": "ror",
              "type": "Education"
             },
             {
              "source": "openalex",
              "type": "education"
             }
            ]
           }
          ],
          "full_name": "Diego Restrepo",
          "id": {
           "$oid": "65a5767e8c8493089399de6c"
          }
         },
         {
          "affiliations": [
           {
            "id": {
             "$oid": "65a56bc40f45bf4323902776"
            },
            "name": "University of Antioquia",
            "types": [
             {
              "source": "ror",
              "type": "Education"
             },
             {
              "source": "openalex",
              "type": "education"
             }
            ]
           }
          ],
          "full_name": "Andrés Rivera",
          "id": {
           "$oid": "65a575968c8493089397525b"
          }
         }
        ],
        "bibliographic_info": {
         "end_page": "26",
         "is_open_access": true,
         "open_access_status": "gold",
         "start_page": "1",
         "volume": "2020"
        },
        "citations": [],
        "citations_by_year": [
         {
          "cited_by_count": 3,
          "year": 2021
         },
         {
          "cited_by_count": 3,
          "year": 2020
         }
        ],
        "citations_count": [
         {
          "count": 6,
          "source": "openalex"
         },
         {
          "count": 15,
          "source": "scholar"
         }
        ],
        "date_published": 1585717200,
        "external_ids": [
         {
          "id": "https://openalex.org/W3099207013",
          "source": "openalex"
         },
         {
          "id": "10.1007/jhep04(2020)134",
          "source": "doi"
         },
         {
          "id": "3099207013",
          "source": "mag"
         },
         {
          "id": "0000177733",
          "source": "COD_RH"
         },
         {
          "id": "140",
          "source": "COD_PRODUCTO"
         },
         {
          "id": "2-s2.0-85083642740",
          "source": "scopus"
         },
         {
          "id": "sPHiod0jAaUJ",
          "source": "scholar"
         }
        ],
        "external_urls": [
         {
          "source": "oa",
          "url": "https://link.springer.com/content/pdf/10.1007/JHEP04(2020)134.pdf"
         },
         {
          "source": "scienti",
          "url": "https://link.springer.com/article/10.1007/JHEP04(2020)134"
         },
         {
          "source": "scopus",
          "url": "https://www.scopus.com/inward/record.uri?eid=2-s2.0-85083642740&doi=10.1007%2fJHEP04%282020%29134&partnerID=40&md5=e1bd5332a8440e225401d90181a246b5"
         },
         {
          "source": "scholar citations",
          "url": "/scholar?cites=11889823926045569456&as_sdt=2005&sciodt=0,5&hl=en"
         },
         {
          "source": "pdf",
          "url": "https://link.springer.com/content/pdf/10.1007/JHEP04(2020)134.pdf"
         }
        ],
        "keywords": [],
        "ranking": [],
        "references": [],
        "references_count": null,
        "source": {
         "id": {
          "$oid": "65a5638a0f45bf43238739ed"
         },
         "name": "Journal of High Energy Physics"
        },
        "subjects": [
         {
          "source": "openalex",
          "subjects": [
           {
            "id": {
             "$oid": "65a5695b0f45bf43238e1617"
            },
            "level": 0,
            "name": "Physics"
           },
           {
            "id": {
             "$oid": "65a5695a0f45bf43238e0eac"
            },
            "level": 1,
            "name": "Particle physics"
           },
           {
            "id": {
             "$oid": "65a5695f0f45bf43238e2cf7"
            },
            "level": 2,
            "name": "Dark matter"
           },
           {
            "id": {
             "$oid": "65a569620f45bf43238e3d70"
            },
            "level": 2,
            "name": "Neutrino"
           },
           {
            "id": {
             "$oid": "65a569640f45bf43238e470e"
            },
            "level": 2,
            "name": "Annihilation"
           },
           {
            "id": {
             "$oid": "65a569aa0f45bf43238ef726"
            },
            "level": 2,
            "name": "Parameter space"
           },
           {
            "id": {
             "$oid": "65a569620f45bf43238e3dae"
            },
            "level": 2,
            "name": "Fermi Gamma-ray Space Telescope"
           },
           {
            "id": {
             "$oid": "65a569610f45bf43238e3545"
            },
            "level": 2,
            "name": "Nucleon"
           },
           {
            "id": {
             "$oid": "65a569610f45bf43238e3949"
            },
            "level": 3,
            "name": "Lepton"
           },
           {
            "id": {
             "$oid": "65a5695a0f45bf43238e09e3"
            },
            "level": 3,
            "name": "Standard Model (mathematical formulation)"
           },
           {
            "id": {
             "$oid": "65a569620f45bf43238e3c7c"
            },
            "level": 2,
            "name": "Physics beyond the Standard Model"
           },
           {
            "id": {
             "$oid": "65a5699a0f45bf43238edac1"
            },
            "level": 3,
            "name": "Singlet state"
           },
           {
            "id": {
             "$oid": "65a569620f45bf43238e3cdc"
            },
            "level": 1,
            "name": "Nuclear physics"
           }
          ]
         }
        ],
        "subtitle": "",
        "titles": [
         {
          "lang": "en",
          "source": "openalex",
          "title": "Phenomenological consistency of the singlet-triplet scotogenic model"
         },
         {
          "lang": "en",
          "source": "scopus",
          "title": "Phenomenological consistency of the singlet-triplet scotogenic model"
         },
         {
          "lang": "en",
          "source": "scholar",
          "title": "Phenomenological consistency of the singlet-triplet scotogenic model"
         }
        ],
        "types": [
         {
          "source": "openalex",
          "type": "journal-article"
         },
         {
          "source": "scienti",
          "type": "Publicado en revista especializada"
         },
         {
          "source": "scienti",
          "type": "Artículo"
         },
         {
          "source": "scopus",
          "type": "Article"
         },
         {
          "source": "scholar",
          "type": "article"
         }
        ],
        "updated": [
         {
          "source": "openalex",
          "time": 1705344378
         },
         {
          "source": "scienti",
          "time": 1705344396
         },
         {
          "source": "scopus",
          "time": 1705345266
         },
         {
          "source": "scholar",
          "time": 1705345273
         }
        ],
        "year_published": 2020
       },
       {
        "_id": {
         "$oid": "65a57d8a8c84930893ac23f0"
        },
        "abstract": "",
        "author_count": 5,
        "authors": [
         {
          "affiliations": [
           {
            "id": {
             "$oid": "65a56c480f45bf432391d309"
            },
            "name": "Mitchell Institute",
            "types": [
             {
              "source": "ror",
              "type": "Nonprofit"
             },
             {
              "source": "openalex",
              "type": "nonprofit"
             }
            ]
           }
          ],
          "full_name": "Mohammad Abdullah",
          "id": {
           "$oid": "65a579228c84930893a0dc79"
          }
         },
         {
          "affiliations": [
           {
            "id": {
             "$oid": "65a56bc40f45bf4323902776"
            },
            "name": "University of Antioquia",
            "types": [
             {
              "source": "ror",
              "type": "Education"
             },
             {
              "source": "openalex",
              "type": "education"
             }
            ]
           }
          ],
          "full_name": "Julián Calle",
          "id": {
           "$oid": "65a576fc8c849308939b229b"
          }
         },
         {
          "affiliations": [
           {
            "id": {
             "$oid": "65a56c480f45bf432391d309"
            },
            "name": "Mitchell Institute",
            "types": [
             {
              "source": "ror",
              "type": "Nonprofit"
             },
             {
              "source": "openalex",
              "type": "nonprofit"
             }
            ]
           }
          ],
          "full_name": "Bhaskar Dutta",
          "id": {
           "$oid": "65a576cc8c849308939aa670"
          }
         },
         {
          "affiliations": [
           {
            "id": {
             "$oid": "65a56ca10f45bf432392e7bf"
            },
            "name": "Universidad de Los Andes",
            "types": [
             {
              "source": "ror",
              "type": "Education"
             },
             {
              "source": "openalex",
              "type": "education"
             }
            ]
           }
          ],
          "full_name": "Carlos Florez",
          "id": {
           "$oid": "65a5768e8c849308939a05e3"
          }
         },
         {
          "affiliations": [
           {
            "id": {
             "$oid": "65a56bc40f45bf4323902776"
            },
            "name": "University of Antioquia",
            "types": [
             {
              "source": "ror",
              "type": "Education"
             },
             {
              "source": "openalex",
              "type": "education"
             }
            ]
           }
          ],
          "full_name": "Diego Restrepo",
          "id": {
           "$oid": "65a5767e8c8493089399de6c"
          }
         }
        ],
        "bibliographic_info": {
         "is_open_access": true,
         "issue": "5",
         "open_access_status": "hybrid",
         "start_page": "055016",
         "volume": "98"
        },
        "citations": [],
        "citations_by_year": [
         {
          "cited_by_count": 2,
          "year": 2022
         },
         {
          "cited_by_count": 6,
          "year": 2021
         },
         {
          "cited_by_count": 2,
          "year": 2020
         },
         {
          "cited_by_count": 9,
          "year": 2019
         },
         {
          "cited_by_count": 2,
          "year": 2018
         }
        ],
        "citations_count": [
         {
          "count": 21,
          "source": "openalex"
         },
         {
          "count": 11,
          "source": "wos"
         },
         {
          "count": 47,
          "source": "scholar"
         }
        ],
        "date_published": 1536814800,
        "external_ids": [
         {
          "id": "https://openalex.org/W2801044354",
          "source": "openalex"
         },
         {
          "id": "10.1103/physrevd.98.055016",
          "source": "doi"
         },
         {
          "id": "2801044354",
          "source": "mag"
         },
         {
          "id": "0000177733",
          "source": "COD_RH"
         },
         {
          "id": "130",
          "source": "COD_PRODUCTO"
         },
         {
          "id": "000444599100004",
          "source": "wos"
         },
         {
          "id": "FmFmJElKyH8J",
          "source": "scholar"
         }
        ],
        "external_urls": [
         {
          "source": "oa",
          "url": "http://link.aps.org/pdf/10.1103/PhysRevD.98.055016"
         },
         {
          "source": "scienti",
          "url": "http://doi.org/10.1103/PhysRevD.98.055016"
         },
         {
          "source": "scholar citations",
          "url": "/scholar?cites=9207691116162736406&as_sdt=2005&sciodt=0,5&hl=en"
         },
         {
          "source": "pdf",
          "url": "https://link.aps.org/pdf/10.1103/PhysRevD.98.055016"
         }
        ],
        "keywords": [],
        "ranking": [],
        "references": [],
        "references_count": null,
        "source": {
         "id": {
          "$oid": "65a568fe0f45bf43238d6124"
         },
         "name": "Physical Review D"
        },
        "subjects": [
         {
          "source": "openalex",
          "subjects": [
           {
            "id": {
             "$oid": "65a5695b0f45bf43238e1617"
            },
            "level": 0,
            "name": "Physics"
           },
           {
            "id": {
             "$oid": "65a569610f45bf43238e3949"
            },
            "level": 3,
            "name": "Lepton"
           },
           {
            "id": {
             "$oid": "65a5695a0f45bf43238e0eac"
            },
            "level": 1,
            "name": "Particle physics"
           },
           {
            "id": {
             "$oid": "65a569ab0f45bf43238ef8a7"
            },
            "level": 2,
            "name": "Quark"
           },
           {
            "id": {
             "$oid": "65a569740f45bf43238e89c9"
            },
            "level": 4,
            "name": "Missing energy"
           },
           {
            "id": {
             "$oid": "65a569af0f45bf43238effb4"
            },
            "level": 2,
            "name": "Large Hadron Collider"
           },
           {
            "id": {
             "$oid": "65a569ae0f45bf43238efec0"
            },
            "level": 3,
            "name": "Charm quark"
           },
           {
            "id": {
             "$oid": "65a569830f45bf43238eb229"
            },
            "level": 2,
            "name": "Charm (quantum number)"
           },
           {
            "id": {
             "$oid": "65a569650f45bf43238e4b24"
            },
            "level": 2,
            "name": "Sensitivity (control systems)"
           },
           {
            "id": {
             "$oid": "65a5699b0f45bf43238edc61"
            },
            "level": 3,
            "name": "B meson"
           },
           {
            "id": {
             "$oid": "65a569640f45bf43238e45e3"
            },
            "level": 2,
            "name": "Meson"
           },
           {
            "id": {
             "$oid": "65a569620f45bf43238e3cdc"
            },
            "level": 1,
            "name": "Nuclear physics"
           }
          ]
         }
        ],
        "subtitle": "",
        "titles": [
         {
          "lang": "en",
          "source": "openalex",
          "title": "Probing a simplified W ′ model of R ( D ( * ) ) anomalies using b tags, τ leptons, and missing energy"
         },
         {
          "lang": "en",
          "source": "wos",
          "title": "Probing a simplified W ' model of R(D-(*())) anomalies using b tags, tau leptons, and missing energy"
         },
         {
          "lang": "en",
          "source": "scholar",
          "title": "Probing a simplified W′ model of R (D (*)) anomalies using b tags, $τ$ leptons, and missing energy"
         }
        ],
        "types": [
         {
          "source": "openalex",
          "type": "journal-article"
         },
         {
          "source": "scienti",
          "type": "Publicado en revista especializada"
         },
         {
          "source": "scienti",
          "type": "Artículo"
         },
         {
          "source": "wos",
          "type": "article"
         },
         {
          "source": "scholar",
          "type": "article"
         }
        ],
        "updated": [
         {
          "source": "openalex",
          "time": 1705344378
         },
         {
          "source": "scienti",
          "time": 1705344398
         },
         {
          "source": "wos",
          "time": 1705345271
         },
         {
          "source": "scholar",
          "time": 1705345273
         }
        ],
        "year_published": 2018
       },
       {
        "_id": {
         "$oid": "65a57d8a8c84930893ac23f1"
        },
        "abstract": "",
        "author_count": 3,
        "authors": [
         {
          "affiliations": [
           {
            "id": {
             "$oid": "65a56bbf0f45bf43239015e2"
            },
            "name": "University of California, Riverside",
            "types": [
             {
              "source": "ror",
              "type": "Education"
             },
             {
              "source": "openalex",
              "type": "education"
             }
            ]
           }
          ],
          "full_name": "Ernest Ma",
          "id": {
           "$oid": "65a5796d8c84930893a19d34"
          }
         },
         {
          "affiliations": [
           {
            "id": {
             "$oid": "65a56bc40f45bf4323902776"
            },
            "name": "University of Antioquia",
            "types": [
             {
              "source": "ror",
              "type": "Education"
             },
             {
              "source": "openalex",
              "type": "education"
             }
            ]
           }
          ],
          "full_name": "Diego Restrepo",
          "id": {
           "$oid": "65a5767e8c8493089399de6c"
          }
         },
         {
          "affiliations": [
           {
            "id": {
             "$oid": "65a56bc40f45bf4323902776"
            },
            "name": "University of Antioquia",
            "types": [
             {
              "source": "ror",
              "type": "Education"
             },
             {
              "source": "openalex",
              "type": "education"
             }
            ]
           }
          ],
          "full_name": "Óscar Zapata",
          "id": {
           "$oid": "65a575b78c8493089397b2bf"
          }
         }
        ],
        "bibliographic_info": {
         "is_open_access": true,
         "issue": "03",
         "open_access_status": "green",
         "start_page": "1850024",
         "volume": "33"
        },
        "citations": [],
        "citations_by_year": [
         {
          "cited_by_count": 1,
          "year": 2022
         },
         {
          "cited_by_count": 4,
          "year": 2020
         },
         {
          "cited_by_count": 3,
          "year": 2019
         },
         {
          "cited_by_count": 2,
          "year": 2018
         },
         {
          "cited_by_count": 1,
          "year": 2017
         }
        ],
        "citations_count": [
         {
          "count": 11,
          "source": "openalex"
         },
         {
          "count": 7,
          "source": "scopus"
         },
         {
          "count": 5,
          "source": "wos"
         },
         {
          "count": 15,
          "source": "scholar"
         }
        ],
        "date_published": 1517202000,
        "external_ids": [
         {
          "id": "https://openalex.org/W3100627084",
          "source": "openalex"
         },
         {
          "id": "10.1142/s0217732318500244",
          "source": "doi"
         },
         {
          "id": "3100627084",
          "source": "mag"
         },
         {
          "id": "0000707619",
          "source": "COD_RH"
         },
         {
          "id": "41",
          "source": "COD_PRODUCTO"
         },
         {
          "id": "2-s2.0-85040862223",
          "source": "scopus"
         },
         {
          "id": "000423488200007",
          "source": "wos"
         },
         {
          "id": "CoxEtYWH7qgJ",
          "source": "scholar"
         }
        ],
        "external_urls": [
         {
          "source": "oa",
          "url": "http://arxiv.org/pdf/1706.08240"
         },
         {
          "source": "scienti",
          "url": "https://www.worldscientific.com/doi/pdf/10.1142/S0217732318500244"
         },
         {
          "source": "scopus",
          "url": "https://www.scopus.com/inward/record.uri?eid=2-s2.0-85040862223&doi=10.1142%2fS0217732318500244&partnerID=40&md5=b6b843a4e108522d1ac77c5c15b1e2c6"
         },
         {
          "source": "scholar citations",
          "url": "/scholar?cites=12172815851170597898&as_sdt=2005&sciodt=0,5&hl=en"
         },
         {
          "source": "pdf",
          "url": "https://arxiv.org/pdf/1706.08240"
         }
        ],
        "keywords": [],
        "ranking": [],
        "references": [],
        "references_count": null,
        "source": {
         "id": {
          "$oid": "65a5638f0f45bf4323874569"
         },
         "name": "Modern Physics Letters A"
        },
        "subjects": [
         {
          "source": "openalex",
          "subjects": [
           {
            "id": {
             "$oid": "65a5695b0f45bf43238e1617"
            },
            "level": 0,
            "name": "Physics"
           },
           {
            "id": {
             "$oid": "65a5695a0f45bf43238e0eac"
            },
            "level": 1,
            "name": "Particle physics"
           },
           {
            "id": {
             "$oid": "65a5695b0f45bf43238e115b"
            },
            "level": 3,
            "name": "Axion"
           },
           {
            "id": {
             "$oid": "65a569620f45bf43238e3d70"
            },
            "level": 2,
            "name": "Neutrino"
           },
           {
            "id": {
             "$oid": "65a5695f0f45bf43238e2cf7"
            },
            "level": 2,
            "name": "Dark matter"
           },
           {
            "id": {
             "$oid": "65a5695b0f45bf43238e136b"
            },
            "level": 2,
            "name": "Quantum chromodynamics"
           },
           {
            "id": {
             "$oid": "65a569610f45bf43238e3949"
            },
            "level": 3,
            "name": "Lepton"
           },
           {
            "id": {
             "$oid": "65a569ab0f45bf43238ef8a7"
            },
            "level": 2,
            "name": "Quark"
           },
           {
            "id": {
             "$oid": "65a569a10f45bf43238ee82e"
            },
            "level": 2,
            "name": "Fermion"
           },
           {
            "id": {
             "$oid": "65a5695a0f45bf43238e09e3"
            },
            "level": 3,
            "name": "Standard Model (mathematical formulation)"
           },
           {
            "id": {
             "$oid": "65a569a40f45bf43238eed9b"
            },
            "level": 2,
            "name": "Scalar (mathematics)"
           },
           {
            "id": {
             "$oid": "65a5695a0f45bf43238e0aeb"
            },
            "level": 4,
            "name": "Sterile neutrino"
           },
           {
            "id": {
             "$oid": "65a5695a0f45bf43238e0dff"
            },
            "level": 4,
            "name": "Lepton number"
           }
          ]
         }
        ],
        "subtitle": "",
        "titles": [
         {
          "lang": "en",
          "source": "openalex",
          "title": "Anomalous leptonic U(1) symmetry: Syndetic origin of the QCD axion, weak-scale dark matter, and radiative neutrino mass"
         },
         {
          "lang": "en",
          "source": "scopus",
          "title": "Anomalous leptonic U(1) symmetry: Syndetic origin of the QCD axion, weak-scale dark matter, and radiative neutrino mass"
         },
         {
          "lang": "en",
          "source": "wos",
          "title": "Anomalous leptonic U(1) symmetry: Syndetic origin of the QCD axion, weak-scale dark matter, and radiative neutrino mass"
         },
         {
          "lang": "en",
          "source": "scholar",
          "title": "Anomalous leptonic U (1) symmetry: Syndetic origin of the QCD axion, weak-scale dark matter, and radiative neutrino mass"
         },
         {
          "lang": "en",
          "source": "ranking_udea",
          "title": "ANOMALOUS LEPTONIC U(1) SYMMETRY: SYNDETIC ORIGIN OF THE QCD AXION, WEAK-SCALE DARK MATTER, AND RADIATIVE NEUTRINO MASS."
         }
        ],
        "types": [
         {
          "source": "openalex",
          "type": "journal-article"
         },
         {
          "source": "scienti",
          "type": "Publicado en revista especializada"
         },
         {
          "source": "scienti",
          "type": "Artículo"
         },
         {
          "source": "scopus",
          "type": "Article"
         },
         {
          "source": "wos",
          "type": "article"
         },
         {
          "source": "scholar",
          "type": "article"
         }
        ],
        "updated": [
         {
          "source": "openalex",
          "time": 1705344378
         },
         {
          "source": "scienti",
          "time": 1705344396
         },
         {
          "source": "scopus",
          "time": 1705345265
         },
         {
          "source": "wos",
          "time": 1705345268
         },
         {
          "source": "scholar",
          "time": 1705345273
         },
         {
          "source": "ranking_udea",
          "time": 1705345560
         }
        ],
        "year_published": 2018
       }
      ],
      "text/plain": [
       "<IPython.core.display.JSON object>"
      ]
     },
     "execution_count": 21,
     "metadata": {
      "application/json": {
       "expanded": false,
       "root": "root"
      }
     },
     "output_type": "execute_result"
    }
   ],
   "source": [
    "JSON(data)"
   ]
  },
  {
   "cell_type": "code",
   "execution_count": null,
   "id": "6ec654e4-43b0-4b27-a3d1-25a7667340e8",
   "metadata": {},
   "outputs": [],
   "source": []
  }
 ],
 "metadata": {
  "kernelspec": {
   "display_name": "Python 3 (ipykernel)",
   "language": "python",
   "name": "python3"
  },
  "language_info": {
   "codemirror_mode": {
    "name": "ipython",
    "version": 3
   },
   "file_extension": ".py",
   "mimetype": "text/x-python",
   "name": "python",
   "nbconvert_exporter": "python",
   "pygments_lexer": "ipython3",
   "version": "3.9.2"
  }
 },
 "nbformat": 4,
 "nbformat_minor": 5
}
