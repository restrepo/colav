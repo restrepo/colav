{
 "cells": [
  {
   "cell_type": "code",
   "execution_count": 1,
   "id": "8b832e69-0a05-4695-af1d-19bbbe3feca9",
   "metadata": {},
   "outputs": [],
   "source": [
    "from pymongo import MongoClient\n",
    "from bson.json_util import dumps\n",
    "import json\n",
    "from IPython.display import display, HTML, JSON"
   ]
  },
  {
   "cell_type": "code",
   "execution_count": 11,
   "id": "780fce89-f9e8-45fa-aa9c-be8b894466fc",
   "metadata": {},
   "outputs": [],
   "source": [
    "db = MongoClient()[\"kahi_test\"]\n",
    "cols = [\"affiliations\", \"person\", \"sources\", \"subjects\", \"works\"]"
   ]
  },
  {
   "cell_type": "code",
   "execution_count": null,
   "id": "902ed439-c9ff-4fbf-b3f7-3533ebf70fc4",
   "metadata": {},
   "outputs": [],
   "source": [
    "#cargamos los datos\n",
    "for col in cols:\n",
    "    data = list(db[col].find())\n",
    "    #quitamos los ObjectIds y los pasamos a str\n",
    "    data = dumps(data)\n",
    "    #guardamos\n",
    "    with  open(f\"kahi_samples/{col}.json\",\"w\") as f:\n",
    "        f.write(data)\n",
    "        f.close()"
   ]
  },
  {
   "cell_type": "code",
   "execution_count": 12,
   "id": "405edb22-86fe-496e-ab18-f127f7f6627c",
   "metadata": {},
   "outputs": [],
   "source": [
    "#ejemplo visualizar artículos\n",
    "data = list(db[\"person\"].find())\n",
    "data = dumps(data)\n",
    "data = json.loads(data)"
   ]
  },
  {
   "cell_type": "code",
   "execution_count": 16,
   "id": "afae37ae-4160-4ea8-bb88-0cdd3daea7a7",
   "metadata": {},
   "outputs": [],
   "source": [
    "dp=data.copy()"
   ]
  },
  {
   "cell_type": "markdown",
   "id": "1e90a851-d159-4d29-9a71-dd020bd3a389",
   "metadata": {},
   "source": [
    "# Expected behaviour\n",
    "* If the DOI is in Scienti the author \"Diego Restrepo\" must be taken for the author in Scienti 'Diego Alejandro Restrepo Quintero' with id '65a56f448c84930893971610'\n",
    "* Facultad is missing there for '65a56f448c84930893971610'. This information must be taken from the talento humano database by using the cédula: 'external_ids': `[{'source': 'Cédula de Ciudadanía', 'id': '98554575'},...`"
   ]
  },
  {
   "cell_type": "code",
   "execution_count": 13,
   "id": "95ce41ba-be34-4815-9155-871ee1a01943",
   "metadata": {},
   "outputs": [
    {
     "data": {
      "text/plain": [
       "[]"
      ]
     },
     "execution_count": 13,
     "metadata": {},
     "output_type": "execute_result"
    }
   ],
   "source": [
    "[d for d in data if d.get('_id').get('$oid')=='65a5767e8c8493089399de6c']"
   ]
  },
  {
   "cell_type": "code",
   "execution_count": 6,
   "id": "fce5d1f4-ce98-475b-9bea-a6e5b3a8c7cc",
   "metadata": {},
   "outputs": [],
   "source": [
    "import re"
   ]
  },
  {
   "cell_type": "code",
   "execution_count": 14,
   "id": "6e718016-b670-4db3-91ff-ae660b87151b",
   "metadata": {},
   "outputs": [
    {
     "data": {
      "application/json": [
       {
        "_id": {
         "$oid": "65a5be17dd3fc38498ca89b5"
        },
        "affiliations": [
         {
          "end_date": -1,
          "id": {
           "$oid": "65a5b6619bdb43a818ffc2ac"
          },
          "name": "Universidad de Antioquia",
          "start_date": 1027573200,
          "types": [
           {
            "source": "ror",
            "type": "Education"
           },
           {
            "source": "openalex",
            "type": "education"
           }
          ]
         },
         {
          "end_date": -1,
          "id": {
           "$oid": "65a5bdd9dd3fc38498ca6d7b"
          },
          "name": "Instituto de Física",
          "start_date": 1027573200,
          "types": [
           {
            "source": "staff",
            "type": "department"
           }
          ]
         }
        ],
        "aliases": [
         "restrepo quintero diego alejandro"
        ],
        "birthdate": 37429200,
        "birthplace": {
         "city": "Fredonia",
         "country": "Colombia",
         "state": "Antioquia"
        },
        "degrees": [
         {
          "date": "",
          "degree": "DOCTORADO",
          "id": "",
          "institutions": [],
          "source": "staff"
         }
        ],
        "external_ids": [
         {
          "id": "98554575",
          "source": "Cédula de Ciudadanía"
         },
         {
          "id": "0000177733",
          "source": "scienti"
         },
         {
          "id": "0000-0001-6455-5564",
          "source": "orcid"
         }
        ],
        "first_names": [
         "Diego",
         "Alejandro"
        ],
        "full_name": "Diego Alejandro Restrepo Quintero",
        "initials": "DA",
        "keywords": [],
        "last_names": [
         "Restrepo",
         "Quintero"
        ],
        "marital_status": "Married",
        "ranking": [
         {
          "date": "",
          "rank": "TITULAR",
          "source": "staff"
         },
         {
          "date": "",
          "rank": "IS",
          "source": "scienti"
         }
        ],
        "sex": "m",
        "subjects": [],
        "updated": [
         {
          "source": "staff",
          "time": 1705360919
         }
        ]
       },
       {
        "_id": {
         "$oid": "65a5be26dd3fc38498ca9f11"
        },
        "affiliations": [],
        "aliases": [],
        "birthdate": "",
        "birthplace": {},
        "degrees": [],
        "external_ids": [
         {
          "id": "000001",
          "source": "Cédula de Ciudadanía"
         },
         {
          "id": "0001534825",
          "source": "scienti"
         }
        ],
        "first_names": [
         "Diego"
        ],
        "full_name": "Diego Restrepo",
        "initials": "D",
        "keywords": [],
        "last_names": [
         "Restrepo"
        ],
        "marital_status": null,
        "ranking": [],
        "sex": "",
        "subjects": [],
        "updated": [
         {
          "source": "scienti",
          "time": 1705360934
         }
        ]
       },
       {
        "_id": {
         "$oid": "65a5c4dddd3fc38498cac5ea"
        },
        "affiliations": [],
        "aliases": [],
        "birthdate": -1,
        "birthplace": {},
        "degrees": [],
        "external_ids": [
         {
          "id": "https://openalex.org/A4289616623",
          "source": "openalex"
         }
        ],
        "first_names": [],
        "full_name": "Diego Restrepo",
        "initials": "",
        "keywords": [],
        "last_names": [],
        "marital_status": null,
        "ranking": [],
        "sex": "",
        "subjects": [],
        "updated": [
         {
          "source": "openalex",
          "time": 1705362653
         }
        ]
       },
       {
        "_id": {
         "$oid": "65a5c4e1dd3fc38498cad141"
        },
        "affiliations": [
         {
          "end_date": -1,
          "id": {
           "$oid": "65a5b72b9bdb43a8180277c0"
          },
          "name": "University of Colorado Anschutz Medical Campus",
          "start_date": -1,
          "types": [
           {
            "source": "ror",
            "type": "Education"
           },
           {
            "source": "openalex",
            "type": "education"
           }
          ]
         }
        ],
        "aliases": [],
        "birthdate": -1,
        "birthplace": {},
        "degrees": [],
        "external_ids": [
         {
          "id": "https://openalex.org/A2110103959",
          "source": "openalex"
         },
         {
          "id": "0000-0002-4972-446X",
          "source": "orcid"
         },
         {
          "id": 2110103959,
          "source": "mag"
         }
        ],
        "first_names": [],
        "full_name": "Diego Restrepo",
        "initials": "",
        "keywords": [],
        "last_names": [],
        "marital_status": null,
        "ranking": [],
        "sex": "",
        "subjects": [],
        "updated": [
         {
          "source": "openalex",
          "time": 1705362657
         }
        ]
       },
       {
        "_id": {
         "$oid": "65a5c513dd3fc38498cb57f6"
        },
        "affiliations": [
         {
          "end_date": -1,
          "id": {
           "$oid": "65a5b6619bdb43a818ffc2ac"
          },
          "name": "Universidad de Antioquia",
          "start_date": -1,
          "types": [
           {
            "source": "ror",
            "type": "Education"
           },
           {
            "source": "openalex",
            "type": "education"
           }
          ]
         }
        ],
        "aliases": [],
        "birthdate": -1,
        "birthplace": {},
        "degrees": [],
        "external_ids": [
         {
          "id": "https://openalex.org/A4224864514",
          "source": "openalex"
         }
        ],
        "first_names": [],
        "full_name": "Diego Restrepo",
        "initials": "",
        "keywords": [],
        "last_names": [],
        "marital_status": null,
        "ranking": [],
        "sex": "",
        "subjects": [],
        "updated": [
         {
          "source": "openalex",
          "time": 1705362707
         }
        ]
       },
       {
        "_id": {
         "$oid": "65a5c592dd3fc38498ccab3c"
        },
        "affiliations": [
         {
          "end_date": -1,
          "id": {
           "$oid": "65a5b72b9bdb43a8180277ae"
          },
          "name": "Universidad Nacional de Colombia",
          "start_date": -1,
          "types": [
           {
            "source": "ror",
            "type": "Education"
           },
           {
            "source": "openalex",
            "type": "education"
           }
          ]
         }
        ],
        "aliases": [],
        "birthdate": -1,
        "birthplace": {},
        "degrees": [],
        "external_ids": [
         {
          "id": "https://openalex.org/A2139653343",
          "source": "openalex"
         },
         {
          "id": 2139653343,
          "source": "mag"
         }
        ],
        "first_names": [],
        "full_name": "Diego A Restrepo",
        "initials": "",
        "keywords": [],
        "last_names": [],
        "marital_status": null,
        "ranking": [],
        "sex": "",
        "subjects": [],
        "updated": [
         {
          "source": "openalex",
          "time": 1705362834
         }
        ]
       },
       {
        "_id": {
         "$oid": "65a5c5ccdd3fc38498cd5220"
        },
        "affiliations": [
         {
          "end_date": -1,
          "id": {
           "$oid": "65a5b65e9bdb43a818ffb9e5"
          },
          "name": "Universidad Estatal de Campinas",
          "start_date": -1,
          "types": [
           {
            "source": "ror",
            "type": "Education"
           },
           {
            "source": "openalex",
            "type": "education"
           }
          ]
         }
        ],
        "aliases": [],
        "birthdate": -1,
        "birthplace": {},
        "degrees": [],
        "external_ids": [
         {
          "id": "https://openalex.org/A2306595523",
          "source": "openalex"
         },
         {
          "id": "0000-0001-6455-5564",
          "source": "orcid"
         },
         {
          "id": "http://www.scopus.com/inward/authorDetails.url?authorID=7005721136&partnerID=MN8TOARS",
          "source": "scopus"
         },
         {
          "id": 2306595523,
          "source": "mag"
         }
        ],
        "first_names": [],
        "full_name": "Diego Restrepo",
        "initials": "",
        "keywords": [],
        "last_names": [],
        "marital_status": null,
        "ranking": [],
        "sex": "",
        "subjects": [],
        "updated": [
         {
          "source": "openalex",
          "time": 1705362892
         }
        ]
       },
       {
        "_id": {
         "$oid": "65a5c78fdd3fc38498d1977f"
        },
        "affiliations": [
         {
          "end_date": -1,
          "id": {
           "$oid": "65a5b6619bdb43a818ffc2ac"
          },
          "name": "Universidad de Antioquia",
          "start_date": -1,
          "types": [
           {
            "source": "ror",
            "type": "Education"
           },
           {
            "source": "openalex",
            "type": "education"
           }
          ]
         }
        ],
        "aliases": [],
        "birthdate": -1,
        "birthplace": {},
        "degrees": [],
        "external_ids": [
         {
          "id": "https://openalex.org/A4288869362",
          "source": "openalex"
         }
        ],
        "first_names": [],
        "full_name": "Diego Restrepo",
        "initials": "",
        "keywords": [],
        "last_names": [],
        "marital_status": null,
        "ranking": [],
        "sex": "",
        "subjects": [],
        "updated": [
         {
          "source": "openalex",
          "time": 1705363343
         }
        ]
       },
       {
        "_id": {
         "$oid": "65a5c7ffdd3fc38498d29dd7"
        },
        "affiliations": [
         {
          "end_date": -1,
          "id": {
           "$oid": "65a5b6619bdb43a818ffc2ac"
          },
          "name": "Universidad de Antioquia",
          "start_date": -1,
          "types": [
           {
            "source": "ror",
            "type": "Education"
           },
           {
            "source": "openalex",
            "type": "education"
           }
          ]
         }
        ],
        "aliases": [],
        "birthdate": -1,
        "birthplace": {},
        "degrees": [],
        "external_ids": [
         {
          "id": "https://openalex.org/A2989979424",
          "source": "openalex"
         },
         {
          "id": 2989979424,
          "source": "mag"
         }
        ],
        "first_names": [],
        "full_name": "Diego Restrepo-Quintero",
        "initials": "",
        "keywords": [],
        "last_names": [],
        "marital_status": null,
        "ranking": [],
        "sex": "",
        "subjects": [],
        "updated": [
         {
          "source": "openalex",
          "time": 1705363455
         }
        ]
       },
       {
        "_id": {
         "$oid": "65a5c808dd3fc38498d2afb7"
        },
        "affiliations": [
         {
          "end_date": -1,
          "id": {
           "$oid": "65a5b6619bdb43a818ffc2ac"
          },
          "name": "Universidad de Antioquia",
          "start_date": -1,
          "types": [
           {
            "source": "ror",
            "type": "Education"
           },
           {
            "source": "openalex",
            "type": "education"
           }
          ]
         }
        ],
        "aliases": [],
        "birthdate": -1,
        "birthplace": {},
        "degrees": [],
        "external_ids": [
         {
          "id": "https://openalex.org/A4290241673",
          "source": "openalex"
         }
        ],
        "first_names": [],
        "full_name": "Diego Restrepo",
        "initials": "",
        "keywords": [],
        "last_names": [],
        "marital_status": null,
        "ranking": [],
        "sex": "",
        "subjects": [],
        "updated": [
         {
          "source": "openalex",
          "time": 1705363464
         }
        ]
       },
       {
        "_id": {
         "$oid": "65a5ca8bdd3fc38498d89b38"
        },
        "affiliations": [],
        "aliases": [],
        "birthdate": -1,
        "birthplace": {},
        "degrees": [],
        "external_ids": [
         {
          "id": "https://openalex.org/A2636235644",
          "source": "openalex"
         },
         {
          "id": 2636235644,
          "source": "mag"
         }
        ],
        "first_names": [],
        "full_name": "Diego A. Restrepo",
        "initials": "",
        "keywords": [],
        "last_names": [],
        "marital_status": null,
        "ranking": [],
        "sex": "",
        "subjects": [],
        "updated": [
         {
          "source": "openalex",
          "time": 1705364107
         }
        ]
       },
       {
        "_id": {
         "$oid": "65a5cb31dd3fc38498da477d"
        },
        "affiliations": [
         {
          "end_date": -1,
          "id": {
           "$oid": "65a5b6619bdb43a818ffc2ac"
          },
          "name": "Universidad de Antioquia",
          "start_date": -1,
          "types": [
           {
            "source": "ror",
            "type": "Education"
           },
           {
            "source": "openalex",
            "type": "education"
           }
          ]
         }
        ],
        "aliases": [],
        "birthdate": -1,
        "birthplace": {},
        "degrees": [],
        "external_ids": [
         {
          "id": "https://openalex.org/A3004370623",
          "source": "openalex"
         },
         {
          "id": 3004370623,
          "source": "mag"
         }
        ],
        "first_names": [],
        "full_name": "Diego Alejandro Restrepo Quintero",
        "initials": "",
        "keywords": [],
        "last_names": [],
        "marital_status": null,
        "ranking": [],
        "sex": "",
        "subjects": [],
        "updated": [
         {
          "source": "openalex",
          "time": 1705364273
         }
        ]
       },
       {
        "_id": {
         "$oid": "65a5cb3cdd3fc38498da67c5"
        },
        "affiliations": [
         {
          "end_date": -1,
          "id": {
           "$oid": "65a5b73c9bdb43a81802afa9"
          },
          "name": "Universidad EAFIT",
          "start_date": -1,
          "types": [
           {
            "source": "ror",
            "type": "Education"
           },
           {
            "source": "openalex",
            "type": "education"
           }
          ]
         }
        ],
        "aliases": [],
        "birthdate": -1,
        "birthplace": {},
        "degrees": [],
        "external_ids": [
         {
          "id": "https://openalex.org/A3123793834",
          "source": "openalex"
         },
         {
          "id": 3123793834,
          "source": "mag"
         }
        ],
        "first_names": [],
        "full_name": "Diego A. Restrepo",
        "initials": "",
        "keywords": [],
        "last_names": [],
        "marital_status": null,
        "ranking": [],
        "sex": "",
        "subjects": [],
        "updated": [
         {
          "source": "openalex",
          "time": 1705364284
         }
        ]
       },
       {
        "_id": {
         "$oid": "65a5cc00dd3fc38498dc879b"
        },
        "affiliations": [
         {
          "end_date": -1,
          "id": {
           "$oid": "65a5b72e9bdb43a81802830c"
          },
          "name": "Universidad de los Andes",
          "start_date": -1,
          "types": [
           {
            "source": "ror",
            "type": "Education"
           },
           {
            "source": "openalex",
            "type": "education"
           }
          ]
         }
        ],
        "aliases": [],
        "birthdate": -1,
        "birthplace": {},
        "degrees": [],
        "external_ids": [
         {
          "id": "https://openalex.org/A2222954481",
          "source": "openalex"
         },
         {
          "id": 2222954481,
          "source": "mag"
         }
        ],
        "first_names": [],
        "full_name": "Diego Restrepo",
        "initials": "",
        "keywords": [],
        "last_names": [],
        "marital_status": null,
        "ranking": [],
        "sex": "",
        "subjects": [],
        "updated": [
         {
          "source": "openalex",
          "time": 1705364480
         }
        ]
       },
       {
        "_id": {
         "$oid": "65a5cc54dd3fc38498dd6ca6"
        },
        "affiliations": [
         {
          "end_date": -1,
          "id": {
           "$oid": "65a5b69a9bdb43a8180087d4"
          },
          "name": "Universidad Católica de Colombia",
          "start_date": -1,
          "types": [
           {
            "source": "ror",
            "type": "Education"
           },
           {
            "source": "openalex",
            "type": "education"
           }
          ]
         }
        ],
        "aliases": [],
        "birthdate": -1,
        "birthplace": {},
        "degrees": [],
        "external_ids": [
         {
          "id": "https://openalex.org/A2616292630",
          "source": "openalex"
         },
         {
          "id": 2616292630,
          "source": "mag"
         }
        ],
        "first_names": [],
        "full_name": "Diego Antonio Restrepo",
        "initials": "",
        "keywords": [],
        "last_names": [],
        "marital_status": null,
        "ranking": [],
        "sex": "",
        "subjects": [],
        "updated": [
         {
          "source": "openalex",
          "time": 1705364564
         }
        ]
       }
      ],
      "text/plain": [
       "<IPython.core.display.JSON object>"
      ]
     },
     "execution_count": 14,
     "metadata": {
      "application/json": {
       "expanded": false,
       "root": "root"
      }
     },
     "output_type": "execute_result"
    }
   ],
   "source": [
    "#DARQ\n",
    "JSON([d for d in data if isinstance(d.get('full_name'),str) \n",
    "            and re.search('^Diego\\s.*Restrepo',d.get('full_name')) \n",
    "            and not re.search('[ÁBFHLMOTUVx]',d.get('full_name')) \n",
    "            and not re.search('Durango',d.get('full_name'))\n",
    "            and not re.search('Quevedo',d.get('full_name'))\n",
    "            and not re.search('Afanador',d.get('full_name'))\n",
    "            and not re.search('Duque',d.get('full_name'))\n",
    "  ])"
   ]
  },
  {
   "cell_type": "code",
   "execution_count": 15,
   "id": "73de6219-ddf6-4370-9893-723c896756df",
   "metadata": {},
   "outputs": [
    {
     "data": {
      "text/plain": [
       "[{'_id': {'$oid': '65a5be17dd3fc38498ca89b5'},\n",
       "  'updated': [{'time': 1705360919, 'source': 'staff'}],\n",
       "  'full_name': 'Diego Alejandro Restrepo Quintero',\n",
       "  'first_names': ['Diego', 'Alejandro'],\n",
       "  'last_names': ['Restrepo', 'Quintero'],\n",
       "  'initials': 'DA',\n",
       "  'aliases': ['restrepo quintero diego alejandro'],\n",
       "  'affiliations': [{'id': {'$oid': '65a5b6619bdb43a818ffc2ac'},\n",
       "    'name': 'Universidad de Antioquia',\n",
       "    'types': [{'source': 'ror', 'type': 'Education'},\n",
       "     {'source': 'openalex', 'type': 'education'}],\n",
       "    'start_date': 1027573200,\n",
       "    'end_date': -1},\n",
       "   {'id': {'$oid': '65a5bdd9dd3fc38498ca6d7b'},\n",
       "    'name': 'Instituto de Física',\n",
       "    'types': [{'source': 'staff', 'type': 'department'}],\n",
       "    'start_date': 1027573200,\n",
       "    'end_date': -1}],\n",
       "  'keywords': [],\n",
       "  'external_ids': [{'source': 'Cédula de Ciudadanía', 'id': '98554575'},\n",
       "   {'source': 'scienti', 'id': '0000177733'},\n",
       "   {'source': 'orcid', 'id': '0000-0001-6455-5564'}],\n",
       "  'sex': 'm',\n",
       "  'marital_status': 'Married',\n",
       "  'ranking': [{'date': '', 'rank': 'TITULAR', 'source': 'staff'},\n",
       "   {'date': '', 'rank': 'IS', 'source': 'scienti'}],\n",
       "  'birthplace': {'city': 'Fredonia',\n",
       "   'state': 'Antioquia',\n",
       "   'country': 'Colombia'},\n",
       "  'birthdate': 37429200,\n",
       "  'degrees': [{'date': '',\n",
       "    'degree': 'DOCTORADO',\n",
       "    'id': '',\n",
       "    'institutions': [],\n",
       "    'source': 'staff'}],\n",
       "  'subjects': []},\n",
       " {'_id': {'$oid': '65a5cb31dd3fc38498da477d'},\n",
       "  'updated': [{'source': 'openalex', 'time': 1705364273}],\n",
       "  'full_name': 'Diego Alejandro Restrepo Quintero',\n",
       "  'first_names': [],\n",
       "  'last_names': [],\n",
       "  'initials': '',\n",
       "  'aliases': [],\n",
       "  'affiliations': [{'id': {'$oid': '65a5b6619bdb43a818ffc2ac'},\n",
       "    'name': 'Universidad de Antioquia',\n",
       "    'types': [{'source': 'ror', 'type': 'Education'},\n",
       "     {'source': 'openalex', 'type': 'education'}],\n",
       "    'start_date': -1,\n",
       "    'end_date': -1}],\n",
       "  'keywords': [],\n",
       "  'external_ids': [{'source': 'openalex',\n",
       "    'id': 'https://openalex.org/A3004370623'},\n",
       "   {'source': 'mag', 'id': 3004370623}],\n",
       "  'sex': '',\n",
       "  'marital_status': None,\n",
       "  'ranking': [],\n",
       "  'birthplace': {},\n",
       "  'birthdate': -1,\n",
       "  'degrees': [],\n",
       "  'subjects': []}]"
      ]
     },
     "execution_count": 15,
     "metadata": {},
     "output_type": "execute_result"
    }
   ],
   "source": [
    "[d for d in data if d.get('full_name')=='Diego Alejandro Restrepo Quintero']"
   ]
  },
  {
   "cell_type": "code",
   "execution_count": 17,
   "id": "d194906d-288d-4c67-8ae8-40e8fab50e26",
   "metadata": {},
   "outputs": [],
   "source": [
    "#ejemplo visualizar artículos\n",
    "data = list(db[\"works\"].find())\n",
    "data = dumps(data)\n",
    "data = json.loads(data)"
   ]
  },
  {
   "cell_type": "markdown",
   "id": "78e06755-46c8-438a-9619-02cf80c0c418",
   "metadata": {},
   "source": [
    "## Issues\n",
    "* Paso Scienti o Puntaje: Sólo los autores o coatures declarados son incluidos\n",
    "* Paso OpenAlex:\n",
    "  1. Se debe identificar el author Scienti con el autor OpenAlex (corregir la base de datos personas)\n",
    "  1. Se debe añadir los autores que falten\n",
    "  1. Se deben corregir los metados insertados por Scienti"
   ]
  },
  {
   "cell_type": "code",
   "execution_count": 18,
   "id": "2e481992-68ad-4551-8712-f7ea6a6759dc",
   "metadata": {},
   "outputs": [
    {
     "data": {
      "application/json": [
       {
        "_id": {
         "$oid": "65a5cd29dd3fc38498df978b"
        },
        "abstract": "",
        "author_count": 1,
        "authors": [
         {
          "affiliations": [
           {
            "id": {
             "$oid": "65a5bddedd3fc38498ca6e2c"
            },
            "name": "Grupo de Fenomenologia de Interacciones Fundamentales",
            "types": [
             {
              "source": "scienti",
              "type": "group"
             }
            ]
           },
           {
            "id": {
             "$oid": "65a5b6619bdb43a818ffc2ac"
            },
            "name": "University of Antioquia",
            "types": [
             {
              "source": "ror",
              "type": "Education"
             },
             {
              "source": "openalex",
              "type": "education"
             }
            ]
           }
          ],
          "full_name": "Diego Alejandro Restrepo Quintero",
          "id": {
           "$oid": "65a5be17dd3fc38498ca89b5"
          }
         }
        ],
        "bibliographic_info": {
         "end_page": "8",
         "is_open_acess": true,
         "issue": "055045",
         "open_access_status": "hybrid",
         "start_page": "1",
         "volume": "97"
        },
        "citations": [],
        "citations_by_year": [],
        "citations_count": [
         {
          "count": 25,
          "source": "openalex"
         },
         {
          "count": 5,
          "source": "wos"
         },
         {
          "count": 24,
          "source": "scholar"
         }
        ],
        "date_published": null,
        "external_ids": [
         {
          "id": "0000177733",
          "source": "COD_RH"
         },
         {
          "id": "132",
          "source": "COD_PRODUCTO"
         },
         {
          "id": "10.1103/physrevd.97.055045",
          "source": "doi"
         },
         {
          "id": "https://openalex.org/W2758844066",
          "source": "openalex"
         },
         {
          "id": "2758844066",
          "source": "mag"
         },
         {
          "id": "000428650300005",
          "source": "wos"
         },
         {
          "id": "wLolZnsKpgsJ",
          "source": "scholar"
         }
        ],
        "external_urls": [
         {
          "source": "scienti",
          "url": "http://doi.org/10.1103/PhysRevD.97.055045"
         },
         {
          "source": "oa",
          "url": "http://link.aps.org/pdf/10.1103/PhysRevD.97.055045"
         },
         {
          "source": "scholar citations",
          "url": "/scholar?cites=839369905662180032&as_sdt=2005&sciodt=0,5&hl=en"
         },
         {
          "source": "pdf",
          "url": "https://link.aps.org/pdf/10.1103/PhysRevD.97.055045"
         }
        ],
        "keywords": [],
        "ranking": [
         {
          "date": "",
          "rank": "PID-PID_C",
          "source": "scienti"
         }
        ],
        "references": [],
        "references_count": null,
        "source": {
         "id": {
          "$oid": "65a5ae159bdb43a818f6da67"
         },
         "name": "Physical review"
        },
        "subjects": [
         {
          "source": "openalex",
          "subjects": [
           {
            "id": {
             "$oid": "65a5b4549bdb43a818fe95db"
            },
            "level": 2,
            "name": "Boson"
           },
           {
            "id": {
             "$oid": "65a5b40a9bdb43a818fde24b"
            },
            "level": 2,
            "name": "Annihilation"
           },
           {
            "id": {
             "$oid": "65a5b4089bdb43a818fdd819"
            },
            "level": 1,
            "name": "Nuclear physics"
           }
          ]
         }
        ],
        "subtitle": "",
        "titles": [
         {
          "lang": "en",
          "source": "scienti",
          "title": "Vector Boson Fusion in the Inert Doublet Model"
         },
         {
          "lang": "en",
          "source": "ranking_udea",
          "title": "VECTOR BOSON FUSION IN THE INERT DOUBLET MODEL."
         },
         {
          "lang": "en",
          "source": "openalex",
          "title": "Vector boson fusion in the inert doublet model"
         },
         {
          "lang": "en",
          "source": "wos",
          "title": "Vector boson fusion in the inert doublet model"
         },
         {
          "lang": "en",
          "source": "scholar",
          "title": "Vector boson fusion in the inert doublet model"
         }
        ],
        "types": [
         {
          "source": "scienti",
          "type": "Publicado en revista especializada"
         },
         {
          "source": "scienti",
          "type": "Artículo"
         },
         {
          "source": "openalex",
          "type": "journal-article"
         },
         {
          "source": "wos",
          "type": "article"
         },
         {
          "source": "scholar",
          "type": "article"
         }
        ],
        "updated": [
         {
          "source": "scienti",
          "time": 1705364766
         },
         {
          "source": "ranking_udea",
          "time": 1705364778
         },
         {
          "source": "openalex",
          "time": 1705366461
         },
         {
          "source": "wos",
          "time": 1705366464
         },
         {
          "source": "scholar",
          "time": 1705366466
         }
        ],
        "year_published": null
       },
       {
        "_id": {
         "$oid": "65a5cd29dd3fc38498df978c"
        },
        "abstract": "",
        "author_count": 1,
        "authors": [
         {
          "affiliations": [
           {
            "id": {
             "$oid": "65a5bddedd3fc38498ca6e2c"
            },
            "name": "Grupo de Fenomenologia de Interacciones Fundamentales",
            "types": [
             {
              "source": "scienti",
              "type": "group"
             }
            ]
           },
           {
            "id": {
             "$oid": "65a5b6619bdb43a818ffc2ac"
            },
            "name": "University of Antioquia",
            "types": [
             {
              "source": "ror",
              "type": "Education"
             },
             {
              "source": "openalex",
              "type": "education"
             }
            ]
           }
          ],
          "full_name": "Diego Alejandro Restrepo Quintero",
          "id": {
           "$oid": "65a5be17dd3fc38498ca89b5"
          }
         }
        ],
        "bibliographic_info": {
         "end_page": "100",
         "is_open_acess": true,
         "open_access_status": "gold",
         "start_page": "94",
         "volume": "778"
        },
        "citations": [],
        "citations_by_year": [],
        "citations_count": [
         {
          "count": 14,
          "source": "openalex"
         },
         {
          "count": 7,
          "source": "wos"
         },
         {
          "count": 23,
          "source": "scholar"
         }
        ],
        "date_published": null,
        "external_ids": [
         {
          "id": "0000177733",
          "source": "COD_RH"
         },
         {
          "id": "133",
          "source": "COD_PRODUCTO"
         },
         {
          "id": "10.1016/j.physletb.2018.01.009",
          "source": "doi"
         },
         {
          "id": "https://openalex.org/W2742667923",
          "source": "openalex"
         },
         {
          "id": "2742667923",
          "source": "mag"
         },
         {
          "id": "000426436700015",
          "source": "wos"
         },
         {
          "id": "HueyvYdrP1UJ",
          "source": "scholar"
         }
        ],
        "external_urls": [
         {
          "source": "scienti",
          "url": "http://doi.org/10.1016/j.physletb.2018.01.009"
         },
         {
          "source": "oa",
          "url": "https://doi.org/10.1016/j.physletb.2018.01.009"
         },
         {
          "source": "scholar citations",
          "url": "/scholar?cites=6142746647504021278&as_sdt=2005&sciodt=0,5&hl=en"
         },
         {
          "source": "pdf",
          "url": "https://www.sciencedirect.com/science/article/pii/S0370269318300169"
         }
        ],
        "keywords": [],
        "ranking": [
         {
          "date": "",
          "rank": "ART-ART_A1",
          "source": "scienti"
         }
        ],
        "references": [],
        "references_count": null,
        "source": {
         "id": {
          "$oid": "65a5ae129bdb43a818f6d3bf"
         },
         "name": "Physics Letters B"
        },
        "subjects": [
         {
          "source": "openalex",
          "subjects": [
           {
            "id": {
             "$oid": "65a5b4029bdb43a818fdb154"
            },
            "level": 0,
            "name": "Physics"
           },
           {
            "id": {
             "$oid": "65a5b4019bdb43a818fda9e9"
            },
            "level": 1,
            "name": "Particle physics"
           },
           {
            "id": {
             "$oid": "65a5b4089bdb43a818fdd8ad"
            },
            "level": 2,
            "name": "Neutrino"
           },
           {
            "id": {
             "$oid": "65a5b4179bdb43a818fe1f3f"
            },
            "level": 3,
            "name": "MAJORANA"
           },
           {
            "id": {
             "$oid": "65a5b4079bdb43a818fdd486"
            },
            "level": 3,
            "name": "Lepton"
           },
           {
            "id": {
             "$oid": "65a5b4089bdb43a818fdd7b9"
            },
            "level": 2,
            "name": "Physics beyond the Standard Model"
           },
           {
            "id": {
             "$oid": "65a5b4589bdb43a818fe9af1"
            },
            "level": 2,
            "name": "Large Hadron Collider"
           },
           {
            "id": {
             "$oid": "65a5b4089bdb43a818fdd819"
            },
            "level": 1,
            "name": "Nuclear physics"
           },
           {
            "id": {
             "$oid": "65a5b41b9bdb43a818fe29e0"
            },
            "level": 2,
            "name": "Context (archaeology)"
           },
           {
            "id": {
             "$oid": "65a5b4009bdb43a818fda520"
            },
            "level": 3,
            "name": "Standard Model (mathematical formulation)"
           },
           {
            "id": {
             "$oid": "65a5b4229bdb43a818fe3eac"
            },
            "level": 3,
            "name": "Compact Muon Solenoid"
           },
           {
            "id": {
             "$oid": "65a5b4009bdb43a818fda628"
            },
            "level": 4,
            "name": "Sterile neutrino"
           },
           {
            "id": {
             "$oid": "65a5b40a9bdb43a818fde467"
            },
            "level": 2,
            "name": "Muon"
           }
          ]
         }
        ],
        "subtitle": "",
        "titles": [
         {
          "lang": "en",
          "source": "scienti",
          "title": "Expanding the Reach of Heavy Neutrino Searches at the LHC"
         },
         {
          "lang": "en",
          "source": "openalex",
          "title": "Expanding the Reach of Heavy Neutrino Searches at the LHC"
         },
         {
          "lang": "en",
          "source": "wos",
          "title": "Expanding the reach of heavy neutrino searches at the LHC"
         },
         {
          "lang": "en",
          "source": "scholar",
          "title": "Expanding the reach of heavy neutrino searches at the LHC"
         }
        ],
        "types": [
         {
          "source": "scienti",
          "type": "Publicado en revista especializada"
         },
         {
          "source": "scienti",
          "type": "Artículo"
         },
         {
          "source": "openalex",
          "type": "journal-article"
         },
         {
          "source": "wos",
          "type": "article"
         },
         {
          "source": "scholar",
          "type": "article"
         }
        ],
        "updated": [
         {
          "source": "scienti",
          "time": 1705364766
         },
         {
          "source": "openalex",
          "time": 1705366461
         },
         {
          "source": "wos",
          "time": 1705366464
         },
         {
          "source": "scholar",
          "time": 1705366466
         }
        ],
        "year_published": null
       },
       {
        "_id": {
         "$oid": "65a5cd29dd3fc38498df978d"
        },
        "abstract": "",
        "author_count": 1,
        "authors": [
         {
          "affiliations": [
           {
            "id": {
             "$oid": "65a5bddedd3fc38498ca6e2c"
            },
            "name": "Grupo de Fenomenologia de Interacciones Fundamentales",
            "types": [
             {
              "source": "scienti",
              "type": "group"
             }
            ]
           },
           {
            "id": {
             "$oid": "65a5b6619bdb43a818ffc2ac"
            },
            "name": "University of Antioquia",
            "types": [
             {
              "source": "ror",
              "type": "Education"
             },
             {
              "source": "openalex",
              "type": "education"
             }
            ]
           }
          ],
          "full_name": "Diego Alejandro Restrepo Quintero",
          "id": {
           "$oid": "65a5be17dd3fc38498ca89b5"
          }
         }
        ],
        "bibliographic_info": {
         "end_page": "035029-11",
         "is_open_acess": true,
         "issue": "3",
         "open_access_status": "hybrid",
         "start_page": "035029-1",
         "volume": "100"
        },
        "citations": [],
        "citations_by_year": [],
        "citations_count": [
         {
          "count": 17,
          "source": "openalex"
         },
         {
          "count": 1,
          "source": "wos"
         },
         {
          "count": 17,
          "source": "scholar"
         }
        ],
        "date_published": null,
        "external_ids": [
         {
          "id": "0000177733",
          "source": "COD_RH"
         },
         {
          "id": "139",
          "source": "COD_PRODUCTO"
         },
         {
          "id": "10.1103/physrevd.100.035029",
          "source": "doi"
         },
         {
          "id": "https://openalex.org/W2951068726",
          "source": "openalex"
         },
         {
          "id": "2951068726",
          "source": "mag"
         },
         {
          "id": "000482583400008",
          "source": "wos"
         },
         {
          "id": "R7BJTFZ0Bd8J",
          "source": "scholar"
         }
        ],
        "external_urls": [
         {
          "source": "scienti",
          "url": "https://doi.org/10.1103/PhysRevD.100.035029"
         },
         {
          "source": "oa",
          "url": "http://link.aps.org/pdf/10.1103/PhysRevD.100.035029"
         },
         {
          "source": "scholar citations",
          "url": "/scholar?cites=16070378759337390151&as_sdt=2005&sciodt=0,5&hl=en"
         },
         {
          "source": "pdf",
          "url": "https://link.aps.org/pdf/10.1103/PhysRevD.100.035029"
         }
        ],
        "keywords": [],
        "ranking": [
         {
          "date": "",
          "rank": "PID-PID_C",
          "source": "scienti"
         }
        ],
        "references": [],
        "references_count": null,
        "source": {
         "id": {
          "$oid": "65a5ae159bdb43a818f6da67"
         },
         "name": "Physical review"
        },
        "subjects": [
         {
          "source": "openalex",
          "subjects": [
           {
            "id": {
             "$oid": "65a5b4029bdb43a818fdb154"
            },
            "level": 0,
            "name": "Physics"
           },
           {
            "id": {
             "$oid": "65a5b4019bdb43a818fda9e9"
            },
            "level": 1,
            "name": "Particle physics"
           },
           {
            "id": {
             "$oid": "65a5b4089bdb43a818fdd8ad"
            },
            "level": 2,
            "name": "Neutrino"
           },
           {
            "id": {
             "$oid": "65a5b4059bdb43a818fdc834"
            },
            "level": 2,
            "name": "Dark matter"
           },
           {
            "id": {
             "$oid": "65a5b44e9bdb43a818fe8ad1"
            },
            "level": 3,
            "name": "Dirac (video compression format)"
           },
           {
            "id": {
             "$oid": "65a5b4079bdb43a818fdd486"
            },
            "level": 3,
            "name": "Lepton"
           },
           {
            "id": {
             "$oid": "65a5b4019bdb43a818fda91b"
            },
            "level": 3,
            "name": "Neutrino oscillation"
           },
           {
            "id": {
             "$oid": "65a5b4499bdb43a818fe836b"
            },
            "level": 2,
            "name": "Fermion"
           }
          ]
         }
        ],
        "subtitle": "",
        "titles": [
         {
          "lang": "en",
          "source": "scienti",
          "title": "Singlet-doublet Dirac dark matter and neutrino masses"
         },
         {
          "lang": "en",
          "source": "openalex",
          "title": "Singlet-doublet Dirac dark matter and neutrino masses"
         },
         {
          "lang": "en",
          "source": "wos",
          "title": "Singlet-doublet Dirac dark matter and neutrino masses"
         },
         {
          "lang": "en",
          "source": "scholar",
          "title": "Singlet-doublet Dirac dark matter and neutrino masses"
         }
        ],
        "types": [
         {
          "source": "scienti",
          "type": "Publicado en revista especializada"
         },
         {
          "source": "scienti",
          "type": "Artículo"
         },
         {
          "source": "openalex",
          "type": "journal-article"
         },
         {
          "source": "wos",
          "type": "article"
         },
         {
          "source": "scholar",
          "type": "article"
         }
        ],
        "updated": [
         {
          "source": "scienti",
          "time": 1705364766
         },
         {
          "source": "openalex",
          "time": 1705366461
         },
         {
          "source": "wos",
          "time": 1705366464
         },
         {
          "source": "scholar",
          "time": 1705366466
         }
        ],
        "year_published": null
       },
       {
        "_id": {
         "$oid": "65a5cd29dd3fc38498df978e"
        },
        "abstract": "",
        "author_count": 1,
        "authors": [
         {
          "affiliations": [
           {
            "id": {
             "$oid": "65a5bddedd3fc38498ca6e2c"
            },
            "name": "Grupo de Fenomenologia de Interacciones Fundamentales",
            "types": [
             {
              "source": "scienti",
              "type": "group"
             }
            ]
           },
           {
            "id": {
             "$oid": "65a5b6619bdb43a818ffc2ac"
            },
            "name": "University of Antioquia",
            "types": [
             {
              "source": "ror",
              "type": "Education"
             },
             {
              "source": "openalex",
              "type": "education"
             }
            ]
           }
          ],
          "full_name": "Oscar Alberto Zapata Norena",
          "id": {
           "$oid": "65a5be18dd3fc38498ca8d49"
          }
         }
        ],
        "bibliographic_info": {
         "end_page": "035004-10",
         "is_open_acess": true,
         "issue": "035004",
         "open_access_status": "hybrid",
         "start_page": "035004-1",
         "volume": "101"
        },
        "citations": [],
        "citations_by_year": [],
        "citations_count": [
         {
          "count": 14,
          "source": "openalex"
         },
         {
          "count": 0,
          "source": "wos"
         },
         {
          "count": 13,
          "source": "scholar"
         }
        ],
        "date_published": null,
        "external_ids": [
         {
          "id": "0000707619",
          "source": "COD_RH"
         },
         {
          "id": "52",
          "source": "COD_PRODUCTO"
         },
         {
          "id": "10.1103/physrevd.101.035004",
          "source": "doi"
         },
         {
          "id": "https://openalex.org/W2974772295",
          "source": "openalex"
         },
         {
          "id": "2974772295",
          "source": "mag"
         },
         {
          "id": "000511446300002",
          "source": "wos"
         },
         {
          "id": "0UBo6ZcLtU4J",
          "source": "scholar"
         }
        ],
        "external_urls": [
         {
          "source": "scienti",
          "url": "https://inspirehep.net/files/5418d90c632fd004307d586f307a226e"
         },
         {
          "source": "oa",
          "url": "https://journals.aps.org/prd/pdf/10.1103/PhysRevD.101.035004"
         },
         {
          "source": "scholar citations",
          "url": "/scholar?cites=5671452052826898641&as_sdt=2005&sciodt=0,5&hl=en"
         },
         {
          "source": "pdf",
          "url": "https://link.aps.org/pdf/10.1103/PhysRevD.101.035004"
         }
        ],
        "keywords": [],
        "ranking": [
         {
          "date": "",
          "rank": "ART-ART_A1",
          "source": "scienti"
         }
        ],
        "references": [],
        "references_count": null,
        "source": {
         "id": {
          "$oid": "65a5ae159bdb43a818f6da67"
         },
         "name": "Physical review"
        },
        "subjects": [
         {
          "source": "openalex",
          "subjects": [
           {
            "id": {
             "$oid": "65a5b4029bdb43a818fdb154"
            },
            "level": 0,
            "name": "Physics"
           },
           {
            "id": {
             "$oid": "65a5b4179bdb43a818fe1f3f"
            },
            "level": 3,
            "name": "MAJORANA"
           },
           {
            "id": {
             "$oid": "65a5b4089bdb43a818fdd8ad"
            },
            "level": 2,
            "name": "Neutrino"
           },
           {
            "id": {
             "$oid": "65a5b4019bdb43a818fda9e9"
            },
            "level": 1,
            "name": "Particle physics"
           },
           {
            "id": {
             "$oid": "65a5b44e9bdb43a818fe8ad1"
            },
            "level": 3,
            "name": "Dirac (video compression format)"
           },
           {
            "id": {
             "$oid": "65a5b4469bdb43a818fe7df4"
            },
            "level": 5,
            "name": "Majorana equation"
           }
          ]
         }
        ],
        "subtitle": "",
        "titles": [
         {
          "lang": "en",
          "source": "scienti",
          "title": "Dirac neutrino mass generation from a Majorana messenger"
         },
         {
          "lang": "en",
          "source": "openalex",
          "title": "Dirac neutrino mass generation from a Majorana messenger"
         },
         {
          "lang": "en",
          "source": "wos",
          "title": "Dirac neutrino mass generation from a Majorana messenger"
         },
         {
          "lang": null,
          "source": "scholar",
          "title": "Dirac neutrino mass generation from a Majorana messenger"
         }
        ],
        "types": [
         {
          "source": "scienti",
          "type": "Publicado en revista especializada"
         },
         {
          "source": "scienti",
          "type": "Artículo"
         },
         {
          "source": "openalex",
          "type": "journal-article"
         },
         {
          "source": "wos",
          "type": "article"
         },
         {
          "source": "scholar",
          "type": "article"
         }
        ],
        "updated": [
         {
          "source": "scienti",
          "time": 1705364766
         },
         {
          "source": "openalex",
          "time": 1705366461
         },
         {
          "source": "wos",
          "time": 1705366464
         },
         {
          "source": "scholar",
          "time": 1705366466
         }
        ],
        "year_published": null
       },
       {
        "_id": {
         "$oid": "65a5cd29dd3fc38498df978f"
        },
        "abstract": "",
        "author_count": 1,
        "authors": [
         {
          "affiliations": [
           {
            "id": {
             "$oid": "65a5bddedd3fc38498ca6e2c"
            },
            "name": "Grupo de Fenomenologia de Interacciones Fundamentales",
            "types": [
             {
              "source": "scienti",
              "type": "group"
             }
            ]
           },
           {
            "id": {
             "$oid": "65a5b6619bdb43a818ffc2ac"
            },
            "name": "University of Antioquia",
            "types": [
             {
              "source": "ror",
              "type": "Education"
             },
             {
              "source": "openalex",
              "type": "education"
             }
            ]
           }
          ],
          "full_name": "Diego Alejandro Restrepo Quintero",
          "id": {
           "$oid": "65a5be17dd3fc38498ca89b5"
          }
         }
        ],
        "bibliographic_info": {
         "end_page": "307",
         "is_open_acess": true,
         "open_access_status": "gold",
         "start_page": "303",
         "volume": "790"
        },
        "citations": [],
        "citations_by_year": [],
        "citations_count": [
         {
          "count": 22,
          "source": "openalex"
         },
         {
          "count": 3,
          "source": "wos"
         },
         {
          "count": 24,
          "source": "scholar"
         }
        ],
        "date_published": null,
        "external_ids": [
         {
          "id": "0000707619",
          "source": "COD_RH"
         },
         {
          "id": "129",
          "source": "COD_PRODUCTO"
         },
         {
          "id": "10.1016/j.physletb.2019.01.023",
          "source": "doi"
         },
         {
          "id": "https://openalex.org/W2963957043",
          "source": "openalex"
         },
         {
          "id": "2963957043",
          "source": "mag"
         },
         {
          "id": "000460118200034",
          "source": "wos"
         },
         {
          "id": "DjBfF4Xdq0kJ",
          "source": "scholar"
         }
        ],
        "external_urls": [
         {
          "source": "scienti",
          "url": "http://doi.org/10.1016/j.physletb.2019.01.023"
         },
         {
          "source": "oa",
          "url": "https://doi.org/10.1016/j.physletb.2019.01.023"
         },
         {
          "source": "scholar citations",
          "url": "/scholar?cites=5308580149478764558&as_sdt=2005&sciodt=0,5&hl=en"
         },
         {
          "source": "pdf",
          "url": "https://www.sciencedirect.com/science/article/pii/S0370269319300395"
         }
        ],
        "keywords": [],
        "ranking": [
         {
          "date": "",
          "rank": "PID-PID_C",
          "source": "scienti"
         }
        ],
        "references": [],
        "references_count": null,
        "source": {
         "id": {
          "$oid": "65a5ae129bdb43a818f6d3bf"
         },
         "name": "Physics Letters B"
        },
        "subjects": [
         {
          "source": "openalex",
          "subjects": [
           {
            "id": {
             "$oid": "65a5b4029bdb43a818fdb154"
            },
            "level": 0,
            "name": "Physics"
           },
           {
            "id": {
             "$oid": "65a5b4179bdb43a818fe1f3f"
            },
            "level": 3,
            "name": "MAJORANA"
           },
           {
            "id": {
             "$oid": "65a5b4089bdb43a818fdd8ad"
            },
            "level": 2,
            "name": "Neutrino"
           },
           {
            "id": {
             "$oid": "65a5b4019bdb43a818fda9e9"
            },
            "level": 1,
            "name": "Particle physics"
           },
           {
            "id": {
             "$oid": "65a5b4009bdb43a818fda628"
            },
            "level": 4,
            "name": "Sterile neutrino"
           },
           {
            "id": {
             "$oid": "65a5b4469bdb43a818fe7df4"
            },
            "level": 5,
            "name": "Majorana equation"
           },
           {
            "id": {
             "$oid": "65a5b4059bdb43a818fdc834"
            },
            "level": 2,
            "name": "Dark matter"
           },
           {
            "id": {
             "$oid": "65a5b4499bdb43a818fe836b"
            },
            "level": 2,
            "name": "Fermion"
           },
           {
            "id": {
             "$oid": "65a5b4019bdb43a818fda91b"
            },
            "level": 3,
            "name": "Neutrino oscillation"
           },
           {
            "id": {
             "$oid": "65a5b4079bdb43a818fdd14f"
            },
            "level": 2,
            "name": "Bound state"
           },
           {
            "id": {
             "$oid": "65a5b4079bdb43a818fdd486"
            },
            "level": 3,
            "name": "Lepton"
           }
          ]
         }
        ],
        "subtitle": "",
        "titles": [
         {
          "lang": "en",
          "source": "scienti",
          "title": "Bound-state dark matter with Majorana neutrinos"
         },
         {
          "lang": "en",
          "source": "ranking_udea",
          "title": "BOUND-STATE DARK MATTER WITH MAJORANA NEUTRINOS."
         },
         {
          "lang": "en",
          "source": "openalex",
          "title": "Bound-state dark matter with Majorana neutrinos"
         },
         {
          "lang": "en",
          "source": "wos",
          "title": "Bound-state dark matter with Majorana neutrinos"
         },
         {
          "lang": "en",
          "source": "scholar",
          "title": "Bound-state dark matter with Majorana neutrinos"
         }
        ],
        "types": [
         {
          "source": "scienti",
          "type": "Publicado en revista especializada"
         },
         {
          "source": "scienti",
          "type": "Artículo"
         },
         {
          "source": "openalex",
          "type": "journal-article"
         },
         {
          "source": "wos",
          "type": "article"
         },
         {
          "source": "scholar",
          "type": "article"
         }
        ],
        "updated": [
         {
          "source": "scienti",
          "time": 1705364766
         },
         {
          "source": "ranking_udea",
          "time": 1705364778
         },
         {
          "source": "openalex",
          "time": 1705366461
         },
         {
          "source": "wos",
          "time": 1705366463
         },
         {
          "source": "scholar",
          "time": 1705366466
         }
        ],
        "year_published": null
       },
       {
        "_id": {
         "$oid": "65a5cd29dd3fc38498df9790"
        },
        "abstract": "",
        "author_count": 1,
        "authors": [
         {
          "affiliations": [
           {
            "id": {
             "$oid": "65a5bddedd3fc38498ca6e2c"
            },
            "name": "Grupo de Fenomenologia de Interacciones Fundamentales",
            "types": [
             {
              "source": "scienti",
              "type": "group"
             }
            ]
           },
           {
            "id": {
             "$oid": "65a5b6619bdb43a818ffc2ac"
            },
            "name": "University of Antioquia",
            "types": [
             {
              "source": "ror",
              "type": "Education"
             },
             {
              "source": "openalex",
              "type": "education"
             }
            ]
           }
          ],
          "full_name": "Oscar Alberto Zapata Norena",
          "id": {
           "$oid": "65a5be18dd3fc38498ca8d49"
          }
         }
        ],
        "bibliographic_info": {
         "end_page": "9",
         "is_open_acess": true,
         "issue": "1850024",
         "open_access_status": "green",
         "start_page": "1",
         "volume": "33"
        },
        "citations": [],
        "citations_by_year": [],
        "citations_count": [
         {
          "count": 11,
          "source": "openalex"
         },
         {
          "count": 7,
          "source": "scopus"
         },
         {
          "count": 5,
          "source": "wos"
         },
         {
          "count": 15,
          "source": "scholar"
         }
        ],
        "date_published": null,
        "external_ids": [
         {
          "id": "0000707619",
          "source": "COD_RH"
         },
         {
          "id": "41",
          "source": "COD_PRODUCTO"
         },
         {
          "id": "10.1142/s0217732318500244",
          "source": "doi"
         },
         {
          "id": "https://openalex.org/W3100627084",
          "source": "openalex"
         },
         {
          "id": "3100627084",
          "source": "mag"
         },
         {
          "id": "2-s2.0-85040862223",
          "source": "scopus"
         },
         {
          "id": "000423488200007",
          "source": "wos"
         },
         {
          "id": "CoxEtYWH7qgJ",
          "source": "scholar"
         }
        ],
        "external_urls": [
         {
          "source": "scienti",
          "url": "https://www.worldscientific.com/doi/pdf/10.1142/S0217732318500244"
         },
         {
          "source": "oa",
          "url": "http://arxiv.org/pdf/1706.08240"
         },
         {
          "source": "scopus",
          "url": "https://www.scopus.com/inward/record.uri?eid=2-s2.0-85040862223&doi=10.1142%2fS0217732318500244&partnerID=40&md5=b6b843a4e108522d1ac77c5c15b1e2c6"
         },
         {
          "source": "scholar citations",
          "url": "/scholar?cites=12172815851170597898&as_sdt=2005&sciodt=0,5&hl=en"
         },
         {
          "source": "pdf",
          "url": "https://arxiv.org/pdf/1706.08240"
         }
        ],
        "keywords": [],
        "ranking": [
         {
          "date": "",
          "rank": "ART-ART_A2",
          "source": "scienti"
         }
        ],
        "references": [],
        "references_count": null,
        "source": {
         "id": {
          "$oid": "65a5ae179bdb43a818f6e0a6"
         },
         "name": "Modern Physics Letters A"
        },
        "subjects": [
         {
          "source": "openalex",
          "subjects": [
           {
            "id": {
             "$oid": "65a5b4029bdb43a818fdb154"
            },
            "level": 0,
            "name": "Physics"
           },
           {
            "id": {
             "$oid": "65a5b4019bdb43a818fda9e9"
            },
            "level": 1,
            "name": "Particle physics"
           },
           {
            "id": {
             "$oid": "65a5b4019bdb43a818fdac98"
            },
            "level": 3,
            "name": "Axion"
           },
           {
            "id": {
             "$oid": "65a5b4089bdb43a818fdd8ad"
            },
            "level": 2,
            "name": "Neutrino"
           },
           {
            "id": {
             "$oid": "65a5b4059bdb43a818fdc834"
            },
            "level": 2,
            "name": "Dark matter"
           },
           {
            "id": {
             "$oid": "65a5b4019bdb43a818fdaea8"
            },
            "level": 2,
            "name": "Quantum chromodynamics"
           },
           {
            "id": {
             "$oid": "65a5b4079bdb43a818fdd486"
            },
            "level": 3,
            "name": "Lepton"
           },
           {
            "id": {
             "$oid": "65a5b4539bdb43a818fe93e4"
            },
            "level": 2,
            "name": "Quark"
           },
           {
            "id": {
             "$oid": "65a5b4499bdb43a818fe836b"
            },
            "level": 2,
            "name": "Fermion"
           },
           {
            "id": {
             "$oid": "65a5b4009bdb43a818fda520"
            },
            "level": 3,
            "name": "Standard Model (mathematical formulation)"
           },
           {
            "id": {
             "$oid": "65a5b44d9bdb43a818fe88d8"
            },
            "level": 2,
            "name": "Scalar (mathematics)"
           },
           {
            "id": {
             "$oid": "65a5b4009bdb43a818fda628"
            },
            "level": 4,
            "name": "Sterile neutrino"
           },
           {
            "id": {
             "$oid": "65a5b4019bdb43a818fda93c"
            },
            "level": 4,
            "name": "Lepton number"
           }
          ]
         }
        ],
        "subtitle": "",
        "titles": [
         {
          "lang": "en",
          "source": "scienti",
          "title": "Anomalous leptonic U(1) symmetry: Syndetic origin of the QCD axion, weak-scale dark matter, and radiative neutrino mass"
         },
         {
          "lang": "en",
          "source": "ranking_udea",
          "title": "ANOMALOUS LEPTONIC U(1) SYMMETRY: SYNDETIC ORIGIN OF THE QCD AXION, WEAK-SCALE DARK MATTER, AND RADIATIVE NEUTRINO MASS."
         },
         {
          "lang": "en",
          "source": "openalex",
          "title": "Anomalous leptonic U(1) symmetry: Syndetic origin of the QCD axion, weak-scale dark matter, and radiative neutrino mass"
         },
         {
          "lang": "en",
          "source": "scopus",
          "title": "Anomalous leptonic U(1) symmetry: Syndetic origin of the QCD axion, weak-scale dark matter, and radiative neutrino mass"
         },
         {
          "lang": "en",
          "source": "wos",
          "title": "Anomalous leptonic U(1) symmetry: Syndetic origin of the QCD axion, weak-scale dark matter, and radiative neutrino mass"
         },
         {
          "lang": "en",
          "source": "scholar",
          "title": "Anomalous leptonic U (1) symmetry: Syndetic origin of the QCD axion, weak-scale dark matter, and radiative neutrino mass"
         }
        ],
        "types": [
         {
          "source": "scienti",
          "type": "Publicado en revista especializada"
         },
         {
          "source": "scienti",
          "type": "Artículo"
         },
         {
          "source": "openalex",
          "type": "journal-article"
         },
         {
          "source": "scopus",
          "type": "Article"
         },
         {
          "source": "wos",
          "type": "article"
         },
         {
          "source": "scholar",
          "type": "article"
         }
        ],
        "updated": [
         {
          "source": "scienti",
          "time": 1705364766
         },
         {
          "source": "ranking_udea",
          "time": 1705364778
         },
         {
          "source": "openalex",
          "time": 1705366461
         },
         {
          "source": "scopus",
          "time": 1705366462
         },
         {
          "source": "wos",
          "time": 1705366464
         },
         {
          "source": "scholar",
          "time": 1705366466
         }
        ],
        "year_published": null
       },
       {
        "_id": {
         "$oid": "65a5cd29dd3fc38498df9791"
        },
        "abstract": "",
        "author_count": 1,
        "authors": [
         {
          "affiliations": [
           {
            "id": {
             "$oid": "65a5bddedd3fc38498ca6e2c"
            },
            "name": "Grupo de Fenomenologia de Interacciones Fundamentales",
            "types": [
             {
              "source": "scienti",
              "type": "group"
             }
            ]
           },
           {
            "id": {
             "$oid": "65a5b6619bdb43a818ffc2ac"
            },
            "name": "University of Antioquia",
            "types": [
             {
              "source": "ror",
              "type": "Education"
             },
             {
              "source": "openalex",
              "type": "education"
             }
            ]
           }
          ],
          "full_name": "Diego Alejandro Restrepo Quintero",
          "id": {
           "$oid": "65a5be17dd3fc38498ca89b5"
          }
         }
        ],
        "bibliographic_info": {
         "end_page": "8",
         "is_open_acess": true,
         "issue": "055016",
         "open_access_status": "hybrid",
         "start_page": "1",
         "volume": "98"
        },
        "citations": [],
        "citations_by_year": [],
        "citations_count": [
         {
          "count": 21,
          "source": "openalex"
         },
         {
          "count": 11,
          "source": "wos"
         },
         {
          "count": 47,
          "source": "scholar"
         }
        ],
        "date_published": null,
        "external_ids": [
         {
          "id": "0000177733",
          "source": "COD_RH"
         },
         {
          "id": "130",
          "source": "COD_PRODUCTO"
         },
         {
          "id": "10.1103/physrevd.98.055016",
          "source": "doi"
         },
         {
          "id": "https://openalex.org/W2801044354",
          "source": "openalex"
         },
         {
          "id": "2801044354",
          "source": "mag"
         },
         {
          "id": "000444599100004",
          "source": "wos"
         },
         {
          "id": "FmFmJElKyH8J",
          "source": "scholar"
         }
        ],
        "external_urls": [
         {
          "source": "scienti",
          "url": "http://doi.org/10.1103/PhysRevD.98.055016"
         },
         {
          "source": "oa",
          "url": "http://link.aps.org/pdf/10.1103/PhysRevD.98.055016"
         },
         {
          "source": "scholar citations",
          "url": "/scholar?cites=9207691116162736406&as_sdt=2005&sciodt=0,5&hl=en"
         },
         {
          "source": "pdf",
          "url": "https://link.aps.org/pdf/10.1103/PhysRevD.98.055016"
         }
        ],
        "keywords": [],
        "ranking": [
         {
          "date": "",
          "rank": "ART-ART_A1",
          "source": "scienti"
         }
        ],
        "references": [],
        "references_count": null,
        "source": {
         "id": {
          "$oid": "65a5ae159bdb43a818f6da67"
         },
         "name": "Physical review"
        },
        "subjects": [
         {
          "source": "openalex",
          "subjects": [
           {
            "id": {
             "$oid": "65a5b4029bdb43a818fdb154"
            },
            "level": 0,
            "name": "Physics"
           },
           {
            "id": {
             "$oid": "65a5b4079bdb43a818fdd486"
            },
            "level": 3,
            "name": "Lepton"
           },
           {
            "id": {
             "$oid": "65a5b4019bdb43a818fda9e9"
            },
            "level": 1,
            "name": "Particle physics"
           },
           {
            "id": {
             "$oid": "65a5b4539bdb43a818fe93e4"
            },
            "level": 2,
            "name": "Quark"
           },
           {
            "id": {
             "$oid": "65a5b4199bdb43a818fe2506"
            },
            "level": 4,
            "name": "Missing energy"
           },
           {
            "id": {
             "$oid": "65a5b4589bdb43a818fe9af1"
            },
            "level": 2,
            "name": "Large Hadron Collider"
           },
           {
            "id": {
             "$oid": "65a5b4579bdb43a818fe99fd"
            },
            "level": 3,
            "name": "Charm quark"
           },
           {
            "id": {
             "$oid": "65a5b4299bdb43a818fe4d66"
            },
            "level": 2,
            "name": "Charm (quantum number)"
           },
           {
            "id": {
             "$oid": "65a5b40a9bdb43a818fde661"
            },
            "level": 2,
            "name": "Sensitivity (control systems)"
           },
           {
            "id": {
             "$oid": "65a5b4439bdb43a818fe779e"
            },
            "level": 3,
            "name": "B meson"
           },
           {
            "id": {
             "$oid": "65a5b4099bdb43a818fde120"
            },
            "level": 2,
            "name": "Meson"
           },
           {
            "id": {
             "$oid": "65a5b4089bdb43a818fdd819"
            },
            "level": 1,
            "name": "Nuclear physics"
           }
          ]
         }
        ],
        "subtitle": "",
        "titles": [
         {
          "lang": "en",
          "source": "scienti",
          "title": "Probing a simplified, $W^{\\prime}$ model of $R(D^{(\\ast)})$ anomalies using $b$-tags, $\\tau$ leptons and missing energy"
         },
         {
          "lang": "en",
          "source": "openalex",
          "title": "Probing a simplified W ′ model of R ( D ( * ) ) anomalies using b tags, τ leptons, and missing energy"
         },
         {
          "lang": "en",
          "source": "wos",
          "title": "Probing a simplified W ' model of R(D-(*())) anomalies using b tags, tau leptons, and missing energy"
         },
         {
          "lang": "en",
          "source": "scholar",
          "title": "Probing a simplified W′ model of R (D (*)) anomalies using b tags, $τ$ leptons, and missing energy"
         }
        ],
        "types": [
         {
          "source": "scienti",
          "type": "Publicado en revista especializada"
         },
         {
          "source": "scienti",
          "type": "Artículo"
         },
         {
          "source": "openalex",
          "type": "journal-article"
         },
         {
          "source": "wos",
          "type": "article"
         },
         {
          "source": "scholar",
          "type": "article"
         }
        ],
        "updated": [
         {
          "source": "scienti",
          "time": 1705364766
         },
         {
          "source": "openalex",
          "time": 1705366461
         },
         {
          "source": "wos",
          "time": 1705366464
         },
         {
          "source": "scholar",
          "time": 1705366466
         }
        ],
        "year_published": null
       },
       {
        "_id": {
         "$oid": "65a5cd29dd3fc38498df9792"
        },
        "abstract": "",
        "author_count": 1,
        "authors": [
         {
          "affiliations": [
           {
            "id": {
             "$oid": "65a5bddedd3fc38498ca6e2c"
            },
            "name": "Grupo de Fenomenologia de Interacciones Fundamentales",
            "types": [
             {
              "source": "scienti",
              "type": "group"
             }
            ]
           },
           {
            "id": {
             "$oid": "65a5b6619bdb43a818ffc2ac"
            },
            "name": "University of Antioquia",
            "types": [
             {
              "source": "ror",
              "type": "Education"
             },
             {
              "source": "openalex",
              "type": "education"
             }
            ]
           }
          ],
          "full_name": "Diego Alejandro Restrepo Quintero",
          "id": {
           "$oid": "65a5be17dd3fc38498ca89b5"
          }
         }
        ],
        "bibliographic_info": {
         "end_page": "26",
         "is_open_acess": true,
         "issue": "N/A",
         "open_access_status": "gold",
         "start_page": "1",
         "volume": "1"
        },
        "citations": [],
        "citations_by_year": [],
        "citations_count": [
         {
          "count": 6,
          "source": "openalex"
         },
         {
          "count": 15,
          "source": "scholar"
         }
        ],
        "date_published": null,
        "external_ids": [
         {
          "id": "0000177733",
          "source": "COD_RH"
         },
         {
          "id": "140",
          "source": "COD_PRODUCTO"
         },
         {
          "id": "10.1007/jhep04(2020)134",
          "source": "doi"
         },
         {
          "id": "https://openalex.org/W3099207013",
          "source": "openalex"
         },
         {
          "id": "3099207013",
          "source": "mag"
         },
         {
          "id": "2-s2.0-85083642740",
          "source": "scopus"
         },
         {
          "id": "sPHiod0jAaUJ",
          "source": "scholar"
         }
        ],
        "external_urls": [
         {
          "source": "scienti",
          "url": "https://link.springer.com/article/10.1007/JHEP04(2020)134"
         },
         {
          "source": "oa",
          "url": "https://link.springer.com/content/pdf/10.1007/JHEP04(2020)134.pdf"
         },
         {
          "source": "scopus",
          "url": "https://www.scopus.com/inward/record.uri?eid=2-s2.0-85083642740&doi=10.1007%2fJHEP04%282020%29134&partnerID=40&md5=e1bd5332a8440e225401d90181a246b5"
         },
         {
          "source": "scholar citations",
          "url": "/scholar?cites=11889823926045569456&as_sdt=2005&sciodt=0,5&hl=en"
         },
         {
          "source": "pdf",
          "url": "https://link.springer.com/content/pdf/10.1007/JHEP04(2020)134.pdf"
         }
        ],
        "keywords": [],
        "ranking": [
         {
          "date": "",
          "rank": "PID-PID_C",
          "source": "scienti"
         }
        ],
        "references": [],
        "references_count": null,
        "source": {
         "id": {
          "$oid": "65a5b19b9bdb43a818f75692"
         },
         "name": "Journal of High Energy Physics"
        },
        "subjects": [
         {
          "source": "openalex",
          "subjects": [
           {
            "id": {
             "$oid": "65a5b4029bdb43a818fdb154"
            },
            "level": 0,
            "name": "Physics"
           },
           {
            "id": {
             "$oid": "65a5b4019bdb43a818fda9e9"
            },
            "level": 1,
            "name": "Particle physics"
           },
           {
            "id": {
             "$oid": "65a5b4059bdb43a818fdc834"
            },
            "level": 2,
            "name": "Dark matter"
           },
           {
            "id": {
             "$oid": "65a5b4089bdb43a818fdd8ad"
            },
            "level": 2,
            "name": "Neutrino"
           },
           {
            "id": {
             "$oid": "65a5b40a9bdb43a818fde24b"
            },
            "level": 2,
            "name": "Annihilation"
           },
           {
            "id": {
             "$oid": "65a5b4529bdb43a818fe9263"
            },
            "level": 2,
            "name": "Parameter space"
           },
           {
            "id": {
             "$oid": "65a5b4089bdb43a818fdd8eb"
            },
            "level": 2,
            "name": "Fermi Gamma-ray Space Telescope"
           },
           {
            "id": {
             "$oid": "65a5b4069bdb43a818fdd082"
            },
            "level": 2,
            "name": "Nucleon"
           },
           {
            "id": {
             "$oid": "65a5b4079bdb43a818fdd486"
            },
            "level": 3,
            "name": "Lepton"
           },
           {
            "id": {
             "$oid": "65a5b4009bdb43a818fda520"
            },
            "level": 3,
            "name": "Standard Model (mathematical formulation)"
           },
           {
            "id": {
             "$oid": "65a5b4089bdb43a818fdd7b9"
            },
            "level": 2,
            "name": "Physics beyond the Standard Model"
           },
           {
            "id": {
             "$oid": "65a5b4439bdb43a818fe75fe"
            },
            "level": 3,
            "name": "Singlet state"
           },
           {
            "id": {
             "$oid": "65a5b4089bdb43a818fdd819"
            },
            "level": 1,
            "name": "Nuclear physics"
           }
          ]
         }
        ],
        "subtitle": "",
        "titles": [
         {
          "lang": "en",
          "source": "scienti",
          "title": "Phenomenological consistency of the singlet-triplet scotogenic model"
         },
         {
          "lang": "en",
          "source": "openalex",
          "title": "Phenomenological consistency of the singlet-triplet scotogenic model"
         },
         {
          "lang": "en",
          "source": "scopus",
          "title": "Phenomenological consistency of the singlet-triplet scotogenic model"
         },
         {
          "lang": "en",
          "source": "scholar",
          "title": "Phenomenological consistency of the singlet-triplet scotogenic model"
         }
        ],
        "types": [
         {
          "source": "scienti",
          "type": "Publicado en revista especializada"
         },
         {
          "source": "scienti",
          "type": "Artículo"
         },
         {
          "source": "openalex",
          "type": "journal-article"
         },
         {
          "source": "scopus",
          "type": "Article"
         },
         {
          "source": "scholar",
          "type": "article"
         }
        ],
        "updated": [
         {
          "source": "scienti",
          "time": 1705364766
         },
         {
          "source": "openalex",
          "time": 1705366461
         },
         {
          "source": "scopus",
          "time": 1705366462
         },
         {
          "source": "scholar",
          "time": 1705366466
         }
        ],
        "year_published": null
       },
       {
        "_id": {
         "$oid": "65a5cd2add3fc38498df9799"
        },
        "abstract": "",
        "author_count": 1,
        "authors": [
         {
          "affiliations": [
           {
            "id": {
             "$oid": "65a5b6619bdb43a818ffc2ac"
            },
            "name": "University of Antioquia",
            "types": [
             {
              "source": "ror",
              "type": "Education"
             },
             {
              "source": "openalex",
              "type": "education"
             }
            ]
           }
          ],
          "full_name": "Oscar Alberto Zapata Norena",
          "id": {
           "$oid": "65a5be18dd3fc38498ca8d49"
          }
         }
        ],
        "bibliographic_info": {
         "is_open_acess": true,
         "issue": "11",
         "open_access_status": "hybrid",
         "start_page": "115032",
         "volume": "97"
        },
        "citations": [],
        "citations_by_year": [],
        "citations_count": [
         {
          "count": 33,
          "source": "openalex"
         },
         {
          "count": 12,
          "source": "wos"
         },
         {
          "count": 41,
          "source": "scholar"
         }
        ],
        "date_published": null,
        "external_ids": [
         {
          "id": "10.1103/physrevd.97.115032",
          "source": "doi"
         },
         {
          "id": "https://openalex.org/W2795094497",
          "source": "openalex"
         },
         {
          "id": "2795094497",
          "source": "mag"
         },
         {
          "id": "000435548100003",
          "source": "wos"
         },
         {
          "id": "-SDZ0tP-mbwJ",
          "source": "scholar"
         }
        ],
        "external_urls": [
         {
          "source": "oa",
          "url": "http://link.aps.org/pdf/10.1103/PhysRevD.97.115032"
         },
         {
          "source": "scholar citations",
          "url": "/scholar?cites=13590173536296182009&as_sdt=2005&sciodt=0,5&hl=en"
         },
         {
          "source": "pdf",
          "url": "https://link.aps.org/pdf/10.1103/PhysRevD.97.115032"
         }
        ],
        "keywords": [],
        "ranking": [],
        "references": [],
        "references_count": null,
        "source": {
         "id": {
          "$oid": "65a5b19a9bdb43a818f7562b"
         },
         "name": "Physical Review D - Particles, Fields, Gravitation and Cosmology"
        },
        "subjects": [
         {
          "source": "openalex",
          "subjects": [
           {
            "id": {
             "$oid": "65a5b4029bdb43a818fdb154"
            },
            "level": 0,
            "name": "Physics"
           },
           {
            "id": {
             "$oid": "65a5b4019bdb43a818fda9e9"
            },
            "level": 1,
            "name": "Particle physics"
           },
           {
            "id": {
             "$oid": "65a5b4089bdb43a818fdd8ad"
            },
            "level": 2,
            "name": "Neutrino"
           },
           {
            "id": {
             "$oid": "65a5b4059bdb43a818fdc834"
            },
            "level": 2,
            "name": "Dark matter"
           },
           {
            "id": {
             "$oid": "65a5b4009bdb43a818fda628"
            },
            "level": 4,
            "name": "Sterile neutrino"
           },
           {
            "id": {
             "$oid": "65a5b4019bdb43a818fdacd8"
            },
            "level": 5,
            "name": "Warm dark matter"
           },
           {
            "id": {
             "$oid": "65a5b44e9bdb43a818fe8ad1"
            },
            "level": 3,
            "name": "Dirac (video compression format)"
           },
           {
            "id": {
             "$oid": "65a5b4089bdb43a818fdd819"
            },
            "level": 1,
            "name": "Nuclear physics"
           }
          ]
         }
        ],
        "subtitle": "",
        "titles": [
         {
          "lang": "en",
          "source": "ranking_udea",
          "title": "BOUND-STATE DARK MATTER AND DIRAC NEUTRINO MASSES"
         },
         {
          "lang": "en",
          "source": "openalex",
          "title": "Bound-state dark matter and Dirac neutrino masses"
         },
         {
          "lang": "en",
          "source": "wos",
          "title": "Bound-state dark matter and Dirac neutrino masses"
         },
         {
          "lang": "en",
          "source": "scholar",
          "title": "Bound-state dark matter and Dirac neutrino masses"
         }
        ],
        "types": [
         {
          "source": "openalex",
          "type": "journal-article"
         },
         {
          "source": "wos",
          "type": "article"
         },
         {
          "source": "scholar",
          "type": "article"
         }
        ],
        "updated": [
         {
          "source": "ranking_udea",
          "time": 1705364778
         },
         {
          "source": "openalex",
          "time": 1705366461
         },
         {
          "source": "wos",
          "time": 1705366464
         },
         {
          "source": "scholar",
          "time": 1705366466
         }
        ],
        "year_published": 2018
       },
       {
        "_id": {
         "$oid": "65a5cd2ddd3fc38498df97a9"
        },
        "abstract": "",
        "author_count": 4,
        "authors": [
         {
          "affiliations": [
           {
            "id": {
             "$oid": "65a5b6979bdb43a818007e73"
            },
            "name": "Universidad Antonio Nariño",
            "types": [
             {
              "source": "ror",
              "type": "Education"
             },
             {
              "source": "openalex",
              "type": "education"
             }
            ]
           }
          ],
          "full_name": "Nicolás Bernal",
          "id": {
           "$oid": "65a5c4e0dd3fc38498cacfad"
          }
         },
         {
          "affiliations": [
           {
            "id": {
             "$oid": "65a5b6619bdb43a818ffc2ac"
            },
            "name": "University of Antioquia",
            "types": [
             {
              "source": "ror",
              "type": "Education"
             },
             {
              "source": "openalex",
              "type": "education"
             }
            ]
           },
           {
            "id": {
             "$oid": "65a5b72c9bdb43a818027a7a"
            },
            "name": "International Centre for Theoretical Physics",
            "types": [
             {
              "source": "ror",
              "type": "Facility"
             },
             {
              "source": "openalex",
              "type": "facility"
             }
            ]
           }
          ],
          "full_name": "Diego Restrepo",
          "id": {
           "$oid": "65a5c5ccdd3fc38498cd5220"
          }
         },
         {
          "affiliations": [
           {
            "id": {
             "$oid": "65a5b7399bdb43a81802a71a"
            },
            "name": "Pedagogical and Technological University of Colombia",
            "types": [
             {
              "source": "ror",
              "type": "Education"
             },
             {
              "source": "openalex",
              "type": "education"
             }
            ]
           }
          ],
          "full_name": "Carlos E. Yaguna",
          "id": {
           "$oid": "65a5c749dd3fc38498d0f652"
          }
         },
         {
          "affiliations": [
           {
            "id": {
             "$oid": "65a5b6619bdb43a818ffc2ac"
            },
            "name": "University of Antioquia",
            "types": [
             {
              "source": "ror",
              "type": "Education"
             },
             {
              "source": "openalex",
              "type": "education"
             }
            ]
           }
          ],
          "full_name": "Óscar Zapata",
          "id": {
           "$oid": "65a5c501dd3fc38498cb265f"
          }
         }
        ],
        "bibliographic_info": {
         "is_open_access": true,
         "issue": "1",
         "open_access_status": "hybrid",
         "start_page": "015038",
         "volume": "99"
        },
        "citations": [],
        "citations_by_year": [
         {
          "cited_by_count": 6,
          "year": 2022
         },
         {
          "cited_by_count": 10,
          "year": 2021
         },
         {
          "cited_by_count": 5,
          "year": 2020
         },
         {
          "cited_by_count": 6,
          "year": 2019
         }
        ],
        "citations_count": [
         {
          "count": 27,
          "source": "openalex"
         },
         {
          "count": 6,
          "source": "wos"
         },
         {
          "count": 34,
          "source": "scholar"
         }
        ],
        "date_published": 1548824400,
        "external_ids": [
         {
          "id": "https://openalex.org/W2886932741",
          "source": "openalex"
         },
         {
          "id": "10.1103/physrevd.99.015038",
          "source": "doi"
         },
         {
          "id": "2886932741",
          "source": "mag"
         },
         {
          "id": "000457136800007",
          "source": "wos"
         },
         {
          "id": "LgYqjQIeCnYJ",
          "source": "scholar"
         }
        ],
        "external_urls": [
         {
          "source": "oa",
          "url": "http://link.aps.org/pdf/10.1103/PhysRevD.99.015038"
         },
         {
          "source": "scholar citations",
          "url": "/scholar?cites=8505643842549712430&as_sdt=2005&sciodt=0,5&hl=en"
         },
         {
          "source": "pdf",
          "url": "https://link.aps.org/pdf/10.1103/PhysRevD.99.015038"
         }
        ],
        "keywords": [],
        "ranking": [],
        "references": [],
        "references_count": null,
        "source": {
         "id": {
          "$oid": "65a5ae159bdb43a818f6da67"
         },
         "name": "Physical review"
        },
        "subjects": [
         {
          "source": "openalex",
          "subjects": [
           {
            "id": {
             "$oid": "65a5b4029bdb43a818fdb154"
            },
            "level": 0,
            "name": "Physics"
           },
           {
            "id": {
             "$oid": "65a5b44b9bdb43a818fe8692"
            },
            "level": 2,
            "name": "Massless particle"
           },
           {
            "id": {
             "$oid": "65a5b4089bdb43a818fdd8ad"
            },
            "level": 2,
            "name": "Neutrino"
           },
           {
            "id": {
             "$oid": "65a5b4019bdb43a818fda9e9"
            },
            "level": 1,
            "name": "Particle physics"
           },
           {
            "id": {
             "$oid": "65a5b4059bdb43a818fdc834"
            },
            "level": 2,
            "name": "Dark matter"
           },
           {
            "id": {
             "$oid": "65a5b4069bdb43a818fdcdbb"
            },
            "level": 2,
            "name": "Component (thermodynamics)"
           },
           {
            "id": {
             "$oid": "65a5b4019bdb43a818fdacd8"
            },
            "level": 5,
            "name": "Warm dark matter"
           },
           {
            "id": {
             "$oid": "65a5b4089bdb43a818fdd819"
            },
            "level": 1,
            "name": "Nuclear physics"
           }
          ]
         }
        ],
        "subtitle": "",
        "titles": [
         {
          "lang": null,
          "source": "openalex",
          "title": "www.w3.org/1998/Math/MathML\" display=\"inline\"><mml:mi>B</mml:mi><mml:mo>−</mml:mo><mml:mi>L</mml:mi></mml:math> model"
         },
         {
          "lang": "en",
          "source": "wos",
          "title": "Two-component dark matter and a massless neutrino in a new B - L model"
         },
         {
          "lang": "en",
          "source": "scholar",
          "title": "Two-component dark matter and a massless neutrino in a new B- L model"
         }
        ],
        "types": [
         {
          "source": "openalex",
          "type": "journal-article"
         },
         {
          "source": "wos",
          "type": "article"
         },
         {
          "source": "scholar",
          "type": "article"
         }
        ],
        "updated": [
         {
          "source": "openalex",
          "time": 1705364778
         },
         {
          "source": "wos",
          "time": 1705366464
         },
         {
          "source": "scholar",
          "time": 1705366466
         }
        ],
        "year_published": 2019
       }
      ],
      "text/plain": [
       "<IPython.core.display.JSON object>"
      ]
     },
     "execution_count": 18,
     "metadata": {
      "application/json": {
       "expanded": false,
       "root": "root"
      }
     },
     "output_type": "execute_result"
    }
   ],
   "source": [
    "JSON(data)"
   ]
  },
  {
   "cell_type": "code",
   "execution_count": null,
   "id": "6ec654e4-43b0-4b27-a3d1-25a7667340e8",
   "metadata": {},
   "outputs": [],
   "source": []
  }
 ],
 "metadata": {
  "kernelspec": {
   "display_name": "Python 3 (ipykernel)",
   "language": "python",
   "name": "python3"
  },
  "language_info": {
   "codemirror_mode": {
    "name": "ipython",
    "version": 3
   },
   "file_extension": ".py",
   "mimetype": "text/x-python",
   "name": "python",
   "nbconvert_exporter": "python",
   "pygments_lexer": "ipython3",
   "version": "3.9.2"
  }
 },
 "nbformat": 4,
 "nbformat_minor": 5
}
