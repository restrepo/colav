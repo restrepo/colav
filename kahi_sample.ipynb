{
 "cells": [
  {
   "cell_type": "code",
   "execution_count": 59,
   "id": "8b832e69-0a05-4695-af1d-19bbbe3feca9",
   "metadata": {},
   "outputs": [],
   "source": [
    "from pymongo import MongoClient\n",
    "from bson.json_util import dumps\n",
    "import json\n",
    "from IPython.display import display, HTML, JSON"
   ]
  },
  {
   "cell_type": "code",
   "execution_count": 60,
   "id": "780fce89-f9e8-45fa-aa9c-be8b894466fc",
   "metadata": {},
   "outputs": [],
   "source": [
    "db = MongoClient()[\"kahi_test\"]\n",
    "cols = [\"affiliations\", \"person\", \"sources\", \"subjects\", \"works\"]"
   ]
  },
  {
   "cell_type": "code",
   "execution_count": 45,
   "id": "902ed439-c9ff-4fbf-b3f7-3533ebf70fc4",
   "metadata": {},
   "outputs": [],
   "source": [
    "#cargamos los datos\n",
    "for col in cols:\n",
    "    data = list(db[col].find())\n",
    "    #quitamos los ObjectIds y los pasamos a str\n",
    "    data = dumps(data)\n",
    "    #guardamos\n",
    "    with  open(f\"kahi_samples/{col}.json\",\"w\") as f:\n",
    "        f.write(data)\n",
    "        f.close()"
   ]
  },
  {
   "cell_type": "code",
   "execution_count": 46,
   "id": "405edb22-86fe-496e-ab18-f127f7f6627c",
   "metadata": {},
   "outputs": [],
   "source": [
    "#ejemplo visualizar artículos\n",
    "data = list(db[\"person\"].find())\n",
    "data = dumps(data)\n",
    "data = json.loads(data)"
   ]
  },
  {
   "cell_type": "code",
   "execution_count": 53,
   "id": "afae37ae-4160-4ea8-bb88-0cdd3daea7a7",
   "metadata": {},
   "outputs": [],
   "source": [
    "dp=data.copy()"
   ]
  },
  {
   "cell_type": "markdown",
   "id": "1e90a851-d159-4d29-9a71-dd020bd3a389",
   "metadata": {},
   "source": [
    "# Expected behaviour\n",
    "* If the DOI is in Scienti the author \"Diego Restrepo\" must be taken for the author in Scienti 'Diego Alejandro Restrepo Quintero' with id '65a56f448c84930893971610'\n",
    "* Facultad is missing there for '65a56f448c84930893971610'. This information must be taken from the talento humano database by using the cédula: 'external_ids': `[{'source': 'Cédula de Ciudadanía', 'id': '98554575'},...`"
   ]
  },
  {
   "cell_type": "code",
   "execution_count": 38,
   "id": "95ce41ba-be34-4815-9155-871ee1a01943",
   "metadata": {},
   "outputs": [
    {
     "data": {
      "text/plain": [
       "[]"
      ]
     },
     "execution_count": 38,
     "metadata": {},
     "output_type": "execute_result"
    }
   ],
   "source": [
    "[d for d in data if d.get('_id').get('$oid')=='65a5767e8c8493089399de6c']"
   ]
  },
  {
   "cell_type": "code",
   "execution_count": 39,
   "id": "fce5d1f4-ce98-475b-9bea-a6e5b3a8c7cc",
   "metadata": {},
   "outputs": [],
   "source": [
    "import re"
   ]
  },
  {
   "cell_type": "code",
   "execution_count": 58,
   "id": "6e718016-b670-4db3-91ff-ae660b87151b",
   "metadata": {},
   "outputs": [
    {
     "data": {
      "application/json": [
       {
        "_id": {
         "$oid": "65a83cc860137c69982d1073"
        },
        "affiliations": [
         {
          "end_date": -1,
          "id": {
           "$oid": "65a83b7360137c699829ac98"
          },
          "name": "Universidad de Antioquia",
          "start_date": 1027573200,
          "types": [
           {
            "source": "ror",
            "type": "Education"
           },
           {
            "source": "openalex",
            "type": "education"
           }
          ]
         },
         {
          "end_date": -1,
          "id": {
           "$oid": "65a83c9060137c69982cf43c"
          },
          "name": "Instituto de Física",
          "start_date": 1027573200,
          "types": [
           {
            "source": "staff",
            "type": "department"
           }
          ]
         },
         {
          "end_date": -1,
          "id": {
           "$oid": "65a83c9060137c69982cf438"
          },
          "name": "Facultad de Ciencias Exactas y Naturales",
          "start_date": 1027573200,
          "types": [
           {
            "source": "staff",
            "type": "faculty"
           }
          ]
         },
         {
          "end_date": -1,
          "id": {
           "$oid": "65a83c9460137c69982cf4ea"
          },
          "name": "Grupo de Fenomenologia de Interacciones Fundamentales",
          "start_date": 1451624400,
          "types": [
           {
            "source": "scienti",
            "type": "group"
           }
          ]
         }
        ],
        "aliases": [
         "restrepo quintero diego alejandro"
        ],
        "birthdate": 37429200,
        "birthplace": {
         "city": "Fredonia",
         "country": "Colombia",
         "state": "Antioquia"
        },
        "degrees": [
         {
          "date": "",
          "degree": "DOCTORADO",
          "id": "",
          "institutions": [],
          "source": "staff"
         }
        ],
        "external_ids": [
         {
          "id": "98554575",
          "source": "Cédula de Ciudadanía"
         },
         {
          "id": "0000177733",
          "source": "scienti"
         },
         {
          "id": "0000-0001-6455-5564",
          "source": "orcid"
         }
        ],
        "first_names": [
         "Diego",
         "Alejandro"
        ],
        "full_name": "Diego Alejandro Restrepo Quintero",
        "initials": "DA",
        "keywords": [],
        "last_names": [
         "Restrepo",
         "Quintero"
        ],
        "marital_status": "Married",
        "ranking": [
         {
          "date": "",
          "rank": "TITULAR",
          "source": "staff"
         },
         {
          "date": "",
          "rank": "IS",
          "source": "scienti"
         }
        ],
        "sex": "m",
        "subjects": [],
        "updated": [
         {
          "source": "staff",
          "time": 1705524424
         }
        ]
       },
       {
        "_id": {
         "$oid": "65a83cd860137c69982d25cf"
        },
        "affiliations": [],
        "aliases": [],
        "birthdate": "",
        "birthplace": {},
        "degrees": [],
        "external_ids": [
         {
          "id": "000001",
          "source": "Cédula de Ciudadanía"
         },
         {
          "id": "0001534825",
          "source": "scienti"
         }
        ],
        "first_names": [
         "Diego"
        ],
        "full_name": "Diego Restrepo",
        "initials": "D",
        "keywords": [],
        "last_names": [
         "Restrepo"
        ],
        "marital_status": null,
        "ranking": [],
        "sex": "",
        "subjects": [],
        "updated": [
         {
          "source": "scienti",
          "time": 1705524440
         }
        ]
       },
       {
        "_id": {
         "$oid": "65a8438f60137c69982d4c97"
        },
        "affiliations": [],
        "aliases": [],
        "birthdate": -1,
        "birthplace": {},
        "degrees": [],
        "external_ids": [
         {
          "id": "https://openalex.org/A4289616623",
          "source": "openalex"
         }
        ],
        "first_names": [],
        "full_name": "Diego Restrepo",
        "initials": "",
        "keywords": [],
        "last_names": [],
        "marital_status": null,
        "ranking": [],
        "sex": "",
        "subjects": [],
        "updated": [
         {
          "source": "openalex",
          "time": 1705526159
         }
        ]
       },
       {
        "_id": {
         "$oid": "65a8439260137c69982d57f5"
        },
        "affiliations": [
         {
          "end_date": -1,
          "id": {
           "$oid": "65a83c4d60137c69982c61a8"
          },
          "name": "University of Colorado Anschutz Medical Campus",
          "start_date": -1,
          "types": [
           {
            "source": "ror",
            "type": "Education"
           },
           {
            "source": "openalex",
            "type": "education"
           }
          ]
         }
        ],
        "aliases": [],
        "birthdate": -1,
        "birthplace": {},
        "degrees": [],
        "external_ids": [
         {
          "id": "https://openalex.org/A2110103959",
          "source": "openalex"
         },
         {
          "id": "0000-0002-4972-446X",
          "source": "orcid"
         },
         {
          "id": 2110103959,
          "source": "mag"
         }
        ],
        "first_names": [],
        "full_name": "Diego Restrepo",
        "initials": "",
        "keywords": [],
        "last_names": [],
        "marital_status": null,
        "ranking": [],
        "sex": "",
        "subjects": [],
        "updated": [
         {
          "source": "openalex",
          "time": 1705526162
         }
        ]
       },
       {
        "_id": {
         "$oid": "65a843c260137c69982ddeb1"
        },
        "affiliations": [
         {
          "end_date": -1,
          "id": {
           "$oid": "65a83b7360137c699829ac98"
          },
          "name": "Universidad de Antioquia",
          "start_date": -1,
          "types": [
           {
            "source": "ror",
            "type": "Education"
           },
           {
            "source": "openalex",
            "type": "education"
           }
          ]
         }
        ],
        "aliases": [],
        "birthdate": -1,
        "birthplace": {},
        "degrees": [],
        "external_ids": [
         {
          "id": "https://openalex.org/A4224864514",
          "source": "openalex"
         }
        ],
        "first_names": [],
        "full_name": "Diego Restrepo",
        "initials": "",
        "keywords": [],
        "last_names": [],
        "marital_status": null,
        "ranking": [],
        "sex": "",
        "subjects": [],
        "updated": [
         {
          "source": "openalex",
          "time": 1705526210
         }
        ]
       },
       {
        "_id": {
         "$oid": "65a8443a60137c69982f3204"
        },
        "affiliations": [
         {
          "end_date": -1,
          "id": {
           "$oid": "65a83c4d60137c69982c619c"
          },
          "name": "Universidad Nacional de Colombia",
          "start_date": -1,
          "types": [
           {
            "source": "ror",
            "type": "Education"
           },
           {
            "source": "openalex",
            "type": "education"
           }
          ]
         }
        ],
        "aliases": [],
        "birthdate": -1,
        "birthplace": {},
        "degrees": [],
        "external_ids": [
         {
          "id": "https://openalex.org/A2139653343",
          "source": "openalex"
         },
         {
          "id": 2139653343,
          "source": "mag"
         }
        ],
        "first_names": [],
        "full_name": "Diego A Restrepo",
        "initials": "",
        "keywords": [],
        "last_names": [],
        "marital_status": null,
        "ranking": [],
        "sex": "",
        "subjects": [],
        "updated": [
         {
          "source": "openalex",
          "time": 1705526330
         }
        ]
       },
       {
        "_id": {
         "$oid": "65a8447860137c69982fd8ce"
        },
        "affiliations": [
         {
          "end_date": -1,
          "id": {
           "$oid": "65a83b7060137c699829a3dc"
          },
          "name": "Universidad Estatal de Campinas",
          "start_date": -1,
          "types": [
           {
            "source": "ror",
            "type": "Education"
           },
           {
            "source": "openalex",
            "type": "education"
           }
          ]
         }
        ],
        "aliases": [],
        "birthdate": -1,
        "birthplace": {},
        "degrees": [],
        "external_ids": [
         {
          "id": "https://openalex.org/A2306595523",
          "source": "openalex"
         },
         {
          "id": "0000-0001-6455-5564",
          "source": "orcid"
         },
         {
          "id": "http://www.scopus.com/inward/authorDetails.url?authorID=7005721136&partnerID=MN8TOARS",
          "source": "scopus"
         },
         {
          "id": 2306595523,
          "source": "mag"
         }
        ],
        "first_names": [],
        "full_name": "Diego Restrepo",
        "initials": "",
        "keywords": [],
        "last_names": [],
        "marital_status": null,
        "ranking": [],
        "sex": "",
        "subjects": [],
        "updated": [
         {
          "source": "openalex",
          "time": 1705526392
         }
        ]
       },
       {
        "_id": {
         "$oid": "65a8461e60137c6998341e3c"
        },
        "affiliations": [
         {
          "end_date": -1,
          "id": {
           "$oid": "65a83b7360137c699829ac98"
          },
          "name": "Universidad de Antioquia",
          "start_date": -1,
          "types": [
           {
            "source": "ror",
            "type": "Education"
           },
           {
            "source": "openalex",
            "type": "education"
           }
          ]
         }
        ],
        "aliases": [],
        "birthdate": -1,
        "birthplace": {},
        "degrees": [],
        "external_ids": [
         {
          "id": "https://openalex.org/A4288869362",
          "source": "openalex"
         }
        ],
        "first_names": [],
        "full_name": "Diego Restrepo",
        "initials": "",
        "keywords": [],
        "last_names": [],
        "marital_status": null,
        "ranking": [],
        "sex": "",
        "subjects": [],
        "updated": [
         {
          "source": "openalex",
          "time": 1705526814
         }
        ]
       },
       {
        "_id": {
         "$oid": "65a8468560137c69983524a1"
        },
        "affiliations": [
         {
          "end_date": -1,
          "id": {
           "$oid": "65a83b7360137c699829ac98"
          },
          "name": "Universidad de Antioquia",
          "start_date": -1,
          "types": [
           {
            "source": "ror",
            "type": "Education"
           },
           {
            "source": "openalex",
            "type": "education"
           }
          ]
         }
        ],
        "aliases": [],
        "birthdate": -1,
        "birthplace": {},
        "degrees": [],
        "external_ids": [
         {
          "id": "https://openalex.org/A2989979424",
          "source": "openalex"
         },
         {
          "id": 2989979424,
          "source": "mag"
         }
        ],
        "first_names": [],
        "full_name": "Diego Restrepo-Quintero",
        "initials": "",
        "keywords": [],
        "last_names": [],
        "marital_status": null,
        "ranking": [],
        "sex": "",
        "subjects": [],
        "updated": [
         {
          "source": "openalex",
          "time": 1705526917
         }
        ]
       },
       {
        "_id": {
         "$oid": "65a8468f60137c6998353673"
        },
        "affiliations": [
         {
          "end_date": -1,
          "id": {
           "$oid": "65a83b7360137c699829ac98"
          },
          "name": "Universidad de Antioquia",
          "start_date": -1,
          "types": [
           {
            "source": "ror",
            "type": "Education"
           },
           {
            "source": "openalex",
            "type": "education"
           }
          ]
         }
        ],
        "aliases": [],
        "birthdate": -1,
        "birthplace": {},
        "degrees": [],
        "external_ids": [
         {
          "id": "https://openalex.org/A4290241673",
          "source": "openalex"
         }
        ],
        "first_names": [],
        "full_name": "Diego Restrepo",
        "initials": "",
        "keywords": [],
        "last_names": [],
        "marital_status": null,
        "ranking": [],
        "sex": "",
        "subjects": [],
        "updated": [
         {
          "source": "openalex",
          "time": 1705526927
         }
        ]
       },
       {
        "_id": {
         "$oid": "65a848da60137c69983b21fd"
        },
        "affiliations": [],
        "aliases": [],
        "birthdate": -1,
        "birthplace": {},
        "degrees": [],
        "external_ids": [
         {
          "id": "https://openalex.org/A2636235644",
          "source": "openalex"
         },
         {
          "id": 2636235644,
          "source": "mag"
         }
        ],
        "first_names": [],
        "full_name": "Diego A. Restrepo",
        "initials": "",
        "keywords": [],
        "last_names": [],
        "marital_status": null,
        "ranking": [],
        "sex": "",
        "subjects": [],
        "updated": [
         {
          "source": "openalex",
          "time": 1705527514
         }
        ]
       },
       {
        "_id": {
         "$oid": "65a8497e60137c69983cce33"
        },
        "affiliations": [
         {
          "end_date": -1,
          "id": {
           "$oid": "65a83b7360137c699829ac98"
          },
          "name": "Universidad de Antioquia",
          "start_date": -1,
          "types": [
           {
            "source": "ror",
            "type": "Education"
           },
           {
            "source": "openalex",
            "type": "education"
           }
          ]
         }
        ],
        "aliases": [],
        "birthdate": -1,
        "birthplace": {},
        "degrees": [],
        "external_ids": [
         {
          "id": "https://openalex.org/A3004370623",
          "source": "openalex"
         },
         {
          "id": 3004370623,
          "source": "mag"
         }
        ],
        "first_names": [],
        "full_name": "Diego Alejandro Restrepo Quintero",
        "initials": "",
        "keywords": [],
        "last_names": [],
        "marital_status": null,
        "ranking": [],
        "sex": "",
        "subjects": [],
        "updated": [
         {
          "source": "openalex",
          "time": 1705527678
         }
        ]
       },
       {
        "_id": {
         "$oid": "65a8498960137c69983cee94"
        },
        "affiliations": [
         {
          "end_date": -1,
          "id": {
           "$oid": "65a83c5e60137c69982c998e"
          },
          "name": "Universidad EAFIT",
          "start_date": -1,
          "types": [
           {
            "source": "ror",
            "type": "Education"
           },
           {
            "source": "openalex",
            "type": "education"
           }
          ]
         }
        ],
        "aliases": [],
        "birthdate": -1,
        "birthplace": {},
        "degrees": [],
        "external_ids": [
         {
          "id": "https://openalex.org/A3123793834",
          "source": "openalex"
         },
         {
          "id": 3123793834,
          "source": "mag"
         }
        ],
        "first_names": [],
        "full_name": "Diego A. Restrepo",
        "initials": "",
        "keywords": [],
        "last_names": [],
        "marital_status": null,
        "ranking": [],
        "sex": "",
        "subjects": [],
        "updated": [
         {
          "source": "openalex",
          "time": 1705527689
         }
        ]
       },
       {
        "_id": {
         "$oid": "65a84a5a60137c69983f0e64"
        },
        "affiliations": [
         {
          "end_date": -1,
          "id": {
           "$oid": "65a83c5060137c69982c6cdf"
          },
          "name": "Universidad de los Andes",
          "start_date": -1,
          "types": [
           {
            "source": "ror",
            "type": "Education"
           },
           {
            "source": "openalex",
            "type": "education"
           }
          ]
         }
        ],
        "aliases": [],
        "birthdate": -1,
        "birthplace": {},
        "degrees": [],
        "external_ids": [
         {
          "id": "https://openalex.org/A2222954481",
          "source": "openalex"
         },
         {
          "id": 2222954481,
          "source": "mag"
         }
        ],
        "first_names": [],
        "full_name": "Diego Restrepo",
        "initials": "",
        "keywords": [],
        "last_names": [],
        "marital_status": null,
        "ranking": [],
        "sex": "",
        "subjects": [],
        "updated": [
         {
          "source": "openalex",
          "time": 1705527898
         }
        ]
       },
       {
        "_id": {
         "$oid": "65a84ab360137c69983ff362"
        },
        "affiliations": [
         {
          "end_date": -1,
          "id": {
           "$oid": "65a83baf60137c69982a71bf"
          },
          "name": "Universidad Católica de Colombia",
          "start_date": -1,
          "types": [
           {
            "source": "ror",
            "type": "Education"
           },
           {
            "source": "openalex",
            "type": "education"
           }
          ]
         }
        ],
        "aliases": [],
        "birthdate": -1,
        "birthplace": {},
        "degrees": [],
        "external_ids": [
         {
          "id": "https://openalex.org/A2616292630",
          "source": "openalex"
         },
         {
          "id": 2616292630,
          "source": "mag"
         }
        ],
        "first_names": [],
        "full_name": "Diego Antonio Restrepo",
        "initials": "",
        "keywords": [],
        "last_names": [],
        "marital_status": null,
        "ranking": [],
        "sex": "",
        "subjects": [],
        "updated": [
         {
          "source": "openalex",
          "time": 1705527987
         }
        ]
       }
      ],
      "text/plain": [
       "<IPython.core.display.JSON object>"
      ]
     },
     "execution_count": 58,
     "metadata": {
      "application/json": {
       "expanded": false,
       "root": "root"
      }
     },
     "output_type": "execute_result"
    }
   ],
   "source": [
    "#DARQ\n",
    "JSON([d for d in dp if isinstance(d.get('full_name'),str) \n",
    "            and re.search('^Diego\\s.*Restrepo',d.get('full_name')) \n",
    "            and not re.search('[ÁBFHLMOTUVx]',d.get('full_name')) \n",
    "            and not re.search('Durango',d.get('full_name'))\n",
    "            and not re.search('Quevedo',d.get('full_name'))\n",
    "            and not re.search('Afanador',d.get('full_name'))\n",
    "            and not re.search('Duque',d.get('full_name'))\n",
    "  ])"
   ]
  },
  {
   "cell_type": "code",
   "execution_count": 64,
   "id": "73de6219-ddf6-4370-9893-723c896756df",
   "metadata": {},
   "outputs": [
    {
     "data": {
      "application/json": [
       {
        "_id": {
         "$oid": "65a83cc860137c69982d1073"
        },
        "affiliations": [
         {
          "end_date": -1,
          "id": {
           "$oid": "65a83b7360137c699829ac98"
          },
          "name": "Universidad de Antioquia",
          "start_date": 1027573200,
          "types": [
           {
            "source": "ror",
            "type": "Education"
           },
           {
            "source": "openalex",
            "type": "education"
           }
          ]
         },
         {
          "end_date": -1,
          "id": {
           "$oid": "65a83c9060137c69982cf43c"
          },
          "name": "Instituto de Física",
          "start_date": 1027573200,
          "types": [
           {
            "source": "staff",
            "type": "department"
           }
          ]
         },
         {
          "end_date": -1,
          "id": {
           "$oid": "65a83c9060137c69982cf438"
          },
          "name": "Facultad de Ciencias Exactas y Naturales",
          "start_date": 1027573200,
          "types": [
           {
            "source": "staff",
            "type": "faculty"
           }
          ]
         },
         {
          "end_date": -1,
          "id": {
           "$oid": "65a83c9460137c69982cf4ea"
          },
          "name": "Grupo de Fenomenologia de Interacciones Fundamentales",
          "start_date": 1451624400,
          "types": [
           {
            "source": "scienti",
            "type": "group"
           }
          ]
         }
        ],
        "aliases": [
         "restrepo quintero diego alejandro"
        ],
        "birthdate": 37429200,
        "birthplace": {
         "city": "Fredonia",
         "country": "Colombia",
         "state": "Antioquia"
        },
        "degrees": [
         {
          "date": "",
          "degree": "DOCTORADO",
          "id": "",
          "institutions": [],
          "source": "staff"
         }
        ],
        "external_ids": [
         {
          "id": "98554575",
          "source": "Cédula de Ciudadanía"
         },
         {
          "id": "0000177733",
          "source": "scienti"
         },
         {
          "id": "0000-0001-6455-5564",
          "source": "orcid"
         }
        ],
        "first_names": [
         "Diego",
         "Alejandro"
        ],
        "full_name": "Diego Alejandro Restrepo Quintero",
        "initials": "DA",
        "keywords": [],
        "last_names": [
         "Restrepo",
         "Quintero"
        ],
        "marital_status": "Married",
        "ranking": [
         {
          "date": "",
          "rank": "TITULAR",
          "source": "staff"
         },
         {
          "date": "",
          "rank": "IS",
          "source": "scienti"
         }
        ],
        "sex": "m",
        "subjects": [],
        "updated": [
         {
          "source": "staff",
          "time": 1705524424
         }
        ]
       },
       {
        "_id": {
         "$oid": "65a8497e60137c69983cce33"
        },
        "affiliations": [
         {
          "end_date": -1,
          "id": {
           "$oid": "65a83b7360137c699829ac98"
          },
          "name": "Universidad de Antioquia",
          "start_date": -1,
          "types": [
           {
            "source": "ror",
            "type": "Education"
           },
           {
            "source": "openalex",
            "type": "education"
           }
          ]
         }
        ],
        "aliases": [],
        "birthdate": -1,
        "birthplace": {},
        "degrees": [],
        "external_ids": [
         {
          "id": "https://openalex.org/A3004370623",
          "source": "openalex"
         },
         {
          "id": 3004370623,
          "source": "mag"
         }
        ],
        "first_names": [],
        "full_name": "Diego Alejandro Restrepo Quintero",
        "initials": "",
        "keywords": [],
        "last_names": [],
        "marital_status": null,
        "ranking": [],
        "sex": "",
        "subjects": [],
        "updated": [
         {
          "source": "openalex",
          "time": 1705527678
         }
        ]
       }
      ],
      "text/plain": [
       "<IPython.core.display.JSON object>"
      ]
     },
     "execution_count": 64,
     "metadata": {
      "application/json": {
       "expanded": false,
       "root": "root"
      }
     },
     "output_type": "execute_result"
    }
   ],
   "source": [
    "JSON([d for d in dp if d.get('full_name')=='Diego Alejandro Restrepo Quintero'])"
   ]
  },
  {
   "cell_type": "code",
   "execution_count": 62,
   "id": "d194906d-288d-4c67-8ae8-40e8fab50e26",
   "metadata": {},
   "outputs": [],
   "source": [
    "#ejemplo visualizar artículos\n",
    "data = list(db[\"works\"].find())\n",
    "data = dumps(data)\n",
    "data = json.loads(data)"
   ]
  },
  {
   "cell_type": "markdown",
   "id": "78e06755-46c8-438a-9619-02cf80c0c418",
   "metadata": {},
   "source": [
    "## Issues\n",
    "* Paso Scienti o Puntaje: Sólo los autores o coatures declarados son incluidos\n",
    "* Paso OpenAlex:\n",
    "  1. Se debe identificar el author Scienti con el autor OpenAlex (corregir la base de datos personas)\n",
    "  1. Se debe añadir los autores que falten\n",
    "  1. Se deben corregir los metados insertados por Scienti"
   ]
  },
  {
   "cell_type": "code",
   "execution_count": 63,
   "id": "2e481992-68ad-4551-8712-f7ea6a6759dc",
   "metadata": {},
   "outputs": [
    {
     "data": {
      "application/json": [
       {
        "_id": {
         "$oid": "65a962f6fc88f0c62e942647"
        },
        "abstract": "",
        "author_count": 4,
        "authors": [
         {
          "affiliations": [
           {
            "id": {
             "$oid": "65a83b6960137c6998298b93"
            },
            "name": "University of Valencia",
            "types": [
             {
              "source": "ror",
              "type": "Education"
             },
             {
              "source": "openalex",
              "type": "education"
             }
            ]
           }
          ],
          "full_name": "Mario Reig",
          "id": {
           "$oid": "65a846f360137c6998363525"
          }
         },
         {
          "affiliations": [
           {
            "id": {
             "$oid": "65a83c4d60137c69982c645c"
            },
            "name": "International Centre for Theoretical Physics",
            "types": [
             {
              "source": "ror",
              "type": "Facility"
             },
             {
              "source": "openalex",
              "type": "facility"
             }
            ]
           },
           {
            "id": {
             "$oid": "65a83b7360137c699829ac98"
            },
            "name": "University of Antioquia",
            "types": [
             {
              "source": "ror",
              "type": "Education"
             },
             {
              "source": "openalex",
              "type": "education"
             }
            ]
           }
          ],
          "full_name": "Diego Alejandro Restrepo Quintero",
          "id": {
           "$oid": "65a83cc860137c69982d1073"
          }
         },
         {
          "affiliations": [
           {
            "id": {
             "$oid": "65a83b6960137c6998298b93"
            },
            "name": "University of Valencia",
            "types": [
             {
              "source": "ror",
              "type": "Education"
             },
             {
              "source": "openalex",
              "type": "education"
             }
            ]
           }
          ],
          "full_name": "José W. F. Valle",
          "id": {
           "$oid": "65a8453760137c699831bb9e"
          }
         },
         {
          "affiliations": [
           {
            "id": {
             "$oid": "65a83b7360137c699829ac98"
            },
            "name": "University of Antioquia",
            "types": [
             {
              "source": "ror",
              "type": "Education"
             },
             {
              "source": "openalex",
              "type": "education"
             }
            ]
           }
          ],
          "full_name": "Oscar Alberto Zapata Norena",
          "id": {
           "$oid": "65a83cc960137c69982d1407"
          }
         }
        ],
        "bibliographic_info": {
         "end_page": "307",
         "is_open_access": true,
         "open_access_status": "gold",
         "start_page": "303",
         "volume": "790"
        },
        "citations": [],
        "citations_by_year": [
         {
          "cited_by_count": 6,
          "year": 2021
         },
         {
          "cited_by_count": 11,
          "year": 2020
         },
         {
          "cited_by_count": 4,
          "year": 2019
         },
         {
          "cited_by_count": 1,
          "year": 2018
         }
        ],
        "citations_count": [
         {
          "count": 22,
          "source": "openalex"
         },
         {
          "count": 3,
          "source": "wos"
         },
         {
          "count": 24,
          "source": "scholar"
         }
        ],
        "date_published": 1548219600,
        "external_ids": [
         {
          "id": "https://openalex.org/W2963957043",
          "source": "openalex"
         },
         {
          "id": "10.1016/j.physletb.2019.01.023",
          "source": "doi"
         },
         {
          "id": "2963957043",
          "source": "mag"
         },
         {
          "id": "0000707619",
          "source": "COD_RH"
         },
         {
          "id": "129",
          "source": "COD_PRODUCTO"
         },
         {
          "id": "000460118200034",
          "source": "wos"
         },
         {
          "id": "DjBfF4Xdq0kJ",
          "source": "scholar"
         }
        ],
        "external_urls": [
         {
          "source": "oa",
          "url": "https://doi.org/10.1016/j.physletb.2019.01.023"
         },
         {
          "source": "scienti",
          "url": "http://doi.org/10.1016/j.physletb.2019.01.023"
         },
         {
          "source": "scholar citations",
          "url": "/scholar?cites=5308580149478764558&as_sdt=2005&sciodt=0,5&hl=en"
         },
         {
          "source": "pdf",
          "url": "https://www.sciencedirect.com/science/article/pii/S0370269319300395"
         }
        ],
        "keywords": [],
        "ranking": [],
        "references": [],
        "references_count": null,
        "source": {
         "id": {
          "$oid": "65a8330560137c699820bda4"
         },
         "name": "Physics Letters B"
        },
        "subjects": [
         {
          "source": "openalex",
          "subjects": [
           {
            "id": {
             "$oid": "65a8390860137c6998279b39"
            },
            "level": 0,
            "name": "Physics"
           },
           {
            "id": {
             "$oid": "65a8391f60137c6998280924"
            },
            "level": 3,
            "name": "MAJORANA"
           },
           {
            "id": {
             "$oid": "65a8390f60137c699827c292"
            },
            "level": 2,
            "name": "Neutrino"
           },
           {
            "id": {
             "$oid": "65a8390760137c69982793ce"
            },
            "level": 1,
            "name": "Particle physics"
           },
           {
            "id": {
             "$oid": "65a8390760137c699827900d"
            },
            "level": 4,
            "name": "Sterile neutrino"
           },
           {
            "id": {
             "$oid": "65a8394960137c69982867d9"
            },
            "level": 5,
            "name": "Majorana equation"
           },
           {
            "id": {
             "$oid": "65a8390b60137c699827b219"
            },
            "level": 2,
            "name": "Dark matter"
           },
           {
            "id": {
             "$oid": "65a8394c60137c6998286d50"
            },
            "level": 2,
            "name": "Fermion"
           },
           {
            "id": {
             "$oid": "65a8390760137c6998279300"
            },
            "level": 3,
            "name": "Neutrino oscillation"
           },
           {
            "id": {
             "$oid": "65a8390d60137c699827bb34"
            },
            "level": 2,
            "name": "Bound state"
           },
           {
            "id": {
             "$oid": "65a8390e60137c699827be6b"
            },
            "level": 3,
            "name": "Lepton"
           }
          ]
         }
        ],
        "subtitle": "",
        "titles": [
         {
          "lang": "en",
          "source": "openalex",
          "title": "Bound-state dark matter with Majorana neutrinos"
         },
         {
          "lang": "en",
          "source": "ranking_udea",
          "title": "BOUND-STATE DARK MATTER WITH MAJORANA NEUTRINOS."
         },
         {
          "lang": "en",
          "source": "wos",
          "title": "Bound-state dark matter with Majorana neutrinos"
         },
         {
          "lang": "en",
          "source": "scholar",
          "title": "Bound-state dark matter with Majorana neutrinos"
         }
        ],
        "types": [
         {
          "source": "openalex",
          "type": "journal-article"
         },
         {
          "source": "scienti",
          "type": "Publicado en revista especializada"
         },
         {
          "source": "scienti",
          "type": "Artículo"
         },
         {
          "source": "wos",
          "type": "article"
         },
         {
          "source": "scholar",
          "type": "article"
         }
        ],
        "updated": [
         {
          "source": "openalex",
          "time": 1705599719
         },
         {
          "source": "scienti",
          "time": 1705599737
         },
         {
          "source": "ranking_udea",
          "time": 1705599739
         },
         {
          "source": "wos",
          "time": 1705599743
         },
         {
          "source": "scholar",
          "time": 1705599746
         }
        ],
        "year_published": 2019
       },
       {
        "_id": {
         "$oid": "65a962f6fc88f0c62e942648"
        },
        "abstract": "",
        "author_count": 4,
        "authors": [
         {
          "affiliations": [
           {
            "id": {
             "$oid": "65a83b6960137c6998298b93"
            },
            "name": "University of Valencia",
            "types": [
             {
              "source": "ror",
              "type": "Education"
             },
             {
              "source": "openalex",
              "type": "education"
             }
            ]
           }
          ],
          "full_name": "Mario Reig",
          "id": {
           "$oid": "65a846f360137c6998363525"
          }
         },
         {
          "affiliations": [
           {
            "id": {
             "$oid": "65a83b7360137c699829ac98"
            },
            "name": "University of Antioquia",
            "types": [
             {
              "source": "ror",
              "type": "Education"
             },
             {
              "source": "openalex",
              "type": "education"
             }
            ]
           }
          ],
          "full_name": "Diego Alejandro Restrepo Quintero",
          "id": {
           "$oid": "65a83cc860137c69982d1073"
          }
         },
         {
          "affiliations": [
           {
            "id": {
             "$oid": "65a83b6960137c6998298b93"
            },
            "name": "University of Valencia",
            "types": [
             {
              "source": "ror",
              "type": "Education"
             },
             {
              "source": "openalex",
              "type": "education"
             }
            ]
           }
          ],
          "full_name": "José W. F. Valle",
          "id": {
           "$oid": "65a8453760137c699831bb9e"
          }
         },
         {
          "affiliations": [
           {
            "id": {
             "$oid": "65a83b7360137c699829ac98"
            },
            "name": "University of Antioquia",
            "types": [
             {
              "source": "ror",
              "type": "Education"
             },
             {
              "source": "openalex",
              "type": "education"
             }
            ]
           }
          ],
          "full_name": "Oscar Alberto Zapata Norena",
          "id": {
           "$oid": "65a83cc960137c69982d1407"
          }
         }
        ],
        "bibliographic_info": {
         "is_open_access": true,
         "issue": "11",
         "open_access_status": "hybrid",
         "start_page": "115032",
         "volume": "97"
        },
        "citations": [],
        "citations_by_year": [
         {
          "cited_by_count": 3,
          "year": 2022
         },
         {
          "cited_by_count": 6,
          "year": 2021
         },
         {
          "cited_by_count": 9,
          "year": 2020
         },
         {
          "cited_by_count": 11,
          "year": 2019
         },
         {
          "cited_by_count": 4,
          "year": 2018
         }
        ],
        "citations_count": [
         {
          "count": 33,
          "source": "openalex"
         },
         {
          "count": 12,
          "source": "wos"
         },
         {
          "count": 41,
          "source": "scholar"
         }
        ],
        "date_published": 1529384400,
        "external_ids": [
         {
          "id": "https://openalex.org/W2795094497",
          "source": "openalex"
         },
         {
          "id": "10.1103/physrevd.97.115032",
          "source": "doi"
         },
         {
          "id": "2795094497",
          "source": "mag"
         },
         {
          "id": "000435548100003",
          "source": "wos"
         },
         {
          "id": "-SDZ0tP-mbwJ",
          "source": "scholar"
         }
        ],
        "external_urls": [
         {
          "source": "oa",
          "url": "http://link.aps.org/pdf/10.1103/PhysRevD.97.115032"
         },
         {
          "source": "scholar citations",
          "url": "/scholar?cites=13590173536296182009&as_sdt=2005&sciodt=0,5&hl=en"
         },
         {
          "source": "pdf",
          "url": "https://link.aps.org/pdf/10.1103/PhysRevD.97.115032"
         }
        ],
        "keywords": [],
        "ranking": [],
        "references": [],
        "references_count": null,
        "source": {
         "id": {
          "$oid": "65a838ab60137c699826e652"
         },
         "name": "Physical Review D"
        },
        "subjects": [
         {
          "source": "openalex",
          "subjects": [
           {
            "id": {
             "$oid": "65a8390860137c6998279b39"
            },
            "level": 0,
            "name": "Physics"
           },
           {
            "id": {
             "$oid": "65a8390760137c69982793ce"
            },
            "level": 1,
            "name": "Particle physics"
           },
           {
            "id": {
             "$oid": "65a8390f60137c699827c292"
            },
            "level": 2,
            "name": "Neutrino"
           },
           {
            "id": {
             "$oid": "65a8390b60137c699827b219"
            },
            "level": 2,
            "name": "Dark matter"
           },
           {
            "id": {
             "$oid": "65a8390760137c699827900d"
            },
            "level": 4,
            "name": "Sterile neutrino"
           },
           {
            "id": {
             "$oid": "65a8390760137c69982796bd"
            },
            "level": 5,
            "name": "Warm dark matter"
           },
           {
            "id": {
             "$oid": "65a8395060137c69982874b6"
            },
            "level": 3,
            "name": "Dirac (video compression format)"
           },
           {
            "id": {
             "$oid": "65a8390f60137c699827c1fe"
            },
            "level": 1,
            "name": "Nuclear physics"
           }
          ]
         }
        ],
        "subtitle": "",
        "titles": [
         {
          "lang": "en",
          "source": "openalex",
          "title": "Bound-state dark matter and Dirac neutrino masses"
         },
         {
          "lang": "en",
          "source": "ranking_udea",
          "title": "BOUND-STATE DARK MATTER AND DIRAC NEUTRINO MASSES"
         },
         {
          "lang": "en",
          "source": "wos",
          "title": "Bound-state dark matter and Dirac neutrino masses"
         },
         {
          "lang": "en",
          "source": "scholar",
          "title": "Bound-state dark matter and Dirac neutrino masses"
         }
        ],
        "types": [
         {
          "source": "openalex",
          "type": "journal-article"
         },
         {
          "source": "wos",
          "type": "article"
         },
         {
          "source": "scholar",
          "type": "article"
         }
        ],
        "updated": [
         {
          "source": "openalex",
          "time": 1705599719
         },
         {
          "source": "ranking_udea",
          "time": 1705599740
         },
         {
          "source": "wos",
          "time": 1705599743
         },
         {
          "source": "scholar",
          "time": 1705599746
         }
        ],
        "year_published": 2018
       },
       {
        "_id": {
         "$oid": "65a962f6fc88f0c62e942649"
        },
        "abstract": "",
        "author_count": 3,
        "authors": [
         {
          "affiliations": [
           {
            "id": {
             "$oid": "65a83b7360137c699829ac98"
            },
            "name": "University of Antioquia",
            "types": [
             {
              "source": "ror",
              "type": "Education"
             },
             {
              "source": "openalex",
              "type": "education"
             }
            ]
           }
          ],
          "full_name": "Julián Calle",
          "id": {
           "$oid": "65a844f760137c6998311cf8"
          }
         },
         {
          "affiliations": [
           {
            "id": {
             "$oid": "65a83b7360137c699829ac98"
            },
            "name": "University of Antioquia",
            "types": [
             {
              "source": "ror",
              "type": "Education"
             },
             {
              "source": "openalex",
              "type": "education"
             }
            ]
           },
           {
            "id": {
             "$oid": "65a83b7060137c699829a489"
            },
            "name": "Federal University of Rio Grande do Norte",
            "types": [
             {
              "source": "ror",
              "type": "Education"
             },
             {
              "source": "openalex",
              "type": "education"
             }
            ]
           }
          ],
          "full_name": "Diego Alejandro Restrepo Quintero",
          "id": {
           "$oid": "65a83cc860137c69982d1073"
          }
         },
         {
          "affiliations": [
           {
            "id": {
             "$oid": "65a83c4d60137c69982c645c"
            },
            "name": "International Centre for Theoretical Physics",
            "types": [
             {
              "source": "ror",
              "type": "Facility"
             },
             {
              "source": "openalex",
              "type": "facility"
             }
            ]
           },
           {
            "id": {
             "$oid": "65a83b7360137c699829ac98"
            },
            "name": "University of Antioquia",
            "types": [
             {
              "source": "ror",
              "type": "Education"
             },
             {
              "source": "openalex",
              "type": "education"
             }
            ]
           }
          ],
          "full_name": "Oscar Alberto Zapata Norena",
          "id": {
           "$oid": "65a83cc960137c69982d1407"
          }
         }
        ],
        "bibliographic_info": {
         "is_open_access": true,
         "issue": "3",
         "open_access_status": "hybrid",
         "start_page": "035004",
         "volume": "101"
        },
        "citations": [],
        "citations_by_year": [
         {
          "cited_by_count": 2,
          "year": 2022
         },
         {
          "cited_by_count": 6,
          "year": 2021
         },
         {
          "cited_by_count": 6,
          "year": 2020
         },
         {
          "cited_by_count": 1,
          "year": 2019
         }
        ],
        "citations_count": [
         {
          "count": 14,
          "source": "openalex"
         },
         {
          "count": 0,
          "source": "wos"
         },
         {
          "count": 13,
          "source": "scholar"
         }
        ],
        "date_published": 1580965200,
        "external_ids": [
         {
          "id": "https://openalex.org/W2974772295",
          "source": "openalex"
         },
         {
          "id": "10.1103/physrevd.101.035004",
          "source": "doi"
         },
         {
          "id": "2974772295",
          "source": "mag"
         },
         {
          "id": "0000707619",
          "source": "COD_RH"
         },
         {
          "id": "52",
          "source": "COD_PRODUCTO"
         },
         {
          "id": "000511446300002",
          "source": "wos"
         },
         {
          "id": "0UBo6ZcLtU4J",
          "source": "scholar"
         }
        ],
        "external_urls": [
         {
          "source": "oa",
          "url": "https://journals.aps.org/prd/pdf/10.1103/PhysRevD.101.035004"
         },
         {
          "source": "scienti",
          "url": "https://inspirehep.net/files/5418d90c632fd004307d586f307a226e"
         },
         {
          "source": "scholar citations",
          "url": "/scholar?cites=5671452052826898641&as_sdt=2005&sciodt=0,5&hl=en"
         },
         {
          "source": "pdf",
          "url": "https://link.aps.org/pdf/10.1103/PhysRevD.101.035004"
         }
        ],
        "keywords": [],
        "ranking": [],
        "references": [],
        "references_count": null,
        "source": {
         "id": {
          "$oid": "65a8330860137c699820c44c"
         },
         "name": "Physical review"
        },
        "subjects": [
         {
          "source": "openalex",
          "subjects": [
           {
            "id": {
             "$oid": "65a8390860137c6998279b39"
            },
            "level": 0,
            "name": "Physics"
           },
           {
            "id": {
             "$oid": "65a8391f60137c6998280924"
            },
            "level": 3,
            "name": "MAJORANA"
           },
           {
            "id": {
             "$oid": "65a8390f60137c699827c292"
            },
            "level": 2,
            "name": "Neutrino"
           },
           {
            "id": {
             "$oid": "65a8390760137c69982793ce"
            },
            "level": 1,
            "name": "Particle physics"
           },
           {
            "id": {
             "$oid": "65a8395060137c69982874b6"
            },
            "level": 3,
            "name": "Dirac (video compression format)"
           },
           {
            "id": {
             "$oid": "65a8394960137c69982867d9"
            },
            "level": 5,
            "name": "Majorana equation"
           }
          ]
         }
        ],
        "subtitle": "",
        "titles": [
         {
          "lang": null,
          "source": "openalex",
          "title": "Dirac neutrino mass generation from a Majorana messenger"
         },
         {
          "lang": null,
          "source": "wos",
          "title": "Dirac neutrino mass generation from a Majorana messenger"
         },
         {
          "lang": null,
          "source": "scholar",
          "title": "Dirac neutrino mass generation from a Majorana messenger"
         }
        ],
        "types": [
         {
          "source": "openalex",
          "type": "journal-article"
         },
         {
          "source": "scienti",
          "type": "Publicado en revista especializada"
         },
         {
          "source": "scienti",
          "type": "Artículo"
         },
         {
          "source": "wos",
          "type": "article"
         },
         {
          "source": "scholar",
          "type": "article"
         }
        ],
        "updated": [
         {
          "source": "openalex",
          "time": 1705599719
         },
         {
          "source": "scienti",
          "time": 1705599737
         },
         {
          "source": "wos",
          "time": 1705599743
         },
         {
          "source": "scholar",
          "time": 1705599745
         }
        ],
        "year_published": 2020
       },
       {
        "_id": {
         "$oid": "65a962f6fc88f0c62e94264a"
        },
        "abstract": "",
        "author_count": 4,
        "authors": [
         {
          "affiliations": [
           {
            "id": {
             "$oid": "65a83b6d60137c6998299aa2"
            },
            "name": "Texas A&M University",
            "types": [
             {
              "source": "ror",
              "type": "Education"
             },
             {
              "source": "openalex",
              "type": "education"
             }
            ]
           }
          ],
          "full_name": "Bhaskar Dutta",
          "id": {
           "$oid": "65a844c660137c699830a0ee"
          }
         },
         {
          "affiliations": [
           {
            "id": {
             "$oid": "65a83b7360137c699829ac98"
            },
            "name": "University of Antioquia",
            "types": [
             {
              "source": "ror",
              "type": "Education"
             },
             {
              "source": "openalex",
              "type": "education"
             }
            ]
           }
          ],
          "full_name": "Guillermo Palacio",
          "id": {
           "$oid": "65a8457e60137c6998327ae6"
          }
         },
         {
          "affiliations": [
           {
            "id": {
             "$oid": "65a83b7360137c699829ac98"
            },
            "name": "University of Antioquia",
            "types": [
             {
              "source": "ror",
              "type": "Education"
             },
             {
              "source": "openalex",
              "type": "education"
             }
            ]
           }
          ],
          "full_name": "Diego Alejandro Restrepo Quintero",
          "id": {
           "$oid": "65a83cc860137c69982d1073"
          }
         },
         {
          "affiliations": [
           {
            "id": {
             "$oid": "65a83c5060137c69982c6cdf"
            },
            "name": "Universidad de Los Andes",
            "types": [
             {
              "source": "ror",
              "type": "Education"
             },
             {
              "source": "openalex",
              "type": "education"
             }
            ]
           }
          ],
          "full_name": "José D. Ruiz-Álvarez",
          "id": {
           "$oid": "65a8476660137c6998375ecf"
          }
         }
        ],
        "bibliographic_info": {
         "is_open_access": true,
         "issue": "5",
         "open_access_status": "hybrid",
         "start_page": "055045",
         "volume": "97"
        },
        "citations": [],
        "citations_by_year": [
         {
          "cited_by_count": 10,
          "year": 2021
         },
         {
          "cited_by_count": 8,
          "year": 2020
         },
         {
          "cited_by_count": 3,
          "year": 2019
         },
         {
          "cited_by_count": 4,
          "year": 2018
         },
         {
          "cited_by_count": 1,
          "year": 2017
         }
        ],
        "citations_count": [
         {
          "count": 25,
          "source": "openalex"
         },
         {
          "count": 5,
          "source": "wos"
         },
         {
          "count": 24,
          "source": "scholar"
         }
        ],
        "date_published": 1522299600,
        "external_ids": [
         {
          "id": "https://openalex.org/W2758844066",
          "source": "openalex"
         },
         {
          "id": "10.1103/physrevd.97.055045",
          "source": "doi"
         },
         {
          "id": "2758844066",
          "source": "mag"
         },
         {
          "id": "0000177733",
          "source": "COD_RH"
         },
         {
          "id": "132",
          "source": "COD_PRODUCTO"
         },
         {
          "id": "000428650300005",
          "source": "wos"
         },
         {
          "id": "wLolZnsKpgsJ",
          "source": "scholar"
         }
        ],
        "external_urls": [
         {
          "source": "oa",
          "url": "http://link.aps.org/pdf/10.1103/PhysRevD.97.055045"
         },
         {
          "source": "scienti",
          "url": "http://doi.org/10.1103/PhysRevD.97.055045"
         },
         {
          "source": "scholar citations",
          "url": "/scholar?cites=839369905662180032&as_sdt=2005&sciodt=0,5&hl=en"
         },
         {
          "source": "pdf",
          "url": "https://link.aps.org/pdf/10.1103/PhysRevD.97.055045"
         }
        ],
        "keywords": [],
        "ranking": [],
        "references": [],
        "references_count": null,
        "source": {
         "id": {
          "$oid": "65a838ab60137c699826e652"
         },
         "name": "Physical Review D"
        },
        "subjects": [
         {
          "source": "openalex",
          "subjects": [
           {
            "id": {
             "$oid": "65a8395660137c6998287fc0"
            },
            "level": 2,
            "name": "Boson"
           },
           {
            "id": {
             "$oid": "65a8391160137c699827cc30"
            },
            "level": 2,
            "name": "Annihilation"
           },
           {
            "id": {
             "$oid": "65a8390f60137c699827c1fe"
            },
            "level": 1,
            "name": "Nuclear physics"
           }
          ]
         }
        ],
        "subtitle": "",
        "titles": [
         {
          "lang": "en",
          "source": "openalex",
          "title": "Vector boson fusion in the inert doublet model"
         },
         {
          "lang": "en",
          "source": "ranking_udea",
          "title": "VECTOR BOSON FUSION IN THE INERT DOUBLET MODEL."
         },
         {
          "lang": "en",
          "source": "wos",
          "title": "Vector boson fusion in the inert doublet model"
         },
         {
          "lang": "en",
          "source": "scholar",
          "title": "Vector boson fusion in the inert doublet model"
         }
        ],
        "types": [
         {
          "source": "openalex",
          "type": "journal-article"
         },
         {
          "source": "scienti",
          "type": "Publicado en revista especializada"
         },
         {
          "source": "scienti",
          "type": "Artículo"
         },
         {
          "source": "wos",
          "type": "article"
         },
         {
          "source": "scholar",
          "type": "article"
         }
        ],
        "updated": [
         {
          "source": "openalex",
          "time": 1705599719
         },
         {
          "source": "scienti",
          "time": 1705599737
         },
         {
          "source": "ranking_udea",
          "time": 1705599740
         },
         {
          "source": "wos",
          "time": 1705599743
         },
         {
          "source": "scholar",
          "time": 1705599746
         }
        ],
        "year_published": 2018
       },
       {
        "_id": {
         "$oid": "65a962f6fc88f0c62e94264b"
        },
        "abstract": "",
        "author_count": 3,
        "authors": [
         {
          "affiliations": [
           {
            "id": {
             "$oid": "65a83b7360137c699829ac98"
            },
            "name": "University of Antioquia",
            "types": [
             {
              "source": "ror",
              "type": "Education"
             },
             {
              "source": "openalex",
              "type": "education"
             }
            ]
           }
          ],
          "full_name": "Diego Alejandro Restrepo Quintero",
          "id": {
           "$oid": "65a83cc860137c69982d1073"
          }
         },
         {
          "affiliations": [
           {
            "id": {
             "$oid": "65a83b7360137c699829ac98"
            },
            "name": "University of Antioquia",
            "types": [
             {
              "source": "ror",
              "type": "Education"
             },
             {
              "source": "openalex",
              "type": "education"
             }
            ]
           }
          ],
          "full_name": "Andres Felipe Rivera Romero",
          "id": {
           "$oid": "65a83cd460137c69982d1cb3"
          }
         },
         {
          "affiliations": [
           {
            "id": {
             "$oid": "65a83b6b60137c699829948e"
            },
            "name": "Loyola University Chicago",
            "types": [
             {
              "source": "ror",
              "type": "Education"
             },
             {
              "source": "openalex",
              "type": "education"
             }
            ]
           }
          ],
          "full_name": "Walter Tangarife",
          "id": {
           "$oid": "65a846a260137c699835679a"
          }
         }
        ],
        "bibliographic_info": {
         "is_open_access": true,
         "issue": "3",
         "open_access_status": "hybrid",
         "start_page": "035029",
         "volume": "100"
        },
        "citations": [],
        "citations_by_year": [
         {
          "cited_by_count": 5,
          "year": 2021
         },
         {
          "cited_by_count": 9,
          "year": 2020
         },
         {
          "cited_by_count": 3,
          "year": 2019
         }
        ],
        "citations_count": [
         {
          "count": 17,
          "source": "openalex"
         },
         {
          "count": 1,
          "source": "wos"
         },
         {
          "count": 17,
          "source": "scholar"
         }
        ],
        "date_published": 1566795600,
        "external_ids": [
         {
          "id": "https://openalex.org/W2951068726",
          "source": "openalex"
         },
         {
          "id": "10.1103/physrevd.100.035029",
          "source": "doi"
         },
         {
          "id": "2951068726",
          "source": "mag"
         },
         {
          "id": "0000177733",
          "source": "COD_RH"
         },
         {
          "id": "139",
          "source": "COD_PRODUCTO"
         },
         {
          "id": "000482583400008",
          "source": "wos"
         },
         {
          "id": "R7BJTFZ0Bd8J",
          "source": "scholar"
         }
        ],
        "external_urls": [
         {
          "source": "oa",
          "url": "http://link.aps.org/pdf/10.1103/PhysRevD.100.035029"
         },
         {
          "source": "scienti",
          "url": "https://doi.org/10.1103/PhysRevD.100.035029"
         },
         {
          "source": "scholar citations",
          "url": "/scholar?cites=16070378759337390151&as_sdt=2005&sciodt=0,5&hl=en"
         },
         {
          "source": "pdf",
          "url": "https://link.aps.org/pdf/10.1103/PhysRevD.100.035029"
         }
        ],
        "keywords": [],
        "ranking": [],
        "references": [],
        "references_count": null,
        "source": {
         "id": {
          "$oid": "65a838ab60137c699826e652"
         },
         "name": "Physical Review D"
        },
        "subjects": [
         {
          "source": "openalex",
          "subjects": [
           {
            "id": {
             "$oid": "65a8390860137c6998279b39"
            },
            "level": 0,
            "name": "Physics"
           },
           {
            "id": {
             "$oid": "65a8390760137c69982793ce"
            },
            "level": 1,
            "name": "Particle physics"
           },
           {
            "id": {
             "$oid": "65a8390f60137c699827c292"
            },
            "level": 2,
            "name": "Neutrino"
           },
           {
            "id": {
             "$oid": "65a8390b60137c699827b219"
            },
            "level": 2,
            "name": "Dark matter"
           },
           {
            "id": {
             "$oid": "65a8395060137c69982874b6"
            },
            "level": 3,
            "name": "Dirac (video compression format)"
           },
           {
            "id": {
             "$oid": "65a8390e60137c699827be6b"
            },
            "level": 3,
            "name": "Lepton"
           },
           {
            "id": {
             "$oid": "65a8390760137c6998279300"
            },
            "level": 3,
            "name": "Neutrino oscillation"
           },
           {
            "id": {
             "$oid": "65a8394c60137c6998286d50"
            },
            "level": 2,
            "name": "Fermion"
           }
          ]
         }
        ],
        "subtitle": "",
        "titles": [
         {
          "lang": "en",
          "source": "openalex",
          "title": "Singlet-doublet Dirac dark matter and neutrino masses"
         },
         {
          "lang": "en",
          "source": "wos",
          "title": "Singlet-doublet Dirac dark matter and neutrino masses"
         },
         {
          "lang": "en",
          "source": "scholar",
          "title": "Singlet-doublet Dirac dark matter and neutrino masses"
         }
        ],
        "types": [
         {
          "source": "openalex",
          "type": "journal-article"
         },
         {
          "source": "scienti",
          "type": "Publicado en revista especializada"
         },
         {
          "source": "scienti",
          "type": "Artículo"
         },
         {
          "source": "wos",
          "type": "article"
         },
         {
          "source": "scholar",
          "type": "article"
         }
        ],
        "updated": [
         {
          "source": "openalex",
          "time": 1705599719
         },
         {
          "source": "scienti",
          "time": 1705599737
         },
         {
          "source": "wos",
          "time": 1705599743
         },
         {
          "source": "scholar",
          "time": 1705599745
         }
        ],
        "year_published": 2019
       },
       {
        "_id": {
         "$oid": "65a962f6fc88f0c62e94264c"
        },
        "abstract": "",
        "author_count": 4,
        "authors": [
         {
          "affiliations": [
           {
            "id": {
             "$oid": "65a83bac60137c69982a6857"
            },
            "name": "Universidad Antonio Nariño",
            "types": [
             {
              "source": "ror",
              "type": "Education"
             },
             {
              "source": "openalex",
              "type": "education"
             }
            ]
           }
          ],
          "full_name": "Nicolás Bernal",
          "id": {
           "$oid": "65a8439260137c69982d5674"
          }
         },
         {
          "affiliations": [
           {
            "id": {
             "$oid": "65a83b7360137c699829ac98"
            },
            "name": "University of Antioquia",
            "types": [
             {
              "source": "ror",
              "type": "Education"
             },
             {
              "source": "openalex",
              "type": "education"
             }
            ]
           },
           {
            "id": {
             "$oid": "65a83c4d60137c69982c645c"
            },
            "name": "International Centre for Theoretical Physics",
            "types": [
             {
              "source": "ror",
              "type": "Facility"
             },
             {
              "source": "openalex",
              "type": "facility"
             }
            ]
           }
          ],
          "full_name": "Diego Alejandro Restrepo Quintero",
          "id": {
           "$oid": "65a83cc860137c69982d1073"
          }
         },
         {
          "affiliations": [
           {
            "id": {
             "$oid": "65a83c5b60137c69982c90f7"
            },
            "name": "Pedagogical and Technological University of Colombia",
            "types": [
             {
              "source": "ror",
              "type": "Education"
             },
             {
              "source": "openalex",
              "type": "education"
             }
            ]
           }
          ],
          "full_name": "Carlos E. Yaguna",
          "id": {
           "$oid": "65a845dd60137c6998337d09"
          }
         },
         {
          "affiliations": [
           {
            "id": {
             "$oid": "65a83b7360137c699829ac98"
            },
            "name": "University of Antioquia",
            "types": [
             {
              "source": "ror",
              "type": "Education"
             },
             {
              "source": "openalex",
              "type": "education"
             }
            ]
           }
          ],
          "full_name": "Oscar Alberto Zapata Norena",
          "id": {
           "$oid": "65a83cc960137c69982d1407"
          }
         }
        ],
        "bibliographic_info": {
         "is_open_access": true,
         "issue": "1",
         "open_access_status": "hybrid",
         "start_page": "015038",
         "volume": "99"
        },
        "citations": [],
        "citations_by_year": [
         {
          "cited_by_count": 6,
          "year": 2022
         },
         {
          "cited_by_count": 10,
          "year": 2021
         },
         {
          "cited_by_count": 5,
          "year": 2020
         },
         {
          "cited_by_count": 6,
          "year": 2019
         }
        ],
        "citations_count": [
         {
          "count": 27,
          "source": "openalex"
         },
         {
          "count": 6,
          "source": "wos"
         },
         {
          "count": 34,
          "source": "scholar"
         }
        ],
        "date_published": 1548824400,
        "external_ids": [
         {
          "id": "https://openalex.org/W2886932741",
          "source": "openalex"
         },
         {
          "id": "10.1103/physrevd.99.015038",
          "source": "doi"
         },
         {
          "id": "2886932741",
          "source": "mag"
         },
         {
          "id": "000457136800007",
          "source": "wos"
         },
         {
          "id": "LgYqjQIeCnYJ",
          "source": "scholar"
         }
        ],
        "external_urls": [
         {
          "source": "oa",
          "url": "http://link.aps.org/pdf/10.1103/PhysRevD.99.015038"
         },
         {
          "source": "scholar citations",
          "url": "/scholar?cites=8505643842549712430&as_sdt=2005&sciodt=0,5&hl=en"
         },
         {
          "source": "pdf",
          "url": "https://link.aps.org/pdf/10.1103/PhysRevD.99.015038"
         }
        ],
        "keywords": [],
        "ranking": [],
        "references": [],
        "references_count": null,
        "source": {
         "id": {
          "$oid": "65a8330860137c699820c44c"
         },
         "name": "Physical review"
        },
        "subjects": [
         {
          "source": "openalex",
          "subjects": [
           {
            "id": {
             "$oid": "65a8390860137c6998279b39"
            },
            "level": 0,
            "name": "Physics"
           },
           {
            "id": {
             "$oid": "65a8394e60137c6998287077"
            },
            "level": 2,
            "name": "Massless particle"
           },
           {
            "id": {
             "$oid": "65a8390f60137c699827c292"
            },
            "level": 2,
            "name": "Neutrino"
           },
           {
            "id": {
             "$oid": "65a8390760137c69982793ce"
            },
            "level": 1,
            "name": "Particle physics"
           },
           {
            "id": {
             "$oid": "65a8390b60137c699827b219"
            },
            "level": 2,
            "name": "Dark matter"
           },
           {
            "id": {
             "$oid": "65a8390c60137c699827b7a0"
            },
            "level": 2,
            "name": "Component (thermodynamics)"
           },
           {
            "id": {
             "$oid": "65a8390760137c69982796bd"
            },
            "level": 5,
            "name": "Warm dark matter"
           },
           {
            "id": {
             "$oid": "65a8390f60137c699827c1fe"
            },
            "level": 1,
            "name": "Nuclear physics"
           }
          ]
         }
        ],
        "subtitle": "",
        "titles": [
         {
          "lang": null,
          "source": "openalex",
          "title": "www.w3.org/1998/Math/MathML\" display=\"inline\"><mml:mi>B</mml:mi><mml:mo>−</mml:mo><mml:mi>L</mml:mi></mml:math> model"
         },
         {
          "lang": "en",
          "source": "wos",
          "title": "Two-component dark matter and a massless neutrino in a new B - L model"
         },
         {
          "lang": "en",
          "source": "scholar",
          "title": "Two-component dark matter and a massless neutrino in a new B- L model"
         }
        ],
        "types": [
         {
          "source": "openalex",
          "type": "journal-article"
         },
         {
          "source": "wos",
          "type": "article"
         },
         {
          "source": "scholar",
          "type": "article"
         }
        ],
        "updated": [
         {
          "source": "openalex",
          "time": 1705599719
         },
         {
          "source": "wos",
          "time": 1705599743
         },
         {
          "source": "scholar",
          "time": 1705599745
         }
        ],
        "year_published": 2019
       },
       {
        "_id": {
         "$oid": "65a962f6fc88f0c62e94264d"
        },
        "abstract": "",
        "author_count": 5,
        "authors": [
         {
          "affiliations": [
           {
            "id": {
             "$oid": "65a83c5060137c69982c6cdf"
            },
            "name": "Universidad de Los Andes",
            "types": [
             {
              "source": "ror",
              "type": "Education"
             },
             {
              "source": "openalex",
              "type": "education"
             }
            ]
           }
          ],
          "full_name": "Carlos Florez",
          "id": {
           "$oid": "65a8448760137c6998300033"
          }
         },
         {
          "affiliations": [
           {
            "id": {
             "$oid": "65a83b6b60137c699829945c"
            },
            "name": "Vanderbilt University",
            "types": [
             {
              "source": "ror",
              "type": "Education"
             },
             {
              "source": "openalex",
              "type": "education"
             }
            ]
           }
          ],
          "full_name": "Kaiwen Gui",
          "id": {
           "$oid": "65a8476f60137c699837796f"
          }
         },
         {
          "affiliations": [
           {
            "id": {
             "$oid": "65a83b6b60137c699829945c"
            },
            "name": "Vanderbilt University",
            "types": [
             {
              "source": "ror",
              "type": "Education"
             },
             {
              "source": "openalex",
              "type": "education"
             }
            ]
           }
          ],
          "full_name": "Alfredo Gurrola",
          "id": {
           "$oid": "65a8448f60137c699830100a"
          }
         },
         {
          "affiliations": [
           {
            "id": {
             "$oid": "65a83c5060137c69982c6cdf"
            },
            "name": "Universidad de Los Andes",
            "types": [
             {
              "source": "ror",
              "type": "Education"
             },
             {
              "source": "openalex",
              "type": "education"
             }
            ]
           }
          ],
          "full_name": "Carlos Patiño",
          "id": {
           "$oid": "65a8476f60137c6998377973"
          }
         },
         {
          "affiliations": [
           {
            "id": {
             "$oid": "65a83b7360137c699829ac98"
            },
            "name": "University of Antioquia",
            "types": [
             {
              "source": "ror",
              "type": "Education"
             },
             {
              "source": "openalex",
              "type": "education"
             }
            ]
           }
          ],
          "full_name": "Diego Alejandro Restrepo Quintero",
          "id": {
           "$oid": "65a83cc860137c69982d1073"
          }
         }
        ],
        "bibliographic_info": {
         "end_page": "100",
         "is_open_access": true,
         "open_access_status": "gold",
         "start_page": "94",
         "volume": "778"
        },
        "citations": [],
        "citations_by_year": [
         {
          "cited_by_count": 1,
          "year": 2022
         },
         {
          "cited_by_count": 3,
          "year": 2021
         },
         {
          "cited_by_count": 4,
          "year": 2020
         },
         {
          "cited_by_count": 4,
          "year": 2019
         },
         {
          "cited_by_count": 2,
          "year": 2018
         }
        ],
        "citations_count": [
         {
          "count": 14,
          "source": "openalex"
         },
         {
          "count": 7,
          "source": "wos"
         },
         {
          "count": 23,
          "source": "scholar"
         }
        ],
        "date_published": 1520658000,
        "external_ids": [
         {
          "id": "https://openalex.org/W2742667923",
          "source": "openalex"
         },
         {
          "id": "10.1016/j.physletb.2018.01.009",
          "source": "doi"
         },
         {
          "id": "2742667923",
          "source": "mag"
         },
         {
          "id": "0000177733",
          "source": "COD_RH"
         },
         {
          "id": "133",
          "source": "COD_PRODUCTO"
         },
         {
          "id": "000426436700015",
          "source": "wos"
         },
         {
          "id": "HueyvYdrP1UJ",
          "source": "scholar"
         }
        ],
        "external_urls": [
         {
          "source": "oa",
          "url": "https://doi.org/10.1016/j.physletb.2018.01.009"
         },
         {
          "source": "scienti",
          "url": "http://doi.org/10.1016/j.physletb.2018.01.009"
         },
         {
          "source": "scholar citations",
          "url": "/scholar?cites=6142746647504021278&as_sdt=2005&sciodt=0,5&hl=en"
         },
         {
          "source": "pdf",
          "url": "https://www.sciencedirect.com/science/article/pii/S0370269318300169"
         }
        ],
        "keywords": [],
        "ranking": [],
        "references": [],
        "references_count": null,
        "source": {
         "id": {
          "$oid": "65a8330560137c699820bda4"
         },
         "name": "Physics Letters B"
        },
        "subjects": [
         {
          "source": "openalex",
          "subjects": [
           {
            "id": {
             "$oid": "65a8390860137c6998279b39"
            },
            "level": 0,
            "name": "Physics"
           },
           {
            "id": {
             "$oid": "65a8390760137c69982793ce"
            },
            "level": 1,
            "name": "Particle physics"
           },
           {
            "id": {
             "$oid": "65a8390f60137c699827c292"
            },
            "level": 2,
            "name": "Neutrino"
           },
           {
            "id": {
             "$oid": "65a8391f60137c6998280924"
            },
            "level": 3,
            "name": "MAJORANA"
           },
           {
            "id": {
             "$oid": "65a8390e60137c699827be6b"
            },
            "level": 3,
            "name": "Lepton"
           },
           {
            "id": {
             "$oid": "65a8390f60137c699827c19e"
            },
            "level": 2,
            "name": "Physics beyond the Standard Model"
           },
           {
            "id": {
             "$oid": "65a8395960137c69982884d6"
            },
            "level": 2,
            "name": "Large Hadron Collider"
           },
           {
            "id": {
             "$oid": "65a8390f60137c699827c1fe"
            },
            "level": 1,
            "name": "Nuclear physics"
           },
           {
            "id": {
             "$oid": "65a8392260137c69982813c5"
            },
            "level": 2,
            "name": "Context (archaeology)"
           },
           {
            "id": {
             "$oid": "65a8390660137c6998278f05"
            },
            "level": 3,
            "name": "Standard Model (mathematical formulation)"
           },
           {
            "id": {
             "$oid": "65a8392a60137c6998282891"
            },
            "level": 3,
            "name": "Compact Muon Solenoid"
           },
           {
            "id": {
             "$oid": "65a8390760137c699827900d"
            },
            "level": 4,
            "name": "Sterile neutrino"
           },
           {
            "id": {
             "$oid": "65a8391160137c699827ce4c"
            },
            "level": 2,
            "name": "Muon"
           }
          ]
         }
        ],
        "subtitle": "",
        "titles": [
         {
          "lang": "en",
          "source": "openalex",
          "title": "Expanding the Reach of Heavy Neutrino Searches at the LHC"
         },
         {
          "lang": "en",
          "source": "wos",
          "title": "Expanding the reach of heavy neutrino searches at the LHC"
         },
         {
          "lang": "en",
          "source": "scholar",
          "title": "Expanding the reach of heavy neutrino searches at the LHC"
         }
        ],
        "types": [
         {
          "source": "openalex",
          "type": "journal-article"
         },
         {
          "source": "scienti",
          "type": "Publicado en revista especializada"
         },
         {
          "source": "scienti",
          "type": "Artículo"
         },
         {
          "source": "wos",
          "type": "article"
         },
         {
          "source": "scholar",
          "type": "article"
         }
        ],
        "updated": [
         {
          "source": "openalex",
          "time": 1705599719
         },
         {
          "source": "scienti",
          "time": 1705599737
         },
         {
          "source": "wos",
          "time": 1705599743
         },
         {
          "source": "scholar",
          "time": 1705599745
         }
        ],
        "year_published": 2018
       },
       {
        "_id": {
         "$oid": "65a962f7fc88f0c62e94264e"
        },
        "abstract": "",
        "author_count": 3,
        "authors": [
         {
          "affiliations": [
           {
            "id": {
             "$oid": "65a83b6d60137c6998299afd"
            },
            "name": "University of California, Riverside",
            "types": [
             {
              "source": "ror",
              "type": "Education"
             },
             {
              "source": "openalex",
              "type": "education"
             }
            ]
           }
          ],
          "full_name": "Ernest Ma",
          "id": {
           "$oid": "65a8477c60137c69983797a2"
          }
         },
         {
          "affiliations": [
           {
            "id": {
             "$oid": "65a83b7360137c699829ac98"
            },
            "name": "University of Antioquia",
            "types": [
             {
              "source": "ror",
              "type": "Education"
             },
             {
              "source": "openalex",
              "type": "education"
             }
            ]
           }
          ],
          "full_name": "Diego Alejandro Restrepo Quintero",
          "id": {
           "$oid": "65a83cc860137c69982d1073"
          }
         },
         {
          "affiliations": [
           {
            "id": {
             "$oid": "65a83b7360137c699829ac98"
            },
            "name": "University of Antioquia",
            "types": [
             {
              "source": "ror",
              "type": "Education"
             },
             {
              "source": "openalex",
              "type": "education"
             }
            ]
           }
          ],
          "full_name": "Oscar Alberto Zapata Norena",
          "id": {
           "$oid": "65a83cc960137c69982d1407"
          }
         }
        ],
        "bibliographic_info": {
         "is_open_access": true,
         "issue": "03",
         "open_access_status": "green",
         "start_page": "1850024",
         "volume": "33"
        },
        "citations": [],
        "citations_by_year": [
         {
          "cited_by_count": 1,
          "year": 2022
         },
         {
          "cited_by_count": 4,
          "year": 2020
         },
         {
          "cited_by_count": 3,
          "year": 2019
         },
         {
          "cited_by_count": 2,
          "year": 2018
         },
         {
          "cited_by_count": 1,
          "year": 2017
         }
        ],
        "citations_count": [
         {
          "count": 11,
          "source": "openalex"
         },
         {
          "count": 7,
          "source": "scopus"
         },
         {
          "count": 5,
          "source": "wos"
         },
         {
          "count": 15,
          "source": "scholar"
         }
        ],
        "date_published": 1517202000,
        "external_ids": [
         {
          "id": "https://openalex.org/W3100627084",
          "source": "openalex"
         },
         {
          "id": "10.1142/s0217732318500244",
          "source": "doi"
         },
         {
          "id": "3100627084",
          "source": "mag"
         },
         {
          "id": "0000707619",
          "source": "COD_RH"
         },
         {
          "id": "41",
          "source": "COD_PRODUCTO"
         },
         {
          "id": "2-s2.0-85040862223",
          "source": "scopus"
         },
         {
          "id": "000423488200007",
          "source": "wos"
         },
         {
          "id": "CoxEtYWH7qgJ",
          "source": "scholar"
         }
        ],
        "external_urls": [
         {
          "source": "oa",
          "url": "http://arxiv.org/pdf/1706.08240"
         },
         {
          "source": "scienti",
          "url": "https://www.worldscientific.com/doi/pdf/10.1142/S0217732318500244"
         },
         {
          "source": "scopus",
          "url": "https://www.scopus.com/inward/record.uri?eid=2-s2.0-85040862223&doi=10.1142%2fS0217732318500244&partnerID=40&md5=b6b843a4e108522d1ac77c5c15b1e2c6"
         },
         {
          "source": "scholar citations",
          "url": "/scholar?cites=12172815851170597898&as_sdt=2005&sciodt=0,5&hl=en"
         },
         {
          "source": "pdf",
          "url": "https://arxiv.org/pdf/1706.08240"
         }
        ],
        "keywords": [],
        "ranking": [],
        "references": [],
        "references_count": null,
        "source": {
         "id": {
          "$oid": "65a8330a60137c699820ca8b"
         },
         "name": "Modern Physics Letters A"
        },
        "subjects": [
         {
          "source": "openalex",
          "subjects": [
           {
            "id": {
             "$oid": "65a8390860137c6998279b39"
            },
            "level": 0,
            "name": "Physics"
           },
           {
            "id": {
             "$oid": "65a8390760137c69982793ce"
            },
            "level": 1,
            "name": "Particle physics"
           },
           {
            "id": {
             "$oid": "65a8390760137c699827967d"
            },
            "level": 3,
            "name": "Axion"
           },
           {
            "id": {
             "$oid": "65a8390f60137c699827c292"
            },
            "level": 2,
            "name": "Neutrino"
           },
           {
            "id": {
             "$oid": "65a8390b60137c699827b219"
            },
            "level": 2,
            "name": "Dark matter"
           },
           {
            "id": {
             "$oid": "65a8390860137c699827988d"
            },
            "level": 2,
            "name": "Quantum chromodynamics"
           },
           {
            "id": {
             "$oid": "65a8390e60137c699827be6b"
            },
            "level": 3,
            "name": "Lepton"
           },
           {
            "id": {
             "$oid": "65a8395560137c6998287dc9"
            },
            "level": 2,
            "name": "Quark"
           },
           {
            "id": {
             "$oid": "65a8394c60137c6998286d50"
            },
            "level": 2,
            "name": "Fermion"
           },
           {
            "id": {
             "$oid": "65a8390660137c6998278f05"
            },
            "level": 3,
            "name": "Standard Model (mathematical formulation)"
           },
           {
            "id": {
             "$oid": "65a8394f60137c69982872bd"
            },
            "level": 2,
            "name": "Scalar (mathematics)"
           },
           {
            "id": {
             "$oid": "65a8390760137c699827900d"
            },
            "level": 4,
            "name": "Sterile neutrino"
           },
           {
            "id": {
             "$oid": "65a8390760137c6998279321"
            },
            "level": 4,
            "name": "Lepton number"
           }
          ]
         }
        ],
        "subtitle": "",
        "titles": [
         {
          "lang": "en",
          "source": "openalex",
          "title": "Anomalous leptonic U(1) symmetry: Syndetic origin of the QCD axion, weak-scale dark matter, and radiative neutrino mass"
         },
         {
          "lang": "en",
          "source": "ranking_udea",
          "title": "ANOMALOUS LEPTONIC U(1) SYMMETRY: SYNDETIC ORIGIN OF THE QCD AXION, WEAK-SCALE DARK MATTER, AND RADIATIVE NEUTRINO MASS."
         },
         {
          "lang": "en",
          "source": "scopus",
          "title": "Anomalous leptonic U(1) symmetry: Syndetic origin of the QCD axion, weak-scale dark matter, and radiative neutrino mass"
         },
         {
          "lang": "en",
          "source": "wos",
          "title": "Anomalous leptonic U(1) symmetry: Syndetic origin of the QCD axion, weak-scale dark matter, and radiative neutrino mass"
         },
         {
          "lang": "en",
          "source": "scholar",
          "title": "Anomalous leptonic U (1) symmetry: Syndetic origin of the QCD axion, weak-scale dark matter, and radiative neutrino mass"
         }
        ],
        "types": [
         {
          "source": "openalex",
          "type": "journal-article"
         },
         {
          "source": "scienti",
          "type": "Publicado en revista especializada"
         },
         {
          "source": "scienti",
          "type": "Artículo"
         },
         {
          "source": "scopus",
          "type": "Article"
         },
         {
          "source": "wos",
          "type": "article"
         },
         {
          "source": "scholar",
          "type": "article"
         }
        ],
        "updated": [
         {
          "source": "openalex",
          "time": 1705599719
         },
         {
          "source": "scienti",
          "time": 1705599737
         },
         {
          "source": "ranking_udea",
          "time": 1705599740
         },
         {
          "source": "scopus",
          "time": 1705599741
         },
         {
          "source": "wos",
          "time": 1705599743
         },
         {
          "source": "scholar",
          "time": 1705599746
         }
        ],
        "year_published": 2018
       },
       {
        "_id": {
         "$oid": "65a962f7fc88f0c62e94264f"
        },
        "abstract": "",
        "author_count": 2,
        "authors": [
         {
          "affiliations": [
           {
            "id": {
             "$oid": "65a83b7360137c699829ac98"
            },
            "name": "University of Antioquia",
            "types": [
             {
              "source": "ror",
              "type": "Education"
             },
             {
              "source": "openalex",
              "type": "education"
             }
            ]
           }
          ],
          "full_name": "Diego Alejandro Restrepo Quintero",
          "id": {
           "$oid": "65a83cc860137c69982d1073"
          }
         },
         {
          "affiliations": [
           {
            "id": {
             "$oid": "65a83b7360137c699829ac98"
            },
            "name": "University of Antioquia",
            "types": [
             {
              "source": "ror",
              "type": "Education"
             },
             {
              "source": "openalex",
              "type": "education"
             }
            ]
           }
          ],
          "full_name": "Andres Felipe Rivera Romero",
          "id": {
           "$oid": "65a83cd460137c69982d1cb3"
          }
         }
        ],
        "bibliographic_info": {
         "end_page": "26",
         "is_open_access": true,
         "open_access_status": "gold",
         "start_page": "1",
         "volume": "2020"
        },
        "citations": [],
        "citations_by_year": [
         {
          "cited_by_count": 3,
          "year": 2021
         },
         {
          "cited_by_count": 3,
          "year": 2020
         }
        ],
        "citations_count": [
         {
          "count": 6,
          "source": "openalex"
         },
         {
          "count": 15,
          "source": "scholar"
         }
        ],
        "date_published": 1585717200,
        "external_ids": [
         {
          "id": "https://openalex.org/W3099207013",
          "source": "openalex"
         },
         {
          "id": "10.1007/jhep04(2020)134",
          "source": "doi"
         },
         {
          "id": "3099207013",
          "source": "mag"
         },
         {
          "id": "0000177733",
          "source": "COD_RH"
         },
         {
          "id": "140",
          "source": "COD_PRODUCTO"
         },
         {
          "id": "2-s2.0-85083642740",
          "source": "scopus"
         },
         {
          "id": "sPHiod0jAaUJ",
          "source": "scholar"
         }
        ],
        "external_urls": [
         {
          "source": "oa",
          "url": "https://link.springer.com/content/pdf/10.1007/JHEP04(2020)134.pdf"
         },
         {
          "source": "scienti",
          "url": "https://link.springer.com/article/10.1007/JHEP04(2020)134"
         },
         {
          "source": "scopus",
          "url": "https://www.scopus.com/inward/record.uri?eid=2-s2.0-85083642740&doi=10.1007%2fJHEP04%282020%29134&partnerID=40&md5=e1bd5332a8440e225401d90181a246b5"
         },
         {
          "source": "scholar citations",
          "url": "/scholar?cites=11889823926045569456&as_sdt=2005&sciodt=0,5&hl=en"
         },
         {
          "source": "pdf",
          "url": "https://link.springer.com/content/pdf/10.1007/JHEP04(2020)134.pdf"
         }
        ],
        "keywords": [],
        "ranking": [],
        "references": [],
        "references_count": null,
        "source": {
         "id": {
          "$oid": "65a8330560137c699820bf0f"
         },
         "name": "Journal of High Energy Physics"
        },
        "subjects": [
         {
          "source": "openalex",
          "subjects": [
           {
            "id": {
             "$oid": "65a8390860137c6998279b39"
            },
            "level": 0,
            "name": "Physics"
           },
           {
            "id": {
             "$oid": "65a8390760137c69982793ce"
            },
            "level": 1,
            "name": "Particle physics"
           },
           {
            "id": {
             "$oid": "65a8390b60137c699827b219"
            },
            "level": 2,
            "name": "Dark matter"
           },
           {
            "id": {
             "$oid": "65a8390f60137c699827c292"
            },
            "level": 2,
            "name": "Neutrino"
           },
           {
            "id": {
             "$oid": "65a8391160137c699827cc30"
            },
            "level": 2,
            "name": "Annihilation"
           },
           {
            "id": {
             "$oid": "65a8395560137c6998287c48"
            },
            "level": 2,
            "name": "Parameter space"
           },
           {
            "id": {
             "$oid": "65a8390f60137c699827c2d0"
            },
            "level": 2,
            "name": "Fermi Gamma-ray Space Telescope"
           },
           {
            "id": {
             "$oid": "65a8390d60137c699827ba67"
            },
            "level": 2,
            "name": "Nucleon"
           },
           {
            "id": {
             "$oid": "65a8390e60137c699827be6b"
            },
            "level": 3,
            "name": "Lepton"
           },
           {
            "id": {
             "$oid": "65a8390660137c6998278f05"
            },
            "level": 3,
            "name": "Standard Model (mathematical formulation)"
           },
           {
            "id": {
             "$oid": "65a8390f60137c699827c19e"
            },
            "level": 2,
            "name": "Physics beyond the Standard Model"
           },
           {
            "id": {
             "$oid": "65a8394660137c6998285fe3"
            },
            "level": 3,
            "name": "Singlet state"
           },
           {
            "id": {
             "$oid": "65a8390f60137c699827c1fe"
            },
            "level": 1,
            "name": "Nuclear physics"
           }
          ]
         }
        ],
        "subtitle": "",
        "titles": [
         {
          "lang": "en",
          "source": "openalex",
          "title": "Phenomenological consistency of the singlet-triplet scotogenic model"
         },
         {
          "lang": "en",
          "source": "scopus",
          "title": "Phenomenological consistency of the singlet-triplet scotogenic model"
         },
         {
          "lang": "en",
          "source": "scholar",
          "title": "Phenomenological consistency of the singlet-triplet scotogenic model"
         }
        ],
        "types": [
         {
          "source": "openalex",
          "type": "journal-article"
         },
         {
          "source": "scienti",
          "type": "Publicado en revista especializada"
         },
         {
          "source": "scienti",
          "type": "Artículo"
         },
         {
          "source": "scopus",
          "type": "Article"
         },
         {
          "source": "scholar",
          "type": "article"
         }
        ],
        "updated": [
         {
          "source": "openalex",
          "time": 1705599719
         },
         {
          "source": "scienti",
          "time": 1705599739
         },
         {
          "source": "scopus",
          "time": 1705599740
         },
         {
          "source": "scholar",
          "time": 1705599746
         }
        ],
        "year_published": 2020
       },
       {
        "_id": {
         "$oid": "65a962f7fc88f0c62e942650"
        },
        "abstract": "",
        "author_count": 5,
        "authors": [
         {
          "affiliations": [
           {
            "id": {
             "$oid": "65a83bf860137c69982b581e"
            },
            "name": "Mitchell Institute",
            "types": [
             {
              "source": "ror",
              "type": "Nonprofit"
             },
             {
              "source": "openalex",
              "type": "nonprofit"
             }
            ]
           }
          ],
          "full_name": "Mohammad Abdullah",
          "id": {
           "$oid": "65a8473260137c699836d6db"
          }
         },
         {
          "affiliations": [
           {
            "id": {
             "$oid": "65a83b7360137c699829ac98"
            },
            "name": "University of Antioquia",
            "types": [
             {
              "source": "ror",
              "type": "Education"
             },
             {
              "source": "openalex",
              "type": "education"
             }
            ]
           }
          ],
          "full_name": "Julián Calle",
          "id": {
           "$oid": "65a844f760137c6998311cf8"
          }
         },
         {
          "affiliations": [
           {
            "id": {
             "$oid": "65a83bf860137c69982b581e"
            },
            "name": "Mitchell Institute",
            "types": [
             {
              "source": "ror",
              "type": "Nonprofit"
             },
             {
              "source": "openalex",
              "type": "nonprofit"
             }
            ]
           }
          ],
          "full_name": "Bhaskar Dutta",
          "id": {
           "$oid": "65a844c660137c699830a0ee"
          }
         },
         {
          "affiliations": [
           {
            "id": {
             "$oid": "65a83c5060137c69982c6cdf"
            },
            "name": "Universidad de Los Andes",
            "types": [
             {
              "source": "ror",
              "type": "Education"
             },
             {
              "source": "openalex",
              "type": "education"
             }
            ]
           }
          ],
          "full_name": "Carlos Florez",
          "id": {
           "$oid": "65a8448760137c6998300033"
          }
         },
         {
          "affiliations": [
           {
            "id": {
             "$oid": "65a83b7360137c699829ac98"
            },
            "name": "University of Antioquia",
            "types": [
             {
              "source": "ror",
              "type": "Education"
             },
             {
              "source": "openalex",
              "type": "education"
             }
            ]
           }
          ],
          "full_name": "Diego Alejandro Restrepo Quintero",
          "id": {
           "$oid": "65a83cc860137c69982d1073"
          }
         }
        ],
        "bibliographic_info": {
         "is_open_access": true,
         "issue": "5",
         "open_access_status": "hybrid",
         "start_page": "055016",
         "volume": "98"
        },
        "citations": [],
        "citations_by_year": [
         {
          "cited_by_count": 2,
          "year": 2022
         },
         {
          "cited_by_count": 6,
          "year": 2021
         },
         {
          "cited_by_count": 2,
          "year": 2020
         },
         {
          "cited_by_count": 9,
          "year": 2019
         },
         {
          "cited_by_count": 2,
          "year": 2018
         }
        ],
        "citations_count": [
         {
          "count": 21,
          "source": "openalex"
         },
         {
          "count": 11,
          "source": "wos"
         },
         {
          "count": 47,
          "source": "scholar"
         }
        ],
        "date_published": 1536814800,
        "external_ids": [
         {
          "id": "https://openalex.org/W2801044354",
          "source": "openalex"
         },
         {
          "id": "10.1103/physrevd.98.055016",
          "source": "doi"
         },
         {
          "id": "2801044354",
          "source": "mag"
         },
         {
          "id": "0000177733",
          "source": "COD_RH"
         },
         {
          "id": "130",
          "source": "COD_PRODUCTO"
         },
         {
          "id": "000444599100004",
          "source": "wos"
         },
         {
          "id": "FmFmJElKyH8J",
          "source": "scholar"
         }
        ],
        "external_urls": [
         {
          "source": "oa",
          "url": "http://link.aps.org/pdf/10.1103/PhysRevD.98.055016"
         },
         {
          "source": "scienti",
          "url": "http://doi.org/10.1103/PhysRevD.98.055016"
         },
         {
          "source": "scholar citations",
          "url": "/scholar?cites=9207691116162736406&as_sdt=2005&sciodt=0,5&hl=en"
         },
         {
          "source": "pdf",
          "url": "https://link.aps.org/pdf/10.1103/PhysRevD.98.055016"
         }
        ],
        "keywords": [],
        "ranking": [],
        "references": [],
        "references_count": null,
        "source": {
         "id": {
          "$oid": "65a838ab60137c699826e652"
         },
         "name": "Physical Review D"
        },
        "subjects": [
         {
          "source": "openalex",
          "subjects": [
           {
            "id": {
             "$oid": "65a8390860137c6998279b39"
            },
            "level": 0,
            "name": "Physics"
           },
           {
            "id": {
             "$oid": "65a8390e60137c699827be6b"
            },
            "level": 3,
            "name": "Lepton"
           },
           {
            "id": {
             "$oid": "65a8390760137c69982793ce"
            },
            "level": 1,
            "name": "Particle physics"
           },
           {
            "id": {
             "$oid": "65a8395560137c6998287dc9"
            },
            "level": 2,
            "name": "Quark"
           },
           {
            "id": {
             "$oid": "65a8392160137c6998280eeb"
            },
            "level": 4,
            "name": "Missing energy"
           },
           {
            "id": {
             "$oid": "65a8395960137c69982884d6"
            },
            "level": 2,
            "name": "Large Hadron Collider"
           },
           {
            "id": {
             "$oid": "65a8395960137c69982883e2"
            },
            "level": 3,
            "name": "Charm quark"
           },
           {
            "id": {
             "$oid": "65a8393060137c699828374b"
            },
            "level": 2,
            "name": "Charm (quantum number)"
           },
           {
            "id": {
             "$oid": "65a8391260137c699827d046"
            },
            "level": 2,
            "name": "Sensitivity (control systems)"
           },
           {
            "id": {
             "$oid": "65a8394760137c6998286183"
            },
            "level": 3,
            "name": "B meson"
           },
           {
            "id": {
             "$oid": "65a8391060137c699827cb05"
            },
            "level": 2,
            "name": "Meson"
           },
           {
            "id": {
             "$oid": "65a8390f60137c699827c1fe"
            },
            "level": 1,
            "name": "Nuclear physics"
           }
          ]
         }
        ],
        "subtitle": "",
        "titles": [
         {
          "lang": "en",
          "source": "openalex",
          "title": "Probing a simplified W ′ model of R ( D ( * ) ) anomalies using b tags, τ leptons, and missing energy"
         },
         {
          "lang": "en",
          "source": "wos",
          "title": "Probing a simplified W ' model of R(D-(*())) anomalies using b tags, tau leptons, and missing energy"
         },
         {
          "lang": "en",
          "source": "scholar",
          "title": "Probing a simplified W′ model of R (D (*)) anomalies using b tags, $τ$ leptons, and missing energy"
         }
        ],
        "types": [
         {
          "source": "openalex",
          "type": "journal-article"
         },
         {
          "source": "scienti",
          "type": "Publicado en revista especializada"
         },
         {
          "source": "scienti",
          "type": "Artículo"
         },
         {
          "source": "wos",
          "type": "article"
         },
         {
          "source": "scholar",
          "type": "article"
         }
        ],
        "updated": [
         {
          "source": "openalex",
          "time": 1705599719
         },
         {
          "source": "scienti",
          "time": 1705599739
         },
         {
          "source": "wos",
          "time": 1705599743
         },
         {
          "source": "scholar",
          "time": 1705599745
         }
        ],
        "year_published": 2018
       },
       {
        "_id": {
         "$oid": "65a962f7fc88f0c62e942651"
        },
        "abstract": "",
        "author_count": 4,
        "authors": [
         {
          "affiliations": [
           {
            "id": {
             "$oid": "65a83b7360137c699829ac98"
            },
            "name": "University of Antioquia",
            "types": [
             {
              "source": "ror",
              "type": "Education"
             },
             {
              "source": "openalex",
              "type": "education"
             }
            ]
           }
          ],
          "full_name": "Jesus M. Mira",
          "id": {
           "$oid": "65a84af460137c6998409cc8"
          }
         },
         {
          "affiliations": [
           {
            "id": {
             "$oid": "65a83b7360137c699829ac98"
            },
            "name": "University of Antioquia",
            "types": [
             {
              "source": "ror",
              "type": "Education"
             },
             {
              "source": "openalex",
              "type": "education"
             }
            ]
           },
           {
            "id": {
             "$oid": "65a83c5a60137c69982c8d74"
            },
            "name": "European Organization for Nuclear Research",
            "types": [
             {
              "source": "ror",
              "type": "Facility"
             },
             {
              "source": "openalex",
              "type": "facility"
             }
            ]
           }
          ],
          "full_name": "Enrico Nardi",
          "id": {
           "$oid": "65a8474460137c699837054e"
          }
         },
         {
          "affiliations": [
           {
            "id": "",
            "name": "Instituto de Fı́sica Corpuscular (IFIC), CSIC — U. de València, Edificio Institutos de Paterna, Apartado de Correos 22085, E-46071-València, Spain",
            "types": []
           }
          ],
          "full_name": "Diego Alejandro Restrepo Quintero",
          "id": {
           "$oid": "65a83cc860137c69982d1073"
          }
         },
         {
          "affiliations": [
           {
            "id": "",
            "name": "Instituto de Fı́sica Corpuscular (IFIC), CSIC — U. de València, Edificio Institutos de Paterna, Apartado de Correos 22085, E-46071-València, Spain",
            "types": []
           }
          ],
          "full_name": "José W. F. Valle",
          "id": {
           "$oid": "65a8453760137c699831bb9e"
          }
         }
        ],
        "bibliographic_info": {
         "end_page": "90\n",
         "is_open_access": true,
         "issue": "1-2",
         "open_access_status": "green",
         "start_page": "81\n",
         "volume": "492"
        },
        "citations": [],
        "citations_by_year": [
         {
          "cited_by_count": 1,
          "year": 2022
         }
        ],
        "citations_count": [
         {
          "count": 4,
          "source": "openalex"
         },
         {
          "count": 30,
          "source": "scopus"
         },
         {
          "count": 52,
          "source": "wos"
         },
         {
          "count": 78,
          "source": "scholar"
         }
        ],
        "date_published": 964414800,
        "external_ids": [
         {
          "id": "https://openalex.org/W3105890208",
          "source": "openalex"
         },
         {
          "id": "10.1016/s0370-2693(00)01067-4",
          "source": "doi"
         },
         {
          "id": "3105890208",
          "source": "mag"
         },
         {
          "id": "2-s2.0-0034718904",
          "source": "scopus"
         },
         {
          "id": "000165226800012",
          "source": "wos"
         },
         {
          "id": "HBbOvK-f2WUJ",
          "source": "scholar"
         }
        ],
        "external_urls": [
         {
          "source": "oa",
          "url": "http://bibliotecadigital.udea.edu.co/bitstream/10495/8393/1/RestrepoDiego_2000_BilinearRparityViolation.pdf"
         },
         {
          "source": "scopus",
          "url": "https://www.scopus.com/inward/record.uri?eid=2-s2.0-0034718904&doi=10.1016%2fS0370-2693%2800%2901067-4&partnerID=40&md5=e0e5b89503e71d758f89afc6d46dc39c"
         },
         {
          "source": "scholar citations",
          "url": "/scholar?cites=7339072644912649756&as_sdt=2005&sciodt=0,5&hl=en"
         },
         {
          "source": "pdf",
          "url": "https://arxiv.org/pdf/hep-ph/0007266"
         }
        ],
        "keywords": [],
        "ranking": [],
        "references": [],
        "references_count": null,
        "source": {
         "id": {
          "$oid": "65a838be60137c69982709c1"
         },
         "name": "arXiv: High Energy Physics - Phenomenology"
        },
        "subjects": [
         {
          "source": "openalex",
          "subjects": [
           {
            "id": {
             "$oid": "65a8390860137c6998279b39"
            },
            "level": 0,
            "name": "Physics"
           },
           {
            "id": {
             "$oid": "65a8390f60137c699827c292"
            },
            "level": 2,
            "name": "Neutrino"
           },
           {
            "id": {
             "$oid": "65a8390760137c69982793ce"
            },
            "level": 1,
            "name": "Particle physics"
           },
           {
            "id": {
             "$oid": "65a8391360137c699827d632"
            },
            "level": 3,
            "name": "R-parity"
           },
           {
            "id": {
             "$oid": "65a8391860137c699827ec0e"
            },
            "level": 2,
            "name": "Parity (physics)"
           },
           {
            "id": {
             "$oid": "65a8390e60137c699827be6b"
            },
            "level": 3,
            "name": "Lepton"
           },
           {
            "id": {
             "$oid": "65a8394f60137c6998287305"
            },
            "level": 4,
            "name": "Solar neutrino"
           },
           {
            "id": {
             "$oid": "65a8390760137c6998279321"
            },
            "level": 4,
            "name": "Lepton number"
           },
           {
            "id": {
             "$oid": "65a8395560137c6998287e10"
            },
            "level": 5,
            "name": "Solar neutrino problem"
           },
           {
            "id": {
             "$oid": "65a8390f60137c699827c1fe"
            },
            "level": 1,
            "name": "Nuclear physics"
           }
          ]
         }
        ],
        "subtitle": "",
        "titles": [
         {
          "lang": "en",
          "source": "openalex",
          "title": "Bilinear R-parity Violation and Small Neutrino Masses: a Self-consistent Framework"
         },
         {
          "lang": "en",
          "source": "scopus",
          "title": "Bilinear R-parity violation and small neutrino masses: A self-consistent framework"
         },
         {
          "lang": "en",
          "source": "wos",
          "title": "Bilinear R-parity violation and small neutrino masses: a self-consistent framework"
         },
         {
          "lang": "en",
          "source": "scholar",
          "title": "Bilinear R-parity violation and small neutrino masses: a self-consistent framework"
         }
        ],
        "types": [
         {
          "source": "openalex",
          "type": "journal-article"
         },
         {
          "source": "scopus",
          "type": "Article"
         },
         {
          "source": "wos",
          "type": "article"
         },
         {
          "source": "scholar",
          "type": "article"
         }
        ],
        "updated": [
         {
          "source": "openalex",
          "time": 1705599734
         },
         {
          "source": "scopus",
          "time": 1705599740
         },
         {
          "source": "wos",
          "time": 1705599743
         },
         {
          "source": "scholar",
          "time": 1705599746
         }
        ],
        "year_published": 2000
       }
      ],
      "text/plain": [
       "<IPython.core.display.JSON object>"
      ]
     },
     "execution_count": 63,
     "metadata": {
      "application/json": {
       "expanded": false,
       "root": "root"
      }
     },
     "output_type": "execute_result"
    }
   ],
   "source": [
    "JSON(data)"
   ]
  },
  {
   "cell_type": "code",
   "execution_count": null,
   "id": "b3a8ec14-9303-496c-9409-660155c8da04",
   "metadata": {},
   "outputs": [],
   "source": []
  }
 ],
 "metadata": {
  "kernelspec": {
   "display_name": "Python 3 (ipykernel)",
   "language": "python",
   "name": "python3"
  },
  "language_info": {
   "codemirror_mode": {
    "name": "ipython",
    "version": 3
   },
   "file_extension": ".py",
   "mimetype": "text/x-python",
   "name": "python",
   "nbconvert_exporter": "python",
   "pygments_lexer": "ipython3",
   "version": "3.9.2"
  }
 },
 "nbformat": 4,
 "nbformat_minor": 5
}
