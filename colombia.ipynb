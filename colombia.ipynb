{
 "cells": [
  {
   "cell_type": "markdown",
   "metadata": {},
   "source": [
    "## Datos de Colombia en lens.org\n",
    "June 2020 → https://link.lens.org/LEVGfMU4CGi"
   ]
  },
  {
   "cell_type": "code",
   "execution_count": 2,
   "metadata": {},
   "outputs": [],
   "source": [
    "import pandas as pd"
   ]
  },
  {
   "cell_type": "code",
   "execution_count": 3,
   "metadata": {},
   "outputs": [],
   "source": [
    "files=['lens_co_1900-2007.json','lens_co_2008-2011.json','lens_co_2012-2014.json','lens_co_2015-2017.json','lens_co_2018-2020.json']"
   ]
  },
  {
   "cell_type": "code",
   "execution_count": 28,
   "metadata": {},
   "outputs": [
    {
     "name": "stdout",
     "output_type": "stream",
     "text": [
      "(46498, 22)\n",
      "(41859, 22)\n",
      "(44285, 22)\n",
      "(47763, 22)\n",
      "(30895, 22)\n"
     ]
    }
   ],
   "source": [
    "#Hint: use rclone for load from Google-Drive\n",
    "d={}\n",
    "df=pd.DataFrame()\n",
    "for f in files:\n",
    "    df=pd.read_json(f'/home/restrepo/colav/7.Datos/Lens/co/{f}') \n",
    "    print(df.shape)\n",
    "    ff=f.split('_')[-1].split('.')[0]\n",
    "    d[f'{ff}']=df.shape[0]"
   ]
  },
  {
   "cell_type": "code",
   "execution_count": 29,
   "metadata": {},
   "outputs": [],
   "source": [
    "#Reset RAM\n",
    "df=pd.DataFrame()"
   ]
  },
  {
   "cell_type": "code",
   "execution_count": 27,
   "metadata": {},
   "outputs": [
    {
     "name": "stdout",
     "output_type": "stream",
     "text": [
      "1900-2007 → 46498\n",
      "2008-2011 → 41859\n",
      "2012-2014 → 44285\n",
      "2015-2017 → 47763\n",
      "2018-2020 → 30895\n",
      "TOTAL     → 211300\n"
     ]
    }
   ],
   "source": [
    "for k in d.keys():\n",
    "    print(f'{k} → {d[k]}')\n",
    "print(f'TOTAL     → {sum(d.values())}')"
   ]
  },
  {
   "cell_type": "code",
   "execution_count": 24,
   "metadata": {},
   "outputs": [
    {
     "name": "stdout",
     "output_type": "stream",
     "text": [
      "211300\n"
     ]
    }
   ],
   "source": [
    "print(f'{sum(d.values())}')"
   ]
  },
  {
   "cell_type": "markdown",
   "metadata": {},
   "source": [
    "UPDATE: July 2021"
   ]
  },
  {
   "cell_type": "markdown",
   "metadata": {},
   "source": [
    "``` \n",
    "1900-2007 → 51932\n",
    "2008-2011 → 46131\n",
    "2012-2014 → 50338\n",
    "2015-2017 → 55216\n",
    "2018-2020 → 51773\n",
    "TOTAL     → 261944\n",
    "```"
   ]
  },
  {
   "cell_type": "code",
   "execution_count": null,
   "metadata": {},
   "outputs": [],
   "source": []
  }
 ],
 "metadata": {
  "kernelspec": {
   "display_name": "Python 3 (ipykernel)",
   "language": "python",
   "name": "python3"
  },
  "language_info": {
   "codemirror_mode": {
    "name": "ipython",
    "version": 3
   },
   "file_extension": ".py",
   "mimetype": "text/x-python",
   "name": "python",
   "nbconvert_exporter": "python",
   "pygments_lexer": "ipython3",
   "version": "3.7.3"
  }
 },
 "nbformat": 4,
 "nbformat_minor": 4
}
