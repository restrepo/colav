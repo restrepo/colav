{
 "cells": [
  {
   "cell_type": "markdown",
   "metadata": {
    "colab_type": "text",
    "id": "view-in-github"
   },
   "source": [
    "<a href=\"https://colab.research.google.com/github/restrepo/colav/blob/main/sample.ipynb\" target=\"_parent\"><img src=\"https://colab.research.google.com/assets/colab-badge.svg\" alt=\"Open In Colab\"/></a>"
   ]
  },
  {
   "cell_type": "markdown",
   "metadata": {
    "id": "KfKV2m5cJpkU"
   },
   "source": [
    "## Install\n",
    "https://www.anaconda.com/products/individual#Downloads\n",
    "```bash\n",
    "$ bash Anaconda3-2020.11-Linux-x86_64.sh\n",
    "```\n",
    "\n",
    "https://github.com/colav/HunabKu → README\n",
    "```bash\n",
    "$ conda install nodejs==10.13.0\n",
    "$ conda install -c anaconda mongodb\n",
    "$ conda install mongodb mongo-tools\n",
    "$ npm install -g apidoc\n",
    "$ pip install python-Levenshtein\n",
    "$ pip install hunabku\n",
    "```\n",
    "Check the `mongodb` installation with\n",
    "\n",
    "```bash\n",
    "$ mongo\n",
    "...\n",
    "> exit\n",
    "```\n",
    "\n",
    "[and](https://mail.google.com/mail/u/1/#search/omar+mogodb/QgrcJHrnxTDFKqWmJrDLhjJmxrpWZSRjhlq) if necessary, explicit start the `mongod` service\n",
    "```\n",
    "$ mkdir -p data/db\n",
    "$ mongod --dbpath data/db/\n",
    "```\n",
    "\n",
    "use `mongo` in another terminal\n",
    "\n",
    "Download: `Moai-0.0.3a0-py3-none-any.whl` from Google Drive CoLav shared Drive and install it with\n",
    "\n",
    "```bash\n",
    "$ pip install Moai-0.0.3a0-py3-none-any.whl\n",
    "```\n",
    "\n",
    "Now we can start the server\n",
    "```bash\n",
    "$ hunabku_server\n",
    "```\n",
    "Take note of the url server generated. The same url serves the documentation.\n",
    "Check the documentation server with the link at the end, for example\n",
    "\n",
    "http://fisica.udea.edu.co:8080/apidoc/index.html\n",
    "\n",
    "This server is the endpoint for `mongodb`. \n",
    "\n",
    "<!-- 16m of Video to explain the plugin system and endpoint (url) system) -->\n",
    "\n",
    "<!-- 24m how to build the wheel -->\n"
   ]
  },
  {
   "cell_type": "markdown",
   "metadata": {
    "id": "OfKfBSA2JpkZ"
   },
   "source": [
    "## Data sample for Moai\n",
    "Video Full detailed help [ES]\n",
    "\n",
    "* https://drive.google.com/file/d/1kQTzKvrmQuUxN-SLs7L9HmMKdhP4fgkl/view\n",
    "* https://drive.google.com/file/d/18kNkiQqp6lWAKsmk2VBkJli7l5RUElpz/view [TMP]\n",
    "\n",
    "Data sample [XLSX]:\n",
    "\n",
    "https://docs.google.com/spreadsheets/d/1tAbdLUTELnaulyoF-ctXXhln7oXFXJ2J"
   ]
  },
  {
   "cell_type": "code",
   "execution_count": 1,
   "metadata": {
    "id": "pB6siQVNJpka"
   },
   "outputs": [],
   "source": [
    "import pandas as pd\n",
    "import json"
   ]
  },
  {
   "cell_type": "code",
   "execution_count": 16,
   "metadata": {
    "id": "M3oLoQ0mJpka"
   },
   "outputs": [],
   "source": [
    "df=pd.read_excel('https://docs.google.com/spreadsheets/d/e/2PACX-1vTJwBnceHMjYSVar20c-XMMgto7GxuWUKSo_ikPZjru1q8vQpFsQZZZBn7VNyFaJw/pub?output=xlsx')"
   ]
  },
  {
   "cell_type": "markdown",
   "metadata": {
    "id": "wunlzMXDJpka"
   },
   "source": [
    "The complete list of the mandatory fields is: \n",
    "\n",
    "`[\"article_id\",\"journal\",\"publisher\",\"country\",\"title\", \"author\",\"doi\",\"year\",\"volume\",\"issue\",\"pages\",\"abstract\"]`\n",
    "\n",
    "`\"author\"` must have a comma separated format: Last-Name Initials, e.g: `Bianchinotti MV, Borromei AM`"
   ]
  },
  {
   "cell_type": "code",
   "execution_count": 18,
   "metadata": {},
   "outputs": [
    {
     "data": {
      "text/html": [
       "<div>\n",
       "<style scoped>\n",
       "    .dataframe tbody tr th:only-of-type {\n",
       "        vertical-align: middle;\n",
       "    }\n",
       "\n",
       "    .dataframe tbody tr th {\n",
       "        vertical-align: top;\n",
       "    }\n",
       "\n",
       "    .dataframe thead th {\n",
       "        text-align: right;\n",
       "    }\n",
       "</style>\n",
       "<table border=\"1\" class=\"dataframe\">\n",
       "  <thead>\n",
       "    <tr style=\"text-align: right;\">\n",
       "      <th></th>\n",
       "      <th>author</th>\n",
       "      <th>year</th>\n",
       "      <th>publisher</th>\n",
       "      <th>title</th>\n",
       "      <th>doi</th>\n",
       "      <th>country</th>\n",
       "      <th>journal</th>\n",
       "      <th>volume</th>\n",
       "      <th>pages</th>\n",
       "      <th>article_id</th>\n",
       "      <th>language</th>\n",
       "      <th>abstract</th>\n",
       "      <th>issue</th>\n",
       "    </tr>\n",
       "  </thead>\n",
       "  <tbody>\n",
       "    <tr>\n",
       "      <th>0</th>\n",
       "      <td>Bianchinotti MV, Borromei AM,  Musotto LL</td>\n",
       "      <td>2013</td>\n",
       "      <td>MACN Bernardino Rivadavia</td>\n",
       "      <td>Inferencias paleoecológicas a partir del análi...</td>\n",
       "      <td>NaN</td>\n",
       "      <td>Buenos Aires</td>\n",
       "      <td>Revista del Museo Argentino de Ciencias Natura...</td>\n",
       "      <td>NaN</td>\n",
       "      <td>NaN</td>\n",
       "      <td>NaN</td>\n",
       "      <td>NaN</td>\n",
       "      <td>NaN</td>\n",
       "      <td>NaN</td>\n",
       "    </tr>\n",
       "    <tr>\n",
       "      <th>1</th>\n",
       "      <td>Brignardello M</td>\n",
       "      <td>2013</td>\n",
       "      <td>Universidad Santiago de Chile</td>\n",
       "      <td>¿Escasez de agua en el siglo XXI?: Formas de a...</td>\n",
       "      <td>NaN</td>\n",
       "      <td>Santiago de Chile</td>\n",
       "      <td>Estudios Avanzados</td>\n",
       "      <td>NaN</td>\n",
       "      <td>NaN</td>\n",
       "      <td>NaN</td>\n",
       "      <td>NaN</td>\n",
       "      <td>NaN</td>\n",
       "      <td>NaN</td>\n",
       "    </tr>\n",
       "    <tr>\n",
       "      <th>2</th>\n",
       "      <td>Velez J</td>\n",
       "      <td>2018</td>\n",
       "      <td>Universidad del Rosario</td>\n",
       "      <td>Security floors: Towards an urban anthropology...</td>\n",
       "      <td>NaN</td>\n",
       "      <td>Bogotá</td>\n",
       "      <td>Territorios</td>\n",
       "      <td>NaN</td>\n",
       "      <td>NaN</td>\n",
       "      <td>NaN</td>\n",
       "      <td>NaN</td>\n",
       "      <td>NaN</td>\n",
       "      <td>NaN</td>\n",
       "    </tr>\n",
       "    <tr>\n",
       "      <th>3</th>\n",
       "      <td>Calvinho LF, Dallard BE</td>\n",
       "      <td>2010</td>\n",
       "      <td>Universidad Nacional del Litoral</td>\n",
       "      <td>Receptores tipo toll en la inmunidad innata y ...</td>\n",
       "      <td>NaN</td>\n",
       "      <td>NaN</td>\n",
       "      <td>Fave Ciencias Veterinarias</td>\n",
       "      <td>NaN</td>\n",
       "      <td>NaN</td>\n",
       "      <td>NaN</td>\n",
       "      <td>NaN</td>\n",
       "      <td>NaN</td>\n",
       "      <td>NaN</td>\n",
       "    </tr>\n",
       "  </tbody>\n",
       "</table>\n",
       "</div>"
      ],
      "text/plain": [
       "                                      author  year  \\\n",
       "0  Bianchinotti MV, Borromei AM,  Musotto LL  2013   \n",
       "1                             Brignardello M  2013   \n",
       "2                                    Velez J  2018   \n",
       "3                    Calvinho LF, Dallard BE  2010   \n",
       "\n",
       "                          publisher  \\\n",
       "0         MACN Bernardino Rivadavia   \n",
       "1     Universidad Santiago de Chile   \n",
       "2           Universidad del Rosario   \n",
       "3  Universidad Nacional del Litoral   \n",
       "\n",
       "                                               title  doi            country  \\\n",
       "0  Inferencias paleoecológicas a partir del análi...  NaN       Buenos Aires   \n",
       "1  ¿Escasez de agua en el siglo XXI?: Formas de a...  NaN  Santiago de Chile   \n",
       "2  Security floors: Towards an urban anthropology...  NaN             Bogotá   \n",
       "3  Receptores tipo toll en la inmunidad innata y ...  NaN                NaN   \n",
       "\n",
       "                                             journal  volume  pages  \\\n",
       "0  Revista del Museo Argentino de Ciencias Natura...     NaN    NaN   \n",
       "1                                 Estudios Avanzados     NaN    NaN   \n",
       "2                                        Territorios     NaN    NaN   \n",
       "3                         Fave Ciencias Veterinarias     NaN    NaN   \n",
       "\n",
       "   article_id  language  abstract  issue  \n",
       "0         NaN       NaN       NaN    NaN  \n",
       "1         NaN       NaN       NaN    NaN  \n",
       "2         NaN       NaN       NaN    NaN  \n",
       "3         NaN       NaN       NaN    NaN  "
      ]
     },
     "execution_count": 18,
     "metadata": {},
     "output_type": "execute_result"
    }
   ],
   "source": [
    "df[['author','year','publisher', 'title', 'doi',  'country', 'journal', 'volume', \n",
    "    'pages', 'article_id', 'language', 'abstract','issue'\n",
    "    ]]"
   ]
  },
  {
   "cell_type": "code",
   "execution_count": 19,
   "metadata": {
    "id": "O8j4XGA0Jpkb"
   },
   "outputs": [],
   "source": [
    "df[['author','year','publisher', 'title', 'doi',  'country', 'journal', 'volume', \n",
    "    'pages', 'article_id', 'language', 'abstract','issue'\n",
    "    ]].fillna('').to_json('sample.json',orient='records',force_ascii=False)"
   ]
  },
  {
   "cell_type": "code",
   "execution_count": 2,
   "metadata": {
    "id": "L41NKsEBJpkb"
   },
   "outputs": [],
   "source": [
    "with open(r\"sample.json\", \"r\") as read_file:\n",
    "    data = json.load(read_file)"
   ]
  },
  {
   "cell_type": "markdown",
   "metadata": {
    "id": "Hqa2qnnaJpkb"
   },
   "source": [
    "Check the data"
   ]
  },
  {
   "cell_type": "code",
   "execution_count": 3,
   "metadata": {
    "id": "pq3VNxJAJpkc",
    "outputId": "734384c2-c24d-4f39-e080-1bb3b284adde"
   },
   "outputs": [
    {
     "data": {
      "text/plain": [
       "'Bianchinotti MV, Borromei AM,  Musotto LL'"
      ]
     },
     "execution_count": 3,
     "metadata": {},
     "output_type": "execute_result"
    }
   ],
   "source": [
    "data[0]['author']"
   ]
  },
  {
   "cell_type": "code",
   "execution_count": 4,
   "metadata": {},
   "outputs": [
    {
     "data": {
      "text/plain": [
       "[{'author': 'Bianchinotti MV, Borromei AM,  Musotto LL',\n",
       "  'year': 2013,\n",
       "  'publisher': 'MACN Bernardino Rivadavia',\n",
       "  'title': 'Inferencias paleoecológicas a partir del análisis de microfósiles fúngicos en una turbera pleistoceno-holocena de Tierra del Fuego, Argentina',\n",
       "  'doi': '',\n",
       "  'country': 'Buenos Aires',\n",
       "  'journal': 'Revista del Museo Argentino de Ciencias Naturales, n.s.',\n",
       "  'volume': '',\n",
       "  'pages': '',\n",
       "  'article_id': '',\n",
       "  'language': '',\n",
       "  'abstract': '',\n",
       "  'issue': ''},\n",
       " {'author': 'Brignardello M',\n",
       "  'year': 2013,\n",
       "  'publisher': 'Universidad Santiago de Chile',\n",
       "  'title': '¿Escasez de agua en el siglo XXI?: Formas de apropiación, distribución y uso del recurso hídrico por parte de productores vitivinícolas de Maipú, Mendoza',\n",
       "  'doi': '',\n",
       "  'country': 'Santiago de Chile',\n",
       "  'journal': 'Estudios Avanzados',\n",
       "  'volume': '',\n",
       "  'pages': '',\n",
       "  'article_id': '',\n",
       "  'language': '',\n",
       "  'abstract': '',\n",
       "  'issue': ''},\n",
       " {'author': 'Velez J',\n",
       "  'year': 2018,\n",
       "  'publisher': 'Universidad del Rosario',\n",
       "  'title': 'Security floors: Towards an urban anthropology of neighborhood associations for security in the city of La Plata, Argentina [Solos securitários: Para uma antropologia urbana das associações vicinais pela segurança na cidade de La Plata, Argentina ; Suelos securitarios: Hacia una antropología urbana de las asociaciones vecinales por la seguridad en la ciudad de La Plata, Argentina]',\n",
       "  'doi': '',\n",
       "  'country': 'Bogotá',\n",
       "  'journal': 'Territorios',\n",
       "  'volume': '',\n",
       "  'pages': '',\n",
       "  'article_id': '',\n",
       "  'language': '',\n",
       "  'abstract': '',\n",
       "  'issue': ''},\n",
       " {'author': 'Calvinho LF, Dallard BE',\n",
       "  'year': 2010,\n",
       "  'publisher': 'Universidad Nacional del Litoral',\n",
       "  'title': 'Receptores tipo toll en la inmunidad innata y su rol durante la infección intramamaria por Staphylococcus aureus',\n",
       "  'doi': '',\n",
       "  'country': '',\n",
       "  'journal': 'Fave Ciencias Veterinarias',\n",
       "  'volume': '',\n",
       "  'pages': '',\n",
       "  'article_id': '',\n",
       "  'language': '',\n",
       "  'abstract': '',\n",
       "  'issue': ''}]"
      ]
     },
     "execution_count": 4,
     "metadata": {},
     "output_type": "execute_result"
    }
   ],
   "source": [
    "xdata"
   ]
  },
  {
   "cell_type": "markdown",
   "metadata": {
    "id": "JBK6ooIfJpkd"
   },
   "source": [
    "## Creates the database in mongodb\n",
    "Load the database in mongo and assign it to, e.g., `la`"
   ]
  },
  {
   "cell_type": "markdown",
   "metadata": {
    "id": "854324x9Jpkd"
   },
   "source": [
    "```bash\n",
    "mongoimport --db la --collection data --file sample.json --jsonArray\n",
    "```"
   ]
  },
  {
   "cell_type": "markdown",
   "metadata": {},
   "source": [
    "## GS metadata"
   ]
  },
  {
   "cell_type": "markdown",
   "metadata": {},
   "source": [
    "Get API KEY from your https://www.scraperapi.com/ account"
   ]
  },
  {
   "cell_type": "markdown",
   "metadata": {
    "id": "Wo4IcbUpJpkd"
   },
   "source": [
    "Now the important thing!"
   ]
  },
  {
   "cell_type": "markdown",
   "metadata": {
    "id": "ARrO2K5EJpkd"
   },
   "source": [
    "```bash\n",
    "moai_gslookup --hunabku_server http://127.0.1.1:8080 --proxy_api XXXXXXXXXXXXXXXXXXXXXXXXXXXXXXXX --max_threads 1 --max_papers 2 --db la --max_tries 2\n",
    "```"
   ]
  },
  {
   "cell_type": "markdown",
   "metadata": {},
   "source": [
    "(for wn6 use http://10.0.0.8:8080) Check the results"
   ]
  },
  {
   "cell_type": "markdown",
   "metadata": {
    "id": "FMg9qgD1Jpke"
   },
   "source": [
    "```bash\n",
    "$ mongo\n",
    "> use la\n",
    "> show collections\n",
    "> db.stage.count()\n",
    "> db.stage.find()\n",
    "```"
   ]
  },
  {
   "cell_type": "markdown",
   "metadata": {},
   "source": [
    "To delete a collection\n",
    "```\n",
    "> db.stage.drop()\n",
    "```"
   ]
  },
  {
   "cell_type": "markdown",
   "metadata": {},
   "source": [
    "## GS Cites\n",
    "To download the cites, we need to control all the cites for each article. Therefore, we need to first create a cache.\n",
    "\n",
    "### Creating the cache\n",
    "`\n",
    "moai_gscites  --hunabku_server http://127.0.1.1:8080 --proxy_apikey xxxxxx --db la --create_cache\n",
    "`\n",
    "\n",
    "**Where**:\n",
    "* http://127.0.1.1:8080: is the Hunabku server\n",
    "* xxxxxxx: the scraperapi apikey\n",
    "* test: the name of the database where collection stage produced by moai_gslookup is located. \n",
    "* --create_cache: options to create the cites cache\n",
    "\n",
    "**Results:**\n",
    "A new collection is created in the database test called `cache_cites`\n",
    "\n",
    "**NOTE**: depeding of the number of papers and the number of cites for the papers the cache creation can take a while. The proces is not papalelized yet :(\n",
    "\n",
    "\n",
    "### Downloading the cites\n",
    "At this point we should have the cache ready.\n",
    "To download the cites please run:\n",
    "\n",
    "`\n",
    "moai_gscites  --hunabku_server http://127.0.1.1:8080 --proxy_apikey xxxxxxxx  --max_threads 5  --max_tries 2  --db la --max_papers 10000\n",
    "`\n",
    "\n",
    "**Where**:\n",
    "* http://127.0.1.1:8080 is the Hunabku server\n",
    "* xxxxxxxx is the apikey from scraper api\n",
    "* N (--max_threads option) the number of threads depents of the plan that you buy in scraper api\n",
    "* M number of cites to dowload, depends of the number of apicalls that you buy in scrapper api. Every cites requires two calls, if you buy 1000000 calls you can to download max 500000 cites.\n"
   ]
  },
  {
   "cell_type": "markdown",
   "metadata": {},
   "source": [
    "## Summary:"
   ]
  },
  {
   "cell_type": "code",
   "execution_count": 11,
   "metadata": {},
   "outputs": [],
   "source": [
    "import getpass"
   ]
  },
  {
   "cell_type": "code",
   "execution_count": 12,
   "metadata": {},
   "outputs": [
    {
     "name": "stdin",
     "output_type": "stream",
     "text": [
      " ································\n"
     ]
    }
   ],
   "source": [
    "api_key=getpass.getpass()"
   ]
  },
  {
   "cell_type": "code",
   "execution_count": 14,
   "metadata": {},
   "outputs": [],
   "source": [
    "summary=f'''\n",
    "#Creates db.data collection\n",
    "mongoimport --db la --collection data --file sample.json --jsonArray \n",
    "\n",
    "#Creates db.stage collection\n",
    "moai_gslookup --hunabku_server http://10.0.0.8:8080 --proxy_api {api_key} --max_threads 1 --max_papers 2 --db la --max_tries 2\n",
    "\n",
    "#Creates db.cache_cites collection\n",
    "moai_gscites  --hunabku_server http://10.0.0.8:8080 --proxy_apikey {api_key} --db la --create_cache\n",
    "\n",
    "#Creates db.stage collection\n",
    "moai_gscites  --hunabku_server http://10.0.0.8:8080 --proxy_apikey {api_key}  --max_threads 5  --max_tries 2  --db la --max_papers 10000\n",
    "'''"
   ]
  },
  {
   "cell_type": "code",
   "execution_count": null,
   "metadata": {},
   "outputs": [],
   "source": [
    "print(summary)"
   ]
  }
 ],
 "metadata": {
  "colab": {
   "include_colab_link": true,
   "name": "sample.ipynb",
   "provenance": []
  },
  "kernelspec": {
   "display_name": "Python 3",
   "language": "python",
   "name": "python3"
  },
  "language_info": {
   "codemirror_mode": {
    "name": "ipython",
    "version": 3
   },
   "file_extension": ".py",
   "mimetype": "text/x-python",
   "name": "python",
   "nbconvert_exporter": "python",
   "pygments_lexer": "ipython3",
   "version": "3.7.3"
  },
  "latex_envs": {
   "LaTeX_envs_menu_present": true,
   "autoclose": false,
   "autocomplete": true,
   "bibliofile": "biblio.bib",
   "cite_by": "apalike",
   "current_citInitial": 1,
   "eqLabelWithNumbers": true,
   "eqNumInitial": 1,
   "hotkeys": {
    "equation": "Ctrl-E",
    "itemize": "Ctrl-I"
   },
   "labels_anchors": false,
   "latex_user_defs": false,
   "report_style_numbering": false,
   "user_envs_cfg": false
  }
 },
 "nbformat": 4,
 "nbformat_minor": 4
}
