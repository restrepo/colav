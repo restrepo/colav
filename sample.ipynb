{
 "cells": [
  {
   "cell_type": "markdown",
   "metadata": {},
   "source": [
    "## Install\n",
    "https://www.anaconda.com/products/individual#Downloads\n",
    "```bash\n",
    "bash Anaconda3-2020.11-Linux-x86_64.sh\n",
    "```\n",
    "\n",
    "https://github.com/colav/HunabKu → README\n",
    "```bash\n",
    "conda install nodejs\n",
    "conda install -c anaconda mongodb\n",
    "npm install -g apidoc\n",
    "pip install hunabku\n",
    "```\n",
    "Check the `mongodb` installation with\n",
    "```bash\n",
    "mongo\n",
    "```\n",
    "\n",
    "Download: `Moai-0.0.3a0-py3-none-any.whl` from Google Drive CoLav shared Drive\n",
    "\n",
    "```bash\n",
    "pip install Moai-0.0.3a0-py3-none-any.whl\n",
    "```\n",
    "\n",
    "Now we can start the server\n",
    "```bash\n",
    "hunabku_server\n",
    "```\n",
    "Check the documentation server with the link at the end, for example\n",
    "\n",
    "http://fisica.udea.edu.co:8080/apidoc/index.html\n",
    "\n",
    "This server is the one that one that connects with `mongodb`. \n",
    "\n",
    "<!-- 16m of Video to explain the plugin system and endpoint (url) system) -->\n",
    "\n",
    "<!-- 24m how to build the wheel -->\n"
   ]
  },
  {
   "cell_type": "markdown",
   "metadata": {},
   "source": [
    "## Data sample for Moai\n",
    "Video Full detailed help [ES]\n",
    "\n",
    "https://drive.google.com/file/d/1kQTzKvrmQuUxN-SLs7L9HmMKdhP4fgkl/view\n",
    "\n",
    "Data sample:\n",
    "\n",
    "https://docs.google.com/spreadsheets/d/1tAbdLUTELnaulyoF-ctXXhln7oXFXJ2J"
   ]
  },
  {
   "cell_type": "code",
   "execution_count": 1,
   "metadata": {},
   "outputs": [],
   "source": [
    "import pandas as pd\n",
    "import json"
   ]
  },
  {
   "cell_type": "code",
   "execution_count": 10,
   "metadata": {},
   "outputs": [],
   "source": [
    "df=pd.read_excel('https://docs.google.com/spreadsheets/d/e/2PACX-1vTJwBnceHMjYSVar20c-XMMgto7GxuWUKSo_ikPZjru1q8vQpFsQZZZBn7VNyFaJw/pub?output=xlsx')"
   ]
  },
  {
   "cell_type": "markdown",
   "metadata": {},
   "source": [
    "The complete list of implemented fields is: \n",
    "\n",
    "`[\"article_id\",\"journal\",\"publisher\",\"country\",\"title\", \"author\",\"doi\",\"year\",\"volume\",\"issue\",\"pages\",\"abstract\"]`"
   ]
  },
  {
   "cell_type": "code",
   "execution_count": 14,
   "metadata": {},
   "outputs": [],
   "source": [
    "df[['author','year','publisher', 'title', 'doi',  'country', 'journal', 'volume', \n",
    "    'pages', 'article_id', 'language', 'abstract','issue'\n",
    "    ]].fillna('').to_json('sample.json',orient='records',force_ascii=False)"
   ]
  },
  {
   "cell_type": "code",
   "execution_count": 12,
   "metadata": {},
   "outputs": [],
   "source": [
    "with open(r\"sample.json\", \"r\") as read_file:\n",
    "    data = json.load(read_file)"
   ]
  },
  {
   "cell_type": "markdown",
   "metadata": {},
   "source": [
    "Check the data"
   ]
  },
  {
   "cell_type": "code",
   "execution_count": 13,
   "metadata": {},
   "outputs": [
    {
     "data": {
      "text/plain": [
       "'Bianchinotti MV, Borromei AM,  Musotto LL'"
      ]
     },
     "execution_count": 13,
     "metadata": {},
     "output_type": "execute_result"
    }
   ],
   "source": [
    "data[0]['author']"
   ]
  },
  {
   "cell_type": "markdown",
   "metadata": {},
   "source": [
    "Load the database in mongo"
   ]
  },
  {
   "cell_type": "markdown",
   "metadata": {},
   "source": [
    "```bash\n",
    "mongoimport --db la --collection data --file sample.json --jsonArray\n",
    "```"
   ]
  },
  {
   "cell_type": "markdown",
   "metadata": {},
   "source": [
    "Now the important thing!"
   ]
  },
  {
   "cell_type": "markdown",
   "metadata": {},
   "source": [
    "```bash\n",
    "moai_gslookup --hunabku_server http://fisica.udea.edu.co:8080 --proxy_api 74f77ea1ee172c184b356e6861ff8c7c --max_threads 1 --max_papers 2 --db la --max_tries 2\n",
    "```"
   ]
  },
  {
   "cell_type": "code",
   "execution_count": null,
   "metadata": {},
   "outputs": [],
   "source": []
  }
 ],
 "metadata": {
  "kernelspec": {
   "display_name": "Python 3",
   "language": "python",
   "name": "python3"
  },
  "language_info": {
   "codemirror_mode": {
    "name": "ipython",
    "version": 3
   },
   "file_extension": ".py",
   "mimetype": "text/x-python",
   "name": "python",
   "nbconvert_exporter": "python",
   "pygments_lexer": "ipython3",
   "version": "3.5.3"
  },
  "latex_envs": {
   "LaTeX_envs_menu_present": true,
   "autoclose": false,
   "autocomplete": true,
   "bibliofile": "biblio.bib",
   "cite_by": "apalike",
   "current_citInitial": 1,
   "eqLabelWithNumbers": true,
   "eqNumInitial": 1,
   "hotkeys": {
    "equation": "Ctrl-E",
    "itemize": "Ctrl-I"
   },
   "labels_anchors": false,
   "latex_user_defs": false,
   "report_style_numbering": false,
   "user_envs_cfg": false
  }
 },
 "nbformat": 4,
 "nbformat_minor": 4
}
