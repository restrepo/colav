{
 "cells": [
  {
   "cell_type": "markdown",
   "metadata": {},
   "source": [
    "# Documentos Brasil "
   ]
  },
  {
   "cell_type": "markdown",
   "metadata": {},
   "source": [
    "https://link.lens.org/Kr7ZrPzLlJf: Downloaded JSON files [here](https://drive.google.com/drive/folders/1tnLxHd4Jz2s35OdFlnqXRFv4iUEqZ76h?usp=sharing)\n",
    "\n",
    "[Google Scholar](http://scholar.google.com/scholar_lookup?&title=WIMP+dark+matter+as+radiative+neutrino+mass+messenger&journal=JHEP&volume=10&publication_year=2013&author=Hirsch,M&author=Lineros,RA&author=Morisi,S&author=Palacio,J&author=Rojas,N&author=Valle,JWF') example "
   ]
  },
  {
   "cell_type": "markdown",
   "metadata": {},
   "source": [
    "## Excel original con columnas de Google Scholar adicionadas"
   ]
  },
  {
   "cell_type": "markdown",
   "metadata": {},
   "source": [
    "### Con  Pandas\n",
    "Requieres enough RAM"
   ]
  },
  {
   "cell_type": "markdown",
   "metadata": {},
   "source": [
    "Get the lens.org JSON files"
   ]
  },
  {
   "cell_type": "code",
   "execution_count": 2,
   "metadata": {},
   "outputs": [],
   "source": [
    "import pandas as pd"
   ]
  },
  {
   "cell_type": "code",
   "execution_count": 3,
   "metadata": {},
   "outputs": [],
   "source": [
    "br=pd.read_excel('/scratch/colav/Publicacoes-periodicos_2013-2020-Scopus_updated.xlsx')"
   ]
  },
  {
   "cell_type": "code",
   "execution_count": 4,
   "metadata": {},
   "outputs": [
    {
     "data": {
      "text/plain": [
       "(464361, 58)"
      ]
     },
     "execution_count": 4,
     "metadata": {},
     "output_type": "execute_result"
    }
   ],
   "source": [
    "br.shape"
   ]
  },
  {
   "cell_type": "code",
   "execution_count": 5,
   "metadata": {},
   "outputs": [
    {
     "name": "stdout",
     "output_type": "stream",
     "text": [
      "-rw-r--r-- 1 colav colav 193M Nov  6  2023 /scratch/colav/Publicacoes-periodicos_2013-2020-Scopus_updated.xlsx\n"
     ]
    }
   ],
   "source": [
    "ls -lh /scratch/colav/Publicacoes-periodicos_2013-2020-Scopus_updated.xlsx"
   ]
  },
  {
   "cell_type": "code",
   "execution_count": 6,
   "metadata": {},
   "outputs": [
    {
     "data": {
      "text/plain": [
       "Index(['Authors', 'Author(s) ID', 'Title', 'Year', 'Source title', 'Volume',\n",
       "       'Issue', 'Art. No.', 'Page start', 'Page end', 'Page count', 'Cited by',\n",
       "       'DOI', 'Link', 'Affiliations', 'Authors with affiliations', 'Abstract',\n",
       "       'Author Keywords', 'Index Keywords', 'Molecular Sequence Numbers',\n",
       "       'Chemicals/CAS', 'Tradenames', 'Manufacturers', 'Funding Details',\n",
       "       'Funding Text 1', 'Funding Text 2', 'Funding Text 3', 'Funding Text 4',\n",
       "       'Funding Text 5', 'References', 'Correspondence Address', 'Editors',\n",
       "       'Sponsors', 'Publisher', 'Conference name', 'Conference date',\n",
       "       'Conference location', 'Conference code', 'ISSN', 'ISBN', 'CODEN',\n",
       "       'PubMed ID', 'Language of Original Document',\n",
       "       'Abbreviated Source Title', 'Document Type', 'Publication Stage',\n",
       "       'Access Type', 'Source', 'EID', 'ID bolsistas', '_id', 'title', 'cites',\n",
       "       'cites_link', 'profiles', 'bibtex', 'old_title', 'cid'],\n",
       "      dtype='object')"
      ]
     },
     "execution_count": 6,
     "metadata": {},
     "output_type": "execute_result"
    }
   ],
   "source": [
    "br.columns"
   ]
  },
  {
   "cell_type": "markdown",
   "metadata": {},
   "source": [
    "### Datos crudos de Google Scholar"
   ]
  },
  {
   "cell_type": "markdown",
   "metadata": {},
   "source": [
    "Se puede uar el identificador `'cid'` anterior para conectar con estás bases de datos"
   ]
  },
  {
   "cell_type": "markdown",
   "metadata": {},
   "source": [
    "### Con Mongodb\n",
    "Sólo disco"
   ]
  },
  {
   "cell_type": "code",
   "execution_count": 13,
   "metadata": {},
   "outputs": [],
   "source": [
    "from pymongo import MongoClient\n",
    "from bson.objectid import ObjectId\n",
    "import sys"
   ]
  },
  {
   "cell_type": "code",
   "execution_count": 14,
   "metadata": {},
   "outputs": [],
   "source": [
    "client = MongoClient()"
   ]
  },
  {
   "cell_type": "code",
   "execution_count": 15,
   "metadata": {},
   "outputs": [],
   "source": [
    "client = MongoClient('172.19.31.8', 27017)"
   ]
  },
  {
   "cell_type": "code",
   "execution_count": 16,
   "metadata": {},
   "outputs": [],
   "source": [
    "#client.drop_database('la')"
   ]
  },
  {
   "cell_type": "code",
   "execution_count": 17,
   "metadata": {},
   "outputs": [
    {
     "data": {
      "text/plain": [
       "['MA',\n",
       " 'argentina',\n",
       " 'argentina_new_scholar',\n",
       " 'argentina_tmp',\n",
       " 'books',\n",
       " 'br',\n",
       " 'colciencias-mabooks',\n",
       " 'colciencias-names',\n",
       " 'colciencias-test',\n",
       " 'colciencias-test-bk',\n",
       " 'colciencias-test_books',\n",
       " 'colombia',\n",
       " 'colombia_impactu',\n",
       " 'colombia_udea',\n",
       " 'covidbsm',\n",
       " 'inspirehep',\n",
       " 'la',\n",
       " 'local',\n",
       " 'mm_books',\n",
       " 'scholar_bayron',\n",
       " 'scholar_colombia_update',\n",
       " 'scholar_colombia_update_2022',\n",
       " 'scienti_2021',\n",
       " 'sds',\n",
       " 'sds_bk_07112022',\n",
       " 'sds_old',\n",
       " 'test-book-single',\n",
       " 'test-book-single-parse']"
      ]
     },
     "execution_count": 17,
     "metadata": {},
     "output_type": "execute_result"
    }
   ],
   "source": [
    "client.list_database_names()"
   ]
  },
  {
   "cell_type": "code",
   "execution_count": 18,
   "metadata": {},
   "outputs": [],
   "source": [
    "db = client['br']"
   ]
  },
  {
   "cell_type": "code",
   "execution_count": 19,
   "metadata": {},
   "outputs": [
    {
     "data": {
      "text/plain": [
       "['stage_cites',\n",
       " 'stage_cites_invalid',\n",
       " 'quarantine',\n",
       " 'stage_invalid',\n",
       " 'cache_cites_count',\n",
       " 'error_cites_count',\n",
       " 'gslookup_not_found',\n",
       " 'data',\n",
       " 'cache_cites',\n",
       " 'stage']"
      ]
     },
     "execution_count": 19,
     "metadata": {},
     "output_type": "execute_result"
    }
   ],
   "source": [
    "db.list_collection_names()"
   ]
  },
  {
   "cell_type": "markdown",
   "metadata": {},
   "source": [
    "Colección de datos de entrada obtenidos a partir del Excel original para buscar la información de Google Scholar a través de Moai"
   ]
  },
  {
   "cell_type": "code",
   "execution_count": 20,
   "metadata": {},
   "outputs": [],
   "source": [
    "dt=db.get_collection('data')"
   ]
  },
  {
   "cell_type": "code",
   "execution_count": 22,
   "metadata": {},
   "outputs": [
    {
     "data": {
      "text/plain": [
       "437952"
      ]
     },
     "execution_count": 22,
     "metadata": {},
     "output_type": "execute_result"
    }
   ],
   "source": [
    "dt.count_documents({})"
   ]
  },
  {
   "cell_type": "markdown",
   "metadata": {},
   "source": [
    "Colección con los metadatos de Google Scholar incluyendo el conteo de citas, el bibtex y los perfiles en Google Scholar de los autores"
   ]
  },
  {
   "cell_type": "code",
   "execution_count": 21,
   "metadata": {},
   "outputs": [],
   "source": [
    "st=db.get_collection('stage')"
   ]
  },
  {
   "cell_type": "code",
   "execution_count": 13,
   "metadata": {},
   "outputs": [
    {
     "data": {
      "text/plain": [
       "418177"
      ]
     },
     "execution_count": 13,
     "metadata": {},
     "output_type": "execute_result"
    }
   ],
   "source": [
    "st.count_documents({})"
   ]
  },
  {
   "cell_type": "markdown",
   "metadata": {},
   "source": [
    "Colección con los metadatos de las citas"
   ]
  },
  {
   "cell_type": "code",
   "execution_count": 23,
   "metadata": {},
   "outputs": [],
   "source": [
    "ct=db.get_collection('stage_cites')"
   ]
  },
  {
   "cell_type": "code",
   "execution_count": 24,
   "metadata": {},
   "outputs": [
    {
     "data": {
      "text/plain": [
       "6139404"
      ]
     },
     "execution_count": 24,
     "metadata": {},
     "output_type": "execute_result"
    }
   ],
   "source": [
    "ct.count_documents({})"
   ]
  },
  {
   "cell_type": "markdown",
   "metadata": {},
   "source": [
    "### Algunos ejemplos de uso de mongo"
   ]
  },
  {
   "cell_type": "code",
   "execution_count": 25,
   "metadata": {},
   "outputs": [],
   "source": [
    "i=20201\n",
    "l=[d for d in st.find({'article_id':str(i)})]"
   ]
  },
  {
   "cell_type": "code",
   "execution_count": 26,
   "metadata": {},
   "outputs": [],
   "source": [
    "from IPython.display import JSON"
   ]
  },
  {
   "cell_type": "code",
   "execution_count": 27,
   "metadata": {},
   "outputs": [],
   "source": [
    "d=l[0]"
   ]
  },
  {
   "cell_type": "code",
   "execution_count": 30,
   "metadata": {},
   "outputs": [],
   "source": [
    "import bson"
   ]
  },
  {
   "cell_type": "code",
   "execution_count": 31,
   "metadata": {},
   "outputs": [
    {
     "data": {
      "text/plain": [
       "bson.objectid.ObjectId"
      ]
     },
     "execution_count": 31,
     "metadata": {},
     "output_type": "execute_result"
    }
   ],
   "source": [
    "bson.ObjectId"
   ]
  },
  {
   "cell_type": "code",
   "execution_count": 32,
   "metadata": {},
   "outputs": [
    {
     "data": {
      "text/plain": [
       "bson.objectid.ObjectId"
      ]
     },
     "execution_count": 32,
     "metadata": {},
     "output_type": "execute_result"
    }
   ],
   "source": [
    "type(d['_id'])"
   ]
  },
  {
   "cell_type": "code",
   "execution_count": 33,
   "metadata": {},
   "outputs": [
    {
     "data": {
      "text/plain": [
       "True"
      ]
     },
     "execution_count": 33,
     "metadata": {},
     "output_type": "execute_result"
    }
   ],
   "source": [
    "type(d['_id'])==bson.objectid.ObjectId"
   ]
  },
  {
   "cell_type": "code",
   "execution_count": 34,
   "metadata": {},
   "outputs": [
    {
     "data": {
      "application/json": [
       {
        "_id": "612075617786ebe16822a016",
        "abstract": "PURPOSE This study evaluated the influence of prosthesis weight and number of implants on the bone tissue microstrain. MATERIALS AND METHODS Fifteen (15) fixed full-arch implant-supported prosthesis designs were created using a modeling software with different numbers of implants (4, 6, or 8) and prosthesis weights (10, 15, 20, 40, or 60 g). Each solid was imported to the computer aided engineering software and tetrahedral elements formed the mesh. The material properties were assigned to each solid with isotropic and�…",
        "article_id": "20201",
        "author": "Tribst, João Paulo Mendes and Dal Piva, Amanda Maria de Oliveira and Borges, Alexandre Luiz Souto and Rodrigues, Vinicius Anéas and Bottino, Marco Antonio and Kleverlaan, Cornelis Johannes",
        "bibtex": "@article{tribst2020does,\n  title={Does the prosthesis weight matter? 3D finite element analysis of a fixed implant-supported prosthesis at different weights and implant numbers},\n  author={Tribst, Jo{\\~a}o Paulo Mendes and Dal Piva, Amanda Maria de Oliveira and Borges, Alexandre Luiz Souto and Rodrigues, Vinicius An{\\'e}as and Bottino, Marco Antonio and Kleverlaan, Cornelis Johannes},\n  journal={The journal of advanced prosthodontics},\n  volume={12},\n  number={2},\n  pages={67},\n  year={2020},\n  publisher={Korean Academy of Prosthodontics}\n}\n",
        "cid": "tpq6iZKi_FsJ",
        "cites": "24",
        "cites_link": "/scholar?cites=6628351501842160310&as_sdt=5,47&sciodt=0,47&hl=en&oe=ASCII",
        "country": "",
        "doi": "10.4047/jap.2020.12.2.67",
        "issue": "",
        "journal": "The journal of advanced prosthodontics",
        "language": "",
        "old_title": "Does the prosthesis weight matter? 3D finite element analysis of a fixed implant-supported prosthesis at different weights and implant numbers",
        "pages": "67",
        "pdf": "https://www.ncbi.nlm.nih.gov/pmc/articles/PMC7183854/",
        "profiles": "{'JPM Tribst': 'uz7ZFwgAAAAJ', 'AMO Dal Piva': 'nU9cAIMAAAAJ', 'ALS Borges': 'y-0OeZQAAAAJ'}",
        "publisher": "Korean Academy of Prosthodontics",
        "ref": "JPM Tribst, AMO Dal Piva, ALS Borges…�- The journal of�…, 2020 - ncbi.nlm.nih.gov",
        "rp": "0",
        "timestamp": "1629525326",
        "title": "Does the prosthesis weight matter? 3D finite element analysis of a fixed implant-supported prosthesis at different weights and implant numbers",
        "volume": "12",
        "year": "2020"
       }
      ],
      "text/plain": [
       "<IPython.core.display.JSON object>"
      ]
     },
     "execution_count": 34,
     "metadata": {
      "application/json": {
       "expanded": false,
       "root": "root"
      }
     },
     "output_type": "execute_result"
    }
   ],
   "source": [
    "JSON( [ dict(zip(d.keys(),[str(x) if isinstance(d['_id'],bson.objectid.ObjectId) else x for x in d.values()]))] )"
   ]
  },
  {
   "cell_type": "markdown",
   "metadata": {},
   "source": [
    "Count citations"
   ]
  },
  {
   "cell_type": "code",
   "execution_count": 36,
   "metadata": {},
   "outputs": [],
   "source": [
    "import time"
   ]
  },
  {
   "cell_type": "code",
   "execution_count": 37,
   "metadata": {},
   "outputs": [
    {
     "name": "stdout",
     "output_type": "stream",
     "text": [
      "10400657\n",
      "8.123533487319946\n"
     ]
    }
   ],
   "source": [
    "s=time.time()\n",
    "n=0\n",
    "i=0\n",
    "for d in st.find():\n",
    "    nc=d.get('cites')\n",
    "    if nc:\n",
    "        n=n+nc\n",
    "    \n",
    "    if i%10000==0:\n",
    "        print(str(n).zfill(7),end='\\r')\n",
    "    i=i+1\n",
    "print('')\n",
    "print(time.time()-s)"
   ]
  }
 ],
 "metadata": {
  "kernelspec": {
   "display_name": "Python 3 (ipykernel)",
   "language": "python",
   "name": "python3"
  },
  "language_info": {
   "codemirror_mode": {
    "name": "ipython",
    "version": 3
   },
   "file_extension": ".py",
   "mimetype": "text/x-python",
   "name": "python",
   "nbconvert_exporter": "python",
   "pygments_lexer": "ipython3",
   "version": "3.9.2"
  }
 },
 "nbformat": 4,
 "nbformat_minor": 4
}
