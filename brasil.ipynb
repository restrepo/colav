{
 "cells": [
  {
   "cell_type": "markdown",
   "metadata": {},
   "source": [
    "# Brasil documents"
   ]
  },
  {
   "cell_type": "markdown",
   "metadata": {},
   "source": [
    "https://link.lens.org/Kr7ZrPzLlJf: Downloaded JSON files [here](https://drive.google.com/drive/folders/1tnLxHd4Jz2s35OdFlnqXRFv4iUEqZ76h?usp=sharing)\n",
    "\n",
    "[Google Scholar](http://scholar.google.com/scholar_lookup?&title=WIMP+dark+matter+as+radiative+neutrino+mass+messenger&journal=JHEP&volume=10&publication_year=2013&author=Hirsch,M&author=Lineros,RA&author=Morisi,S&author=Palacio,J&author=Rojas,N&author=Valle,JWF') example "
   ]
  },
  {
   "cell_type": "markdown",
   "metadata": {},
   "source": [
    "## Prepare data collection"
   ]
  },
  {
   "cell_type": "markdown",
   "metadata": {},
   "source": [
    "### With  Pandas\n",
    "Requieres enough RAM"
   ]
  },
  {
   "cell_type": "markdown",
   "metadata": {},
   "source": [
    "Get the lens.org JSON files"
   ]
  },
  {
   "cell_type": "code",
   "execution_count": 1,
   "metadata": {},
   "outputs": [],
   "source": [
    "import pandas as pd"
   ]
  },
  {
   "cell_type": "code",
   "execution_count": 2,
   "metadata": {},
   "outputs": [],
   "source": [
    "br=pd.read_excel('/scratch/restrepo/Publicacoes-periodicos_2013-2020-Scopus.xlsx')"
   ]
  },
  {
   "cell_type": "code",
   "execution_count": 3,
   "metadata": {},
   "outputs": [
    {
     "data": {
      "text/plain": [
       "['Art. No.', 'CODEN', 'PubMed ID']"
      ]
     },
     "execution_count": 3,
     "metadata": {},
     "output_type": "execute_result"
    }
   ],
   "source": [
    "['Art. No.','CODEN','PubMed ID']"
   ]
  },
  {
   "cell_type": "code",
   "execution_count": 4,
   "metadata": {},
   "outputs": [
    {
     "data": {
      "text/plain": [
       "True"
      ]
     },
     "execution_count": 4,
     "metadata": {},
     "output_type": "execute_result"
    }
   ],
   "source": [
    "br[~br['PubMed ID'].isna()].empty"
   ]
  },
  {
   "cell_type": "code",
   "execution_count": 5,
   "metadata": {},
   "outputs": [],
   "source": [
    "nanc=[c for c in br.columns\n",
    "    if br[~br[c].isna()].empty]"
   ]
  },
  {
   "cell_type": "code",
   "execution_count": 6,
   "metadata": {},
   "outputs": [],
   "source": [
    "br=br.drop(nanc,axis='columns')"
   ]
  },
  {
   "cell_type": "code",
   "execution_count": 7,
   "metadata": {},
   "outputs": [],
   "source": [
    "br.to_excel('Publicacoes-periodicos_2013-2020-Scopus.xlsx',index=False)"
   ]
  },
  {
   "cell_type": "code",
   "execution_count": 8,
   "metadata": {},
   "outputs": [],
   "source": [
    "br=pd.read_excel('Publicacoes-periodicos_2013-2020-Scopus.xlsx')"
   ]
  },
  {
   "cell_type": "code",
   "execution_count": 9,
   "metadata": {},
   "outputs": [
    {
     "data": {
      "text/plain": [
       "Index(['Authors', 'Title', 'Year', 'Source title', 'Volume', 'Issue',\n",
       "       'Page start', 'Page end', 'DOI', 'Author Keywords', 'ISSN',\n",
       "       'ID bolsistas'],\n",
       "      dtype='object')"
      ]
     },
     "execution_count": 9,
     "metadata": {},
     "output_type": "execute_result"
    }
   ],
   "source": [
    "br['ID bolsistas']=br['ID bolsistas'].str.replace(\"'\",\"\")\n",
    "br.columns"
   ]
  },
  {
   "cell_type": "code",
   "execution_count": 10,
   "metadata": {},
   "outputs": [],
   "source": [
    "br['pages']=br.apply(lambda row: f\"{row['Page start']}-{row['Page end']}\" if isinstance(row['Page end'],int) else row['Page start'] ,axis='columns')"
   ]
  },
  {
   "cell_type": "code",
   "execution_count": 11,
   "metadata": {},
   "outputs": [],
   "source": [
    "from IPython.display import  JSON"
   ]
  },
  {
   "cell_type": "markdown",
   "metadata": {},
   "source": [
    "JSON Scheme:"
   ]
  },
  {
   "cell_type": "code",
   "execution_count": 12,
   "metadata": {},
   "outputs": [
    {
     "data": {
      "application/json": {
       "abstract": "",
       "article_id": "",
       "author": "Williams, JD",
       "country": "",
       "doi": "",
       "issue": "1",
       "journal": "Cuadernos de Herpetología",
       "language": "",
       "pages": "",
       "publisher": "",
       "title": "Asociación Herpetológica Argentina: Treinta años de esfuerzos y resultados",
       "volume": "27",
       "year": 2013
      },
      "text/plain": [
       "<IPython.core.display.JSON object>"
      ]
     },
     "execution_count": 12,
     "metadata": {
      "application/json": {
       "expanded": false,
       "root": "root"
      }
     },
     "output_type": "execute_result"
    }
   ],
   "source": [
    "JSON( {'title': 'Asociación Herpetológica Argentina: Treinta años de esfuerzos y resultados',\n",
    " 'author': 'Williams, JD',\n",
    " 'journal': 'Cuadernos de Herpetología',\n",
    " 'year': 2013,\n",
    " 'volume': '27',\n",
    " 'issue': '1',\n",
    " 'doi': '',\n",
    " 'publisher': '',\n",
    " 'country': '',\n",
    " 'pages': '',\n",
    " 'abstract': '',\n",
    " 'article_id': '',\n",
    " 'language': ''})"
   ]
  },
  {
   "cell_type": "code",
   "execution_count": 13,
   "metadata": {},
   "outputs": [],
   "source": [
    "br=br.rename({'Title':'title',\n",
    "              'Authors':'author',\n",
    "              'Source title':'journal',\n",
    "              'Year':'year',\n",
    "              'Volume':'volume',\n",
    "              'Issue':'issue',\n",
    "              'DOI':'doi',\n",
    "             },axis='columns')"
   ]
  },
  {
   "cell_type": "code",
   "execution_count": 14,
   "metadata": {},
   "outputs": [],
   "source": [
    "br['publisher']=''\n",
    "br['country']=''\n",
    "br[\"abstract\"]=''\n",
    "br[\"language\"]=''\n",
    "br[\"article_id\"]=br[\"article_id\"]=br.index"
   ]
  },
  {
   "cell_type": "code",
   "execution_count": 15,
   "metadata": {},
   "outputs": [],
   "source": [
    "br.to_json('brasil.json', orient='records') #,orient='records'"
   ]
  },
  {
   "cell_type": "code",
   "execution_count": 16,
   "metadata": {},
   "outputs": [
    {
     "name": "stdout",
     "output_type": "stream",
     "text": [
      "-rw-r--r-- 1 colav colav 322M Nov 12  2023 brasil.json\n"
     ]
    }
   ],
   "source": [
    "ls -lh brasil.json"
   ]
  },
  {
   "cell_type": "markdown",
   "metadata": {},
   "source": [
    "See [sample.ipynb]('./sample.ipynb') for installation instrucctions of the Google Scholar downloader tool, `moai`\n",
    "\n",
    "connect to mongodb host, and (Default port is 27017). Optiona use of other port is report\n",
    "```bash\n",
    "$ cd\n",
    "$ mongod --dbpath data/db/ [--port 27018]\n",
    "```\n",
    "and cp `brasil.json` there. Then"
   ]
  },
  {
   "cell_type": "markdown",
   "metadata": {},
   "source": [
    "```bash\n",
    "mongoimport --db br --collection data --file /scratch/restrepo/brasil.json --jsonArray [--port 27018]\n",
    "hunabku_server [--db_port 27018]\n",
    "moai_gslookup --hunabku_server http://10.0.0.8:8080 --proxy_api XXXXX --max_threads 50 --db br --max_tries 2\n",
    "```\n",
    "<!--XXX →  12894ec7c83f91ffcdff8fb116e75906 -->"
   ]
  },
  {
   "cell_type": "markdown",
   "metadata": {},
   "source": [
    "Monitor the running of `moai_gslookup`\n",
    "```bash\n",
    "$ mongo [--port 27018]\n",
    "> use br\n",
    "switched to db br\n",
    "> show collections\n",
    "data\n",
    "> show collections\n",
    "data\n",
    "quarantine\n",
    "stage\n",
    "> db.stage.count()\n",
    "372\n",
    "```"
   ]
  },
  {
   "cell_type": "markdown",
   "metadata": {},
   "source": [
    "### Creates de chache\n",
    "```bash\n",
    "moai_gscites  --hunabku_server http://10.0.0.8:8080 --proxy_apikey xxxxxx --db br --create_cache\n",
    "\n",
    "```"
   ]
  },
  {
   "cell_type": "markdown",
   "metadata": {},
   "source": [
    "### Download metadata info for each cite\n",
    "Creates \n",
    "```bash\n",
    "moai_gscites  --hunabku_server http://10.0.0.8:8080 --proxy_apikey xxxxxx --db br --max_threads 50  --max_tries 2\n",
    "```"
   ]
  },
  {
   "cell_type": "markdown",
   "metadata": {},
   "source": [
    "## Dump"
   ]
  },
  {
   "cell_type": "markdown",
   "metadata": {},
   "source": [
    "```bash\n",
    "cd /scratch/restrepo/dumps/br/\n",
    "mongodump -d br [--port 27018]\n",
    "#To restore in a new mongo without the la database:\n",
    "mongorestore ./dump/\n",
    "```\n",
    "\n",
    "backup \n",
    "```bash\n",
    "local$ rsync -avxz dump colav@clustercien.udea.edu.co:covid\n",
    "local$ ssh colav@clustercien.udea.edu.co\n",
    "password:\n",
    "clustercien$ cd covid\n",
    "clustercien$ ls\n",
    "dump\n",
    "clustercien$ mongorestore ./dump/\n",
    "```"
   ]
  },
  {
   "cell_type": "markdown",
   "metadata": {},
   "source": [
    "## Check the API"
   ]
  },
  {
   "cell_type": "code",
   "execution_count": 17,
   "metadata": {},
   "outputs": [],
   "source": [
    "import requests\n",
    "import getpass"
   ]
  },
  {
   "cell_type": "code",
   "execution_count": null,
   "metadata": {},
   "outputs": [],
   "source": [
    "api=getpass.getpass('API key')"
   ]
  },
  {
   "cell_type": "code",
   "execution_count": 3,
   "metadata": {},
   "outputs": [],
   "source": [
    "rr=requests.get(f\"http://api.scraperapi.com/account?api_key={api}\")"
   ]
  },
  {
   "cell_type": "code",
   "execution_count": 4,
   "metadata": {},
   "outputs": [
    {
     "data": {
      "text/plain": [
       "{'concurrencyLimit': 50,\n",
       " 'concurrentRequests': 0,\n",
       " 'failedRequestCount': 187934,\n",
       " 'requestCount': 3000225,\n",
       " 'requestLimit': '3000000'}"
      ]
     },
     "execution_count": 4,
     "metadata": {},
     "output_type": "execute_result"
    }
   ],
   "source": [
    "rr.json()"
   ]
  },
  {
   "cell_type": "markdown",
   "metadata": {},
   "source": [
    "### With Mongodb\n",
    "Only disc"
   ]
  },
  {
   "cell_type": "code",
   "execution_count": 4,
   "metadata": {},
   "outputs": [],
   "source": [
    "from pymongo import MongoClient\n",
    "from bson.objectid import ObjectId\n",
    "import sys"
   ]
  },
  {
   "cell_type": "code",
   "execution_count": 5,
   "metadata": {},
   "outputs": [],
   "source": [
    "client = MongoClient()"
   ]
  },
  {
   "cell_type": "code",
   "execution_count": 6,
   "metadata": {},
   "outputs": [],
   "source": [
    "client = MongoClient('172.19.31.8', 27017)"
   ]
  },
  {
   "cell_type": "code",
   "execution_count": 7,
   "metadata": {},
   "outputs": [],
   "source": [
    "#client.drop_database('la')"
   ]
  },
  {
   "cell_type": "code",
   "execution_count": 8,
   "metadata": {},
   "outputs": [
    {
     "data": {
      "text/plain": [
       "['MA',\n",
       " 'argentina',\n",
       " 'argentina_new_scholar',\n",
       " 'argentina_tmp',\n",
       " 'books',\n",
       " 'br',\n",
       " 'colciencias-mabooks',\n",
       " 'colciencias-names',\n",
       " 'colciencias-test',\n",
       " 'colciencias-test-bk',\n",
       " 'colciencias-test_books',\n",
       " 'colombia',\n",
       " 'colombia_impactu',\n",
       " 'colombia_udea',\n",
       " 'covidbsm',\n",
       " 'inspirehep',\n",
       " 'la',\n",
       " 'local',\n",
       " 'mm_books',\n",
       " 'scholar_colombia_update',\n",
       " 'scholar_colombia_update_2022',\n",
       " 'scienti_2021',\n",
       " 'sds',\n",
       " 'sds_bk_07112022',\n",
       " 'sds_old',\n",
       " 'test-book-single',\n",
       " 'test-book-single-parse']"
      ]
     },
     "execution_count": 8,
     "metadata": {},
     "output_type": "execute_result"
    }
   ],
   "source": [
    "client.list_database_names()"
   ]
  },
  {
   "cell_type": "code",
   "execution_count": 7,
   "metadata": {},
   "outputs": [],
   "source": [
    "db = client['br']"
   ]
  },
  {
   "cell_type": "code",
   "execution_count": 8,
   "metadata": {},
   "outputs": [
    {
     "data": {
      "text/plain": [
       "['stage_cites',\n",
       " 'stage_cites_invalid',\n",
       " 'quarantine',\n",
       " 'stage_invalid',\n",
       " 'cache_cites_count',\n",
       " 'error_cites_count',\n",
       " 'gslookup_not_found',\n",
       " 'data',\n",
       " 'cache_cites',\n",
       " 'stage']"
      ]
     },
     "execution_count": 8,
     "metadata": {},
     "output_type": "execute_result"
    }
   ],
   "source": [
    "db.list_collection_names()"
   ]
  },
  {
   "cell_type": "code",
   "execution_count": 11,
   "metadata": {},
   "outputs": [],
   "source": [
    "dt=db.get_collection('data')"
   ]
  },
  {
   "cell_type": "code",
   "execution_count": 12,
   "metadata": {},
   "outputs": [],
   "source": [
    "st=db.get_collection('stage')"
   ]
  },
  {
   "cell_type": "code",
   "execution_count": 13,
   "metadata": {},
   "outputs": [
    {
     "data": {
      "text/plain": [
       "418177"
      ]
     },
     "execution_count": 13,
     "metadata": {},
     "output_type": "execute_result"
    }
   ],
   "source": [
    "st.count_documents({})"
   ]
  },
  {
   "cell_type": "code",
   "execution_count": 12,
   "metadata": {},
   "outputs": [],
   "source": [
    "i=20201\n",
    "l=[d for d in st.find({'article_id':str(i)})]"
   ]
  },
  {
   "cell_type": "code",
   "execution_count": 14,
   "metadata": {},
   "outputs": [],
   "source": [
    "from IPython.display import JSON"
   ]
  },
  {
   "cell_type": "code",
   "execution_count": 28,
   "metadata": {},
   "outputs": [],
   "source": [
    "d=l[0]"
   ]
  },
  {
   "cell_type": "code",
   "execution_count": 47,
   "metadata": {},
   "outputs": [
    {
     "data": {
      "text/plain": [
       "True"
      ]
     },
     "execution_count": 47,
     "metadata": {},
     "output_type": "execute_result"
    }
   ],
   "source": []
  },
  {
   "cell_type": "code",
   "execution_count": 45,
   "metadata": {},
   "outputs": [],
   "source": [
    "import bson"
   ]
  },
  {
   "cell_type": "code",
   "execution_count": null,
   "metadata": {},
   "outputs": [],
   "source": [
    "bson.ObjectId"
   ]
  },
  {
   "cell_type": "code",
   "execution_count": 43,
   "metadata": {},
   "outputs": [
    {
     "data": {
      "text/plain": [
       "bson.objectid.ObjectId"
      ]
     },
     "execution_count": 43,
     "metadata": {},
     "output_type": "execute_result"
    }
   ],
   "source": [
    "type(d['_id'])"
   ]
  },
  {
   "cell_type": "code",
   "execution_count": 46,
   "metadata": {},
   "outputs": [
    {
     "data": {
      "text/plain": [
       "True"
      ]
     },
     "execution_count": 46,
     "metadata": {},
     "output_type": "execute_result"
    }
   ],
   "source": [
    "type(d['_id'])==bson.objectid.ObjectId"
   ]
  },
  {
   "cell_type": "code",
   "execution_count": 50,
   "metadata": {},
   "outputs": [
    {
     "data": {
      "application/json": [
       {
        "_id": "612075617786ebe16822a016",
        "abstract": "PURPOSE This study evaluated the influence of prosthesis weight and number of implants on the bone tissue microstrain. MATERIALS AND METHODS Fifteen (15) fixed full-arch implant-supported prosthesis designs were created using a modeling software with different numbers of implants (4, 6, or 8) and prosthesis weights (10, 15, 20, 40, or 60 g). Each solid was imported to the computer aided engineering software and tetrahedral elements formed the mesh. The material properties were assigned to each solid with isotropic and�…",
        "article_id": "20201",
        "author": "Tribst, João Paulo Mendes and Dal Piva, Amanda Maria de Oliveira and Borges, Alexandre Luiz Souto and Rodrigues, Vinicius Anéas and Bottino, Marco Antonio and Kleverlaan, Cornelis Johannes",
        "bibtex": "@article{tribst2020does,\n  title={Does the prosthesis weight matter? 3D finite element analysis of a fixed implant-supported prosthesis at different weights and implant numbers},\n  author={Tribst, Jo{\\~a}o Paulo Mendes and Dal Piva, Amanda Maria de Oliveira and Borges, Alexandre Luiz Souto and Rodrigues, Vinicius An{\\'e}as and Bottino, Marco Antonio and Kleverlaan, Cornelis Johannes},\n  journal={The journal of advanced prosthodontics},\n  volume={12},\n  number={2},\n  pages={67},\n  year={2020},\n  publisher={Korean Academy of Prosthodontics}\n}\n",
        "cid": "tpq6iZKi_FsJ",
        "cites": "8",
        "cites_link": "/scholar?cites=6628351501842160310&as_sdt=5,47&sciodt=0,47&hl=en&oe=ASCII",
        "country": "",
        "doi": "10.4047/jap.2020.12.2.67",
        "issue": "",
        "journal": "The journal of advanced prosthodontics",
        "language": "",
        "old_title": "Does the prosthesis weight matter? 3D finite element analysis of a fixed implant-supported prosthesis at different weights and implant numbers",
        "pages": "67",
        "pdf": "https://www.ncbi.nlm.nih.gov/pmc/articles/PMC7183854/",
        "profiles": "{'JPM Tribst': 'uz7ZFwgAAAAJ', 'AMO Dal Piva': 'nU9cAIMAAAAJ', 'ALS Borges': 'y-0OeZQAAAAJ'}",
        "publisher": "Korean Academy of Prosthodontics",
        "ref": "JPM Tribst, AMO Dal Piva, ALS Borges…�- The journal of�…, 2020 - ncbi.nlm.nih.gov",
        "rp": "0",
        "timestamp": "1629525326",
        "title": "Does the prosthesis weight matter? 3D finite element analysis of a fixed implant-supported prosthesis at different weights and implant numbers",
        "volume": "12",
        "year": "2020"
       }
      ],
      "text/plain": [
       "<IPython.core.display.JSON object>"
      ]
     },
     "execution_count": 50,
     "metadata": {
      "application/json": {
       "expanded": false,
       "root": "root"
      }
     },
     "output_type": "execute_result"
    }
   ],
   "source": [
    "JSON( [ dict(zip(d.keys(),[str(x) if isinstance(d['_id'],bson.objectid.ObjectId) else x for x in d.values()]))] )"
   ]
  },
  {
   "cell_type": "markdown",
   "metadata": {},
   "source": [
    "Count citations"
   ]
  },
  {
   "cell_type": "code",
   "execution_count": 13,
   "metadata": {},
   "outputs": [],
   "source": [
    "import time"
   ]
  },
  {
   "cell_type": "code",
   "execution_count": 23,
   "metadata": {},
   "outputs": [
    {
     "name": "stdout",
     "output_type": "stream",
     "text": [
      "6678492\n",
      "5.3602800369262695\n"
     ]
    }
   ],
   "source": [
    "s=time.time()\n",
    "n=0\n",
    "i=0\n",
    "for d in st.find():\n",
    "    nc=d.get('cites')\n",
    "    if nc:\n",
    "        n=n+nc\n",
    "    \n",
    "    if i%10000==0:\n",
    "        print(str(n).zfill(7),end='\\r')\n",
    "    i=i+1\n",
    "print('')\n",
    "print(time.time()-s)"
   ]
  },
  {
   "cell_type": "code",
   "execution_count": 24,
   "metadata": {},
   "outputs": [
    {
     "data": {
      "text/plain": [
       "6740871"
      ]
     },
     "execution_count": 24,
     "metadata": {},
     "output_type": "execute_result"
    }
   ],
   "source": [
    "n"
   ]
  },
  {
   "cell_type": "markdown",
   "metadata": {},
   "source": [
    "## Update"
   ]
  },
  {
   "cell_type": "code",
   "execution_count": 49,
   "metadata": {},
   "outputs": [],
   "source": [
    "ct=pd.read_excel('/scratch/restrepo/citacoes.xlsx')"
   ]
  },
  {
   "cell_type": "code",
   "execution_count": 50,
   "metadata": {},
   "outputs": [
    {
     "data": {
      "text/plain": [
       "(437952, 16)"
      ]
     },
     "execution_count": 50,
     "metadata": {},
     "output_type": "execute_result"
    }
   ],
   "source": [
    "ct.shape"
   ]
  },
  {
   "cell_type": "code",
   "execution_count": 51,
   "metadata": {},
   "outputs": [
    {
     "data": {
      "text/plain": [
       "Index(['ID', 'author', 'title', 'year', 'journal', 'volume', 'issue',\n",
       "       'Page start', 'Page end', 'doi', 'Author Keywords', 'ISSN',\n",
       "       'ID bolsistas', 'pages', 'cites', 'Coautorías'],\n",
       "      dtype='object')"
      ]
     },
     "execution_count": 51,
     "metadata": {},
     "output_type": "execute_result"
    }
   ],
   "source": [
    "ct.columns"
   ]
  },
  {
   "cell_type": "code",
   "execution_count": 53,
   "metadata": {},
   "outputs": [
    {
     "data": {
      "text/html": [
       "<div>\n",
       "<style scoped>\n",
       "    .dataframe tbody tr th:only-of-type {\n",
       "        vertical-align: middle;\n",
       "    }\n",
       "\n",
       "    .dataframe tbody tr th {\n",
       "        vertical-align: top;\n",
       "    }\n",
       "\n",
       "    .dataframe thead th {\n",
       "        text-align: right;\n",
       "    }\n",
       "</style>\n",
       "<table border=\"1\" class=\"dataframe\">\n",
       "  <thead>\n",
       "    <tr style=\"text-align: right;\">\n",
       "      <th></th>\n",
       "      <th>ID</th>\n",
       "      <th>author</th>\n",
       "      <th>title</th>\n",
       "      <th>year</th>\n",
       "      <th>journal</th>\n",
       "      <th>volume</th>\n",
       "      <th>issue</th>\n",
       "      <th>Page start</th>\n",
       "      <th>Page end</th>\n",
       "      <th>doi</th>\n",
       "      <th>Author Keywords</th>\n",
       "      <th>ISSN</th>\n",
       "      <th>ID bolsistas</th>\n",
       "      <th>pages</th>\n",
       "      <th>cites</th>\n",
       "      <th>Coautorías</th>\n",
       "    </tr>\n",
       "  </thead>\n",
       "  <tbody>\n",
       "    <tr>\n",
       "      <th>0</th>\n",
       "      <td>1</td>\n",
       "      <td>SANCHES R., RAZKY A.</td>\n",
       "      <td>Variação Linguística para Cigarro de Palha e T...</td>\n",
       "      <td>2015</td>\n",
       "      <td>Revista Todas as Letras (MACKENZIE. Online)</td>\n",
       "      <td>17</td>\n",
       "      <td>NaN</td>\n",
       "      <td>196</td>\n",
       "      <td>206</td>\n",
       "      <td>10.15529/1980-6914/letras.v17n3p196-206</td>\n",
       "      <td>NaN</td>\n",
       "      <td>19806914</td>\n",
       "      <td>8153913927369006</td>\n",
       "      <td>196-206</td>\n",
       "      <td>0</td>\n",
       "      <td>2</td>\n",
       "    </tr>\n",
       "    <tr>\n",
       "      <th>1</th>\n",
       "      <td>2</td>\n",
       "      <td>RAZKY A., SANCHES R.D.</td>\n",
       "      <td>VARIAÇÃO GEOSSOCIAL DO ITEM LEXICAL ?RIACHO/CÓ...</td>\n",
       "      <td>2016</td>\n",
       "      <td>GRAGOATÁ</td>\n",
       "      <td>21</td>\n",
       "      <td>NaN</td>\n",
       "      <td>70</td>\n",
       "      <td>89</td>\n",
       "      <td>10.22409/gragoata.v21i40.33375</td>\n",
       "      <td>Dialetologia Pluridimensional; Variação lexica...</td>\n",
       "      <td>23584114</td>\n",
       "      <td>8153913927369006</td>\n",
       "      <td>70-89</td>\n",
       "      <td>8</td>\n",
       "      <td>2</td>\n",
       "    </tr>\n",
       "    <tr>\n",
       "      <th>2</th>\n",
       "      <td>3</td>\n",
       "      <td>OLIVEIRA M.B.D., LIMA A.F.d., RAZKY A.</td>\n",
       "      <td>Palatalização de l diante de i no português br...</td>\n",
       "      <td>2016</td>\n",
       "      <td>Revista Linguística (Online)</td>\n",
       "      <td>32</td>\n",
       "      <td>NaN</td>\n",
       "      <td>1</td>\n",
       "      <td>10</td>\n",
       "      <td>10.5935/2079-312x.20160017</td>\n",
       "      <td>ATLAS LINGUÍSTICO DO BRASIL; geografia lingüís...</td>\n",
       "      <td>2079312X</td>\n",
       "      <td>8153913927369006</td>\n",
       "      <td>1-10</td>\n",
       "      <td>1</td>\n",
       "      <td>3</td>\n",
       "    </tr>\n",
       "  </tbody>\n",
       "</table>\n",
       "</div>"
      ],
      "text/plain": [
       "   ID                                  author  \\\n",
       "0   1                    SANCHES R., RAZKY A.   \n",
       "1   2                  RAZKY A., SANCHES R.D.   \n",
       "2   3  OLIVEIRA M.B.D., LIMA A.F.d., RAZKY A.   \n",
       "\n",
       "                                               title  year  \\\n",
       "0  Variação Linguística para Cigarro de Palha e T...  2015   \n",
       "1  VARIAÇÃO GEOSSOCIAL DO ITEM LEXICAL ?RIACHO/CÓ...  2016   \n",
       "2  Palatalização de l diante de i no português br...  2016   \n",
       "\n",
       "                                       journal volume issue Page start  \\\n",
       "0  Revista Todas as Letras (MACKENZIE. Online)     17   NaN        196   \n",
       "1                                     GRAGOATÁ     21   NaN         70   \n",
       "2                 Revista Linguística (Online)     32   NaN          1   \n",
       "\n",
       "  Page end                                      doi  \\\n",
       "0      206  10.15529/1980-6914/letras.v17n3p196-206   \n",
       "1       89           10.22409/gragoata.v21i40.33375   \n",
       "2       10               10.5935/2079-312x.20160017   \n",
       "\n",
       "                                     Author Keywords      ISSN  \\\n",
       "0                                                NaN  19806914   \n",
       "1  Dialetologia Pluridimensional; Variação lexica...  23584114   \n",
       "2  ATLAS LINGUÍSTICO DO BRASIL; geografia lingüís...  2079312X   \n",
       "\n",
       "       ID bolsistas    pages  cites  Coautorías  \n",
       "0  8153913927369006  196-206      0           2  \n",
       "1  8153913927369006    70-89      8           2  \n",
       "2  8153913927369006     1-10      1           3  "
      ]
     },
     "execution_count": 53,
     "metadata": {},
     "output_type": "execute_result"
    }
   ],
   "source": [
    "ct[:3]"
   ]
  },
  {
   "cell_type": "code",
   "execution_count": 54,
   "metadata": {},
   "outputs": [
    {
     "data": {
      "text/html": [
       "<div>\n",
       "<style scoped>\n",
       "    .dataframe tbody tr th:only-of-type {\n",
       "        vertical-align: middle;\n",
       "    }\n",
       "\n",
       "    .dataframe tbody tr th {\n",
       "        vertical-align: top;\n",
       "    }\n",
       "\n",
       "    .dataframe thead th {\n",
       "        text-align: right;\n",
       "    }\n",
       "</style>\n",
       "<table border=\"1\" class=\"dataframe\">\n",
       "  <thead>\n",
       "    <tr style=\"text-align: right;\">\n",
       "      <th></th>\n",
       "      <th>Authors</th>\n",
       "      <th>Author(s) ID</th>\n",
       "      <th>Title</th>\n",
       "      <th>Year</th>\n",
       "      <th>Source title</th>\n",
       "      <th>Volume</th>\n",
       "      <th>Issue</th>\n",
       "      <th>Art. No.</th>\n",
       "      <th>Page start</th>\n",
       "      <th>Page end</th>\n",
       "      <th>...</th>\n",
       "      <th>CODEN</th>\n",
       "      <th>PubMed ID</th>\n",
       "      <th>Language of Original Document</th>\n",
       "      <th>Abbreviated Source Title</th>\n",
       "      <th>Document Type</th>\n",
       "      <th>Publication Stage</th>\n",
       "      <th>Access Type</th>\n",
       "      <th>Source</th>\n",
       "      <th>EID</th>\n",
       "      <th>ID bolsistas</th>\n",
       "    </tr>\n",
       "  </thead>\n",
       "  <tbody>\n",
       "    <tr>\n",
       "      <th>0</th>\n",
       "      <td>SANCHES R., RAZKY A.</td>\n",
       "      <td>NaN</td>\n",
       "      <td>Variação Linguística para Cigarro de Palha e T...</td>\n",
       "      <td>2015</td>\n",
       "      <td>Revista Todas as Letras (MACKENZIE. Online)</td>\n",
       "      <td>17</td>\n",
       "      <td>NaN</td>\n",
       "      <td>NaN</td>\n",
       "      <td>196</td>\n",
       "      <td>206</td>\n",
       "      <td>...</td>\n",
       "      <td>NaN</td>\n",
       "      <td>NaN</td>\n",
       "      <td>NaN</td>\n",
       "      <td>NaN</td>\n",
       "      <td>NaN</td>\n",
       "      <td>NaN</td>\n",
       "      <td>NaN</td>\n",
       "      <td>NaN</td>\n",
       "      <td>NaN</td>\n",
       "      <td>'8153913927369006</td>\n",
       "    </tr>\n",
       "    <tr>\n",
       "      <th>1</th>\n",
       "      <td>RAZKY A., SANCHES R.D.</td>\n",
       "      <td>NaN</td>\n",
       "      <td>VARIAÇÃO GEOSSOCIAL DO ITEM LEXICAL ?RIACHO/CÓ...</td>\n",
       "      <td>2016</td>\n",
       "      <td>GRAGOATÁ</td>\n",
       "      <td>21</td>\n",
       "      <td>NaN</td>\n",
       "      <td>NaN</td>\n",
       "      <td>70</td>\n",
       "      <td>89</td>\n",
       "      <td>...</td>\n",
       "      <td>NaN</td>\n",
       "      <td>NaN</td>\n",
       "      <td>NaN</td>\n",
       "      <td>NaN</td>\n",
       "      <td>NaN</td>\n",
       "      <td>NaN</td>\n",
       "      <td>NaN</td>\n",
       "      <td>NaN</td>\n",
       "      <td>NaN</td>\n",
       "      <td>'8153913927369006</td>\n",
       "    </tr>\n",
       "    <tr>\n",
       "      <th>2</th>\n",
       "      <td>OLIVEIRA M.B.D., LIMA A.F.d., RAZKY A.</td>\n",
       "      <td>NaN</td>\n",
       "      <td>Palatalização de l diante de i no português br...</td>\n",
       "      <td>2016</td>\n",
       "      <td>Revista Linguística (Online)</td>\n",
       "      <td>32</td>\n",
       "      <td>NaN</td>\n",
       "      <td>NaN</td>\n",
       "      <td>1</td>\n",
       "      <td>10</td>\n",
       "      <td>...</td>\n",
       "      <td>NaN</td>\n",
       "      <td>NaN</td>\n",
       "      <td>NaN</td>\n",
       "      <td>NaN</td>\n",
       "      <td>NaN</td>\n",
       "      <td>NaN</td>\n",
       "      <td>NaN</td>\n",
       "      <td>NaN</td>\n",
       "      <td>NaN</td>\n",
       "      <td>'8153913927369006</td>\n",
       "    </tr>\n",
       "  </tbody>\n",
       "</table>\n",
       "<p>3 rows × 50 columns</p>\n",
       "</div>"
      ],
      "text/plain": [
       "                                  Authors  Author(s) ID  \\\n",
       "0                    SANCHES R., RAZKY A.           NaN   \n",
       "1                  RAZKY A., SANCHES R.D.           NaN   \n",
       "2  OLIVEIRA M.B.D., LIMA A.F.d., RAZKY A.           NaN   \n",
       "\n",
       "                                               Title  Year  \\\n",
       "0  Variação Linguística para Cigarro de Palha e T...  2015   \n",
       "1  VARIAÇÃO GEOSSOCIAL DO ITEM LEXICAL ?RIACHO/CÓ...  2016   \n",
       "2  Palatalização de l diante de i no português br...  2016   \n",
       "\n",
       "                                  Source title Volume Issue  Art. No.  \\\n",
       "0  Revista Todas as Letras (MACKENZIE. Online)     17   NaN       NaN   \n",
       "1                                     GRAGOATÁ     21   NaN       NaN   \n",
       "2                 Revista Linguística (Online)     32   NaN       NaN   \n",
       "\n",
       "  Page start Page end  ...  CODEN  PubMed ID Language of Original Document  \\\n",
       "0        196      206  ...    NaN        NaN                           NaN   \n",
       "1         70       89  ...    NaN        NaN                           NaN   \n",
       "2          1       10  ...    NaN        NaN                           NaN   \n",
       "\n",
       "   Abbreviated Source Title  Document Type  Publication Stage  Access Type  \\\n",
       "0                       NaN            NaN                NaN          NaN   \n",
       "1                       NaN            NaN                NaN          NaN   \n",
       "2                       NaN            NaN                NaN          NaN   \n",
       "\n",
       "  Source  EID       ID bolsistas  \n",
       "0    NaN  NaN  '8153913927369006  \n",
       "1    NaN  NaN  '8153913927369006  \n",
       "2    NaN  NaN  '8153913927369006  \n",
       "\n",
       "[3 rows x 50 columns]"
      ]
     },
     "execution_count": 54,
     "metadata": {},
     "output_type": "execute_result"
    }
   ],
   "source": [
    "br[:3]"
   ]
  },
  {
   "cell_type": "code",
   "execution_count": 14,
   "metadata": {},
   "outputs": [],
   "source": [
    "dt=pd.DataFrame(list(dt.find()))"
   ]
  },
  {
   "cell_type": "code",
   "execution_count": 15,
   "metadata": {},
   "outputs": [
    {
     "data": {
      "text/plain": [
       "Index(['_id', 'author', 'title', 'year', 'journal', 'volume', 'issue',\n",
       "       'Page start', 'Page end', 'doi', 'Author Keywords', 'ISSN',\n",
       "       'ID bolsistas', 'pages', 'publisher', 'country', 'abstract', 'language',\n",
       "       'article_id'],\n",
       "      dtype='object')"
      ]
     },
     "execution_count": 15,
     "metadata": {},
     "output_type": "execute_result"
    }
   ],
   "source": [
    "dt.columns"
   ]
  },
  {
   "cell_type": "code",
   "execution_count": 16,
   "metadata": {},
   "outputs": [
    {
     "data": {
      "text/plain": [
       "_id                                         6120755f7786ebe168225119\n",
       "author                                          SANCHES R., RAZKY A.\n",
       "title              Variação Linguística para Cigarro de Palha e T...\n",
       "year                                                            2015\n",
       "journal                  Revista Todas as Letras (MACKENZIE. Online)\n",
       "volume                                                            17\n",
       "issue                                                           None\n",
       "Page start                                                       196\n",
       "Page end                                                         206\n",
       "doi                          10.15529/1980-6914/letras.v17n3p196-206\n",
       "Author Keywords                                                 None\n",
       "ISSN                                                        19806914\n",
       "ID bolsistas                                        8153913927369006\n",
       "pages                                                        196-206\n",
       "publisher                                                           \n",
       "country                                                             \n",
       "abstract                                                            \n",
       "language                                                            \n",
       "article_id                                                         0\n",
       "Name: 0, dtype: object"
      ]
     },
     "execution_count": 16,
     "metadata": {},
     "output_type": "execute_result"
    }
   ],
   "source": [
    "dt.iloc[0]"
   ]
  },
  {
   "cell_type": "code",
   "execution_count": 17,
   "metadata": {},
   "outputs": [
    {
     "data": {
      "text/plain": [
       "(437952, 19)"
      ]
     },
     "execution_count": 17,
     "metadata": {},
     "output_type": "execute_result"
    }
   ],
   "source": [
    "dt.shape"
   ]
  },
  {
   "cell_type": "code",
   "execution_count": 18,
   "metadata": {},
   "outputs": [],
   "source": [
    "st=pd.DataFrame(list(st.find()))"
   ]
  },
  {
   "cell_type": "code",
   "execution_count": 19,
   "metadata": {},
   "outputs": [
    {
     "data": {
      "text/plain": [
       "(418177, 24)"
      ]
     },
     "execution_count": 19,
     "metadata": {},
     "output_type": "execute_result"
    }
   ],
   "source": [
    "st.shape"
   ]
  },
  {
   "cell_type": "code",
   "execution_count": 55,
   "metadata": {},
   "outputs": [],
   "source": [
    "st['GS_title']=st['title']\n",
    "st['updated_cites']=st['cites']"
   ]
  },
  {
   "cell_type": "code",
   "execution_count": 56,
   "metadata": {},
   "outputs": [],
   "source": [
    "up=ct.merge(st[['_id', 'GS_title',\n",
    "        'updated_cites', 'cites_link',  'profiles',  'bibtex', 'old_title', 'cid']],\n",
    "               left_on='title',right_on='old_title',how='left')#.dropna(subset=['Title']).shape"
   ]
  },
  {
   "cell_type": "code",
   "execution_count": 57,
   "metadata": {},
   "outputs": [
    {
     "data": {
      "text/plain": [
       "(437952, 16)"
      ]
     },
     "execution_count": 57,
     "metadata": {},
     "output_type": "execute_result"
    }
   ],
   "source": [
    "ct.shape"
   ]
  },
  {
   "cell_type": "code",
   "execution_count": 61,
   "metadata": {},
   "outputs": [
    {
     "data": {
      "text/plain": [
       "Index(['ID', 'author', 'title', 'year', 'journal', 'volume', 'issue',\n",
       "       'Page start', 'Page end', 'doi', 'Author Keywords', 'ISSN',\n",
       "       'ID bolsistas', 'pages', 'cites', 'Coautorías', '_id', 'GS_title',\n",
       "       'updated_cites', 'cites_link', 'profiles', 'bibtex', 'old_title',\n",
       "       'cid'],\n",
       "      dtype='object')"
      ]
     },
     "execution_count": 61,
     "metadata": {},
     "output_type": "execute_result"
    }
   ],
   "source": [
    "up.columns"
   ]
  },
  {
   "cell_type": "code",
   "execution_count": 70,
   "metadata": {},
   "outputs": [],
   "source": [
    "up=up.drop_duplicates(subset=['ID']).reset_index(drop=True)"
   ]
  },
  {
   "cell_type": "code",
   "execution_count": 71,
   "metadata": {},
   "outputs": [
    {
     "data": {
      "text/html": [
       "<div>\n",
       "<style scoped>\n",
       "    .dataframe tbody tr th:only-of-type {\n",
       "        vertical-align: middle;\n",
       "    }\n",
       "\n",
       "    .dataframe tbody tr th {\n",
       "        vertical-align: top;\n",
       "    }\n",
       "\n",
       "    .dataframe thead th {\n",
       "        text-align: right;\n",
       "    }\n",
       "</style>\n",
       "<table border=\"1\" class=\"dataframe\">\n",
       "  <thead>\n",
       "    <tr style=\"text-align: right;\">\n",
       "      <th></th>\n",
       "      <th>ID</th>\n",
       "      <th>author</th>\n",
       "      <th>title</th>\n",
       "      <th>year</th>\n",
       "      <th>journal</th>\n",
       "      <th>volume</th>\n",
       "      <th>issue</th>\n",
       "      <th>Page start</th>\n",
       "      <th>Page end</th>\n",
       "      <th>doi</th>\n",
       "      <th>...</th>\n",
       "      <th>cites</th>\n",
       "      <th>Coautorías</th>\n",
       "      <th>_id</th>\n",
       "      <th>GS_title</th>\n",
       "      <th>updated_cites</th>\n",
       "      <th>cites_link</th>\n",
       "      <th>profiles</th>\n",
       "      <th>bibtex</th>\n",
       "      <th>old_title</th>\n",
       "      <th>cid</th>\n",
       "    </tr>\n",
       "  </thead>\n",
       "  <tbody>\n",
       "    <tr>\n",
       "      <th>0</th>\n",
       "      <td>1</td>\n",
       "      <td>SANCHES R., RAZKY A.</td>\n",
       "      <td>Variação Linguística para Cigarro de Palha e T...</td>\n",
       "      <td>2015</td>\n",
       "      <td>Revista Todas as Letras (MACKENZIE. Online)</td>\n",
       "      <td>17</td>\n",
       "      <td>NaN</td>\n",
       "      <td>196</td>\n",
       "      <td>206</td>\n",
       "      <td>10.15529/1980-6914/letras.v17n3p196-206</td>\n",
       "      <td>...</td>\n",
       "      <td>0</td>\n",
       "      <td>2</td>\n",
       "      <td>NaN</td>\n",
       "      <td>NaN</td>\n",
       "      <td>NaN</td>\n",
       "      <td>NaN</td>\n",
       "      <td>NaN</td>\n",
       "      <td>NaN</td>\n",
       "      <td>NaN</td>\n",
       "      <td>NaN</td>\n",
       "    </tr>\n",
       "    <tr>\n",
       "      <th>1</th>\n",
       "      <td>2</td>\n",
       "      <td>RAZKY A., SANCHES R.D.</td>\n",
       "      <td>VARIAÇÃO GEOSSOCIAL DO ITEM LEXICAL ?RIACHO/CÓ...</td>\n",
       "      <td>2016</td>\n",
       "      <td>GRAGOATÁ</td>\n",
       "      <td>21</td>\n",
       "      <td>NaN</td>\n",
       "      <td>70</td>\n",
       "      <td>89</td>\n",
       "      <td>10.22409/gragoata.v21i40.33375</td>\n",
       "      <td>...</td>\n",
       "      <td>8</td>\n",
       "      <td>2</td>\n",
       "      <td>6120755f7786ebe16822511a</td>\n",
       "      <td>Variação geossocial do item lexical �riacho/có...</td>\n",
       "      <td>7.0</td>\n",
       "      <td>/scholar?cites=4228313119509545427&amp;as_sdt=2005...</td>\n",
       "      <td>{'A Razky': 'IMgC-vAAAAAJ', 'RD Sanches': 'QTy...</td>\n",
       "      <td>@article{razky2016variaccao,\\n  title={Varia{\\...</td>\n",
       "      <td>VARIAÇÃO GEOSSOCIAL DO ITEM LEXICAL ?RIACHO/CÓ...</td>\n",
       "      <td>04F9L2H8rToJ</td>\n",
       "    </tr>\n",
       "    <tr>\n",
       "      <th>2</th>\n",
       "      <td>3</td>\n",
       "      <td>OLIVEIRA M.B.D., LIMA A.F.d., RAZKY A.</td>\n",
       "      <td>Palatalização de l diante de i no português br...</td>\n",
       "      <td>2016</td>\n",
       "      <td>Revista Linguística (Online)</td>\n",
       "      <td>32</td>\n",
       "      <td>NaN</td>\n",
       "      <td>1</td>\n",
       "      <td>10</td>\n",
       "      <td>10.5935/2079-312x.20160017</td>\n",
       "      <td>...</td>\n",
       "      <td>1</td>\n",
       "      <td>3</td>\n",
       "      <td>6120755f7786ebe16822511b</td>\n",
       "      <td>Palatalização de L diante de I no português br...</td>\n",
       "      <td>3.0</td>\n",
       "      <td>/scholar?cites=373025853626654700&amp;as_sdt=5,33&amp;...</td>\n",
       "      <td>{'MB Oliveira': 'tstjx6cAAAAJ', 'A Razky': 'IM...</td>\n",
       "      <td>@article{oliveira2016palatalizaccao,\\n  title=...</td>\n",
       "      <td>Palatalização de l diante de i no português br...</td>\n",
       "      <td>7B90mQlBLQUJ</td>\n",
       "    </tr>\n",
       "  </tbody>\n",
       "</table>\n",
       "<p>3 rows × 24 columns</p>\n",
       "</div>"
      ],
      "text/plain": [
       "   ID                                  author  \\\n",
       "0   1                    SANCHES R., RAZKY A.   \n",
       "1   2                  RAZKY A., SANCHES R.D.   \n",
       "2   3  OLIVEIRA M.B.D., LIMA A.F.d., RAZKY A.   \n",
       "\n",
       "                                               title  year  \\\n",
       "0  Variação Linguística para Cigarro de Palha e T...  2015   \n",
       "1  VARIAÇÃO GEOSSOCIAL DO ITEM LEXICAL ?RIACHO/CÓ...  2016   \n",
       "2  Palatalização de l diante de i no português br...  2016   \n",
       "\n",
       "                                       journal volume issue Page start  \\\n",
       "0  Revista Todas as Letras (MACKENZIE. Online)     17   NaN        196   \n",
       "1                                     GRAGOATÁ     21   NaN         70   \n",
       "2                 Revista Linguística (Online)     32   NaN          1   \n",
       "\n",
       "  Page end                                      doi  ... cites Coautorías  \\\n",
       "0      206  10.15529/1980-6914/letras.v17n3p196-206  ...     0          2   \n",
       "1       89           10.22409/gragoata.v21i40.33375  ...     8          2   \n",
       "2       10               10.5935/2079-312x.20160017  ...     1          3   \n",
       "\n",
       "                        _id  \\\n",
       "0                       NaN   \n",
       "1  6120755f7786ebe16822511a   \n",
       "2  6120755f7786ebe16822511b   \n",
       "\n",
       "                                            GS_title  updated_cites  \\\n",
       "0                                                NaN            NaN   \n",
       "1  Variação geossocial do item lexical �riacho/có...            7.0   \n",
       "2  Palatalização de L diante de I no português br...            3.0   \n",
       "\n",
       "                                          cites_link  \\\n",
       "0                                                NaN   \n",
       "1  /scholar?cites=4228313119509545427&as_sdt=2005...   \n",
       "2  /scholar?cites=373025853626654700&as_sdt=5,33&...   \n",
       "\n",
       "                                            profiles  \\\n",
       "0                                                NaN   \n",
       "1  {'A Razky': 'IMgC-vAAAAAJ', 'RD Sanches': 'QTy...   \n",
       "2  {'MB Oliveira': 'tstjx6cAAAAJ', 'A Razky': 'IM...   \n",
       "\n",
       "                                              bibtex  \\\n",
       "0                                                NaN   \n",
       "1  @article{razky2016variaccao,\\n  title={Varia{\\...   \n",
       "2  @article{oliveira2016palatalizaccao,\\n  title=...   \n",
       "\n",
       "                                           old_title           cid  \n",
       "0                                                NaN           NaN  \n",
       "1  VARIAÇÃO GEOSSOCIAL DO ITEM LEXICAL ?RIACHO/CÓ...  04F9L2H8rToJ  \n",
       "2  Palatalização de l diante de i no português br...  7B90mQlBLQUJ  \n",
       "\n",
       "[3 rows x 24 columns]"
      ]
     },
     "execution_count": 71,
     "metadata": {},
     "output_type": "execute_result"
    }
   ],
   "source": [
    "up[:3]"
   ]
  },
  {
   "cell_type": "code",
   "execution_count": 76,
   "metadata": {},
   "outputs": [],
   "source": [
    "up['updated_cites']=up['updated_cites'].fillna(0).astype(int)"
   ]
  },
  {
   "cell_type": "code",
   "execution_count": 78,
   "metadata": {},
   "outputs": [],
   "source": [
    "up=up.fillna('')"
   ]
  },
  {
   "cell_type": "code",
   "execution_count": 80,
   "metadata": {},
   "outputs": [],
   "source": [
    "up.to_excel('citacoes_updated.xlsx',index=False)"
   ]
  },
  {
   "cell_type": "code",
   "execution_count": 20,
   "metadata": {},
   "outputs": [
    {
     "data": {
      "text/plain": [
       "Index(['Authors', 'Author(s) ID', 'Title', 'Year', 'Source title', 'Volume',\n",
       "       'Issue', 'Art. No.', 'Page start', 'Page end', 'Page count', 'Cited by',\n",
       "       'DOI', 'Link', 'Affiliations', 'Authors with affiliations', 'Abstract',\n",
       "       'Author Keywords', 'Index Keywords', 'Molecular Sequence Numbers',\n",
       "       'Chemicals/CAS', 'Tradenames', 'Manufacturers', 'Funding Details',\n",
       "       'Funding Text 1', 'Funding Text 2', 'Funding Text 3', 'Funding Text 4',\n",
       "       'Funding Text 5', 'References', 'Correspondence Address', 'Editors',\n",
       "       'Sponsors', 'Publisher', 'Conference name', 'Conference date',\n",
       "       'Conference location', 'Conference code', 'ISSN', 'ISBN', 'CODEN',\n",
       "       'PubMed ID', 'Language of Original Document',\n",
       "       'Abbreviated Source Title', 'Document Type', 'Publication Stage',\n",
       "       'Access Type', 'Source', 'EID', 'ID bolsistas'],\n",
       "      dtype='object')"
      ]
     },
     "execution_count": 20,
     "metadata": {},
     "output_type": "execute_result"
    }
   ],
   "source": [
    "br.columns"
   ]
  },
  {
   "cell_type": "code",
   "execution_count": null,
   "metadata": {},
   "outputs": [],
   "source": []
  },
  {
   "cell_type": "code",
   "execution_count": 21,
   "metadata": {},
   "outputs": [
    {
     "data": {
      "text/plain": [
       "Index(['_id', 'journal', 'publisher', 'country', 'article_id', 'title',\n",
       "       'author', 'doi', 'year', 'volume', 'issue', 'pages', 'language',\n",
       "       'abstract', 'cites', 'cites_link', 'ref', 'profiles', 'pdf', 'cid',\n",
       "       'rp', 'bibtex', 'old_title', 'timestamp'],\n",
       "      dtype='object')"
      ]
     },
     "execution_count": 21,
     "metadata": {},
     "output_type": "execute_result"
    }
   ],
   "source": [
    "st.columns"
   ]
  },
  {
   "cell_type": "code",
   "execution_count": 22,
   "metadata": {},
   "outputs": [],
   "source": [
    "st['_id']=st['_id'].astype(str)\n",
    "dt['_id']=dt['_id'].astype(str)"
   ]
  },
  {
   "cell_type": "code",
   "execution_count": 23,
   "metadata": {},
   "outputs": [
    {
     "data": {
      "text/plain": [
       "Index(['Authors', 'Author(s) ID', 'Title', 'Year', 'Source title', 'Volume',\n",
       "       'Issue', 'Art. No.', 'Page start', 'Page end', 'Page count', 'Cited by',\n",
       "       'DOI', 'Link', 'Affiliations', 'Authors with affiliations', 'Abstract',\n",
       "       'Author Keywords', 'Index Keywords', 'Molecular Sequence Numbers',\n",
       "       'Chemicals/CAS', 'Tradenames', 'Manufacturers', 'Funding Details',\n",
       "       'Funding Text 1', 'Funding Text 2', 'Funding Text 3', 'Funding Text 4',\n",
       "       'Funding Text 5', 'References', 'Correspondence Address', 'Editors',\n",
       "       'Sponsors', 'Publisher', 'Conference name', 'Conference date',\n",
       "       'Conference location', 'Conference code', 'ISSN', 'ISBN', 'CODEN',\n",
       "       'PubMed ID', 'Language of Original Document',\n",
       "       'Abbreviated Source Title', 'Document Type', 'Publication Stage',\n",
       "       'Access Type', 'Source', 'EID', 'ID bolsistas'],\n",
       "      dtype='object')"
      ]
     },
     "execution_count": 23,
     "metadata": {},
     "output_type": "execute_result"
    }
   ],
   "source": [
    "br.columns"
   ]
  },
  {
   "cell_type": "code",
   "execution_count": 24,
   "metadata": {},
   "outputs": [
    {
     "data": {
      "text/plain": [
       "Index(['_id', 'journal', 'publisher', 'country', 'article_id', 'title',\n",
       "       'author', 'doi', 'year', 'volume', 'issue', 'pages', 'language',\n",
       "       'abstract', 'cites', 'cites_link', 'ref', 'profiles', 'pdf', 'cid',\n",
       "       'rp', 'bibtex', 'old_title', 'timestamp'],\n",
       "      dtype='object')"
      ]
     },
     "execution_count": 24,
     "metadata": {},
     "output_type": "execute_result"
    }
   ],
   "source": [
    "st.columns"
   ]
  },
  {
   "cell_type": "code",
   "execution_count": 37,
   "metadata": {},
   "outputs": [],
   "source": [
    "up=br.merge(st[['_id', 'title',\n",
    "        'cites', 'cites_link',  'profiles',  'bibtex', 'old_title', 'cid']],\n",
    "               left_on='Title',right_on='old_title',how='left')#.dropna(subset=['Title']).shape"
   ]
  },
  {
   "cell_type": "code",
   "execution_count": 38,
   "metadata": {},
   "outputs": [
    {
     "data": {
      "text/plain": [
       "(439507, 58)"
      ]
     },
     "execution_count": 38,
     "metadata": {},
     "output_type": "execute_result"
    }
   ],
   "source": [
    "up.dropna(subset=['old_title']).shape"
   ]
  },
  {
   "cell_type": "code",
   "execution_count": 39,
   "metadata": {},
   "outputs": [
    {
     "data": {
      "text/plain": [
       "(485344, 58)"
      ]
     },
     "execution_count": 39,
     "metadata": {},
     "output_type": "execute_result"
    }
   ],
   "source": [
    "up.dropna(subset=['Title']).shape"
   ]
  },
  {
   "cell_type": "code",
   "execution_count": 40,
   "metadata": {},
   "outputs": [
    {
     "data": {
      "text/plain": [
       "(464361, 50)"
      ]
     },
     "execution_count": 40,
     "metadata": {},
     "output_type": "execute_result"
    }
   ],
   "source": [
    "br.shape"
   ]
  },
  {
   "cell_type": "code",
   "execution_count": null,
   "metadata": {},
   "outputs": [],
   "source": [
    "up=(br.sort_values('cites',ascending=False)).drop_duplicates(subset=['Authors', 'Author(s) ID', 'Title', 'Year',\n",
    "       'Source title', 'Volume', 'Issue', 'Art. No.', 'Page start', 'Page end',\n",
    "       'Page count', 'Cited by', 'DOI', 'Link', 'Affiliations',\n",
    "       'Authors with affiliations', 'Abstract', 'Author Keywords',\n",
    "       'Index Keywords', 'Molecular Sequence Numbers', 'Chemicals/CAS',\n",
    "       'Tradenames', 'Manufacturers', 'Funding Details', 'Funding Text 1',\n",
    "       'Funding Text 2', 'Funding Text 3', 'Funding Text 4', 'Funding Text 5',\n",
    "       'References', 'Correspondence Address', 'Editors', 'Sponsors',\n",
    "       'Publisher', 'Conference name', 'Conference date',\n",
    "       'Conference location', 'Conference code', 'ISSN', 'ISBN', 'CODEN',\n",
    "       'PubMed ID', 'Language of Original Document',\n",
    "       'Abbreviated Source Title', 'Document Type', 'Publication Stage',\n",
    "       'Access Type', 'Source', 'EID', 'ID bolsistas']).reset_index(drop=True)"
   ]
  },
  {
   "cell_type": "code",
   "execution_count": null,
   "metadata": {},
   "outputs": [],
   "source": [
    "up.shape #464361"
   ]
  },
  {
   "cell_type": "code",
   "execution_count": 45,
   "metadata": {},
   "outputs": [],
   "source": [
    "writer = pd.ExcelWriter('/scratch/colav/Publicacoes-periodicos_2013-2020-Scopus_updated.xlsx',\n",
    "                        engine='xlsxwriter',\n",
    "                        engine_kwargs={'options': {'strings_to_urls': False}})\n",
    "\n",
    "up.to_excel(writer,index=False)\n",
    "writer.close()"
   ]
  },
  {
   "cell_type": "code",
   "execution_count": 48,
   "metadata": {},
   "outputs": [
    {
     "data": {
      "text/plain": [
       "11009121.0"
      ]
     },
     "execution_count": 48,
     "metadata": {},
     "output_type": "execute_result"
    }
   ],
   "source": [
    "up.cites.dropna().sum()"
   ]
  },
  {
   "cell_type": "code",
   "execution_count": 52,
   "metadata": {},
   "outputs": [
    {
     "data": {
      "text/plain": [
       "{'Authors': 'RAZKY A., SANCHES R.D.',\n",
       " 'Author(s) ID': nan,\n",
       " 'Title': 'VARIAÇÃO GEOSSOCIAL DO ITEM LEXICAL ?RIACHO/CÓRREGO? NAS CAPITAIS BRASILEIRAS',\n",
       " 'Year': 2016,\n",
       " 'Source title': 'GRAGOATÁ',\n",
       " 'Volume': 21,\n",
       " 'Issue': nan,\n",
       " 'Art. No.': nan,\n",
       " 'Page start': 70,\n",
       " 'Page end': 89,\n",
       " 'Page count': nan,\n",
       " 'Cited by': nan,\n",
       " 'DOI': '10.22409/gragoata.v21i40.33375',\n",
       " 'Link': nan,\n",
       " 'Affiliations': nan,\n",
       " 'Authors with affiliations': nan,\n",
       " 'Abstract': nan,\n",
       " 'Author Keywords': 'Dialetologia Pluridimensional; Variação lexical; ATLAS LINGUÍSTICO DO BRASIL',\n",
       " 'Index Keywords': nan,\n",
       " 'Molecular Sequence Numbers': nan,\n",
       " 'Chemicals/CAS': nan,\n",
       " 'Tradenames': nan,\n",
       " 'Manufacturers': nan,\n",
       " 'Funding Details': nan,\n",
       " 'Funding Text 1': nan,\n",
       " 'Funding Text 2': nan,\n",
       " 'Funding Text 3': nan,\n",
       " 'Funding Text 4': nan,\n",
       " 'Funding Text 5': nan,\n",
       " 'References': nan,\n",
       " 'Correspondence Address': nan,\n",
       " 'Editors': nan,\n",
       " 'Sponsors': nan,\n",
       " 'Publisher': nan,\n",
       " 'Conference name': nan,\n",
       " 'Conference date': nan,\n",
       " 'Conference location': nan,\n",
       " 'Conference code': nan,\n",
       " 'ISSN': 23584114,\n",
       " 'ISBN': nan,\n",
       " 'CODEN': nan,\n",
       " 'PubMed ID': nan,\n",
       " 'Language of Original Document': nan,\n",
       " 'Abbreviated Source Title': nan,\n",
       " 'Document Type': nan,\n",
       " 'Publication Stage': nan,\n",
       " 'Access Type': nan,\n",
       " 'Source': nan,\n",
       " 'EID': nan,\n",
       " 'ID bolsistas': \"'8153913927369006\",\n",
       " '_id': '6120755f7786ebe16822511a',\n",
       " 'journal': 'Gragoatá',\n",
       " 'publisher': '',\n",
       " 'country': '',\n",
       " 'article_id': '1',\n",
       " 'title': 'Variação geossocial do item lexical �riacho/córrego�nas capitais brasileiras',\n",
       " 'author': 'Razky, Abdelhak and Sanches, Romário Duarte',\n",
       " 'doi': '10.22409/gragoata.v21i40.33375',\n",
       " 'year': '2016',\n",
       " 'volume': '21',\n",
       " 'issue': '',\n",
       " 'pages': '',\n",
       " 'language': '',\n",
       " 'abstract': 'Pretende-se, neste trabalho, analisar e cartografar a varia��o lexical do item riacho/c�rrego do ponto de vista da dialetologia pluridimensional (THUN, 2000), integrando-o assim ao quadro metodol�gico da geossociolingu�stica (RAZKY, 2004; 2013). Os dados analisados aqui, sob a perspectiva geossocial, comp�em o banco de conhecimento sobre o portugu�s brasileiro do projeto nacional Atlas Lingu�stico do Brasil–ALiB. A extra��o de dados lexicais segue um protocolo metodol�gico homog�neo que caracteriza o corpus do ALiB. Trata-se�…',\n",
       " 'cites': 7.0,\n",
       " 'cites_link': '/scholar?cites=4228313119509545427&as_sdt=2005&sciodt=0,5&hl=en&oe=ASCII',\n",
       " 'ref': 'A Razky, RD Sanches�- Gragoat�, 2016 - periodicos.uff.br',\n",
       " 'profiles': {'A Razky': 'IMgC-vAAAAAJ', 'RD Sanches': 'QTyjyGoAAAAJ'},\n",
       " 'pdf': 'https://periodicos.uff.br/gragoata/article/download/33375/19362',\n",
       " 'cid': '04F9L2H8rToJ',\n",
       " 'rp': '0',\n",
       " 'bibtex': \"@article{razky2016variaccao,\\n  title={Varia{\\\\c{c}}{\\\\~a}o geossocial do item lexical �riacho/c{\\\\'o}rrego�nas capitais brasileiras},\\n  author={Razky, Abdelhak and Sanches, Rom{\\\\'a}rio Duarte},\\n  journal={Gragoat{\\\\'a}},\\n  volume={21},\\n  number={40},\\n  year={2016}\\n}\\n\",\n",
       " 'old_title': 'VARIAÇÃO GEOSSOCIAL DO ITEM LEXICAL ?RIACHO/CÓRREGO? NAS CAPITAIS BRASILEIRAS',\n",
       " 'timestamp': 1629517538.0}"
      ]
     },
     "execution_count": 52,
     "metadata": {},
     "output_type": "execute_result"
    }
   ],
   "source": [
    "up.iloc[1].to_dict()"
   ]
  },
  {
   "cell_type": "markdown",
   "metadata": {},
   "source": [
    "# Appendix"
   ]
  },
  {
   "cell_type": "code",
   "execution_count": 80,
   "metadata": {},
   "outputs": [
    {
     "ename": "SystemExit",
     "evalue": "Already loaded",
     "output_type": "error",
     "traceback": [
      "An exception has occurred, use %tb to see the full traceback.\n",
      "\u001b[0;31mSystemExit\u001b[0m\u001b[0;31m:\u001b[0m Already loaded\n"
     ]
    },
    {
     "name": "stderr",
     "output_type": "stream",
     "text": [
      "/usr/local/lib/python3.7/dist-packages/IPython/core/interactiveshell.py:3449: UserWarning: To exit: use 'exit', 'quit', or Ctrl-D.\n",
      "  warn(\"To exit: use 'exit', 'quit', or Ctrl-D.\", stacklevel=1)\n"
     ]
    }
   ],
   "source": [
    "REBUILD=False\n",
    "if not REBUILD:\n",
    "    dt=db.get_collection('data')\n",
    "    sys.exit('Already loaded')\n",
    "else:\n",
    "    dt=db.get_collection('data')\n",
    "\n",
    "for p in ln.find():\n",
    "    dd={}\n",
    "    l=[]\n",
    "    for d in p['authors'][:3]:\n",
    "        l.append(f'{d.get(\"last_name\")}, {d.get(\"initials\")}')\n",
    "    dd['author']=' and '.join(l)\n",
    "    if isinstance(p.get('source'),dict):\n",
    "        dd['journal']=p['source'].get('title_full')\n",
    "    else:\n",
    "        dd['journal']=''\n",
    "    for d in p['external_ids']:\n",
    "        if d.get('type')=='doi':\n",
    "            doi=d.get('value')\n",
    "        else:\n",
    "            doi=''\n",
    "    dd['doi']=doi\n",
    "    dd[\"pages\"]=p.get('start_page')            \n",
    "\n",
    "    dd['title']=p['title']\n",
    "    dd['volume']=p.get('volumne')\n",
    "    dd['issue']=p.get('issue')     \n",
    "    \n",
    "    dd['year']=p['year_published']                     \n",
    "    dd['article_id']=p['lens_id']                     \n",
    "    dd['publisher']=''\n",
    "    dd['country']=''\n",
    "    dd[\"abstract\"]=''\n",
    "    dd[\"language\"]=''\n",
    "    dt.insert_one(dd)\n",
    "    #break"
   ]
  },
  {
   "cell_type": "code",
   "execution_count": 74,
   "metadata": {},
   "outputs": [
    {
     "data": {
      "text/plain": [
       "133853"
      ]
     },
     "execution_count": 74,
     "metadata": {},
     "output_type": "execute_result"
    }
   ],
   "source": [
    "dt.count_documents({})"
   ]
  },
  {
   "cell_type": "code",
   "execution_count": 75,
   "metadata": {},
   "outputs": [],
   "source": [
    "#dt.drop()"
   ]
  },
  {
   "cell_type": "markdown",
   "metadata": {},
   "source": [
    "### Add the lens collection `'_id'` to data as `'pid'` by searching with `'title'`"
   ]
  },
  {
   "cell_type": "code",
   "execution_count": 76,
   "metadata": {},
   "outputs": [
    {
     "data": {
      "text/plain": [
       "136326"
      ]
     },
     "execution_count": 76,
     "metadata": {},
     "output_type": "execute_result"
    }
   ],
   "source": [
    "ln.count_documents({})"
   ]
  },
  {
   "cell_type": "code",
   "execution_count": 77,
   "metadata": {},
   "outputs": [
    {
     "data": {
      "text/plain": [
       "133853"
      ]
     },
     "execution_count": 77,
     "metadata": {},
     "output_type": "execute_result"
    }
   ],
   "source": [
    "dt.count_documents({})"
   ]
  },
  {
   "cell_type": "code",
   "execution_count": 34,
   "metadata": {},
   "outputs": [],
   "source": [
    "import time"
   ]
  },
  {
   "cell_type": "code",
   "execution_count": 81,
   "metadata": {},
   "outputs": [
    {
     "ename": "SystemExit",
     "evalue": "Already fixed",
     "output_type": "error",
     "traceback": [
      "An exception has occurred, use %tb to see the full traceback.\n",
      "\u001b[0;31mSystemExit\u001b[0m\u001b[0;31m:\u001b[0m Already fixed\n"
     ]
    }
   ],
   "source": [
    "REBUILD=False\n",
    "if not REBUILD:\n",
    "    sys.exit('Already fixed')\n",
    "#See https://stackoverflow.com/a/24200795/2268280\n",
    "cursor = ln.find(\n",
    "     no_cursor_timeout=True\n",
    ")\n",
    "\n",
    "s=time.time()\n",
    "for d in cursor:\n",
    "    title=d.get('title')\n",
    "    pid=str(d.get('_id'))\n",
    "    if title and pid:\n",
    "        kk=dt.update_one( {\"title\":title}, {\"$set\" : {\"pid\":pid}}   )\n",
    "    #break\n",
    "cursor.close()\n",
    "print(time.time()-s)"
   ]
  },
  {
   "cell_type": "code",
   "execution_count": 82,
   "metadata": {},
   "outputs": [],
   "source": [
    "i=0\n",
    "iend=55\n",
    "for d in dt.find():\n",
    "    if i==iend:\n",
    "        break\n",
    "    i=i+1"
   ]
  },
  {
   "cell_type": "code",
   "execution_count": 83,
   "metadata": {},
   "outputs": [
    {
     "data": {
      "text/plain": [
       "('60e63d00cdd7c50a878a7984',\n",
       " 'Parasitism and physiological trade-offs in stressed capybaras.')"
      ]
     },
     "execution_count": 83,
     "metadata": {},
     "output_type": "execute_result"
    }
   ],
   "source": [
    "d['pid'],d['title']"
   ]
  },
  {
   "cell_type": "code",
   "execution_count": 84,
   "metadata": {},
   "outputs": [],
   "source": [
    "dd=list(ln.find({'_id':ObjectId(d['pid'])}))[0]"
   ]
  },
  {
   "cell_type": "code",
   "execution_count": 85,
   "metadata": {},
   "outputs": [
    {
     "data": {
      "text/plain": [
       "'Parasitism and physiological trade-offs in stressed capybaras.'"
      ]
     },
     "execution_count": 85,
     "metadata": {},
     "output_type": "execute_result"
    }
   ],
   "source": [
    "dd['title']"
   ]
  },
  {
   "cell_type": "markdown",
   "metadata": {},
   "source": [
    "### Check de collection with Pandas"
   ]
  },
  {
   "cell_type": "code",
   "execution_count": 86,
   "metadata": {},
   "outputs": [],
   "source": [
    "import pandas as pd"
   ]
  },
  {
   "cell_type": "code",
   "execution_count": 87,
   "metadata": {},
   "outputs": [
    {
     "data": {
      "text/html": [
       "<div>\n",
       "<style scoped>\n",
       "    .dataframe tbody tr th:only-of-type {\n",
       "        vertical-align: middle;\n",
       "    }\n",
       "\n",
       "    .dataframe tbody tr th {\n",
       "        vertical-align: top;\n",
       "    }\n",
       "\n",
       "    .dataframe thead th {\n",
       "        text-align: right;\n",
       "    }\n",
       "</style>\n",
       "<table border=\"1\" class=\"dataframe\">\n",
       "  <thead>\n",
       "    <tr style=\"text-align: right;\">\n",
       "      <th></th>\n",
       "      <th>_id</th>\n",
       "      <th>title</th>\n",
       "      <th>author</th>\n",
       "      <th>journal</th>\n",
       "      <th>year</th>\n",
       "      <th>volume</th>\n",
       "      <th>issue</th>\n",
       "      <th>doi</th>\n",
       "      <th>publisher</th>\n",
       "      <th>country</th>\n",
       "      <th>pages</th>\n",
       "      <th>abstract</th>\n",
       "      <th>article_id</th>\n",
       "      <th>language</th>\n",
       "      <th>pid</th>\n",
       "    </tr>\n",
       "  </thead>\n",
       "  <tbody>\n",
       "    <tr>\n",
       "      <th>0</th>\n",
       "      <td>60d6957a70d175acd8cb1340</td>\n",
       "      <td>Low vitamin D concentrations among indigenous ...</td>\n",
       "      <td>Hirschler, V and Maccallini, G and Molinari, C</td>\n",
       "      <td>Pediatric diabetes</td>\n",
       "      <td>2013</td>\n",
       "      <td>14</td>\n",
       "      <td>3</td>\n",
       "      <td></td>\n",
       "      <td></td>\n",
       "      <td></td>\n",
       "      <td></td>\n",
       "      <td></td>\n",
       "      <td></td>\n",
       "      <td></td>\n",
       "      <td>60e63d00cdd7c50a878a794f</td>\n",
       "    </tr>\n",
       "    <tr>\n",
       "      <th>1</th>\n",
       "      <td>60d6957a70d175acd8cb1341</td>\n",
       "      <td>Investigaciones sobre género y determinación p...</td>\n",
       "      <td>Tajer, D and Reid, G and Gaba, M</td>\n",
       "      <td>Revista Argentina de Cardiología</td>\n",
       "      <td>2013</td>\n",
       "      <td>81</td>\n",
       "      <td>4</td>\n",
       "      <td>10.7775/rac.es.v81.i4.280</td>\n",
       "      <td></td>\n",
       "      <td></td>\n",
       "      <td></td>\n",
       "      <td></td>\n",
       "      <td></td>\n",
       "      <td></td>\n",
       "      <td>60e63d00cdd7c50a878a7949</td>\n",
       "    </tr>\n",
       "    <tr>\n",
       "      <th>2</th>\n",
       "      <td>60d6957a70d175acd8cb1342</td>\n",
       "      <td>Duplex Stainless Steels - Low‐Cycle Fatigue at...</td>\n",
       "      <td>Alvarez-Armas, I</td>\n",
       "      <td>Duplex Stainless Steels</td>\n",
       "      <td>2013</td>\n",
       "      <td></td>\n",
       "      <td></td>\n",
       "      <td>10.1002/9781118557990.ch6</td>\n",
       "      <td></td>\n",
       "      <td></td>\n",
       "      <td></td>\n",
       "      <td></td>\n",
       "      <td></td>\n",
       "      <td></td>\n",
       "      <td>60e63d00cdd7c50a878a7947</td>\n",
       "    </tr>\n",
       "  </tbody>\n",
       "</table>\n",
       "</div>"
      ],
      "text/plain": [
       "                        _id  \\\n",
       "0  60d6957a70d175acd8cb1340   \n",
       "1  60d6957a70d175acd8cb1341   \n",
       "2  60d6957a70d175acd8cb1342   \n",
       "\n",
       "                                               title  \\\n",
       "0  Low vitamin D concentrations among indigenous ...   \n",
       "1  Investigaciones sobre género y determinación p...   \n",
       "2  Duplex Stainless Steels - Low‐Cycle Fatigue at...   \n",
       "\n",
       "                                           author  \\\n",
       "0  Hirschler, V and Maccallini, G and Molinari, C   \n",
       "1                Tajer, D and Reid, G and Gaba, M   \n",
       "2                                Alvarez-Armas, I   \n",
       "\n",
       "                            journal  year volume issue  \\\n",
       "0                Pediatric diabetes  2013     14     3   \n",
       "1  Revista Argentina de Cardiología  2013     81     4   \n",
       "2           Duplex Stainless Steels  2013                \n",
       "\n",
       "                         doi publisher country pages abstract article_id  \\\n",
       "0                                                                          \n",
       "1  10.7775/rac.es.v81.i4.280                                               \n",
       "2  10.1002/9781118557990.ch6                                               \n",
       "\n",
       "  language                       pid  \n",
       "0           60e63d00cdd7c50a878a794f  \n",
       "1           60e63d00cdd7c50a878a7949  \n",
       "2           60e63d00cdd7c50a878a7947  "
      ]
     },
     "execution_count": 87,
     "metadata": {},
     "output_type": "execute_result"
    }
   ],
   "source": [
    "ar=pd.DataFrame(list(dt.find()))\n",
    "ar[:3]"
   ]
  },
  {
   "cell_type": "markdown",
   "metadata": {},
   "source": [
    "## Obtain the cites\n",
    "`--proxy_api` key from https://dashboard.scraperapi.com/dashboard"
   ]
  },
  {
   "cell_type": "markdown",
   "metadata": {},
   "source": [
    "```bash\n",
    "hunabku_server #in and indepentdent, nohup, other terminal\n",
    "```"
   ]
  },
  {
   "cell_type": "markdown",
   "metadata": {},
   "source": [
    "### Get de Google Scholar info for each document\n",
    "Including `'cid'` and bibtex. The info is stores in the stage collection"
   ]
  },
  {
   "cell_type": "markdown",
   "metadata": {},
   "source": [
    "```bash\n",
    "moai_gslookup --hunabku_server http://10.0.0.8:8080 --proxy_api XXXXXX --max_threads 50 --db la --max_tries 2\n",
    "```"
   ]
  },
  {
   "cell_type": "markdown",
   "metadata": {},
   "source": [
    "Check the proxies"
   ]
  },
  {
   "cell_type": "code",
   "execution_count": 89,
   "metadata": {},
   "outputs": [
    {
     "data": {
      "text/plain": [
       "125987"
      ]
     },
     "execution_count": 89,
     "metadata": {},
     "output_type": "execute_result"
    }
   ],
   "source": [
    "st=db.get_collection('stage')\n",
    "st.count_documents({})"
   ]
  },
  {
   "cell_type": "code",
   "execution_count": 90,
   "metadata": {},
   "outputs": [
    {
     "data": {
      "text/plain": [
       "('Low vitamin D concentrations among indigenous Argentinean children living at high altitudes',\n",
       " 'Hirschler, Valeria and Maccallini, Gustavo and Molinari, Claudia and Aranda, Claudio and San Antonio de los Cobres Study Group',\n",
       " 'Pediatric diabetes')"
      ]
     },
     "execution_count": 90,
     "metadata": {},
     "output_type": "execute_result"
    }
   ],
   "source": [
    "s=st.find_one()\n",
    "cid=s['cid']\n",
    "(s['title'],s['author'],s['journal'])"
   ]
  },
  {
   "cell_type": "markdown",
   "metadata": {},
   "source": [
    "Check with:"
   ]
  },
  {
   "cell_type": "code",
   "execution_count": 91,
   "metadata": {},
   "outputs": [
    {
     "name": "stdout",
     "output_type": "stream",
     "text": [
      "https://scholar.google.com/scholar?q=info:bCwnnx4CbTsJ:scholar.google.com\n"
     ]
    }
   ],
   "source": [
    "print( f'https://scholar.google.com/scholar?q=info:{cid}:scholar.google.com' )"
   ]
  },
  {
   "cell_type": "code",
   "execution_count": 92,
   "metadata": {},
   "outputs": [],
   "source": [
    "ar=pd.DataFrame(list(st.find()))"
   ]
  },
  {
   "cell_type": "code",
   "execution_count": 93,
   "metadata": {},
   "outputs": [
    {
     "data": {
      "text/plain": [
       "1277822.0"
      ]
     },
     "execution_count": 93,
     "metadata": {},
     "output_type": "execute_result"
    }
   ],
   "source": [
    "ar.cites.fillna(0).sum()"
   ]
  },
  {
   "cell_type": "markdown",
   "metadata": {},
   "source": [
    "### Creates de chache\n",
    "```bash\n",
    "moai_gscites  --hunabku_server http://127.0.1.1:8080 --proxy_apikey xxxxxx --db la --create_cache\n",
    "\n",
    "```"
   ]
  },
  {
   "cell_type": "markdown",
   "metadata": {},
   "source": [
    "### Download metadata info for each cite\n",
    "Creates \n",
    "```bash\n",
    "moai_gscites  --hunabku_server http://127.0.1.1:8080 --proxy_apikey xxxxxx --db la --max_threads 5  --max_tries 2\n",
    "```"
   ]
  },
  {
   "cell_type": "code",
   "execution_count": 94,
   "metadata": {},
   "outputs": [
    {
     "data": {
      "text/plain": [
       "1076343"
      ]
     },
     "execution_count": 94,
     "metadata": {},
     "output_type": "execute_result"
    }
   ],
   "source": [
    "sc=db.get_collection('stage_cites')\n",
    "sc.count_documents({})"
   ]
  },
  {
   "cell_type": "code",
   "execution_count": 147,
   "metadata": {},
   "outputs": [],
   "source": [
    "sce=sc.find({'pid':str(s['_id'])})"
   ]
  },
  {
   "cell_type": "code",
   "execution_count": 148,
   "metadata": {},
   "outputs": [
    {
     "data": {
      "text/html": [
       "<div>\n",
       "<style scoped>\n",
       "    .dataframe tbody tr th:only-of-type {\n",
       "        vertical-align: middle;\n",
       "    }\n",
       "\n",
       "    .dataframe tbody tr th {\n",
       "        vertical-align: top;\n",
       "    }\n",
       "\n",
       "    .dataframe thead th {\n",
       "        text-align: right;\n",
       "    }\n",
       "</style>\n",
       "<table border=\"1\" class=\"dataframe\">\n",
       "  <thead>\n",
       "    <tr style=\"text-align: right;\">\n",
       "      <th></th>\n",
       "      <th>_id</th>\n",
       "      <th>pid</th>\n",
       "      <th>cite</th>\n",
       "    </tr>\n",
       "  </thead>\n",
       "  <tbody>\n",
       "    <tr>\n",
       "      <th>0</th>\n",
       "      <td>60dae3041d38555bfdc170a2</td>\n",
       "      <td>60d6957a70d175acd8cb1340</td>\n",
       "      <td>{'journal': 'American journal of hypertension'...</td>\n",
       "    </tr>\n",
       "  </tbody>\n",
       "</table>\n",
       "</div>"
      ],
      "text/plain": [
       "                        _id                       pid  \\\n",
       "0  60dae3041d38555bfdc170a2  60d6957a70d175acd8cb1340   \n",
       "\n",
       "                                                cite  \n",
       "0  {'journal': 'American journal of hypertension'...  "
      ]
     },
     "execution_count": 148,
     "metadata": {},
     "output_type": "execute_result"
    }
   ],
   "source": [
    "ar=pd.DataFrame(list(sce))\n",
    "ar[:1]"
   ]
  },
  {
   "cell_type": "code",
   "execution_count": 125,
   "metadata": {},
   "outputs": [],
   "source": [
    "cites=s['cites_link'].split('cites=')[1].split('&')[0]"
   ]
  },
  {
   "cell_type": "code",
   "execution_count": null,
   "metadata": {},
   "outputs": [],
   "source": [
    "ar=pd.DataFrame( ar['cite'].to_list())"
   ]
  },
  {
   "cell_type": "markdown",
   "metadata": {},
   "source": [
    "To check with"
   ]
  },
  {
   "cell_type": "code",
   "execution_count": 126,
   "metadata": {},
   "outputs": [
    {
     "data": {
      "text/plain": [
       "'https://scholar.google.com/scholar?cites=4282081151241628780'"
      ]
     },
     "execution_count": 126,
     "metadata": {},
     "output_type": "execute_result"
    }
   ],
   "source": [
    "f'https://scholar.google.com/scholar?cites={cites}'"
   ]
  },
  {
   "cell_type": "code",
   "execution_count": 116,
   "metadata": {},
   "outputs": [
    {
     "data": {
      "text/html": [
       "<div>\n",
       "<style scoped>\n",
       "    .dataframe tbody tr th:only-of-type {\n",
       "        vertical-align: middle;\n",
       "    }\n",
       "\n",
       "    .dataframe tbody tr th {\n",
       "        vertical-align: top;\n",
       "    }\n",
       "\n",
       "    .dataframe thead th {\n",
       "        text-align: right;\n",
       "    }\n",
       "</style>\n",
       "<table border=\"1\" class=\"dataframe\">\n",
       "  <thead>\n",
       "    <tr style=\"text-align: right;\">\n",
       "      <th></th>\n",
       "      <th>author</th>\n",
       "      <th>title</th>\n",
       "      <th>journal</th>\n",
       "      <th>bibtex</th>\n",
       "    </tr>\n",
       "  </thead>\n",
       "  <tbody>\n",
       "    <tr>\n",
       "      <th>0</th>\n",
       "      <td>Tomaino, Katherine and Romero, Karina M and Ro...</td>\n",
       "      <td>Association between serum 25-hydroxy vitamin D...</td>\n",
       "      <td>American journal of hypertension</td>\n",
       "      <td>@article{tomaino2015association,\\n  title={Ass...</td>\n",
       "    </tr>\n",
       "    <tr>\n",
       "      <th>1</th>\n",
       "      <td>Hirschler, Valeria and Maccallini, Gustavo and...</td>\n",
       "      <td>Improvement in high-density lipoprotein choles...</td>\n",
       "      <td>Hormone research in paediatrics</td>\n",
       "      <td>@article{hirschler2013improvement,\\n  title={I...</td>\n",
       "    </tr>\n",
       "    <tr>\n",
       "      <th>2</th>\n",
       "      <td>Hirschler, V</td>\n",
       "      <td>Cardiometabolic risk factors in native populat...</td>\n",
       "      <td>International journal of clinical practice</td>\n",
       "      <td>@article{hirschler2016cardiometabolic,\\n  titl...</td>\n",
       "    </tr>\n",
       "    <tr>\n",
       "      <th>3</th>\n",
       "      <td>Orces, Carlos H</td>\n",
       "      <td>Vitamin D status among older adults residing i...</td>\n",
       "      <td>The Scientific World Journal</td>\n",
       "      <td>@article{orces2015vitamin,\\n  title={Vitamin D...</td>\n",
       "    </tr>\n",
       "    <tr>\n",
       "      <th>4</th>\n",
       "      <td>Farrokhyar, Forough and Tabasinejad, Rasam and...</td>\n",
       "      <td>Prevalence of vitamin D inadequacy in athletes...</td>\n",
       "      <td>Sports medicine</td>\n",
       "      <td>@article{farrokhyar2015prevalence,\\n  title={P...</td>\n",
       "    </tr>\n",
       "    <tr>\n",
       "      <th>5</th>\n",
       "      <td>Kelishadi, Roya and Ardalan, Gelayol and Motla...</td>\n",
       "      <td>National report on the association of serum vi...</td>\n",
       "      <td>Nutrition</td>\n",
       "      <td>@article{kelishadi2014national,\\n  title={Nati...</td>\n",
       "    </tr>\n",
       "    <tr>\n",
       "      <th>6</th>\n",
       "      <td>Skutsch, Margaret and Dobler, Carlos and McCal...</td>\n",
       "      <td>The association of UV with rates of COVID-19 t...</td>\n",
       "      <td>medRxiv</td>\n",
       "      <td>@article{skutsch2020association,\\n  title={The...</td>\n",
       "    </tr>\n",
       "    <tr>\n",
       "      <th>7</th>\n",
       "      <td>Gassmann, Max and Mairbäurl, Heimo and Livshit...</td>\n",
       "      <td>The increase in hemoglobin concentration with ...</td>\n",
       "      <td>Annals of the New York Academy of Sciences</td>\n",
       "      <td>@article{gassmann2019increase,\\n  title={The i...</td>\n",
       "    </tr>\n",
       "    <tr>\n",
       "      <th>8</th>\n",
       "      <td>,    and        ,</td>\n",
       "      <td>D                             ...</td>\n",
       "      <td>.        .</td>\n",
       "      <td>@article{          2016      ,\\n  title={     ...</td>\n",
       "    </tr>\n",
       "    <tr>\n",
       "      <th>9</th>\n",
       "      <td>OUASTI, Asmaa and AGUILI, Zeyneb</td>\n",
       "      <td>LStatut De LStatut De LStatut De La Vitamine D...</td>\n",
       "      <td></td>\n",
       "      <td>@phdthesis{ouastilstatut,\\n  title={LStatut De...</td>\n",
       "    </tr>\n",
       "    <tr>\n",
       "      <th>10</th>\n",
       "      <td>Hirschler, Valeria and Molinari, Claudia and M...</td>\n",
       "      <td>Healthier Lipid Profiles with Vitamin D Supple...</td>\n",
       "      <td>International journal for vitamin and nutritio...</td>\n",
       "      <td>@article{hirschler2016healthier,\\n  title={Hea...</td>\n",
       "    </tr>\n",
       "    <tr>\n",
       "      <th>11</th>\n",
       "      <td>,    and        ,</td>\n",
       "      <td>d                             ...</td>\n",
       "      <td>.        .</td>\n",
       "      <td>@article{          2016      ,\\n  title={     ...</td>\n",
       "    </tr>\n",
       "    <tr>\n",
       "      <th>12</th>\n",
       "      <td>Thakur, Pooja and Potluri, Praneeth</td>\n",
       "      <td>Association of serum vitamin D with Chronic Rh...</td>\n",
       "      <td>European Archives of Oto-Rhino-Laryngology</td>\n",
       "      <td>@article{thakur2021association,\\n  title={Asso...</td>\n",
       "    </tr>\n",
       "    <tr>\n",
       "      <th>13</th>\n",
       "      <td>Abboud, Myriam and Al Anouti, Fatme and Papand...</td>\n",
       "      <td>Vitamin D status and blood pressure in childre...</td>\n",
       "      <td>Systematic reviews</td>\n",
       "      <td>@article{abboud2021vitamin,\\n  title={Vitamin ...</td>\n",
       "    </tr>\n",
       "    <tr>\n",
       "      <th>14</th>\n",
       "      <td>Moschonis, George and Androutsos, Odysseas and...</td>\n",
       "      <td>Vitamin D insufficiency is associated with ins...</td>\n",
       "      <td>Pediatric diabetes</td>\n",
       "      <td>@article{moschonis2018vitamin,\\n  title={Vitam...</td>\n",
       "    </tr>\n",
       "    <tr>\n",
       "      <th>15</th>\n",
       "      <td>Asmaa, OUADA</td>\n",
       "      <td>Statut De La Vitamine D Chez Les Enfants Récem...</td>\n",
       "      <td></td>\n",
       "      <td>@phdthesis{asmaastatut,\\n  title={Statut De La...</td>\n",
       "    </tr>\n",
       "    <tr>\n",
       "      <th>16</th>\n",
       "      <td>Kim, Mi Ra and Jeong, Su Jin</td>\n",
       "      <td>Relationship between vitamin D level and lipid...</td>\n",
       "      <td>Metabolites</td>\n",
       "      <td>@article{kim2019relationship,\\n  title={Relati...</td>\n",
       "    </tr>\n",
       "    <tr>\n",
       "      <th>17</th>\n",
       "      <td>Lansing, Amy Hughes and McDonald, Catherine an...</td>\n",
       "      <td>Vitamin D deficiency in pediatric patients wit...</td>\n",
       "      <td>Southern medical journal</td>\n",
       "      <td>@article{lansing2015vitamin,\\n  title={Vitamin...</td>\n",
       "    </tr>\n",
       "    <tr>\n",
       "      <th>18</th>\n",
       "      <td>Mokhtar, Rana Redha</td>\n",
       "      <td>Vitamin D status, growth, and pneumonia in a p...</td>\n",
       "      <td></td>\n",
       "      <td>@phdthesis{mokhtar2016vitamin,\\n  title={Vitam...</td>\n",
       "    </tr>\n",
       "    <tr>\n",
       "      <th>19</th>\n",
       "      <td>Missaggia, Bruna Oliveira and Reales, Guillerm...</td>\n",
       "      <td>Adaptation and co-adaptation of skin pigmentat...</td>\n",
       "      <td></td>\n",
       "      <td>@inproceedings{missaggia2020adaptation,\\n  tit...</td>\n",
       "    </tr>\n",
       "    <tr>\n",
       "      <th>20</th>\n",
       "      <td>Mokhtar, Rana R and Holick, Michael F and Semp...</td>\n",
       "      <td>Vitamin D status is associated with underweigh...</td>\n",
       "      <td>Public health nutrition</td>\n",
       "      <td>@article{mokhtar2018vitamin,\\n  title={Vitamin...</td>\n",
       "    </tr>\n",
       "    <tr>\n",
       "      <th>21</th>\n",
       "      <td>Hirschler, Valeria and Maccallini, Gustavo and...</td>\n",
       "      <td>Association between vitamin D and Apo B concen...</td>\n",
       "      <td>Clinica Chimica Acta</td>\n",
       "      <td>@article{hirschler2014association,\\n  title={A...</td>\n",
       "    </tr>\n",
       "    <tr>\n",
       "      <th>22</th>\n",
       "      <td>Sarkar, Subendu and Chopra, Seema and Rohit, M...</td>\n",
       "      <td>Vitamin D regulates the production of vascular...</td>\n",
       "      <td>Medical hypotheses</td>\n",
       "      <td>@article{sarkar2016vitamin,\\n  title={Vitamin ...</td>\n",
       "    </tr>\n",
       "    <tr>\n",
       "      <th>23</th>\n",
       "      <td>Noudamadjo, Alphonse and Agossou, Joseph and A...</td>\n",
       "      <td>Hypovitaminosis D in 6-59-Month Children in th...</td>\n",
       "      <td>Open Journal of Pediatrics</td>\n",
       "      <td>@article{noudamadjo2018hypovitaminosis,\\n  tit...</td>\n",
       "    </tr>\n",
       "    <tr>\n",
       "      <th>24</th>\n",
       "      <td>Hirschler, Valeria and Molinari, Claudia and M...</td>\n",
       "      <td>Vitamin D levels and cardiometabolic markers i...</td>\n",
       "      <td>Global pediatric health</td>\n",
       "      <td>@article{hirschler2019vitamin,\\n  title={Vitam...</td>\n",
       "    </tr>\n",
       "    <tr>\n",
       "      <th>25</th>\n",
       "      <td>Shandil, Ambuj and Thakur, Pooja and Sauhta, V...</td>\n",
       "      <td>The distribution of Prevalence of Vitamin D de...</td>\n",
       "      <td></td>\n",
       "      <td>@article{shandildistribution,\\n  title={The di...</td>\n",
       "    </tr>\n",
       "    <tr>\n",
       "      <th>26</th>\n",
       "      <td>Hirschler, Valeria and Molinari, Claudia and M...</td>\n",
       "      <td>Status of dyslipidemia in vitamin D supplement...</td>\n",
       "      <td>Cardiovascular &amp; Hematological Agents in Medic...</td>\n",
       "      <td>@article{hirschler2015status,\\n  title={Status...</td>\n",
       "    </tr>\n",
       "    <tr>\n",
       "      <th>27</th>\n",
       "      <td>Hirschler, Valeria and Maccallini, Gustavo and...</td>\n",
       "      <td>Association between nontraditional risk factor...</td>\n",
       "      <td>Diabetes technology &amp; therapeutics</td>\n",
       "      <td>@article{hirschler2014association,\\n  title={A...</td>\n",
       "    </tr>\n",
       "    <tr>\n",
       "      <th>28</th>\n",
       "      <td>Terán, Graciela and Cuna, Washington and Brañe...</td>\n",
       "      <td>Differences in nutritional and health status i...</td>\n",
       "      <td>The American journal of tropical medicine and ...</td>\n",
       "      <td>@article{teran2018differences,\\n  title={Diffe...</td>\n",
       "    </tr>\n",
       "    <tr>\n",
       "      <th>29</th>\n",
       "      <td>Beer, Rachael J and Herrán, Oscar F and Villam...</td>\n",
       "      <td>Prevalence and correlates of vitamin D deficie...</td>\n",
       "      <td>The American Journal of Clinical Nutrition</td>\n",
       "      <td>@article{beer2020prevalence,\\n  title={Prevale...</td>\n",
       "    </tr>\n",
       "    <tr>\n",
       "      <th>30</th>\n",
       "      <td>Fayed, Hala Lotfy and Saleh, Amel Hamdy</td>\n",
       "      <td>Frequency of vitamin D inadequacy among Saudi ...</td>\n",
       "      <td>The Egyptian Rheumatologist</td>\n",
       "      <td>@article{fayed2017frequency,\\n  title={Frequen...</td>\n",
       "    </tr>\n",
       "    <tr>\n",
       "      <th>31</th>\n",
       "      <td>Hirschler, Valeria and Maccallini, Gustavo and...</td>\n",
       "      <td>Improvement of Apolipoprotein B in Argentine I...</td>\n",
       "      <td>Cardiovascular &amp; Hematological Agents in Medic...</td>\n",
       "      <td>@article{hirschler2015improvement,\\n  title={I...</td>\n",
       "    </tr>\n",
       "    <tr>\n",
       "      <th>32</th>\n",
       "      <td>Shih, Erin M and Mittelman, Steven and Pitukch...</td>\n",
       "      <td>Effects of vitamin D repletion on glycemic con...</td>\n",
       "      <td>Pediatric diabetes</td>\n",
       "      <td>@article{shih2016effects,\\n  title={Effects of...</td>\n",
       "    </tr>\n",
       "    <tr>\n",
       "      <th>33</th>\n",
       "      <td>Viswanathan, Gopalan and Raja, Pandian Bothi a...</td>\n",
       "      <td>Pathways of factors exacerbating dental fluoro...</td>\n",
       "      <td>Environmental Technology &amp; Innovation</td>\n",
       "      <td>@article{viswanathan2020pathways,\\n  title={Pa...</td>\n",
       "    </tr>\n",
       "    <tr>\n",
       "      <th>34</th>\n",
       "      <td>Assiri, Abdullah and Mahfouz, Ahmed A and Awad...</td>\n",
       "      <td>Vitamin D Deficiency and Clinically Detected S...</td>\n",
       "      <td>Open Access Macedonian Journal of Medical Scie...</td>\n",
       "      <td>@article{assiri2020vitamin,\\n  title={Vitamin ...</td>\n",
       "    </tr>\n",
       "    <tr>\n",
       "      <th>35</th>\n",
       "      <td>Harari, Florencia and Åkesson, Agneta and Casi...</td>\n",
       "      <td>Exposure to lithium through drinking water and...</td>\n",
       "      <td>Environmental research</td>\n",
       "      <td>@article{harari2016exposure,\\n  title={Exposur...</td>\n",
       "    </tr>\n",
       "    <tr>\n",
       "      <th>36</th>\n",
       "      <td>Povoroznyuk, VV and Pankiv, IV</td>\n",
       "      <td>Vitamin D Status in Population of Bukovyna and...</td>\n",
       "      <td>PAIN, JOINTS, SPINE</td>\n",
       "      <td>@article{povoroznyuk2016vitamin,\\n  title={Vit...</td>\n",
       "    </tr>\n",
       "    <tr>\n",
       "      <th>37</th>\n",
       "      <td>Povoroznyuk, VV and Pankiv, IV</td>\n",
       "      <td>D           ...</td>\n",
       "      <td>-Mı̀žnarod...</td>\n",
       "      <td>@article{povoroznyuk2016       ,\\n  title={   ...</td>\n",
       "    </tr>\n",
       "    <tr>\n",
       "      <th>38</th>\n",
       "      <td>Hirschler, Valeria and Maccallini, Gustano and...</td>\n",
       "      <td>Improvement in lipid profile after vitamin D s...</td>\n",
       "      <td>Cardiovascular &amp; Hematological Agents in Medic...</td>\n",
       "      <td>@article{hirschler2014improvement,\\n  title={I...</td>\n",
       "    </tr>\n",
       "    <tr>\n",
       "      <th>39</th>\n",
       "      <td>,    and        ,</td>\n",
       "      <td>d          ...</td>\n",
       "      <td></td>\n",
       "      <td>@article{          2016       ,\\n  title={    ...</td>\n",
       "    </tr>\n",
       "  </tbody>\n",
       "</table>\n",
       "</div>"
      ],
      "text/plain": [
       "                                               author  \\\n",
       "0   Tomaino, Katherine and Romero, Karina M and Ro...   \n",
       "1   Hirschler, Valeria and Maccallini, Gustavo and...   \n",
       "2                                        Hirschler, V   \n",
       "3                                     Orces, Carlos H   \n",
       "4   Farrokhyar, Forough and Tabasinejad, Rasam and...   \n",
       "5   Kelishadi, Roya and Ardalan, Gelayol and Motla...   \n",
       "6   Skutsch, Margaret and Dobler, Carlos and McCal...   \n",
       "7   Gassmann, Max and Mairbäurl, Heimo and Livshit...   \n",
       "8                                ,    and        ,      \n",
       "9                    OUASTI, Asmaa and AGUILI, Zeyneb   \n",
       "10  Hirschler, Valeria and Molinari, Claudia and M...   \n",
       "11                               ,    and        ,      \n",
       "12                Thakur, Pooja and Potluri, Praneeth   \n",
       "13  Abboud, Myriam and Al Anouti, Fatme and Papand...   \n",
       "14  Moschonis, George and Androutsos, Odysseas and...   \n",
       "15                                       Asmaa, OUADA   \n",
       "16                       Kim, Mi Ra and Jeong, Su Jin   \n",
       "17  Lansing, Amy Hughes and McDonald, Catherine an...   \n",
       "18                                Mokhtar, Rana Redha   \n",
       "19  Missaggia, Bruna Oliveira and Reales, Guillerm...   \n",
       "20  Mokhtar, Rana R and Holick, Michael F and Semp...   \n",
       "21  Hirschler, Valeria and Maccallini, Gustavo and...   \n",
       "22  Sarkar, Subendu and Chopra, Seema and Rohit, M...   \n",
       "23  Noudamadjo, Alphonse and Agossou, Joseph and A...   \n",
       "24  Hirschler, Valeria and Molinari, Claudia and M...   \n",
       "25  Shandil, Ambuj and Thakur, Pooja and Sauhta, V...   \n",
       "26  Hirschler, Valeria and Molinari, Claudia and M...   \n",
       "27  Hirschler, Valeria and Maccallini, Gustavo and...   \n",
       "28  Terán, Graciela and Cuna, Washington and Brañe...   \n",
       "29  Beer, Rachael J and Herrán, Oscar F and Villam...   \n",
       "30            Fayed, Hala Lotfy and Saleh, Amel Hamdy   \n",
       "31  Hirschler, Valeria and Maccallini, Gustavo and...   \n",
       "32  Shih, Erin M and Mittelman, Steven and Pitukch...   \n",
       "33  Viswanathan, Gopalan and Raja, Pandian Bothi a...   \n",
       "34  Assiri, Abdullah and Mahfouz, Ahmed A and Awad...   \n",
       "35  Harari, Florencia and Åkesson, Agneta and Casi...   \n",
       "36                     Povoroznyuk, VV and Pankiv, IV   \n",
       "37                     Povoroznyuk, VV and Pankiv, IV   \n",
       "38  Hirschler, Valeria and Maccallini, Gustano and...   \n",
       "39                               ,    and        ,      \n",
       "\n",
       "                                                title  \\\n",
       "0   Association between serum 25-hydroxy vitamin D...   \n",
       "1   Improvement in high-density lipoprotein choles...   \n",
       "2   Cardiometabolic risk factors in native populat...   \n",
       "3   Vitamin D status among older adults residing i...   \n",
       "4   Prevalence of vitamin D inadequacy in athletes...   \n",
       "5   National report on the association of serum vi...   \n",
       "6   The association of UV with rates of COVID-19 t...   \n",
       "7   The increase in hemoglobin concentration with ...   \n",
       "8                   D                             ...   \n",
       "9   LStatut De LStatut De LStatut De La Vitamine D...   \n",
       "10  Healthier Lipid Profiles with Vitamin D Supple...   \n",
       "11                  d                             ...   \n",
       "12  Association of serum vitamin D with Chronic Rh...   \n",
       "13  Vitamin D status and blood pressure in childre...   \n",
       "14  Vitamin D insufficiency is associated with ins...   \n",
       "15  Statut De La Vitamine D Chez Les Enfants Récem...   \n",
       "16  Relationship between vitamin D level and lipid...   \n",
       "17  Vitamin D deficiency in pediatric patients wit...   \n",
       "18  Vitamin D status, growth, and pneumonia in a p...   \n",
       "19  Adaptation and co-adaptation of skin pigmentat...   \n",
       "20  Vitamin D status is associated with underweigh...   \n",
       "21  Association between vitamin D and Apo B concen...   \n",
       "22  Vitamin D regulates the production of vascular...   \n",
       "23  Hypovitaminosis D in 6-59-Month Children in th...   \n",
       "24  Vitamin D levels and cardiometabolic markers i...   \n",
       "25  The distribution of Prevalence of Vitamin D de...   \n",
       "26  Status of dyslipidemia in vitamin D supplement...   \n",
       "27  Association between nontraditional risk factor...   \n",
       "28  Differences in nutritional and health status i...   \n",
       "29  Prevalence and correlates of vitamin D deficie...   \n",
       "30  Frequency of vitamin D inadequacy among Saudi ...   \n",
       "31  Improvement of Apolipoprotein B in Argentine I...   \n",
       "32  Effects of vitamin D repletion on glycemic con...   \n",
       "33  Pathways of factors exacerbating dental fluoro...   \n",
       "34  Vitamin D Deficiency and Clinically Detected S...   \n",
       "35  Exposure to lithium through drinking water and...   \n",
       "36  Vitamin D Status in Population of Bukovyna and...   \n",
       "37                                    D           ...   \n",
       "38  Improvement in lipid profile after vitamin D s...   \n",
       "39                                     d          ...   \n",
       "\n",
       "                                              journal  \\\n",
       "0                    American journal of hypertension   \n",
       "1                     Hormone research in paediatrics   \n",
       "2          International journal of clinical practice   \n",
       "3                        The Scientific World Journal   \n",
       "4                                     Sports medicine   \n",
       "5                                           Nutrition   \n",
       "6                                             medRxiv   \n",
       "7          Annals of the New York Academy of Sciences   \n",
       "8                                   .        .          \n",
       "9                                                       \n",
       "10  International journal for vitamin and nutritio...   \n",
       "11                             .        .               \n",
       "12         European Archives of Oto-Rhino-Laryngology   \n",
       "13                                 Systematic reviews   \n",
       "14                                 Pediatric diabetes   \n",
       "15                                                      \n",
       "16                                        Metabolites   \n",
       "17                           Southern medical journal   \n",
       "18                                                      \n",
       "19                                                      \n",
       "20                            Public health nutrition   \n",
       "21                               Clinica Chimica Acta   \n",
       "22                                 Medical hypotheses   \n",
       "23                         Open Journal of Pediatrics   \n",
       "24                            Global pediatric health   \n",
       "25                                                      \n",
       "26  Cardiovascular & Hematological Agents in Medic...   \n",
       "27                 Diabetes technology & therapeutics   \n",
       "28  The American journal of tropical medicine and ...   \n",
       "29         The American Journal of Clinical Nutrition   \n",
       "30                        The Egyptian Rheumatologist   \n",
       "31  Cardiovascular & Hematological Agents in Medic...   \n",
       "32                                 Pediatric diabetes   \n",
       "33              Environmental Technology & Innovation   \n",
       "34  Open Access Macedonian Journal of Medical Scie...   \n",
       "35                             Environmental research   \n",
       "36                                PAIN, JOINTS, SPINE   \n",
       "37                                      -Mı̀žnarod...   \n",
       "38  Cardiovascular & Hematological Agents in Medic...   \n",
       "39                                                      \n",
       "\n",
       "                                               bibtex  \n",
       "0   @article{tomaino2015association,\\n  title={Ass...  \n",
       "1   @article{hirschler2013improvement,\\n  title={I...  \n",
       "2   @article{hirschler2016cardiometabolic,\\n  titl...  \n",
       "3   @article{orces2015vitamin,\\n  title={Vitamin D...  \n",
       "4   @article{farrokhyar2015prevalence,\\n  title={P...  \n",
       "5   @article{kelishadi2014national,\\n  title={Nati...  \n",
       "6   @article{skutsch2020association,\\n  title={The...  \n",
       "7   @article{gassmann2019increase,\\n  title={The i...  \n",
       "8   @article{          2016      ,\\n  title={     ...  \n",
       "9   @phdthesis{ouastilstatut,\\n  title={LStatut De...  \n",
       "10  @article{hirschler2016healthier,\\n  title={Hea...  \n",
       "11  @article{          2016      ,\\n  title={     ...  \n",
       "12  @article{thakur2021association,\\n  title={Asso...  \n",
       "13  @article{abboud2021vitamin,\\n  title={Vitamin ...  \n",
       "14  @article{moschonis2018vitamin,\\n  title={Vitam...  \n",
       "15  @phdthesis{asmaastatut,\\n  title={Statut De La...  \n",
       "16  @article{kim2019relationship,\\n  title={Relati...  \n",
       "17  @article{lansing2015vitamin,\\n  title={Vitamin...  \n",
       "18  @phdthesis{mokhtar2016vitamin,\\n  title={Vitam...  \n",
       "19  @inproceedings{missaggia2020adaptation,\\n  tit...  \n",
       "20  @article{mokhtar2018vitamin,\\n  title={Vitamin...  \n",
       "21  @article{hirschler2014association,\\n  title={A...  \n",
       "22  @article{sarkar2016vitamin,\\n  title={Vitamin ...  \n",
       "23  @article{noudamadjo2018hypovitaminosis,\\n  tit...  \n",
       "24  @article{hirschler2019vitamin,\\n  title={Vitam...  \n",
       "25  @article{shandildistribution,\\n  title={The di...  \n",
       "26  @article{hirschler2015status,\\n  title={Status...  \n",
       "27  @article{hirschler2014association,\\n  title={A...  \n",
       "28  @article{teran2018differences,\\n  title={Diffe...  \n",
       "29  @article{beer2020prevalence,\\n  title={Prevale...  \n",
       "30  @article{fayed2017frequency,\\n  title={Frequen...  \n",
       "31  @article{hirschler2015improvement,\\n  title={I...  \n",
       "32  @article{shih2016effects,\\n  title={Effects of...  \n",
       "33  @article{viswanathan2020pathways,\\n  title={Pa...  \n",
       "34  @article{assiri2020vitamin,\\n  title={Vitamin ...  \n",
       "35  @article{harari2016exposure,\\n  title={Exposur...  \n",
       "36  @article{povoroznyuk2016vitamin,\\n  title={Vit...  \n",
       "37  @article{povoroznyuk2016       ,\\n  title={   ...  \n",
       "38  @article{hirschler2014improvement,\\n  title={I...  \n",
       "39  @article{          2016       ,\\n  title={    ...  "
      ]
     },
     "execution_count": 116,
     "metadata": {},
     "output_type": "execute_result"
    }
   ],
   "source": [
    "ar[['author','title','journal','bibtex']]"
   ]
  },
  {
   "cell_type": "markdown",
   "metadata": {},
   "source": [
    "Convert `ObjectId` to `str`"
   ]
  },
  {
   "cell_type": "code",
   "execution_count": 136,
   "metadata": {},
   "outputs": [],
   "source": [
    "sid=str(s['_id'])"
   ]
  },
  {
   "cell_type": "code",
   "execution_count": 145,
   "metadata": {},
   "outputs": [
    {
     "data": {
      "text/html": [
       "<div>\n",
       "<style scoped>\n",
       "    .dataframe tbody tr th:only-of-type {\n",
       "        vertical-align: middle;\n",
       "    }\n",
       "\n",
       "    .dataframe tbody tr th {\n",
       "        vertical-align: top;\n",
       "    }\n",
       "\n",
       "    .dataframe thead th {\n",
       "        text-align: right;\n",
       "    }\n",
       "</style>\n",
       "<table border=\"1\" class=\"dataframe\">\n",
       "  <thead>\n",
       "    <tr style=\"text-align: right;\">\n",
       "      <th></th>\n",
       "      <th>article_id</th>\n",
       "      <th>title</th>\n",
       "      <th>author</th>\n",
       "      <th>journal</th>\n",
       "      <th>cites</th>\n",
       "    </tr>\n",
       "  </thead>\n",
       "  <tbody>\n",
       "    <tr>\n",
       "      <th>0</th>\n",
       "      <td></td>\n",
       "      <td>Low vitamin D concentrations among indigenous ...</td>\n",
       "      <td>Hirschler, Valeria and Maccallini, Gustavo and...</td>\n",
       "      <td>Pediatric diabetes</td>\n",
       "      <td>40</td>\n",
       "    </tr>\n",
       "  </tbody>\n",
       "</table>\n",
       "</div>"
      ],
      "text/plain": [
       "  article_id                                              title  \\\n",
       "0             Low vitamin D concentrations among indigenous ...   \n",
       "\n",
       "                                              author             journal  \\\n",
       "0  Hirschler, Valeria and Maccallini, Gustavo and...  Pediatric diabetes   \n",
       "\n",
       "   cites  \n",
       "0     40  "
      ]
     },
     "execution_count": 145,
     "metadata": {},
     "output_type": "execute_result"
    }
   ],
   "source": [
    "pd.DataFrame( list( st.find({'_id':ObjectId( sid )}) ) )[['article_id','title','author','journal','cites']]"
   ]
  },
  {
   "cell_type": "markdown",
   "metadata": {},
   "source": [
    "## Check the API"
   ]
  },
  {
   "cell_type": "code",
   "execution_count": 1,
   "metadata": {},
   "outputs": [],
   "source": [
    "import requests\n",
    "import getpass"
   ]
  },
  {
   "cell_type": "code",
   "execution_count": 2,
   "metadata": {},
   "outputs": [
    {
     "name": "stdin",
     "output_type": "stream",
     "text": [
      "API key ································\n"
     ]
    }
   ],
   "source": [
    "api=getpass.getpass('API key')"
   ]
  },
  {
   "cell_type": "code",
   "execution_count": 9,
   "metadata": {},
   "outputs": [],
   "source": [
    "rr=requests.get(f\"http://api.scraperapi.com/account?api_key={api}\")"
   ]
  },
  {
   "cell_type": "code",
   "execution_count": 10,
   "metadata": {},
   "outputs": [
    {
     "data": {
      "text/plain": [
       "{'concurrencyLimit': 50,\n",
       " 'concurrentRequests': 0,\n",
       " 'failedRequestCount': 0,\n",
       " 'requestCount': 0,\n",
       " 'requestLimit': '3000000'}"
      ]
     },
     "execution_count": 10,
     "metadata": {},
     "output_type": "execute_result"
    }
   ],
   "source": [
    "rr.json()"
   ]
  },
  {
   "cell_type": "markdown",
   "metadata": {},
   "source": [
    "## Dump"
   ]
  },
  {
   "cell_type": "markdown",
   "metadata": {},
   "source": [
    "```bash\n",
    "cd /scratch/restrepo/dumps/br/\n",
    "mongodump -d br\n",
    "#To restore in a new mongo without the la database:\n",
    "mongorestore ./dump/\n",
    "```"
   ]
  },
  {
   "cell_type": "markdown",
   "metadata": {},
   "source": [
    "Google Scholar Profile\n",
    "* cites can be obtained directly\n",
    "* Click on title and in the open up change the \"related:\" by \"info:\""
   ]
  },
  {
   "cell_type": "markdown",
   "metadata": {},
   "source": [
    "## Quality check"
   ]
  },
  {
   "cell_type": "code",
   "execution_count": 181,
   "metadata": {},
   "outputs": [
    {
     "name": "stdout",
     "output_type": "stream",
     "text": [
      "26685.94394993782\n"
     ]
    }
   ],
   "source": [
    "ar=pd.DataFrame()\n",
    "cursor = sc.find(\n",
    "     no_cursor_timeout=True\n",
    ")\n",
    "\n",
    "s=time.time()\n",
    "i=0\n",
    "for d in cursor:\n",
    "    ar=ar.append( {'title': d.get('cite').get('title'),'cid':d.get('cite').get('cid')},ignore_index=True )\n",
    "    i+=1\n",
    "    if i%10000==0:\n",
    "        print(i,end='\\r')\n",
    "    #break\n",
    "cursor.close()\n",
    "print(time.time()-s)"
   ]
  },
  {
   "cell_type": "code",
   "execution_count": 190,
   "metadata": {},
   "outputs": [
    {
     "data": {
      "text/plain": [
       "(1076343,)"
      ]
     },
     "execution_count": 190,
     "metadata": {},
     "output_type": "execute_result"
    }
   ],
   "source": [
    "ar.cid.dropna().shape"
   ]
  },
  {
   "cell_type": "code",
   "execution_count": 188,
   "metadata": {},
   "outputs": [
    {
     "data": {
      "text/plain": [
       "(767437,)"
      ]
     },
     "execution_count": 188,
     "metadata": {},
     "output_type": "execute_result"
    }
   ],
   "source": [
    "ar.cid.unique().shape"
   ]
  },
  {
   "cell_type": "code",
   "execution_count": 186,
   "metadata": {},
   "outputs": [
    {
     "data": {
      "text/plain": [
       "(1076343, 2)"
      ]
     },
     "execution_count": 186,
     "metadata": {},
     "output_type": "execute_result"
    }
   ],
   "source": [
    "ar.shape"
   ]
  },
  {
   "cell_type": "code",
   "execution_count": 195,
   "metadata": {},
   "outputs": [
    {
     "data": {
      "text/plain": [
       "(0, 2)"
      ]
     },
     "execution_count": 195,
     "metadata": {},
     "output_type": "execute_result"
    }
   ],
   "source": [
    "ar[ar.cid.apply(len)!=12].shape"
   ]
  },
  {
   "cell_type": "code",
   "execution_count": 236,
   "metadata": {},
   "outputs": [
    {
     "data": {
      "text/html": [
       "<div>\n",
       "<style scoped>\n",
       "    .dataframe tbody tr th:only-of-type {\n",
       "        vertical-align: middle;\n",
       "    }\n",
       "\n",
       "    .dataframe tbody tr th {\n",
       "        vertical-align: top;\n",
       "    }\n",
       "\n",
       "    .dataframe thead th {\n",
       "        text-align: right;\n",
       "    }\n",
       "</style>\n",
       "<table border=\"1\" class=\"dataframe\">\n",
       "  <thead>\n",
       "    <tr style=\"text-align: right;\">\n",
       "      <th></th>\n",
       "      <th>cid</th>\n",
       "      <th>title</th>\n",
       "    </tr>\n",
       "  </thead>\n",
       "  <tbody>\n",
       "    <tr>\n",
       "      <th>17</th>\n",
       "      <td>ttOESFOc6AQJ</td>\n",
       "      <td>D                             ...</td>\n",
       "    </tr>\n",
       "    <tr>\n",
       "      <th>20</th>\n",
       "      <td>3iTk9qCfhqgJ</td>\n",
       "      <td>d                             ...</td>\n",
       "    </tr>\n",
       "    <tr>\n",
       "      <th>22</th>\n",
       "      <td>-Q5wI4PeXUIJ</td>\n",
       "      <td>Neurotropic Viruses</td>\n",
       "    </tr>\n",
       "    <tr>\n",
       "      <th>122</th>\n",
       "      <td>E6fJtJufdMgJ</td>\n",
       "      <td>D           ...</td>\n",
       "    </tr>\n",
       "    <tr>\n",
       "      <th>144</th>\n",
       "      <td>3aIHrYiwd3kJ</td>\n",
       "      <td></td>\n",
       "    </tr>\n",
       "    <tr>\n",
       "      <th>...</th>\n",
       "      <td>...</td>\n",
       "      <td>...</td>\n",
       "    </tr>\n",
       "    <tr>\n",
       "      <th>1076134</th>\n",
       "      <td>omR61rw4zC8J</td>\n",
       "      <td>.                ...</td>\n",
       "    </tr>\n",
       "    <tr>\n",
       "      <th>1076136</th>\n",
       "      <td>E4cbAxkmM-sJ</td>\n",
       "      <td>ESCUELA DE POSGRADO</td>\n",
       "    </tr>\n",
       "    <tr>\n",
       "      <th>1076162</th>\n",
       "      <td>_Djbm4jBOD4J</td>\n",
       "      <td>CRx MAGAZINE</td>\n",
       "    </tr>\n",
       "    <tr>\n",
       "      <th>1076165</th>\n",
       "      <td>2GFieJ0Mfb0J</td>\n",
       "      <td>Food Bioscience</td>\n",
       "    </tr>\n",
       "    <tr>\n",
       "      <th>1076287</th>\n",
       "      <td>4jhVcneScCQJ</td>\n",
       "      <td>Trabajo de Grado</td>\n",
       "    </tr>\n",
       "  </tbody>\n",
       "</table>\n",
       "<p>25854 rows × 2 columns</p>\n",
       "</div>"
      ],
      "text/plain": [
       "                  cid                                              title\n",
       "17       ttOESFOc6AQJ                  D                             ...\n",
       "20       3iTk9qCfhqgJ                  d                             ...\n",
       "22       -Q5wI4PeXUIJ                                Neurotropic Viruses\n",
       "122      E6fJtJufdMgJ                                    D           ...\n",
       "144      3aIHrYiwd3kJ                                                   \n",
       "...               ...                                                ...\n",
       "1076134  omR61rw4zC8J                               .                ...\n",
       "1076136  E4cbAxkmM-sJ                                ESCUELA DE POSGRADO\n",
       "1076162  _Djbm4jBOD4J                                       CRx MAGAZINE\n",
       "1076165  2GFieJ0Mfb0J                                    Food Bioscience\n",
       "1076287  4jhVcneScCQJ                                   Trabajo de Grado\n",
       "\n",
       "[25854 rows x 2 columns]"
      ]
     },
     "execution_count": 236,
     "metadata": {},
     "output_type": "execute_result"
    }
   ],
   "source": [
    "ar[ar['title'].str.strip().apply(len)<20]"
   ]
  },
  {
   "cell_type": "markdown",
   "metadata": {},
   "source": [
    "The failed ones seem to be in other languages"
   ]
  },
  {
   "cell_type": "code",
   "execution_count": 235,
   "metadata": {},
   "outputs": [
    {
     "name": "stdout",
     "output_type": "stream",
     "text": [
      "https://scholar.google.com/scholar?q=info:3aIHrYiwd3kJ:scholar.google.com\n"
     ]
    }
   ],
   "source": [
    "cid='3aIHrYiwd3kJ'\n",
    "print( f'https://scholar.google.com/scholar?q=info:{cid}:scholar.google.com' )"
   ]
  },
  {
   "cell_type": "code",
   "execution_count": 16,
   "metadata": {},
   "outputs": [],
   "source": [
    "import pandas as pd"
   ]
  },
  {
   "cell_type": "code",
   "execution_count": 19,
   "metadata": {},
   "outputs": [],
   "source": [
    "pd.DataFrame([{'A':None}]).to_json('kk.json',orient='records')"
   ]
  },
  {
   "cell_type": "code",
   "execution_count": 20,
   "metadata": {},
   "outputs": [
    {
     "name": "stdout",
     "output_type": "stream",
     "text": [
      "[{\"A\":null}]"
     ]
    }
   ],
   "source": [
    "cat kk.json"
   ]
  },
  {
   "cell_type": "code",
   "execution_count": 23,
   "metadata": {},
   "outputs": [],
   "source": [
    "df=pd.read_json('https://computationalmethods.github.io/Evaluacion_2021-1/calificaciones.json')"
   ]
  },
  {
   "cell_type": "code",
   "execution_count": 24,
   "metadata": {},
   "outputs": [
    {
     "data": {
      "text/html": [
       "<div>\n",
       "<style scoped>\n",
       "    .dataframe tbody tr th:only-of-type {\n",
       "        vertical-align: middle;\n",
       "    }\n",
       "\n",
       "    .dataframe tbody tr th {\n",
       "        vertical-align: top;\n",
       "    }\n",
       "\n",
       "    .dataframe thead th {\n",
       "        text-align: right;\n",
       "    }\n",
       "</style>\n",
       "<table border=\"1\" class=\"dataframe\">\n",
       "  <thead>\n",
       "    <tr style=\"text-align: right;\">\n",
       "      <th></th>\n",
       "      <th>student_id</th>\n",
       "      <th>Parcial 1</th>\n",
       "      <th>Parcial 2</th>\n",
       "      <th>Parcial 3</th>\n",
       "      <th>Trabajo Final</th>\n",
       "      <th>Tareas</th>\n",
       "      <th>%</th>\n",
       "    </tr>\n",
       "  </thead>\n",
       "  <tbody>\n",
       "    <tr>\n",
       "      <th>0</th>\n",
       "      <td>0</td>\n",
       "      <td>{'value': 0, '%': 15, 'description': 'Capítulo...</td>\n",
       "      <td>{'value': 0, '%': 20, 'description': 'Capítulo...</td>\n",
       "      <td>{'value': None, '%': 20, 'description': 'Capít...</td>\n",
       "      <td>{'value': None, '%': 15, 'description': 'Capít...</td>\n",
       "      <td>[{'Tarea': '1', 'value': 0, 'description': 'Py...</td>\n",
       "      <td>30</td>\n",
       "    </tr>\n",
       "    <tr>\n",
       "      <th>1</th>\n",
       "      <td>1113674432</td>\n",
       "      <td>{'value': 0, '%': 15, 'description': 'Capítulo...</td>\n",
       "      <td>{'value': 0, '%': 20, 'description': 'Capítulo...</td>\n",
       "      <td>{'value': None, '%': 20, 'description': 'Capít...</td>\n",
       "      <td>{'value': None, '%': 15, 'description': 'Capít...</td>\n",
       "      <td>[{'Tarea': '1', 'value': 0, 'description': 'Py...</td>\n",
       "      <td>30</td>\n",
       "    </tr>\n",
       "    <tr>\n",
       "      <th>2</th>\n",
       "      <td>98554575</td>\n",
       "      <td>{'value': 0, '%': 15, 'description': 'Capítulo...</td>\n",
       "      <td>{'value': 0, '%': 20, 'description': 'Capítulo...</td>\n",
       "      <td>{'value': None, '%': 20, 'description': 'Capít...</td>\n",
       "      <td>{'value': None, '%': 15, 'description': 'Capít...</td>\n",
       "      <td>[{'Tarea': '1', 'value': 0, 'description': 'Py...</td>\n",
       "      <td>30</td>\n",
       "    </tr>\n",
       "  </tbody>\n",
       "</table>\n",
       "</div>"
      ],
      "text/plain": [
       "   student_id                                          Parcial 1  \\\n",
       "0           0  {'value': 0, '%': 15, 'description': 'Capítulo...   \n",
       "1  1113674432  {'value': 0, '%': 15, 'description': 'Capítulo...   \n",
       "2    98554575  {'value': 0, '%': 15, 'description': 'Capítulo...   \n",
       "\n",
       "                                           Parcial 2  \\\n",
       "0  {'value': 0, '%': 20, 'description': 'Capítulo...   \n",
       "1  {'value': 0, '%': 20, 'description': 'Capítulo...   \n",
       "2  {'value': 0, '%': 20, 'description': 'Capítulo...   \n",
       "\n",
       "                                           Parcial 3  \\\n",
       "0  {'value': None, '%': 20, 'description': 'Capít...   \n",
       "1  {'value': None, '%': 20, 'description': 'Capít...   \n",
       "2  {'value': None, '%': 20, 'description': 'Capít...   \n",
       "\n",
       "                                       Trabajo Final  \\\n",
       "0  {'value': None, '%': 15, 'description': 'Capít...   \n",
       "1  {'value': None, '%': 15, 'description': 'Capít...   \n",
       "2  {'value': None, '%': 15, 'description': 'Capít...   \n",
       "\n",
       "                                              Tareas   %  \n",
       "0  [{'Tarea': '1', 'value': 0, 'description': 'Py...  30  \n",
       "1  [{'Tarea': '1', 'value': 0, 'description': 'Py...  30  \n",
       "2  [{'Tarea': '1', 'value': 0, 'description': 'Py...  30  "
      ]
     },
     "execution_count": 24,
     "metadata": {},
     "output_type": "execute_result"
    }
   ],
   "source": [
    "df"
   ]
  },
  {
   "cell_type": "code",
   "execution_count": null,
   "metadata": {},
   "outputs": [],
   "source": []
  }
 ],
 "metadata": {
  "kernelspec": {
   "display_name": "Python 3 (ipykernel)",
   "language": "python",
   "name": "python3"
  },
  "language_info": {
   "codemirror_mode": {
    "name": "ipython",
    "version": 3
   },
   "file_extension": ".py",
   "mimetype": "text/x-python",
   "name": "python",
   "nbconvert_exporter": "python",
   "pygments_lexer": "ipython3",
   "version": "3.9.2"
  }
 },
 "nbformat": 4,
 "nbformat_minor": 4
}
