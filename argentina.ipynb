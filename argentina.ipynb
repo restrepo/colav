{
 "cells": [
  {
   "cell_type": "markdown",
   "metadata": {},
   "source": [
    "# Argentina documents from lens from 2013"
   ]
  },
  {
   "cell_type": "markdown",
   "metadata": {},
   "source": [
    "https://link.lens.org/Kr7ZrPzLlJf: Downloaded JSON files [here](https://drive.google.com/drive/folders/1tnLxHd4Jz2s35OdFlnqXRFv4iUEqZ76h?usp=sharing)\n",
    "\n",
    "[Google Scholar](http://scholar.google.com/scholar_lookup?&title=WIMP+dark+matter+as+radiative+neutrino+mass+messenger&journal=JHEP&volume=10&publication_year=2013&author=Hirsch,M&author=Lineros,RA&author=Morisi,S&author=Palacio,J&author=Rojas,N&author=Valle,JWF') example "
   ]
  },
  {
   "cell_type": "markdown",
   "metadata": {},
   "source": [
    "## Prepare data collection"
   ]
  },
  {
   "cell_type": "markdown",
   "metadata": {},
   "source": [
    "### With  Pandas\n",
    "Requieres enough RAM"
   ]
  },
  {
   "cell_type": "markdown",
   "metadata": {},
   "source": [
    "Get the lens.org JSON files"
   ]
  },
  {
   "cell_type": "code",
   "execution_count": 119,
   "metadata": {},
   "outputs": [],
   "source": [
    "import pandas as pd"
   ]
  },
  {
   "cell_type": "code",
   "execution_count": 120,
   "metadata": {},
   "outputs": [],
   "source": [
    "def read_and_simplify_json(file):\n",
    "    ar=pd.read_json(file)\n",
    "\n",
    "    ar['authors']=ar['authors'].apply(lambda l: ' and '.join( \n",
    "                    [f'{d.get(\"last_name\")}, {d.get(\"initials\")}' for d in l][:3]\n",
    "                          ))\n",
    "\n",
    "    ar['source']=ar['source'].apply(lambda d: d.get('title_full') if isinstance(d,dict) else '')\n",
    "\n",
    "    ar['external_ids']=ar['external_ids'].apply(lambda l: [d.get('value') for d in l if d.get('type')=='doi'] if isinstance(l,list) else []).str[0]\n",
    "\n",
    "    ar=ar.rename({'authors':'author','source':'journal','external_ids':'doi','year_published':'year','lens_id':'article_id'\n",
    "                 },axis='columns')[\n",
    "        ['article_id','title','author','journal','year','volume','issue','doi'] \n",
    "        ].fillna('')\n",
    "    return ar"
   ]
  },
  {
   "cell_type": "code",
   "execution_count": 79,
   "metadata": {},
   "outputs": [],
   "source": [
    "ar=pd.DataFrame()\n",
    "files=['lens_ar_2013.json','lens_ar_2014_2016.json','lens_ar_2017_2018.json','lens_ar_2019.json']"
   ]
  },
  {
   "cell_type": "code",
   "execution_count": 80,
   "metadata": {},
   "outputs": [],
   "source": [
    "for f in files:\n",
    "    ar=ar.append( read_and_simplify_json(f) ).reset_index(drop=True)"
   ]
  },
  {
   "cell_type": "code",
   "execution_count": 81,
   "metadata": {},
   "outputs": [],
   "source": [
    "ar['publisher']=''\n",
    "ar['country']=''\n",
    "ar[\"pages\"]=''\n",
    "ar[\"abstract\"]=''\n",
    "ar[\"language\"]=''"
   ]
  },
  {
   "cell_type": "code",
   "execution_count": null,
   "metadata": {},
   "outputs": [],
   "source": [
    "ar.to_json('argentina.json',orient='records')"
   ]
  },
  {
   "cell_type": "markdown",
   "metadata": {},
   "source": [
    "```bash\n",
    "mongoimport --db la --collection data --file /scratch/restrepo/argentina.json --jsonArray\n",
    "hunabku_server\n",
    "moai_gslookup --hunabku_server http://10.0.0.8:8080 --proxy_api 12894ec7c83f91ffcdff8fb116e75906 --max_threads 50 --db la --max_tries 2\n",
    "```"
   ]
  },
  {
   "cell_type": "code",
   "execution_count": 43,
   "metadata": {},
   "outputs": [],
   "source": [
    "ar=pd.read_json('argentina.json')"
   ]
  },
  {
   "cell_type": "markdown",
   "metadata": {},
   "source": [
    "### With Mongodb\n",
    "Only disc"
   ]
  },
  {
   "cell_type": "code",
   "execution_count": 64,
   "metadata": {},
   "outputs": [],
   "source": [
    "%%bash\n",
    "RELOAD=0\n",
    "if [ $RELOAD == 1 ];then\n",
    "    for f in lens_ar_2013.json lens_ar_2014_2016.json lens_ar_2017_2018.json lens_ar_2019.json ;do \n",
    "        mongoimport --db la --collection lens --file $f --jsonArray\n",
    "    done\n",
    "fi"
   ]
  },
  {
   "cell_type": "code",
   "execution_count": 79,
   "metadata": {},
   "outputs": [],
   "source": [
    "from pymongo import MongoClient\n",
    "from bson.objectid import ObjectId\n",
    "import sys"
   ]
  },
  {
   "cell_type": "code",
   "execution_count": 20,
   "metadata": {},
   "outputs": [],
   "source": [
    "client = MongoClient()"
   ]
  },
  {
   "cell_type": "code",
   "execution_count": 21,
   "metadata": {},
   "outputs": [],
   "source": [
    "client = MongoClient('localhost', 27017)"
   ]
  },
  {
   "cell_type": "code",
   "execution_count": 66,
   "metadata": {},
   "outputs": [],
   "source": [
    "#client.drop_database('la')"
   ]
  },
  {
   "cell_type": "code",
   "execution_count": 68,
   "metadata": {},
   "outputs": [
    {
     "data": {
      "text/plain": [
       "['la', 'local']"
      ]
     },
     "execution_count": 68,
     "metadata": {},
     "output_type": "execute_result"
    }
   ],
   "source": [
    "client.list_database_names()"
   ]
  },
  {
   "cell_type": "code",
   "execution_count": 69,
   "metadata": {},
   "outputs": [],
   "source": [
    "db = client['la']"
   ]
  },
  {
   "cell_type": "code",
   "execution_count": 70,
   "metadata": {},
   "outputs": [
    {
     "data": {
      "text/plain": [
       "['stage_cites',\n",
       " 'stage_invalid',\n",
       " 'data',\n",
       " 'stage',\n",
       " 'quarantine',\n",
       " 'stage_cites_invalid',\n",
       " 'lens',\n",
       " 'cache_cites',\n",
       " 'gslookup_not_found']"
      ]
     },
     "execution_count": 70,
     "metadata": {},
     "output_type": "execute_result"
    }
   ],
   "source": [
    "db.list_collection_names()"
   ]
  },
  {
   "cell_type": "code",
   "execution_count": 71,
   "metadata": {},
   "outputs": [],
   "source": [
    "ln=db.get_collection('lens')"
   ]
  },
  {
   "cell_type": "code",
   "execution_count": 72,
   "metadata": {},
   "outputs": [
    {
     "data": {
      "text/plain": [
       "136326"
      ]
     },
     "execution_count": 72,
     "metadata": {},
     "output_type": "execute_result"
    }
   ],
   "source": [
    "ln.count_documents({})"
   ]
  },
  {
   "cell_type": "code",
   "execution_count": 80,
   "metadata": {},
   "outputs": [
    {
     "ename": "SystemExit",
     "evalue": "Already loaded",
     "output_type": "error",
     "traceback": [
      "An exception has occurred, use %tb to see the full traceback.\n",
      "\u001b[0;31mSystemExit\u001b[0m\u001b[0;31m:\u001b[0m Already loaded\n"
     ]
    },
    {
     "name": "stderr",
     "output_type": "stream",
     "text": [
      "/usr/local/lib/python3.7/dist-packages/IPython/core/interactiveshell.py:3449: UserWarning: To exit: use 'exit', 'quit', or Ctrl-D.\n",
      "  warn(\"To exit: use 'exit', 'quit', or Ctrl-D.\", stacklevel=1)\n"
     ]
    }
   ],
   "source": [
    "REBUILD=False\n",
    "if not REBUILD:\n",
    "    dt=db.get_collection('data')\n",
    "    sys.exit('Already loaded')\n",
    "else:\n",
    "    dt=db.get_collection('data')\n",
    "\n",
    "for p in ln.find():\n",
    "    dd={}\n",
    "    l=[]\n",
    "    for d in p['authors'][:3]:\n",
    "        l.append(f'{d.get(\"last_name\")}, {d.get(\"initials\")}')\n",
    "    dd['author']=' and '.join(l)\n",
    "    if isinstance(p.get('source'),dict):\n",
    "        dd['journal']=p['source'].get('title_full')\n",
    "    else:\n",
    "        dd['journal']=''\n",
    "    for d in p['external_ids']:\n",
    "        if d.get('type')=='doi':\n",
    "            doi=d.get('value')\n",
    "        else:\n",
    "            doi=''\n",
    "    dd['doi']=doi\n",
    "    dd[\"pages\"]=p.get('start_page')            \n",
    "\n",
    "    dd['title']=p['title']\n",
    "    dd['volume']=p.get('volumne')\n",
    "    dd['issue']=p.get('issue')     \n",
    "    \n",
    "    dd['year']=p['year_published']                     \n",
    "    dd['article_id']=p['lens_id']                     \n",
    "    dd['publisher']=''\n",
    "    dd['country']=''\n",
    "    dd[\"abstract\"]=''\n",
    "    dd[\"language\"]=''\n",
    "    dt.insert_one(dd)\n",
    "    #break"
   ]
  },
  {
   "cell_type": "code",
   "execution_count": 74,
   "metadata": {},
   "outputs": [
    {
     "data": {
      "text/plain": [
       "133853"
      ]
     },
     "execution_count": 74,
     "metadata": {},
     "output_type": "execute_result"
    }
   ],
   "source": [
    "dt.count_documents({})"
   ]
  },
  {
   "cell_type": "code",
   "execution_count": 75,
   "metadata": {},
   "outputs": [],
   "source": [
    "#dt.drop()"
   ]
  },
  {
   "cell_type": "markdown",
   "metadata": {},
   "source": [
    "### Add the lens collection `'_id'` to data as `'pid'` by searching with `'title'`"
   ]
  },
  {
   "cell_type": "code",
   "execution_count": 76,
   "metadata": {},
   "outputs": [
    {
     "data": {
      "text/plain": [
       "136326"
      ]
     },
     "execution_count": 76,
     "metadata": {},
     "output_type": "execute_result"
    }
   ],
   "source": [
    "ln.count_documents({})"
   ]
  },
  {
   "cell_type": "code",
   "execution_count": 77,
   "metadata": {},
   "outputs": [
    {
     "data": {
      "text/plain": [
       "133853"
      ]
     },
     "execution_count": 77,
     "metadata": {},
     "output_type": "execute_result"
    }
   ],
   "source": [
    "dt.count_documents({})"
   ]
  },
  {
   "cell_type": "code",
   "execution_count": 34,
   "metadata": {},
   "outputs": [],
   "source": [
    "import time"
   ]
  },
  {
   "cell_type": "code",
   "execution_count": 81,
   "metadata": {},
   "outputs": [
    {
     "ename": "SystemExit",
     "evalue": "Already fixed",
     "output_type": "error",
     "traceback": [
      "An exception has occurred, use %tb to see the full traceback.\n",
      "\u001b[0;31mSystemExit\u001b[0m\u001b[0;31m:\u001b[0m Already fixed\n"
     ]
    }
   ],
   "source": [
    "REBUILD=False\n",
    "if not REBUILD:\n",
    "    sys.exit('Already fixed')\n",
    "#See https://stackoverflow.com/a/24200795/2268280\n",
    "cursor = ln.find(\n",
    "     no_cursor_timeout=True\n",
    ")\n",
    "\n",
    "s=time.time()\n",
    "for d in cursor:\n",
    "    title=d.get('title')\n",
    "    pid=str(d.get('_id'))\n",
    "    if title and pid:\n",
    "        kk=dt.update_one( {\"title\":title}, {\"$set\" : {\"pid\":pid}}   )\n",
    "    #break\n",
    "cursor.close()\n",
    "print(time.time()-s)"
   ]
  },
  {
   "cell_type": "code",
   "execution_count": 82,
   "metadata": {},
   "outputs": [],
   "source": [
    "i=0\n",
    "iend=55\n",
    "for d in dt.find():\n",
    "    if i==iend:\n",
    "        break\n",
    "    i=i+1"
   ]
  },
  {
   "cell_type": "code",
   "execution_count": 83,
   "metadata": {},
   "outputs": [
    {
     "data": {
      "text/plain": [
       "('60e63d00cdd7c50a878a7984',\n",
       " 'Parasitism and physiological trade-offs in stressed capybaras.')"
      ]
     },
     "execution_count": 83,
     "metadata": {},
     "output_type": "execute_result"
    }
   ],
   "source": [
    "d['pid'],d['title']"
   ]
  },
  {
   "cell_type": "code",
   "execution_count": 84,
   "metadata": {},
   "outputs": [],
   "source": [
    "dd=list(ln.find({'_id':ObjectId(d['pid'])}))[0]"
   ]
  },
  {
   "cell_type": "code",
   "execution_count": 85,
   "metadata": {},
   "outputs": [
    {
     "data": {
      "text/plain": [
       "'Parasitism and physiological trade-offs in stressed capybaras.'"
      ]
     },
     "execution_count": 85,
     "metadata": {},
     "output_type": "execute_result"
    }
   ],
   "source": [
    "dd['title']"
   ]
  },
  {
   "cell_type": "markdown",
   "metadata": {},
   "source": [
    "### Check de collection with Pandas"
   ]
  },
  {
   "cell_type": "code",
   "execution_count": 86,
   "metadata": {},
   "outputs": [],
   "source": [
    "import pandas as pd"
   ]
  },
  {
   "cell_type": "code",
   "execution_count": 87,
   "metadata": {},
   "outputs": [
    {
     "data": {
      "text/html": [
       "<div>\n",
       "<style scoped>\n",
       "    .dataframe tbody tr th:only-of-type {\n",
       "        vertical-align: middle;\n",
       "    }\n",
       "\n",
       "    .dataframe tbody tr th {\n",
       "        vertical-align: top;\n",
       "    }\n",
       "\n",
       "    .dataframe thead th {\n",
       "        text-align: right;\n",
       "    }\n",
       "</style>\n",
       "<table border=\"1\" class=\"dataframe\">\n",
       "  <thead>\n",
       "    <tr style=\"text-align: right;\">\n",
       "      <th></th>\n",
       "      <th>_id</th>\n",
       "      <th>title</th>\n",
       "      <th>author</th>\n",
       "      <th>journal</th>\n",
       "      <th>year</th>\n",
       "      <th>volume</th>\n",
       "      <th>issue</th>\n",
       "      <th>doi</th>\n",
       "      <th>publisher</th>\n",
       "      <th>country</th>\n",
       "      <th>pages</th>\n",
       "      <th>abstract</th>\n",
       "      <th>article_id</th>\n",
       "      <th>language</th>\n",
       "      <th>pid</th>\n",
       "    </tr>\n",
       "  </thead>\n",
       "  <tbody>\n",
       "    <tr>\n",
       "      <th>0</th>\n",
       "      <td>60d6957a70d175acd8cb1340</td>\n",
       "      <td>Low vitamin D concentrations among indigenous ...</td>\n",
       "      <td>Hirschler, V and Maccallini, G and Molinari, C</td>\n",
       "      <td>Pediatric diabetes</td>\n",
       "      <td>2013</td>\n",
       "      <td>14</td>\n",
       "      <td>3</td>\n",
       "      <td></td>\n",
       "      <td></td>\n",
       "      <td></td>\n",
       "      <td></td>\n",
       "      <td></td>\n",
       "      <td></td>\n",
       "      <td></td>\n",
       "      <td>60e63d00cdd7c50a878a794f</td>\n",
       "    </tr>\n",
       "    <tr>\n",
       "      <th>1</th>\n",
       "      <td>60d6957a70d175acd8cb1341</td>\n",
       "      <td>Investigaciones sobre género y determinación p...</td>\n",
       "      <td>Tajer, D and Reid, G and Gaba, M</td>\n",
       "      <td>Revista Argentina de Cardiología</td>\n",
       "      <td>2013</td>\n",
       "      <td>81</td>\n",
       "      <td>4</td>\n",
       "      <td>10.7775/rac.es.v81.i4.280</td>\n",
       "      <td></td>\n",
       "      <td></td>\n",
       "      <td></td>\n",
       "      <td></td>\n",
       "      <td></td>\n",
       "      <td></td>\n",
       "      <td>60e63d00cdd7c50a878a7949</td>\n",
       "    </tr>\n",
       "    <tr>\n",
       "      <th>2</th>\n",
       "      <td>60d6957a70d175acd8cb1342</td>\n",
       "      <td>Duplex Stainless Steels - Low‐Cycle Fatigue at...</td>\n",
       "      <td>Alvarez-Armas, I</td>\n",
       "      <td>Duplex Stainless Steels</td>\n",
       "      <td>2013</td>\n",
       "      <td></td>\n",
       "      <td></td>\n",
       "      <td>10.1002/9781118557990.ch6</td>\n",
       "      <td></td>\n",
       "      <td></td>\n",
       "      <td></td>\n",
       "      <td></td>\n",
       "      <td></td>\n",
       "      <td></td>\n",
       "      <td>60e63d00cdd7c50a878a7947</td>\n",
       "    </tr>\n",
       "  </tbody>\n",
       "</table>\n",
       "</div>"
      ],
      "text/plain": [
       "                        _id  \\\n",
       "0  60d6957a70d175acd8cb1340   \n",
       "1  60d6957a70d175acd8cb1341   \n",
       "2  60d6957a70d175acd8cb1342   \n",
       "\n",
       "                                               title  \\\n",
       "0  Low vitamin D concentrations among indigenous ...   \n",
       "1  Investigaciones sobre género y determinación p...   \n",
       "2  Duplex Stainless Steels - Low‐Cycle Fatigue at...   \n",
       "\n",
       "                                           author  \\\n",
       "0  Hirschler, V and Maccallini, G and Molinari, C   \n",
       "1                Tajer, D and Reid, G and Gaba, M   \n",
       "2                                Alvarez-Armas, I   \n",
       "\n",
       "                            journal  year volume issue  \\\n",
       "0                Pediatric diabetes  2013     14     3   \n",
       "1  Revista Argentina de Cardiología  2013     81     4   \n",
       "2           Duplex Stainless Steels  2013                \n",
       "\n",
       "                         doi publisher country pages abstract article_id  \\\n",
       "0                                                                          \n",
       "1  10.7775/rac.es.v81.i4.280                                               \n",
       "2  10.1002/9781118557990.ch6                                               \n",
       "\n",
       "  language                       pid  \n",
       "0           60e63d00cdd7c50a878a794f  \n",
       "1           60e63d00cdd7c50a878a7949  \n",
       "2           60e63d00cdd7c50a878a7947  "
      ]
     },
     "execution_count": 87,
     "metadata": {},
     "output_type": "execute_result"
    }
   ],
   "source": [
    "ar=pd.DataFrame(list(dt.find()))\n",
    "ar[:3]"
   ]
  },
  {
   "cell_type": "markdown",
   "metadata": {},
   "source": [
    "## Obtain the cites\n",
    "`--proxy_api` key from https://dashboard.scraperapi.com/dashboard"
   ]
  },
  {
   "cell_type": "markdown",
   "metadata": {},
   "source": [
    "```bash\n",
    "hunabku_server #in and indepentdent, nohup, other terminal\n",
    "```"
   ]
  },
  {
   "cell_type": "markdown",
   "metadata": {},
   "source": [
    "### Get de Google Scholar info for each document\n",
    "Including `'cid'` and bibtex. The info is stores in the stage collection"
   ]
  },
  {
   "cell_type": "markdown",
   "metadata": {},
   "source": [
    "```bash\n",
    "moai_gslookup --hunabku_server http://10.0.0.8:8080 --proxy_api XXXXXX --max_threads 50 --db la --max_tries 2\n",
    "```"
   ]
  },
  {
   "cell_type": "markdown",
   "metadata": {},
   "source": [
    "Check the proxies"
   ]
  },
  {
   "cell_type": "code",
   "execution_count": 89,
   "metadata": {},
   "outputs": [
    {
     "data": {
      "text/plain": [
       "125987"
      ]
     },
     "execution_count": 89,
     "metadata": {},
     "output_type": "execute_result"
    }
   ],
   "source": [
    "st=db.get_collection('stage')\n",
    "st.count_documents({})"
   ]
  },
  {
   "cell_type": "code",
   "execution_count": 90,
   "metadata": {},
   "outputs": [
    {
     "data": {
      "text/plain": [
       "('Low vitamin D concentrations among indigenous Argentinean children living at high altitudes',\n",
       " 'Hirschler, Valeria and Maccallini, Gustavo and Molinari, Claudia and Aranda, Claudio and San Antonio de los Cobres Study Group',\n",
       " 'Pediatric diabetes')"
      ]
     },
     "execution_count": 90,
     "metadata": {},
     "output_type": "execute_result"
    }
   ],
   "source": [
    "s=st.find_one()\n",
    "cid=s['cid']\n",
    "(s['title'],s['author'],s['journal'])"
   ]
  },
  {
   "cell_type": "markdown",
   "metadata": {},
   "source": [
    "Check with:"
   ]
  },
  {
   "cell_type": "code",
   "execution_count": 91,
   "metadata": {},
   "outputs": [
    {
     "name": "stdout",
     "output_type": "stream",
     "text": [
      "https://scholar.google.com/scholar?q=info:bCwnnx4CbTsJ:scholar.google.com\n"
     ]
    }
   ],
   "source": [
    "print( f'https://scholar.google.com/scholar?q=info:{cid}:scholar.google.com' )"
   ]
  },
  {
   "cell_type": "code",
   "execution_count": 92,
   "metadata": {},
   "outputs": [],
   "source": [
    "ar=pd.DataFrame(list(st.find()))"
   ]
  },
  {
   "cell_type": "code",
   "execution_count": 93,
   "metadata": {},
   "outputs": [
    {
     "data": {
      "text/plain": [
       "1277822.0"
      ]
     },
     "execution_count": 93,
     "metadata": {},
     "output_type": "execute_result"
    }
   ],
   "source": [
    "ar.cites.fillna(0).sum()"
   ]
  },
  {
   "cell_type": "markdown",
   "metadata": {},
   "source": [
    "### Creates de chache\n",
    "```bash\n",
    "moai_gscites  --hunabku_server http://127.0.1.1:8080 --proxy_apikey xxxxxx --db la --create_cache\n",
    "\n",
    "```"
   ]
  },
  {
   "cell_type": "markdown",
   "metadata": {},
   "source": [
    "### Download metadata info for each cite\n",
    "Creates \n",
    "```bash\n",
    "moai_gscites  --hunabku_server http://127.0.1.1:8080 --proxy_apikey xxxxxx --db la --max_threads 5  --max_tries 2\n",
    "```"
   ]
  },
  {
   "cell_type": "code",
   "execution_count": 94,
   "metadata": {},
   "outputs": [
    {
     "data": {
      "text/plain": [
       "1076343"
      ]
     },
     "execution_count": 94,
     "metadata": {},
     "output_type": "execute_result"
    }
   ],
   "source": [
    "sc=db.get_collection('stage_cites')\n",
    "sc.count_documents({})"
   ]
  },
  {
   "cell_type": "code",
   "execution_count": 147,
   "metadata": {},
   "outputs": [],
   "source": [
    "sce=sc.find({'pid':str(s['_id'])})"
   ]
  },
  {
   "cell_type": "code",
   "execution_count": 148,
   "metadata": {},
   "outputs": [
    {
     "data": {
      "text/html": [
       "<div>\n",
       "<style scoped>\n",
       "    .dataframe tbody tr th:only-of-type {\n",
       "        vertical-align: middle;\n",
       "    }\n",
       "\n",
       "    .dataframe tbody tr th {\n",
       "        vertical-align: top;\n",
       "    }\n",
       "\n",
       "    .dataframe thead th {\n",
       "        text-align: right;\n",
       "    }\n",
       "</style>\n",
       "<table border=\"1\" class=\"dataframe\">\n",
       "  <thead>\n",
       "    <tr style=\"text-align: right;\">\n",
       "      <th></th>\n",
       "      <th>_id</th>\n",
       "      <th>pid</th>\n",
       "      <th>cite</th>\n",
       "    </tr>\n",
       "  </thead>\n",
       "  <tbody>\n",
       "    <tr>\n",
       "      <th>0</th>\n",
       "      <td>60dae3041d38555bfdc170a2</td>\n",
       "      <td>60d6957a70d175acd8cb1340</td>\n",
       "      <td>{'journal': 'American journal of hypertension'...</td>\n",
       "    </tr>\n",
       "  </tbody>\n",
       "</table>\n",
       "</div>"
      ],
      "text/plain": [
       "                        _id                       pid  \\\n",
       "0  60dae3041d38555bfdc170a2  60d6957a70d175acd8cb1340   \n",
       "\n",
       "                                                cite  \n",
       "0  {'journal': 'American journal of hypertension'...  "
      ]
     },
     "execution_count": 148,
     "metadata": {},
     "output_type": "execute_result"
    }
   ],
   "source": [
    "ar=pd.DataFrame(list(sce))\n",
    "ar[:1]"
   ]
  },
  {
   "cell_type": "code",
   "execution_count": 125,
   "metadata": {},
   "outputs": [],
   "source": [
    "cites=s['cites_link'].split('cites=')[1].split('&')[0]"
   ]
  },
  {
   "cell_type": "code",
   "execution_count": null,
   "metadata": {},
   "outputs": [],
   "source": [
    "ar=pd.DataFrame( ar['cite'].to_list())"
   ]
  },
  {
   "cell_type": "markdown",
   "metadata": {},
   "source": [
    "To check with"
   ]
  },
  {
   "cell_type": "code",
   "execution_count": 126,
   "metadata": {},
   "outputs": [
    {
     "data": {
      "text/plain": [
       "'https://scholar.google.com/scholar?cites=4282081151241628780'"
      ]
     },
     "execution_count": 126,
     "metadata": {},
     "output_type": "execute_result"
    }
   ],
   "source": [
    "f'https://scholar.google.com/scholar?cites={cites}'"
   ]
  },
  {
   "cell_type": "code",
   "execution_count": 116,
   "metadata": {},
   "outputs": [
    {
     "data": {
      "text/html": [
       "<div>\n",
       "<style scoped>\n",
       "    .dataframe tbody tr th:only-of-type {\n",
       "        vertical-align: middle;\n",
       "    }\n",
       "\n",
       "    .dataframe tbody tr th {\n",
       "        vertical-align: top;\n",
       "    }\n",
       "\n",
       "    .dataframe thead th {\n",
       "        text-align: right;\n",
       "    }\n",
       "</style>\n",
       "<table border=\"1\" class=\"dataframe\">\n",
       "  <thead>\n",
       "    <tr style=\"text-align: right;\">\n",
       "      <th></th>\n",
       "      <th>author</th>\n",
       "      <th>title</th>\n",
       "      <th>journal</th>\n",
       "      <th>bibtex</th>\n",
       "    </tr>\n",
       "  </thead>\n",
       "  <tbody>\n",
       "    <tr>\n",
       "      <th>0</th>\n",
       "      <td>Tomaino, Katherine and Romero, Karina M and Ro...</td>\n",
       "      <td>Association between serum 25-hydroxy vitamin D...</td>\n",
       "      <td>American journal of hypertension</td>\n",
       "      <td>@article{tomaino2015association,\\n  title={Ass...</td>\n",
       "    </tr>\n",
       "    <tr>\n",
       "      <th>1</th>\n",
       "      <td>Hirschler, Valeria and Maccallini, Gustavo and...</td>\n",
       "      <td>Improvement in high-density lipoprotein choles...</td>\n",
       "      <td>Hormone research in paediatrics</td>\n",
       "      <td>@article{hirschler2013improvement,\\n  title={I...</td>\n",
       "    </tr>\n",
       "    <tr>\n",
       "      <th>2</th>\n",
       "      <td>Hirschler, V</td>\n",
       "      <td>Cardiometabolic risk factors in native populat...</td>\n",
       "      <td>International journal of clinical practice</td>\n",
       "      <td>@article{hirschler2016cardiometabolic,\\n  titl...</td>\n",
       "    </tr>\n",
       "    <tr>\n",
       "      <th>3</th>\n",
       "      <td>Orces, Carlos H</td>\n",
       "      <td>Vitamin D status among older adults residing i...</td>\n",
       "      <td>The Scientific World Journal</td>\n",
       "      <td>@article{orces2015vitamin,\\n  title={Vitamin D...</td>\n",
       "    </tr>\n",
       "    <tr>\n",
       "      <th>4</th>\n",
       "      <td>Farrokhyar, Forough and Tabasinejad, Rasam and...</td>\n",
       "      <td>Prevalence of vitamin D inadequacy in athletes...</td>\n",
       "      <td>Sports medicine</td>\n",
       "      <td>@article{farrokhyar2015prevalence,\\n  title={P...</td>\n",
       "    </tr>\n",
       "    <tr>\n",
       "      <th>5</th>\n",
       "      <td>Kelishadi, Roya and Ardalan, Gelayol and Motla...</td>\n",
       "      <td>National report on the association of serum vi...</td>\n",
       "      <td>Nutrition</td>\n",
       "      <td>@article{kelishadi2014national,\\n  title={Nati...</td>\n",
       "    </tr>\n",
       "    <tr>\n",
       "      <th>6</th>\n",
       "      <td>Skutsch, Margaret and Dobler, Carlos and McCal...</td>\n",
       "      <td>The association of UV with rates of COVID-19 t...</td>\n",
       "      <td>medRxiv</td>\n",
       "      <td>@article{skutsch2020association,\\n  title={The...</td>\n",
       "    </tr>\n",
       "    <tr>\n",
       "      <th>7</th>\n",
       "      <td>Gassmann, Max and Mairbäurl, Heimo and Livshit...</td>\n",
       "      <td>The increase in hemoglobin concentration with ...</td>\n",
       "      <td>Annals of the New York Academy of Sciences</td>\n",
       "      <td>@article{gassmann2019increase,\\n  title={The i...</td>\n",
       "    </tr>\n",
       "    <tr>\n",
       "      <th>8</th>\n",
       "      <td>,    and        ,</td>\n",
       "      <td>D                             ...</td>\n",
       "      <td>.        .</td>\n",
       "      <td>@article{          2016      ,\\n  title={     ...</td>\n",
       "    </tr>\n",
       "    <tr>\n",
       "      <th>9</th>\n",
       "      <td>OUASTI, Asmaa and AGUILI, Zeyneb</td>\n",
       "      <td>LStatut De LStatut De LStatut De La Vitamine D...</td>\n",
       "      <td></td>\n",
       "      <td>@phdthesis{ouastilstatut,\\n  title={LStatut De...</td>\n",
       "    </tr>\n",
       "    <tr>\n",
       "      <th>10</th>\n",
       "      <td>Hirschler, Valeria and Molinari, Claudia and M...</td>\n",
       "      <td>Healthier Lipid Profiles with Vitamin D Supple...</td>\n",
       "      <td>International journal for vitamin and nutritio...</td>\n",
       "      <td>@article{hirschler2016healthier,\\n  title={Hea...</td>\n",
       "    </tr>\n",
       "    <tr>\n",
       "      <th>11</th>\n",
       "      <td>,    and        ,</td>\n",
       "      <td>d                             ...</td>\n",
       "      <td>.        .</td>\n",
       "      <td>@article{          2016      ,\\n  title={     ...</td>\n",
       "    </tr>\n",
       "    <tr>\n",
       "      <th>12</th>\n",
       "      <td>Thakur, Pooja and Potluri, Praneeth</td>\n",
       "      <td>Association of serum vitamin D with Chronic Rh...</td>\n",
       "      <td>European Archives of Oto-Rhino-Laryngology</td>\n",
       "      <td>@article{thakur2021association,\\n  title={Asso...</td>\n",
       "    </tr>\n",
       "    <tr>\n",
       "      <th>13</th>\n",
       "      <td>Abboud, Myriam and Al Anouti, Fatme and Papand...</td>\n",
       "      <td>Vitamin D status and blood pressure in childre...</td>\n",
       "      <td>Systematic reviews</td>\n",
       "      <td>@article{abboud2021vitamin,\\n  title={Vitamin ...</td>\n",
       "    </tr>\n",
       "    <tr>\n",
       "      <th>14</th>\n",
       "      <td>Moschonis, George and Androutsos, Odysseas and...</td>\n",
       "      <td>Vitamin D insufficiency is associated with ins...</td>\n",
       "      <td>Pediatric diabetes</td>\n",
       "      <td>@article{moschonis2018vitamin,\\n  title={Vitam...</td>\n",
       "    </tr>\n",
       "    <tr>\n",
       "      <th>15</th>\n",
       "      <td>Asmaa, OUADA</td>\n",
       "      <td>Statut De La Vitamine D Chez Les Enfants Récem...</td>\n",
       "      <td></td>\n",
       "      <td>@phdthesis{asmaastatut,\\n  title={Statut De La...</td>\n",
       "    </tr>\n",
       "    <tr>\n",
       "      <th>16</th>\n",
       "      <td>Kim, Mi Ra and Jeong, Su Jin</td>\n",
       "      <td>Relationship between vitamin D level and lipid...</td>\n",
       "      <td>Metabolites</td>\n",
       "      <td>@article{kim2019relationship,\\n  title={Relati...</td>\n",
       "    </tr>\n",
       "    <tr>\n",
       "      <th>17</th>\n",
       "      <td>Lansing, Amy Hughes and McDonald, Catherine an...</td>\n",
       "      <td>Vitamin D deficiency in pediatric patients wit...</td>\n",
       "      <td>Southern medical journal</td>\n",
       "      <td>@article{lansing2015vitamin,\\n  title={Vitamin...</td>\n",
       "    </tr>\n",
       "    <tr>\n",
       "      <th>18</th>\n",
       "      <td>Mokhtar, Rana Redha</td>\n",
       "      <td>Vitamin D status, growth, and pneumonia in a p...</td>\n",
       "      <td></td>\n",
       "      <td>@phdthesis{mokhtar2016vitamin,\\n  title={Vitam...</td>\n",
       "    </tr>\n",
       "    <tr>\n",
       "      <th>19</th>\n",
       "      <td>Missaggia, Bruna Oliveira and Reales, Guillerm...</td>\n",
       "      <td>Adaptation and co-adaptation of skin pigmentat...</td>\n",
       "      <td></td>\n",
       "      <td>@inproceedings{missaggia2020adaptation,\\n  tit...</td>\n",
       "    </tr>\n",
       "    <tr>\n",
       "      <th>20</th>\n",
       "      <td>Mokhtar, Rana R and Holick, Michael F and Semp...</td>\n",
       "      <td>Vitamin D status is associated with underweigh...</td>\n",
       "      <td>Public health nutrition</td>\n",
       "      <td>@article{mokhtar2018vitamin,\\n  title={Vitamin...</td>\n",
       "    </tr>\n",
       "    <tr>\n",
       "      <th>21</th>\n",
       "      <td>Hirschler, Valeria and Maccallini, Gustavo and...</td>\n",
       "      <td>Association between vitamin D and Apo B concen...</td>\n",
       "      <td>Clinica Chimica Acta</td>\n",
       "      <td>@article{hirschler2014association,\\n  title={A...</td>\n",
       "    </tr>\n",
       "    <tr>\n",
       "      <th>22</th>\n",
       "      <td>Sarkar, Subendu and Chopra, Seema and Rohit, M...</td>\n",
       "      <td>Vitamin D regulates the production of vascular...</td>\n",
       "      <td>Medical hypotheses</td>\n",
       "      <td>@article{sarkar2016vitamin,\\n  title={Vitamin ...</td>\n",
       "    </tr>\n",
       "    <tr>\n",
       "      <th>23</th>\n",
       "      <td>Noudamadjo, Alphonse and Agossou, Joseph and A...</td>\n",
       "      <td>Hypovitaminosis D in 6-59-Month Children in th...</td>\n",
       "      <td>Open Journal of Pediatrics</td>\n",
       "      <td>@article{noudamadjo2018hypovitaminosis,\\n  tit...</td>\n",
       "    </tr>\n",
       "    <tr>\n",
       "      <th>24</th>\n",
       "      <td>Hirschler, Valeria and Molinari, Claudia and M...</td>\n",
       "      <td>Vitamin D levels and cardiometabolic markers i...</td>\n",
       "      <td>Global pediatric health</td>\n",
       "      <td>@article{hirschler2019vitamin,\\n  title={Vitam...</td>\n",
       "    </tr>\n",
       "    <tr>\n",
       "      <th>25</th>\n",
       "      <td>Shandil, Ambuj and Thakur, Pooja and Sauhta, V...</td>\n",
       "      <td>The distribution of Prevalence of Vitamin D de...</td>\n",
       "      <td></td>\n",
       "      <td>@article{shandildistribution,\\n  title={The di...</td>\n",
       "    </tr>\n",
       "    <tr>\n",
       "      <th>26</th>\n",
       "      <td>Hirschler, Valeria and Molinari, Claudia and M...</td>\n",
       "      <td>Status of dyslipidemia in vitamin D supplement...</td>\n",
       "      <td>Cardiovascular &amp; Hematological Agents in Medic...</td>\n",
       "      <td>@article{hirschler2015status,\\n  title={Status...</td>\n",
       "    </tr>\n",
       "    <tr>\n",
       "      <th>27</th>\n",
       "      <td>Hirschler, Valeria and Maccallini, Gustavo and...</td>\n",
       "      <td>Association between nontraditional risk factor...</td>\n",
       "      <td>Diabetes technology &amp; therapeutics</td>\n",
       "      <td>@article{hirschler2014association,\\n  title={A...</td>\n",
       "    </tr>\n",
       "    <tr>\n",
       "      <th>28</th>\n",
       "      <td>Terán, Graciela and Cuna, Washington and Brañe...</td>\n",
       "      <td>Differences in nutritional and health status i...</td>\n",
       "      <td>The American journal of tropical medicine and ...</td>\n",
       "      <td>@article{teran2018differences,\\n  title={Diffe...</td>\n",
       "    </tr>\n",
       "    <tr>\n",
       "      <th>29</th>\n",
       "      <td>Beer, Rachael J and Herrán, Oscar F and Villam...</td>\n",
       "      <td>Prevalence and correlates of vitamin D deficie...</td>\n",
       "      <td>The American Journal of Clinical Nutrition</td>\n",
       "      <td>@article{beer2020prevalence,\\n  title={Prevale...</td>\n",
       "    </tr>\n",
       "    <tr>\n",
       "      <th>30</th>\n",
       "      <td>Fayed, Hala Lotfy and Saleh, Amel Hamdy</td>\n",
       "      <td>Frequency of vitamin D inadequacy among Saudi ...</td>\n",
       "      <td>The Egyptian Rheumatologist</td>\n",
       "      <td>@article{fayed2017frequency,\\n  title={Frequen...</td>\n",
       "    </tr>\n",
       "    <tr>\n",
       "      <th>31</th>\n",
       "      <td>Hirschler, Valeria and Maccallini, Gustavo and...</td>\n",
       "      <td>Improvement of Apolipoprotein B in Argentine I...</td>\n",
       "      <td>Cardiovascular &amp; Hematological Agents in Medic...</td>\n",
       "      <td>@article{hirschler2015improvement,\\n  title={I...</td>\n",
       "    </tr>\n",
       "    <tr>\n",
       "      <th>32</th>\n",
       "      <td>Shih, Erin M and Mittelman, Steven and Pitukch...</td>\n",
       "      <td>Effects of vitamin D repletion on glycemic con...</td>\n",
       "      <td>Pediatric diabetes</td>\n",
       "      <td>@article{shih2016effects,\\n  title={Effects of...</td>\n",
       "    </tr>\n",
       "    <tr>\n",
       "      <th>33</th>\n",
       "      <td>Viswanathan, Gopalan and Raja, Pandian Bothi a...</td>\n",
       "      <td>Pathways of factors exacerbating dental fluoro...</td>\n",
       "      <td>Environmental Technology &amp; Innovation</td>\n",
       "      <td>@article{viswanathan2020pathways,\\n  title={Pa...</td>\n",
       "    </tr>\n",
       "    <tr>\n",
       "      <th>34</th>\n",
       "      <td>Assiri, Abdullah and Mahfouz, Ahmed A and Awad...</td>\n",
       "      <td>Vitamin D Deficiency and Clinically Detected S...</td>\n",
       "      <td>Open Access Macedonian Journal of Medical Scie...</td>\n",
       "      <td>@article{assiri2020vitamin,\\n  title={Vitamin ...</td>\n",
       "    </tr>\n",
       "    <tr>\n",
       "      <th>35</th>\n",
       "      <td>Harari, Florencia and Åkesson, Agneta and Casi...</td>\n",
       "      <td>Exposure to lithium through drinking water and...</td>\n",
       "      <td>Environmental research</td>\n",
       "      <td>@article{harari2016exposure,\\n  title={Exposur...</td>\n",
       "    </tr>\n",
       "    <tr>\n",
       "      <th>36</th>\n",
       "      <td>Povoroznyuk, VV and Pankiv, IV</td>\n",
       "      <td>Vitamin D Status in Population of Bukovyna and...</td>\n",
       "      <td>PAIN, JOINTS, SPINE</td>\n",
       "      <td>@article{povoroznyuk2016vitamin,\\n  title={Vit...</td>\n",
       "    </tr>\n",
       "    <tr>\n",
       "      <th>37</th>\n",
       "      <td>Povoroznyuk, VV and Pankiv, IV</td>\n",
       "      <td>D           ...</td>\n",
       "      <td>-Mı̀žnarod...</td>\n",
       "      <td>@article{povoroznyuk2016       ,\\n  title={   ...</td>\n",
       "    </tr>\n",
       "    <tr>\n",
       "      <th>38</th>\n",
       "      <td>Hirschler, Valeria and Maccallini, Gustano and...</td>\n",
       "      <td>Improvement in lipid profile after vitamin D s...</td>\n",
       "      <td>Cardiovascular &amp; Hematological Agents in Medic...</td>\n",
       "      <td>@article{hirschler2014improvement,\\n  title={I...</td>\n",
       "    </tr>\n",
       "    <tr>\n",
       "      <th>39</th>\n",
       "      <td>,    and        ,</td>\n",
       "      <td>d          ...</td>\n",
       "      <td></td>\n",
       "      <td>@article{          2016       ,\\n  title={    ...</td>\n",
       "    </tr>\n",
       "  </tbody>\n",
       "</table>\n",
       "</div>"
      ],
      "text/plain": [
       "                                               author  \\\n",
       "0   Tomaino, Katherine and Romero, Karina M and Ro...   \n",
       "1   Hirschler, Valeria and Maccallini, Gustavo and...   \n",
       "2                                        Hirschler, V   \n",
       "3                                     Orces, Carlos H   \n",
       "4   Farrokhyar, Forough and Tabasinejad, Rasam and...   \n",
       "5   Kelishadi, Roya and Ardalan, Gelayol and Motla...   \n",
       "6   Skutsch, Margaret and Dobler, Carlos and McCal...   \n",
       "7   Gassmann, Max and Mairbäurl, Heimo and Livshit...   \n",
       "8                                ,    and        ,      \n",
       "9                    OUASTI, Asmaa and AGUILI, Zeyneb   \n",
       "10  Hirschler, Valeria and Molinari, Claudia and M...   \n",
       "11                               ,    and        ,      \n",
       "12                Thakur, Pooja and Potluri, Praneeth   \n",
       "13  Abboud, Myriam and Al Anouti, Fatme and Papand...   \n",
       "14  Moschonis, George and Androutsos, Odysseas and...   \n",
       "15                                       Asmaa, OUADA   \n",
       "16                       Kim, Mi Ra and Jeong, Su Jin   \n",
       "17  Lansing, Amy Hughes and McDonald, Catherine an...   \n",
       "18                                Mokhtar, Rana Redha   \n",
       "19  Missaggia, Bruna Oliveira and Reales, Guillerm...   \n",
       "20  Mokhtar, Rana R and Holick, Michael F and Semp...   \n",
       "21  Hirschler, Valeria and Maccallini, Gustavo and...   \n",
       "22  Sarkar, Subendu and Chopra, Seema and Rohit, M...   \n",
       "23  Noudamadjo, Alphonse and Agossou, Joseph and A...   \n",
       "24  Hirschler, Valeria and Molinari, Claudia and M...   \n",
       "25  Shandil, Ambuj and Thakur, Pooja and Sauhta, V...   \n",
       "26  Hirschler, Valeria and Molinari, Claudia and M...   \n",
       "27  Hirschler, Valeria and Maccallini, Gustavo and...   \n",
       "28  Terán, Graciela and Cuna, Washington and Brañe...   \n",
       "29  Beer, Rachael J and Herrán, Oscar F and Villam...   \n",
       "30            Fayed, Hala Lotfy and Saleh, Amel Hamdy   \n",
       "31  Hirschler, Valeria and Maccallini, Gustavo and...   \n",
       "32  Shih, Erin M and Mittelman, Steven and Pitukch...   \n",
       "33  Viswanathan, Gopalan and Raja, Pandian Bothi a...   \n",
       "34  Assiri, Abdullah and Mahfouz, Ahmed A and Awad...   \n",
       "35  Harari, Florencia and Åkesson, Agneta and Casi...   \n",
       "36                     Povoroznyuk, VV and Pankiv, IV   \n",
       "37                     Povoroznyuk, VV and Pankiv, IV   \n",
       "38  Hirschler, Valeria and Maccallini, Gustano and...   \n",
       "39                               ,    and        ,      \n",
       "\n",
       "                                                title  \\\n",
       "0   Association between serum 25-hydroxy vitamin D...   \n",
       "1   Improvement in high-density lipoprotein choles...   \n",
       "2   Cardiometabolic risk factors in native populat...   \n",
       "3   Vitamin D status among older adults residing i...   \n",
       "4   Prevalence of vitamin D inadequacy in athletes...   \n",
       "5   National report on the association of serum vi...   \n",
       "6   The association of UV with rates of COVID-19 t...   \n",
       "7   The increase in hemoglobin concentration with ...   \n",
       "8                   D                             ...   \n",
       "9   LStatut De LStatut De LStatut De La Vitamine D...   \n",
       "10  Healthier Lipid Profiles with Vitamin D Supple...   \n",
       "11                  d                             ...   \n",
       "12  Association of serum vitamin D with Chronic Rh...   \n",
       "13  Vitamin D status and blood pressure in childre...   \n",
       "14  Vitamin D insufficiency is associated with ins...   \n",
       "15  Statut De La Vitamine D Chez Les Enfants Récem...   \n",
       "16  Relationship between vitamin D level and lipid...   \n",
       "17  Vitamin D deficiency in pediatric patients wit...   \n",
       "18  Vitamin D status, growth, and pneumonia in a p...   \n",
       "19  Adaptation and co-adaptation of skin pigmentat...   \n",
       "20  Vitamin D status is associated with underweigh...   \n",
       "21  Association between vitamin D and Apo B concen...   \n",
       "22  Vitamin D regulates the production of vascular...   \n",
       "23  Hypovitaminosis D in 6-59-Month Children in th...   \n",
       "24  Vitamin D levels and cardiometabolic markers i...   \n",
       "25  The distribution of Prevalence of Vitamin D de...   \n",
       "26  Status of dyslipidemia in vitamin D supplement...   \n",
       "27  Association between nontraditional risk factor...   \n",
       "28  Differences in nutritional and health status i...   \n",
       "29  Prevalence and correlates of vitamin D deficie...   \n",
       "30  Frequency of vitamin D inadequacy among Saudi ...   \n",
       "31  Improvement of Apolipoprotein B in Argentine I...   \n",
       "32  Effects of vitamin D repletion on glycemic con...   \n",
       "33  Pathways of factors exacerbating dental fluoro...   \n",
       "34  Vitamin D Deficiency and Clinically Detected S...   \n",
       "35  Exposure to lithium through drinking water and...   \n",
       "36  Vitamin D Status in Population of Bukovyna and...   \n",
       "37                                    D           ...   \n",
       "38  Improvement in lipid profile after vitamin D s...   \n",
       "39                                     d          ...   \n",
       "\n",
       "                                              journal  \\\n",
       "0                    American journal of hypertension   \n",
       "1                     Hormone research in paediatrics   \n",
       "2          International journal of clinical practice   \n",
       "3                        The Scientific World Journal   \n",
       "4                                     Sports medicine   \n",
       "5                                           Nutrition   \n",
       "6                                             medRxiv   \n",
       "7          Annals of the New York Academy of Sciences   \n",
       "8                                   .        .          \n",
       "9                                                       \n",
       "10  International journal for vitamin and nutritio...   \n",
       "11                             .        .               \n",
       "12         European Archives of Oto-Rhino-Laryngology   \n",
       "13                                 Systematic reviews   \n",
       "14                                 Pediatric diabetes   \n",
       "15                                                      \n",
       "16                                        Metabolites   \n",
       "17                           Southern medical journal   \n",
       "18                                                      \n",
       "19                                                      \n",
       "20                            Public health nutrition   \n",
       "21                               Clinica Chimica Acta   \n",
       "22                                 Medical hypotheses   \n",
       "23                         Open Journal of Pediatrics   \n",
       "24                            Global pediatric health   \n",
       "25                                                      \n",
       "26  Cardiovascular & Hematological Agents in Medic...   \n",
       "27                 Diabetes technology & therapeutics   \n",
       "28  The American journal of tropical medicine and ...   \n",
       "29         The American Journal of Clinical Nutrition   \n",
       "30                        The Egyptian Rheumatologist   \n",
       "31  Cardiovascular & Hematological Agents in Medic...   \n",
       "32                                 Pediatric diabetes   \n",
       "33              Environmental Technology & Innovation   \n",
       "34  Open Access Macedonian Journal of Medical Scie...   \n",
       "35                             Environmental research   \n",
       "36                                PAIN, JOINTS, SPINE   \n",
       "37                                      -Mı̀žnarod...   \n",
       "38  Cardiovascular & Hematological Agents in Medic...   \n",
       "39                                                      \n",
       "\n",
       "                                               bibtex  \n",
       "0   @article{tomaino2015association,\\n  title={Ass...  \n",
       "1   @article{hirschler2013improvement,\\n  title={I...  \n",
       "2   @article{hirschler2016cardiometabolic,\\n  titl...  \n",
       "3   @article{orces2015vitamin,\\n  title={Vitamin D...  \n",
       "4   @article{farrokhyar2015prevalence,\\n  title={P...  \n",
       "5   @article{kelishadi2014national,\\n  title={Nati...  \n",
       "6   @article{skutsch2020association,\\n  title={The...  \n",
       "7   @article{gassmann2019increase,\\n  title={The i...  \n",
       "8   @article{          2016      ,\\n  title={     ...  \n",
       "9   @phdthesis{ouastilstatut,\\n  title={LStatut De...  \n",
       "10  @article{hirschler2016healthier,\\n  title={Hea...  \n",
       "11  @article{          2016      ,\\n  title={     ...  \n",
       "12  @article{thakur2021association,\\n  title={Asso...  \n",
       "13  @article{abboud2021vitamin,\\n  title={Vitamin ...  \n",
       "14  @article{moschonis2018vitamin,\\n  title={Vitam...  \n",
       "15  @phdthesis{asmaastatut,\\n  title={Statut De La...  \n",
       "16  @article{kim2019relationship,\\n  title={Relati...  \n",
       "17  @article{lansing2015vitamin,\\n  title={Vitamin...  \n",
       "18  @phdthesis{mokhtar2016vitamin,\\n  title={Vitam...  \n",
       "19  @inproceedings{missaggia2020adaptation,\\n  tit...  \n",
       "20  @article{mokhtar2018vitamin,\\n  title={Vitamin...  \n",
       "21  @article{hirschler2014association,\\n  title={A...  \n",
       "22  @article{sarkar2016vitamin,\\n  title={Vitamin ...  \n",
       "23  @article{noudamadjo2018hypovitaminosis,\\n  tit...  \n",
       "24  @article{hirschler2019vitamin,\\n  title={Vitam...  \n",
       "25  @article{shandildistribution,\\n  title={The di...  \n",
       "26  @article{hirschler2015status,\\n  title={Status...  \n",
       "27  @article{hirschler2014association,\\n  title={A...  \n",
       "28  @article{teran2018differences,\\n  title={Diffe...  \n",
       "29  @article{beer2020prevalence,\\n  title={Prevale...  \n",
       "30  @article{fayed2017frequency,\\n  title={Frequen...  \n",
       "31  @article{hirschler2015improvement,\\n  title={I...  \n",
       "32  @article{shih2016effects,\\n  title={Effects of...  \n",
       "33  @article{viswanathan2020pathways,\\n  title={Pa...  \n",
       "34  @article{assiri2020vitamin,\\n  title={Vitamin ...  \n",
       "35  @article{harari2016exposure,\\n  title={Exposur...  \n",
       "36  @article{povoroznyuk2016vitamin,\\n  title={Vit...  \n",
       "37  @article{povoroznyuk2016       ,\\n  title={   ...  \n",
       "38  @article{hirschler2014improvement,\\n  title={I...  \n",
       "39  @article{          2016       ,\\n  title={    ...  "
      ]
     },
     "execution_count": 116,
     "metadata": {},
     "output_type": "execute_result"
    }
   ],
   "source": [
    "ar[['author','title','journal','bibtex']]"
   ]
  },
  {
   "cell_type": "markdown",
   "metadata": {},
   "source": [
    "Convert `ObjectId` to `str`"
   ]
  },
  {
   "cell_type": "code",
   "execution_count": 136,
   "metadata": {},
   "outputs": [],
   "source": [
    "sid=str(s['_id'])"
   ]
  },
  {
   "cell_type": "code",
   "execution_count": 145,
   "metadata": {},
   "outputs": [
    {
     "data": {
      "text/html": [
       "<div>\n",
       "<style scoped>\n",
       "    .dataframe tbody tr th:only-of-type {\n",
       "        vertical-align: middle;\n",
       "    }\n",
       "\n",
       "    .dataframe tbody tr th {\n",
       "        vertical-align: top;\n",
       "    }\n",
       "\n",
       "    .dataframe thead th {\n",
       "        text-align: right;\n",
       "    }\n",
       "</style>\n",
       "<table border=\"1\" class=\"dataframe\">\n",
       "  <thead>\n",
       "    <tr style=\"text-align: right;\">\n",
       "      <th></th>\n",
       "      <th>article_id</th>\n",
       "      <th>title</th>\n",
       "      <th>author</th>\n",
       "      <th>journal</th>\n",
       "      <th>cites</th>\n",
       "    </tr>\n",
       "  </thead>\n",
       "  <tbody>\n",
       "    <tr>\n",
       "      <th>0</th>\n",
       "      <td></td>\n",
       "      <td>Low vitamin D concentrations among indigenous ...</td>\n",
       "      <td>Hirschler, Valeria and Maccallini, Gustavo and...</td>\n",
       "      <td>Pediatric diabetes</td>\n",
       "      <td>40</td>\n",
       "    </tr>\n",
       "  </tbody>\n",
       "</table>\n",
       "</div>"
      ],
      "text/plain": [
       "  article_id                                              title  \\\n",
       "0             Low vitamin D concentrations among indigenous ...   \n",
       "\n",
       "                                              author             journal  \\\n",
       "0  Hirschler, Valeria and Maccallini, Gustavo and...  Pediatric diabetes   \n",
       "\n",
       "   cites  \n",
       "0     40  "
      ]
     },
     "execution_count": 145,
     "metadata": {},
     "output_type": "execute_result"
    }
   ],
   "source": [
    "pd.DataFrame( list( st.find({'_id':ObjectId( sid )}) ) )[['article_id','title','author','journal','cites']]"
   ]
  },
  {
   "cell_type": "markdown",
   "metadata": {},
   "source": [
    "## Check the API"
   ]
  },
  {
   "cell_type": "code",
   "execution_count": 151,
   "metadata": {},
   "outputs": [],
   "source": [
    "import requests\n",
    "import getpass"
   ]
  },
  {
   "cell_type": "code",
   "execution_count": 152,
   "metadata": {},
   "outputs": [
    {
     "name": "stdin",
     "output_type": "stream",
     "text": [
      "API key ································\n"
     ]
    }
   ],
   "source": [
    "api=getpass.getpass('API key')"
   ]
  },
  {
   "cell_type": "code",
   "execution_count": 153,
   "metadata": {},
   "outputs": [],
   "source": [
    "rr=requests.get(f\"http://api.scraperapi.com/account?api_key={api}\")"
   ]
  },
  {
   "cell_type": "code",
   "execution_count": 154,
   "metadata": {},
   "outputs": [
    {
     "data": {
      "text/plain": [
       "{'concurrencyLimit': 5,\n",
       " 'concurrentRequests': 0,\n",
       " 'failedRequestCount': 53,\n",
       " 'requestCount': 925,\n",
       " 'requestLimit': '1000'}"
      ]
     },
     "execution_count": 154,
     "metadata": {},
     "output_type": "execute_result"
    }
   ],
   "source": [
    "rr.json()"
   ]
  },
  {
   "cell_type": "markdown",
   "metadata": {},
   "source": [
    "## Dump"
   ]
  },
  {
   "cell_type": "markdown",
   "metadata": {},
   "source": [
    "```bash\n",
    "mongodump -d la\n",
    "#To restore in a new mongo without the la database:\n",
    "mongorestore ./dump/\n",
    "```"
   ]
  },
  {
   "cell_type": "markdown",
   "metadata": {},
   "source": [
    "Google Scholar Profile\n",
    "* cites can be obtained directly\n",
    "* Click on title and in the open up change the \"related:\" by \"info:\""
   ]
  },
  {
   "cell_type": "markdown",
   "metadata": {},
   "source": [
    "## Quality check"
   ]
  },
  {
   "cell_type": "code",
   "execution_count": null,
   "metadata": {},
   "outputs": [
    {
     "name": "stdout",
     "output_type": "stream",
     "text": [
      "110000\r"
     ]
    }
   ],
   "source": [
    "ar=pd.DataFrame()\n",
    "cursor = sc.find(\n",
    "     no_cursor_timeout=True\n",
    ")\n",
    "\n",
    "s=time.time()\n",
    "i=0\n",
    "for d in cursor:\n",
    "    ar=ar.append( {'title': d.get('cite').get('title'),'cid':d.get('cite').get('cid')},ignore_index=True )\n",
    "    i+=1\n",
    "    if i%10000==0:\n",
    "        print(i,end='\\r')\n",
    "    #break\n",
    "cursor.close()\n",
    "print(time.time()-s)"
   ]
  }
 ],
 "metadata": {
  "kernelspec": {
   "display_name": "Python 3 (ipykernel)",
   "language": "python",
   "name": "python3"
  },
  "language_info": {
   "codemirror_mode": {
    "name": "ipython",
    "version": 3
   },
   "file_extension": ".py",
   "mimetype": "text/x-python",
   "name": "python",
   "nbconvert_exporter": "python",
   "pygments_lexer": "ipython3",
   "version": "3.7.3"
  }
 },
 "nbformat": 4,
 "nbformat_minor": 4
}
